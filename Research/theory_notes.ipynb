{
 "cells": [
  {
   "cell_type": "markdown",
   "metadata": {},
   "source": [
    "# Jargon Notes"
   ]
  },
  {
   "cell_type": "markdown",
   "metadata": {},
   "source": [
    "## Models\n",
    "\n",
    "***\n",
    "\n",
    "### General Encoder-Decoder Framework\n",
    "\n",
    "* __Encoder__ :\n",
    "    * Reads in source data, produces feature representation in cts space\n",
    "        * RNN; input sequence of words $\\to$ fixed vector that is $\\approx$ meaning\n",
    "        * CNN; input img $\\to$ volume that contains higher-level features of img\n",
    "    * _Idea_ : representation from encoder used by decoder to generate new data\n",
    "    * [_List of encoders_](https://google.github.io/seq2seq/encoders/)\n",
    "    \n",
    "* __Decoder__ :\n",
    "    * Generative model, conditioned on representation from encoder\n",
    "        * RNN decoder: learns to generate translation for encoded sequence in another language\n",
    "    * [_List of decoders_](https://google.github.io/seq2seq/decoders/)\n",
    "    \n",
    "* __The model__ :\n",
    "    * Defines how encoder/decoder put together & how to calculate/minimize loss fn\n",
    "    * [_List of models_](https://google.github.io/seq2seq/models/)\n",
    "\n",
    "### Seq2Seq\n",
    "\n",
    "* [_Source_](https://google.github.io/seq2seq/)\n",
    "\n",
    "    \n",
    "    \n",
    "\n"
   ]
  },
  {
   "cell_type": "markdown",
   "metadata": {},
   "source": [
    "## Evaluation Metrics"
   ]
  },
  {
   "cell_type": "code",
   "execution_count": null,
   "metadata": {},
   "outputs": [],
   "source": []
  }
 ],
 "metadata": {
  "kernelspec": {
   "display_name": "Python 3",
   "language": "python",
   "name": "python3"
  },
  "language_info": {
   "codemirror_mode": {
    "name": "ipython",
    "version": 3
   },
   "file_extension": ".py",
   "mimetype": "text/x-python",
   "name": "python",
   "nbconvert_exporter": "python",
   "pygments_lexer": "ipython3",
   "version": "3.7.4"
  }
 },
 "nbformat": 4,
 "nbformat_minor": 2
}

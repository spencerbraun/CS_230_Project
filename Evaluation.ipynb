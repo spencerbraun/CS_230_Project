{
 "cells": [
  {
   "cell_type": "code",
   "execution_count": 74,
   "metadata": {},
   "outputs": [],
   "source": [
    "import glob\n",
    "import os\n",
    "import sys\n",
    "import re\n",
    "import math\n",
    "import itertools\n",
    "\n",
    "import scipy\n",
    "import pandas as pd\n",
    "import numpy as np\n",
    "\n",
    "from nltk.tokenize import word_tokenize\n",
    "from nltk.translate.bleu_score import sentence_bleu, corpus_bleu, SmoothingFunction\n",
    "from nltk.corpus import stopwords\n",
    "from sklearn.metrics.pairwise import cosine_similarity\n",
    "\n",
    "import spacy\n",
    "import fasttext\n",
    "import pkg_resources\n",
    "\n",
    "import seaborn as sns\n",
    "import matplotlib.pyplot as plt\n",
    "import matplotlib\n",
    "%matplotlib inline"
   ]
  },
  {
   "cell_type": "code",
   "execution_count": 2,
   "metadata": {},
   "outputs": [],
   "source": [
    "gloveFile = \"glove.6B.50d.txt\""
   ]
  },
  {
   "cell_type": "markdown",
   "metadata": {},
   "source": [
    "# Our Code"
   ]
  },
  {
   "cell_type": "code",
   "execution_count": 75,
   "metadata": {},
   "outputs": [],
   "source": [
    "originalPath = \"/home/ubuntu/style-transformer/outputs/soph_1/model_iteration_lr_0.0001/\"\n",
    "higherLR = \"/home/ubuntu/style-transformer/outputs/soph_1/model_iteration_lr_0.001/\"\n",
    "soph2 = \"/home/ubuntu/style-transformer/outputs/soph_2/\"\n",
    "soph3 = \"/home/ubuntu/style-transformer/outputs/soph_3/\"\n"
   ]
  },
  {
   "cell_type": "code",
   "execution_count": 4,
   "metadata": {},
   "outputs": [],
   "source": [
    "def process(sent):\n",
    "    sent = sent.strip().replace('<pad>', '').strip()\n",
    "    return sent"
   ]
  },
  {
   "cell_type": "code",
   "execution_count": 88,
   "metadata": {},
   "outputs": [],
   "source": [
    "def readNaiveTest(runNum):\n",
    "    path = f\"/home/ubuntu/style-transformer/data/soph_{runNum}/test.neg\"\n",
    "    with open(path) as f:\n",
    "        naive = f.readlines()\n",
    "    return list(map(process, naive))"
   ]
  },
  {
   "cell_type": "code",
   "execution_count": 65,
   "metadata": {},
   "outputs": [],
   "source": [
    "def load_transformer(path):\n",
    "    with open(path + \"gold_text.txt\") as f:\n",
    "        gold = f.readlines()\n",
    "    with open(path + \"rev_output_0.txt\") as f:\n",
    "        rev0 = f.readlines()\n",
    "    with open(path + \"raw_output_0.txt\") as f:\n",
    "        raw0 = f.readlines()\n",
    "    with open(path + \"rev_output_1.txt\") as f:\n",
    "        rev1 = f.readlines()\n",
    "    with open(path + \"raw_output_1.txt\") as f:\n",
    "        raw1 = f.readlines()\n",
    "        \n",
    "    gold = list(map(process, gold))\n",
    "    rev0 = list(map(process, rev0))\n",
    "    raw0 = list(map(process, raw0))\n",
    "    \n",
    "    return {0: (gold, rev0, raw0), 1:(gold, rev1, raw1)}"
   ]
  },
  {
   "cell_type": "code",
   "execution_count": 66,
   "metadata": {},
   "outputs": [],
   "source": []
  },
  {
   "cell_type": "code",
   "execution_count": 89,
   "metadata": {},
   "outputs": [],
   "source": []
  },
  {
   "cell_type": "markdown",
   "metadata": {},
   "source": [
    "### Bleu"
   ]
  },
  {
   "cell_type": "code",
   "execution_count": 10,
   "metadata": {},
   "outputs": [],
   "source": [
    "def bleu_sent(originText, transferredText):\n",
    "    texts_origin = [\n",
    "        word_tokenize(text.lower().strip()) \n",
    "        for text in originText\n",
    "    ]\n",
    "    text_transfered = word_tokenize(transferredText.lower().strip())\n",
    "    cc = SmoothingFunction()\n",
    "    return sentence_bleu(texts_origin, text_transfered, smoothing_function=cc.method3)\n",
    "\n",
    "\n",
    "\n",
    "def bleu_avg(originText, transferredText):\n",
    "    assert len(originText) == len(transferredText), 'Size of inputs does not match!'\n",
    "    sum = 0\n",
    "    n = len(originText)\n",
    "    for x, y in zip(originText, transferredText):\n",
    "        sum += bleu_sent([x], y)\n",
    "    return sum / n"
   ]
  },
  {
   "cell_type": "code",
   "execution_count": 11,
   "metadata": {},
   "outputs": [
    {
     "data": {
      "text/plain": [
       "0.8358760961477509"
      ]
     },
     "execution_count": 11,
     "metadata": {},
     "output_type": "execute_result"
    }
   ],
   "source": [
    "bleu_avg(gold, raw0)"
   ]
  },
  {
   "cell_type": "markdown",
   "metadata": {
    "collapsed": true
   },
   "source": [
    "### KenLM"
   ]
  },
  {
   "cell_type": "markdown",
   "metadata": {},
   "source": [
    "LMs add probability to each token sequence to indicate how likely it is for the sequence to occur in real text. Train LM on the target language, and the model estimates the probability of seeing a given sentence in the target text using Markov chains.\n",
    "\n",
    "\n",
    "In information theory, perplexity is a measurement of how well a probability distribution or probability model predicts a sample. It may be used to compare probability models. A low perplexity indicates the probability distribution is good at predicting the sample. \n",
    "\n",
    "The perplexity(sometimes called PP for short) of a language model on a test set is the inverse probability of the test set, normalized by the numberof words. https://lagunita.stanford.edu/c4x/Engineering/CS-224N/asset/slp4.pdf\n",
    "\n",
    "PPLxdenotes theperplexity of sentences transferred from positive sentences evaluated by a language model trainedwith negative sentences and vice versa. https://arxiv.org/pdf/1805.11749.pdf"
   ]
  },
  {
   "cell_type": "code",
   "execution_count": 12,
   "metadata": {},
   "outputs": [],
   "source": [
    "def load_kenlm():\n",
    "    global kenlm\n",
    "    import kenlm\n",
    "\n",
    "def train_ngram_lm(kenlm_path, data_path, output_path, N, load=False):\n",
    "    \"\"\"\n",
    "    FROM ARAE\n",
    "    Trains a modified Kneser-Ney n-gram KenLM from a text file.\n",
    "    Creates a .arpa file to store n-grams.\n",
    "    \"\"\"\n",
    "    if not load:\n",
    "        \n",
    "        curdir = os.path.abspath(os.path.curdir)\n",
    "        command = \"bin/lmplz -o \"+str(N)+\" <\"+os.path.join(curdir, data_path) + \\\n",
    "                  \" >\"+os.path.join(curdir, output_path)\n",
    "        print(command)\n",
    "        os.system(\"cd \"+os.path.join(kenlm_path, 'build')+\" && \"+command)\n",
    "\n",
    "    load_kenlm()\n",
    "\n",
    "    assert(output_path) \n",
    "    model = kenlm.Model(output_path)\n",
    "\n",
    "    return model"
   ]
  },
  {
   "cell_type": "code",
   "execution_count": 99,
   "metadata": {},
   "outputs": [
    {
     "name": "stdout",
     "output_type": "stream",
     "text": [
      "bin/lmplz -o 5 </home/ubuntu/CS_230_Project/data/processed/soph_train_3.txt >/home/ubuntu/CS_230_Project/klm_soph_3.arpa\n"
     ]
    }
   ],
   "source": [
    "kenlm_model = train_ngram_lm('kenlm', 'data/processed/soph_train_3.txt', 'klm_soph_3.arpa', 5, load=True)"
   ]
  },
  {
   "cell_type": "code",
   "execution_count": 45,
   "metadata": {},
   "outputs": [
    {
     "name": "stdout",
     "output_type": "stream",
     "text": [
      "-11.295788764953613\n",
      "-13.6751070022583\n"
     ]
    }
   ],
   "source": [
    "\n",
    "print(kenlm_model.score(gold[0]))\n",
    "print(kenlm_model.score(rev0[0]))"
   ]
  },
  {
   "cell_type": "code",
   "execution_count": 46,
   "metadata": {},
   "outputs": [
    {
     "name": "stdout",
     "output_type": "stream",
     "text": [
      "-1.716026782989502 2: <s> they\n",
      "-4.684571266174316 1: follow\n",
      "-3.069218635559082 1: what\n",
      "-5.896757125854492 1: technology\n",
      "\t\"technology\" is an OOV\n",
      "-1.8870635032653809 1: to\n",
      "-1.8208752870559692 2: to make\n",
      "-3.4363248348236084 2: make life\n",
      "-4.816084384918213 1: .\n",
      "-0.05439453572034836 2: . </s>\n",
      "\"technology\" is an OOV\n"
     ]
    }
   ],
   "source": [
    "sentence = gold[10]\n",
    "# Show scores and n-gram matches\n",
    "words = ['<s>'] + sentence.split() + ['</s>']\n",
    "for i, (prob, length, oov) in enumerate(kenlm_model.full_scores(sentence)):\n",
    "    print('{0} {1}: {2}'.format(prob, length, ' '.join(words[i+2-length:i+2])))\n",
    "    if oov:\n",
    "        print('\\t\"{0}\" is an OOV'.format(words[i+1]))\n",
    "\n",
    "# Find out-of-vocabulary words\n",
    "for w in words:\n",
    "    if not w in kenlm_model:\n",
    "        print('\"{0}\" is an OOV'.format(w))"
   ]
  },
  {
   "cell_type": "code",
   "execution_count": 19,
   "metadata": {},
   "outputs": [],
   "source": [
    "def get_ppl(lm, sentences):\n",
    "    \"\"\"\n",
    "    Assume sentences is a list of strings (space delimited sentences)\n",
    "    \"\"\"\n",
    "    total_nll = 0\n",
    "    total_wc = 0\n",
    "    for sent in sentences:\n",
    "        words = sent.strip().split()\n",
    "        nll = np.sum([- math.log(math.pow(10.0, score)) for score, _, _ in lm.full_scores(sent, bos=True, eos=False)])\n",
    "        word_count = len(words)\n",
    "        total_wc += word_count\n",
    "        total_nll += nll\n",
    "    ppl = np.exp(total_nll / total_wc)\n",
    "    return ppl"
   ]
  },
  {
   "cell_type": "code",
   "execution_count": 20,
   "metadata": {},
   "outputs": [
    {
     "data": {
      "text/plain": [
       "720.2415806656699"
      ]
     },
     "execution_count": 20,
     "metadata": {},
     "output_type": "execute_result"
    }
   ],
   "source": [
    "get_ppl(kenlm_model, gold)\n"
   ]
  },
  {
   "cell_type": "code",
   "execution_count": 21,
   "metadata": {},
   "outputs": [
    {
     "data": {
      "text/plain": [
       "969.148919193934"
      ]
     },
     "execution_count": 21,
     "metadata": {},
     "output_type": "execute_result"
    }
   ],
   "source": [
    "get_ppl(kenlm_model, raw0)\n"
   ]
  },
  {
   "cell_type": "code",
   "execution_count": 22,
   "metadata": {},
   "outputs": [
    {
     "data": {
      "text/plain": [
       "1047.93716841179"
      ]
     },
     "execution_count": 22,
     "metadata": {},
     "output_type": "execute_result"
    }
   ],
   "source": [
    "get_ppl(kenlm_model, rev0)\n"
   ]
  },
  {
   "cell_type": "markdown",
   "metadata": {},
   "source": [
    "### Similarities - Jaccard,  Cosine"
   ]
  },
  {
   "cell_type": "code",
   "execution_count": 23,
   "metadata": {},
   "outputs": [],
   "source": [
    "def jaccard_sim(sent1, sent2): \n",
    "    a = set(sent1.split()) \n",
    "    b = set(sent2.split())\n",
    "    c = a.intersection(b)\n",
    "    return float(len(c)) / (len(a) + len(b) - len(c))"
   ]
  },
  {
   "cell_type": "code",
   "execution_count": 24,
   "metadata": {},
   "outputs": [
    {
     "data": {
      "text/plain": [
       "0.6"
      ]
     },
     "execution_count": 24,
     "metadata": {},
     "output_type": "execute_result"
    }
   ],
   "source": [
    "jaccard_sim(gold[0], rev0[0])"
   ]
  },
  {
   "cell_type": "code",
   "execution_count": 31,
   "metadata": {},
   "outputs": [],
   "source": [
    "\n",
    "def loadGloveModel(gloveFile):\n",
    "    with open(gloveFile, encoding=\"utf8\" ) as f:\n",
    "        content = f.readlines()\n",
    "    model = {}\n",
    "    for line in content:\n",
    "        splitLine = line.split()\n",
    "        word = splitLine[0]\n",
    "        embedding = np.array([float(val) for val in splitLine[1:]])\n",
    "        model[word] = embedding\n",
    "    return model\n",
    "\n",
    "\n",
    "def cosine_format(raw):\n",
    "\n",
    "    processed = re.sub(\"[^a-zA-Z]\", \" \", raw)\n",
    "    words = processed.lower().split()\n",
    "    stopword_set = set(stopwords.words(\"english\"))\n",
    "    uniq_words = list(set([w for w in words if w not in stopword_set]))\n",
    "    \n",
    "    return uniq_words\n",
    "\n",
    "def cosine_words(word1, word2):\n",
    "\n",
    "    return (1 - scipy.spatial.distance.cosine(model[word1], model[word2]))\n"
   ]
  },
  {
   "cell_type": "code",
   "execution_count": 26,
   "metadata": {},
   "outputs": [],
   "source": [
    "model = loadGloveModel(gloveFile)"
   ]
  },
  {
   "cell_type": "code",
   "execution_count": 27,
   "metadata": {},
   "outputs": [],
   "source": [
    "def cosine_sent(sent1, sent2):\n",
    "    if not isinstance(sent1, list):\n",
    "        sent1 = cosine_format(sent1)\n",
    "        sent2 = cosine_format(sent2)\n",
    "\n",
    "    embs1 = np.mean([model[word] for word in sent1], axis=0)\n",
    "    embs2 = np.mean([model[word] for word in sent2], axis=0)\n",
    "\n",
    "    return(1 - scipy.spatial.distance.cosine(embs1, embs2))"
   ]
  },
  {
   "cell_type": "code",
   "execution_count": 28,
   "metadata": {},
   "outputs": [
    {
     "data": {
      "text/plain": [
       "0.9578221528266511"
      ]
     },
     "execution_count": 28,
     "metadata": {},
     "output_type": "execute_result"
    }
   ],
   "source": [
    "cosine_sent(gold[106], rev0[106])"
   ]
  },
  {
   "cell_type": "code",
   "execution_count": 32,
   "metadata": {},
   "outputs": [],
   "source": [
    "\n",
    "def heat_matrix(sent1, sent2):\n",
    "    \n",
    "    s1 = cosine_format(sent1)\n",
    "    s2 = cosine_format(sent2)\n",
    "    \n",
    "    result_list = [[cosine_words(word1, word2) for word2 in s2] for word1 in s1]\n",
    "    result_df = pd.DataFrame(result_list)\n",
    "    result_df.columns = s2\n",
    "    result_df.index = s1\n",
    "    \n",
    "    return result_df\n",
    "\n",
    "\n",
    "def heat_map(s1, s2):\n",
    "    df = heat_matrix(s1, s2)\n",
    "\n",
    "    fig, ax = plt.subplots(figsize=(5,5)) \n",
    "    ax_blue = sns.heatmap(df, cmap=\"YlGnBu\")\n",
    "    print(cosine_sent(s1, s2))\n",
    "    return ax_blue"
   ]
  },
  {
   "cell_type": "code",
   "execution_count": 33,
   "metadata": {},
   "outputs": [
    {
     "name": "stdout",
     "output_type": "stream",
     "text": [
      "1.0\n"
     ]
    },
    {
     "data": {
      "text/plain": [
       "<matplotlib.axes._subplots.AxesSubplot at 0x7f5e0f1f49e8>"
      ]
     },
     "execution_count": 33,
     "metadata": {},
     "output_type": "execute_result"
    },
    {
     "data": {
      "image/png": "[encoded data removed]",
      "text/plain": [
       "<Figure size 360x360 with 2 Axes>"
      ]
     },
     "metadata": {},
     "output_type": "display_data"
    }
   ],
   "source": [
    "heat_map(gold[105], raw0[105])"
   ]
  },
  {
   "cell_type": "markdown",
   "metadata": {},
   "source": [
    "### PINC  - https://github.com/cocoxu/Shakespeare/blob/master/python/PINC_sentence.py"
   ]
  },
  {
   "cell_type": "code",
   "execution_count": 49,
   "metadata": {},
   "outputs": [],
   "source": [
    "from collections import Counter\n",
    "\n",
    "def intersect(list1, list2) :\n",
    "    cnt1 = Counter()\n",
    "    cnt2 = Counter()\n",
    "    for tk1 in list1:\n",
    "        cnt1[tk1] += 1\n",
    "    for tk2 in list2:\n",
    "        cnt2[tk2] += 1    \n",
    "    inter = cnt1 & cnt2\n",
    "    return len(list(inter.elements()))\n",
    "\n",
    "\n",
    "def pinc(ssent, csent):\n",
    "    s1grams = ssent.split(\" \")\n",
    "    c1grams = csent.split(\" \")\n",
    "    s2grams = []\n",
    "    c2grams = []\n",
    "    s3grams = []\n",
    "    c3grams = []\n",
    "    s4grams = []\n",
    "    c4grams = []\n",
    "        \n",
    "    for i in range(0, len(s1grams)-1) :\n",
    "        if i < len(s1grams) - 1:\n",
    "            s2gram = s1grams[i] + \" \" + s1grams[i+1]\n",
    "            s2grams.append(s2gram)\n",
    "        if i < len(s1grams)-2:\n",
    "            s3gram = s1grams[i] + \" \" + s1grams[i+1] + \" \" + s1grams[i+2]\n",
    "            s3grams.append(s3gram)\n",
    "        if i < len(s1grams)-3:\n",
    "            s4gram = s1grams[i] + \" \" + s1grams[i+1] + \" \" + s1grams[i+2] + \" \" + s1grams[i+3]\n",
    "            s4grams.append(s4gram)\n",
    "            \n",
    "    for i in range(0, len(c1grams)-1) :\n",
    "        if i < len(c1grams) - 1:\n",
    "            c2gram = c1grams[i] + \" \" + c1grams[i+1]\n",
    "            c2grams.append(c2gram)\n",
    "        if i < len(c1grams)-2:\n",
    "            c3gram = c1grams[i] + \" \" + c1grams[i+1] + \" \" + c1grams[i+2]\n",
    "            c3grams.append(c3gram)\n",
    "        if i < len(c1grams)-3:\n",
    "            c4gram = c1grams[i] + \" \" + c1grams[i+1] + \" \" + c1grams[i+2] + \" \" + c1grams[i+3]\n",
    "            c4grams.append(c4gram)\n",
    "\n",
    "    score = intersect(s1grams, c1grams) / len(c1grams)\n",
    "    if len(c2grams) > 0:\n",
    "        score += intersect(s2grams, c2grams) / len(c2grams)\n",
    "    if len(c3grams) > 0:\n",
    "        score += intersect(s3grams, c3grams) / len(c3grams)\n",
    "    if len(c4grams) > 0:\n",
    "        score += intersect(s4grams, c4grams) / len(c4grams)\n",
    "    return 1 - score/4\n"
   ]
  },
  {
   "cell_type": "code",
   "execution_count": 50,
   "metadata": {},
   "outputs": [
    {
     "data": {
      "text/plain": [
       "0.7291666666666667"
      ]
     },
     "execution_count": 50,
     "metadata": {},
     "output_type": "execute_result"
    }
   ],
   "source": [
    "pinc(gold[106], rev0[106])"
   ]
  },
  {
   "cell_type": "code",
   "execution_count": 56,
   "metadata": {},
   "outputs": [],
   "source": [
    "def pinc_corpus(origText, transferText):\n",
    "    sentcount = len(origText)\n",
    "    pincscore = 0.0\n",
    "\n",
    "    for idx in range(len(origText)):\n",
    "\n",
    "        sline = origText[idx].strip()\n",
    "        cline = transferText[idx].strip()\n",
    "        \n",
    "        sentscore = pinc(sline, cline)       \n",
    "        pincscore += sentscore\n",
    "\n",
    "    pincscore = pincscore / sentcount * 100\n",
    "    \n",
    "    return pincscore"
   ]
  },
  {
   "cell_type": "markdown",
   "metadata": {},
   "source": [
    "### Putting it all together"
   ]
  },
  {
   "cell_type": "code",
   "execution_count": 101,
   "metadata": {},
   "outputs": [],
   "source": [
    "def sentenceMetrics(sent1, sent2, kenlm_model, output=False):\n",
    "    metrics = {}\n",
    "    \n",
    "    metrics['bleu'] = bleu_sent(sent1, sent2)\n",
    "    metrics['cosine'] = cosine_sent(sent1, sent2)\n",
    "    metrics['jaccard'] = jaccard_sim(sent1, sent2)\n",
    "    metrics['pinc'] = pinc(sent1, sent2)\n",
    "    metrics['ppl'] = (get_ppl(kenlm_model, [sent1]), get_ppl(kenlm_model, [sent2]))\n",
    "    \n",
    "    if output:\n",
    "        print(f\"Orig: {sent1}\")\n",
    "        print(f\"New: {sent2}\")\n",
    "        heat_map(sent1, sent2)\n",
    "    return metrics"
   ]
  },
  {
   "cell_type": "code",
   "execution_count": 55,
   "metadata": {},
   "outputs": [
    {
     "name": "stdout",
     "output_type": "stream",
     "text": [
      "Orig: the mood that the author creates in the memoir is gratefulness.\n",
      "New: mrs. had brought was appeals in the case is gratefulness.\n",
      "0.6072675802561083\n"
     ]
    },
    {
     "data": {
      "text/plain": [
       "{'bleu': 0.03747776736677922,\n",
       " 'cosine': 0.6072675802561083,\n",
       " 'jaccard': 0.26666666666666666,\n",
       " 'pinc': 0.8444444444444444,\n",
       " 'ppl': (462.99934971193403, 717.1712770706305)}"
      ]
     },
     "execution_count": 55,
     "metadata": {},
     "output_type": "execute_result"
    },
    {
     "data": {
      "image/png": "[encoded data removed]",
      "text/plain": [
       "<Figure size 360x360 with 2 Axes>"
      ]
     },
     "metadata": {},
     "output_type": "display_data"
    }
   ],
   "source": [
    "sentenceMetrics(gold[1022], rev0[1022], output=True)"
   ]
  },
  {
   "cell_type": "code",
   "execution_count": 102,
   "metadata": {},
   "outputs": [],
   "source": [
    "def globalMetrics(origData, transferData, kenlm_model):\n",
    "    metrics = {}\n",
    "    \n",
    "    metrics['bleu'] = bleu_avg(origData, transferData)\n",
    "    metrics['ppl'] = (get_ppl(kenlm_model, origData), \n",
    "                      get_ppl(kenlm_model, transferData))\n",
    "    metrics['pinc'] = pinc_corpus(origData, transferData)\n",
    "    \n",
    "    return metrics"
   ]
  },
  {
   "cell_type": "code",
   "execution_count": 58,
   "metadata": {},
   "outputs": [
    {
     "data": {
      "text/plain": [
       "{'bleu': 0.46153848006722215,\n",
       " 'ppl': (712.1788917124655, 1175.9971924517877),\n",
       " 'pinc': 51.41437930819486}"
      ]
     },
     "execution_count": 58,
     "metadata": {},
     "output_type": "execute_result"
    }
   ],
   "source": [
    "globalMetrics(gold, rev0)"
   ]
  },
  {
   "cell_type": "code",
   "execution_count": null,
   "metadata": {},
   "outputs": [],
   "source": []
  },
  {
   "cell_type": "markdown",
   "metadata": {},
   "source": [
    "### Dataset Metrics"
   ]
  },
  {
   "cell_type": "code",
   "execution_count": 70,
   "metadata": {},
   "outputs": [],
   "source": [
    "loaded_data = load_transformer(originalPath)\n",
    "gold_orig, rev_orig, raw_orig = loaded_data[0]"
   ]
  },
  {
   "cell_type": "code",
   "execution_count": 71,
   "metadata": {},
   "outputs": [],
   "source": [
    "loaded_data = load_transformer(higherLR)\n",
    "gold_HLR, rev_HLR, raw_HLR = loaded_data[0]"
   ]
  },
  {
   "cell_type": "code",
   "execution_count": 72,
   "metadata": {},
   "outputs": [],
   "source": [
    "loaded_data = load_transformer(soph2)\n",
    "gold_soph2, rev_soph2, raw_soph2 = loaded_data[0]"
   ]
  },
  {
   "cell_type": "code",
   "execution_count": 91,
   "metadata": {},
   "outputs": [],
   "source": [
    "naive_1 = readNaiveTest(1)\n",
    "naive_2 = readNaiveTest(2)\n",
    "naive_3 = readNaiveTest(3)"
   ]
  },
  {
   "cell_type": "code",
   "execution_count": 100,
   "metadata": {},
   "outputs": [],
   "source": [
    "kenlm_1 = train_ngram_lm('kenlm', 'data/processed/soph_train.txt', 'klm_soph_1.arpa', 5, load=True)\n",
    "kenlm_2 = train_ngram_lm('kenlm', 'data/processed/soph_train_2.txt', 'klm_soph_2.arpa', 5, load=True)\n",
    "kenlm_3 = train_ngram_lm('kenlm', 'data/processed/soph_train_3.txt', 'klm_soph_3.arpa', 5, load=True)"
   ]
  },
  {
   "cell_type": "code",
   "execution_count": 103,
   "metadata": {},
   "outputs": [
    {
     "data": {
      "text/plain": [
       "{'bleu': 0.43180909972872106,\n",
       " 'ppl': (825.2027745964393, 1044.243557723534),\n",
       " 'pinc': 52.790187889598386}"
      ]
     },
     "execution_count": 103,
     "metadata": {},
     "output_type": "execute_result"
    }
   ],
   "source": [
    "globalMetrics(naive_1, rev_orig, kenlm_1)"
   ]
  },
  {
   "cell_type": "code",
   "execution_count": 104,
   "metadata": {},
   "outputs": [
    {
     "data": {
      "text/plain": [
       "{'bleu': 0.22843772754951197,\n",
       " 'ppl': (825.2027745964393, 1638.6271484286542),\n",
       " 'pinc': 72.99549370336577}"
      ]
     },
     "execution_count": 104,
     "metadata": {},
     "output_type": "execute_result"
    }
   ],
   "source": [
    "globalMetrics(naive_1, rev_HLR, kenlm_1)"
   ]
  },
  {
   "cell_type": "code",
   "execution_count": 105,
   "metadata": {},
   "outputs": [
    {
     "data": {
      "text/plain": [
       "{'bleu': 0.3613066422495174,\n",
       " 'ppl': (798.1598083846517, 629.9162131290562),\n",
       " 'pinc': 62.63539704549997}"
      ]
     },
     "execution_count": 105,
     "metadata": {},
     "output_type": "execute_result"
    }
   ],
   "source": [
    "globalMetrics(naive_2, rev_soph2, kenlm_2)"
   ]
  },
  {
   "cell_type": "code",
   "execution_count": 121,
   "metadata": {},
   "outputs": [],
   "source": [
    "def SentencePplFrame(reference, transferred, klm):\n",
    "    ppl_dict = {}\n",
    "    for i in range(len(reference)):\n",
    "        ppl_dict[i] = {'ppl':(get_ppl(klm, [reference[i]]), get_ppl(klm, [transferred[i]])), \n",
    "                       'sent1': reference[i],\n",
    "                       'sent2': transferred[i]}\n",
    "    test_df = pd.DataFrame(ppl_dict).T\n",
    "    test_df['ppl1'] = test_df.ppl.apply(lambda x: x[0])\n",
    "    test_df['ppl2'] = test_df.ppl.apply(lambda x: x[1])\n",
    "    test_df = test_df.sort_values('ppl2')\n",
    "    cols = ['ppl1', 'ppl2', 'sent1', 'sent2']\n",
    "    \n",
    "    return test_df[cols]"
   ]
  },
  {
   "cell_type": "code",
   "execution_count": 122,
   "metadata": {},
   "outputs": [],
   "source": [
    "df2 = SentencePplFrame(naive_2, rev_soph2, kenlm_2)"
   ]
  },
  {
   "cell_type": "code",
   "execution_count": 123,
   "metadata": {},
   "outputs": [
    {
     "data": {
      "text/html": [
       "<div>\n",
       "<style scoped>\n",
       "    .dataframe tbody tr th:only-of-type {\n",
       "        vertical-align: middle;\n",
       "    }\n",
       "\n",
       "    .dataframe tbody tr th {\n",
       "        vertical-align: top;\n",
       "    }\n",
       "\n",
       "    .dataframe thead th {\n",
       "        text-align: right;\n",
       "    }\n",
       "</style>\n",
       "<table border=\"1\" class=\"dataframe\">\n",
       "  <thead>\n",
       "    <tr style=\"text-align: right;\">\n",
       "      <th></th>\n",
       "      <th>ppl1</th>\n",
       "      <th>ppl2</th>\n",
       "      <th>sent1</th>\n",
       "      <th>sent2</th>\n",
       "    </tr>\n",
       "  </thead>\n",
       "  <tbody>\n",
       "    <tr>\n",
       "      <th>1371</th>\n",
       "      <td>346.059119</td>\n",
       "      <td>23.094756</td>\n",
       "      <td>we are only human.</td>\n",
       "      <td>we are only of the</td>\n",
       "    </tr>\n",
       "    <tr>\n",
       "      <th>1354</th>\n",
       "      <td>86.476191</td>\n",
       "      <td>34.806405</td>\n",
       "      <td>there would be no more internet.</td>\n",
       "      <td>there would be no more case of the and the</td>\n",
       "    </tr>\n",
       "    <tr>\n",
       "      <th>1602</th>\n",
       "      <td>204.769890</td>\n",
       "      <td>35.481937</td>\n",
       "      <td>he was given to his parents by the scouts.</td>\n",
       "      <td>he was given to his by the and the of the and the</td>\n",
       "    </tr>\n",
       "    <tr>\n",
       "      <th>29</th>\n",
       "      <td>204.912192</td>\n",
       "      <td>37.958136</td>\n",
       "      <td>you could go on the internet.</td>\n",
       "      <td>you could go on the case of the and the</td>\n",
       "    </tr>\n",
       "    <tr>\n",
       "      <th>1592</th>\n",
       "      <td>9012.109797</td>\n",
       "      <td>42.733628</td>\n",
       "      <td>and when?'.</td>\n",
       "      <td>and of the and</td>\n",
       "    </tr>\n",
       "  </tbody>\n",
       "</table>\n",
       "</div>"
      ],
      "text/plain": [
       "             ppl1       ppl2                                       sent1  \\\n",
       "1371   346.059119  23.094756                          we are only human.   \n",
       "1354    86.476191  34.806405            there would be no more internet.   \n",
       "1602   204.769890  35.481937  he was given to his parents by the scouts.   \n",
       "29     204.912192  37.958136               you could go on the internet.   \n",
       "1592  9012.109797  42.733628                                 and when?'.   \n",
       "\n",
       "                                                  sent2  \n",
       "1371                                 we are only of the  \n",
       "1354         there would be no more case of the and the  \n",
       "1602  he was given to his by the and the of the and the  \n",
       "29              you could go on the case of the and the  \n",
       "1592                                     and of the and  "
      ]
     },
     "execution_count": 123,
     "metadata": {},
     "output_type": "execute_result"
    }
   ],
   "source": [
    "df2.head()"
   ]
  },
  {
   "cell_type": "code",
   "execution_count": 124,
   "metadata": {},
   "outputs": [
    {
     "name": "stderr",
     "output_type": "stream",
     "text": [
      "/home/ubuntu/anaconda3/envs/pytorch_p36/lib/python3.6/site-packages/ipykernel_launcher.py:13: RuntimeWarning: invalid value encountered in double_scalars\n",
      "  del sys.path[0]\n"
     ]
    }
   ],
   "source": [
    "dfOrig = SentencePplFrame(naive_1, rev_orig, kenlm_1)"
   ]
  },
  {
   "cell_type": "code",
   "execution_count": 125,
   "metadata": {},
   "outputs": [
    {
     "data": {
      "text/html": [
       "<div>\n",
       "<style scoped>\n",
       "    .dataframe tbody tr th:only-of-type {\n",
       "        vertical-align: middle;\n",
       "    }\n",
       "\n",
       "    .dataframe tbody tr th {\n",
       "        vertical-align: top;\n",
       "    }\n",
       "\n",
       "    .dataframe thead th {\n",
       "        text-align: right;\n",
       "    }\n",
       "</style>\n",
       "<table border=\"1\" class=\"dataframe\">\n",
       "  <thead>\n",
       "    <tr style=\"text-align: right;\">\n",
       "      <th></th>\n",
       "      <th>ppl1</th>\n",
       "      <th>ppl2</th>\n",
       "      <th>sent1</th>\n",
       "      <th>sent2</th>\n",
       "    </tr>\n",
       "  </thead>\n",
       "  <tbody>\n",
       "    <tr>\n",
       "      <th>1264</th>\n",
       "      <td>6.299666e+02</td>\n",
       "      <td>1.219778e+01</td>\n",
       "      <td>i was caught.</td>\n",
       "      <td>i was</td>\n",
       "    </tr>\n",
       "    <tr>\n",
       "      <th>870</th>\n",
       "      <td>3.616669e+02</td>\n",
       "      <td>1.450479e+01</td>\n",
       "      <td>it is also very opening.</td>\n",
       "      <td>it was very</td>\n",
       "    </tr>\n",
       "    <tr>\n",
       "      <th>1481</th>\n",
       "      <td>1.344034e+02</td>\n",
       "      <td>1.925944e+01</td>\n",
       "      <td>i know i did!</td>\n",
       "      <td>i know i</td>\n",
       "    </tr>\n",
       "    <tr>\n",
       "      <th>469</th>\n",
       "      <td>2.006014e+02</td>\n",
       "      <td>2.282417e+01</td>\n",
       "      <td>i live in the .</td>\n",
       "      <td>i live in the</td>\n",
       "    </tr>\n",
       "    <tr>\n",
       "      <th>237</th>\n",
       "      <td>9.013228e+03</td>\n",
       "      <td>2.303703e+01</td>\n",
       "      <td>he can’t</td>\n",
       "      <td>he</td>\n",
       "    </tr>\n",
       "    <tr>\n",
       "      <th>1367</th>\n",
       "      <td>2.722401e+02</td>\n",
       "      <td>3.699500e+01</td>\n",
       "      <td>what would it be like?</td>\n",
       "      <td>what would it be</td>\n",
       "    </tr>\n",
       "    <tr>\n",
       "      <th>827</th>\n",
       "      <td>3.758994e+01</td>\n",
       "      <td>3.758994e+01</td>\n",
       "      <td>this is a good idea for all of us.</td>\n",
       "      <td>this is a good idea for all of us.</td>\n",
       "    </tr>\n",
       "    <tr>\n",
       "      <th>555</th>\n",
       "      <td>1.486490e+03</td>\n",
       "      <td>4.250249e+01</td>\n",
       "      <td>have you connect.</td>\n",
       "      <td>have you</td>\n",
       "    </tr>\n",
       "    <tr>\n",
       "      <th>604</th>\n",
       "      <td>3.084192e+02</td>\n",
       "      <td>4.613766e+01</td>\n",
       "      <td>he was looking very handsome.</td>\n",
       "      <td>he was looking very</td>\n",
       "    </tr>\n",
       "    <tr>\n",
       "      <th>51</th>\n",
       "      <td>1.589690e+02</td>\n",
       "      <td>5.261858e+01</td>\n",
       "      <td>have you ever heard of ?</td>\n",
       "      <td>have you ever heard of her.</td>\n",
       "    </tr>\n",
       "    <tr>\n",
       "      <th>1061</th>\n",
       "      <td>2.239245e+02</td>\n",
       "      <td>5.510625e+01</td>\n",
       "      <td>the power of man resides in his mind.</td>\n",
       "      <td>the power of man in his mind.</td>\n",
       "    </tr>\n",
       "    <tr>\n",
       "      <th>817</th>\n",
       "      <td>5.581313e+01</td>\n",
       "      <td>5.581313e+01</td>\n",
       "      <td>it was at the when i was years old.</td>\n",
       "      <td>it was at the when i was years old.</td>\n",
       "    </tr>\n",
       "    <tr>\n",
       "      <th>1098</th>\n",
       "      <td>1.209989e+04</td>\n",
       "      <td>5.996291e+01</td>\n",
       "      <td>they cannot.</td>\n",
       "      <td>they</td>\n",
       "    </tr>\n",
       "    <tr>\n",
       "      <th>1772</th>\n",
       "      <td>9.070560e+01</td>\n",
       "      <td>6.517071e+01</td>\n",
       "      <td>he discovered the law of gravitation.</td>\n",
       "      <td>he discovered the law of</td>\n",
       "    </tr>\n",
       "    <tr>\n",
       "      <th>660</th>\n",
       "      <td>1.824309e+02</td>\n",
       "      <td>7.255531e+01</td>\n",
       "      <td>we should be kind to each other and speak poli...</td>\n",
       "      <td>we should be kind to each other and speak</td>\n",
       "    </tr>\n",
       "    <tr>\n",
       "      <th>1260</th>\n",
       "      <td>1.633950e+02</td>\n",
       "      <td>7.590205e+01</td>\n",
       "      <td>after an hour or so, i woke up and went to my ...</td>\n",
       "      <td>after an hour or so, i woke up and went to my ...</td>\n",
       "    </tr>\n",
       "    <tr>\n",
       "      <th>946</th>\n",
       "      <td>2.053343e+02</td>\n",
       "      <td>7.619834e+01</td>\n",
       "      <td>the next day we went on a city tour.</td>\n",
       "      <td>the next day we went on a city</td>\n",
       "    </tr>\n",
       "    <tr>\n",
       "      <th>1456</th>\n",
       "      <td>7.913239e+01</td>\n",
       "      <td>7.913239e+01</td>\n",
       "      <td>they came to for him to have a better life.</td>\n",
       "      <td>they came to for him to have a better life.</td>\n",
       "    </tr>\n",
       "    <tr>\n",
       "      <th>684</th>\n",
       "      <td>8.827142e+02</td>\n",
       "      <td>7.941479e+01</td>\n",
       "      <td>not only should censorship be allowed, it shou...</td>\n",
       "      <td>not only should may be it should be</td>\n",
       "    </tr>\n",
       "    <tr>\n",
       "      <th>307</th>\n",
       "      <td>4.730235e+01</td>\n",
       "      <td>8.245585e+01</td>\n",
       "      <td>he said it was hot and that he was lost.</td>\n",
       "      <td>he said it was meat, and that he was lost.</td>\n",
       "    </tr>\n",
       "    <tr>\n",
       "      <th>1282</th>\n",
       "      <td>1.120024e+02</td>\n",
       "      <td>8.251863e+01</td>\n",
       "      <td>but there is a good side as well.</td>\n",
       "      <td>but there was a good side as well.</td>\n",
       "    </tr>\n",
       "    <tr>\n",
       "      <th>1731</th>\n",
       "      <td>8.414794e+01</td>\n",
       "      <td>8.414794e+01</td>\n",
       "      <td>i believe this is a great thing!</td>\n",
       "      <td>i believe this is a great thing!</td>\n",
       "    </tr>\n",
       "    <tr>\n",
       "      <th>1340</th>\n",
       "      <td>8.619253e+01</td>\n",
       "      <td>8.619253e+01</td>\n",
       "      <td>they were going to take to a party.</td>\n",
       "      <td>they were going to take to a party.</td>\n",
       "    </tr>\n",
       "    <tr>\n",
       "      <th>483</th>\n",
       "      <td>1.351745e+02</td>\n",
       "      <td>8.714843e+01</td>\n",
       "      <td>that is their work and they took the time to d...</td>\n",
       "      <td>that he their work and they took the time to d...</td>\n",
       "    </tr>\n",
       "    <tr>\n",
       "      <th>701</th>\n",
       "      <td>4.514194e+02</td>\n",
       "      <td>9.863764e+01</td>\n",
       "      <td>i remember when my friend moved to .</td>\n",
       "      <td>i remember when my friend moved to the</td>\n",
       "    </tr>\n",
       "    <tr>\n",
       "      <th>711</th>\n",
       "      <td>4.063167e+01</td>\n",
       "      <td>1.012068e+02</td>\n",
       "      <td>there is not a point to it.</td>\n",
       "      <td>there was not a us, to it.</td>\n",
       "    </tr>\n",
       "    <tr>\n",
       "      <th>772</th>\n",
       "      <td>2.560322e+02</td>\n",
       "      <td>1.015596e+02</td>\n",
       "      <td>the mood created by the author in the memoir i...</td>\n",
       "      <td>the by the author in the case is that he is pr...</td>\n",
       "    </tr>\n",
       "    <tr>\n",
       "      <th>1076</th>\n",
       "      <td>2.662674e+02</td>\n",
       "      <td>1.026100e+02</td>\n",
       "      <td>he had received a big cut on the forehead.</td>\n",
       "      <td>he had received a big cut on the</td>\n",
       "    </tr>\n",
       "    <tr>\n",
       "      <th>1672</th>\n",
       "      <td>1.561145e+03</td>\n",
       "      <td>1.098626e+02</td>\n",
       "      <td>what if it messes up their childhood?</td>\n",
       "      <td>what if it up their</td>\n",
       "    </tr>\n",
       "    <tr>\n",
       "      <th>297</th>\n",
       "      <td>6.504841e+02</td>\n",
       "      <td>1.124624e+02</td>\n",
       "      <td>i had vocals is a galore to deal with.</td>\n",
       "      <td>i had is a to deal with.</td>\n",
       "    </tr>\n",
       "    <tr>\n",
       "      <th>...</th>\n",
       "      <td>...</td>\n",
       "      <td>...</td>\n",
       "      <td>...</td>\n",
       "      <td>...</td>\n",
       "    </tr>\n",
       "    <tr>\n",
       "      <th>1258</th>\n",
       "      <td>3.240136e+03</td>\n",
       "      <td>1.308612e+04</td>\n",
       "      <td>think computers have a effect on people.</td>\n",
       "      <td>think dont come thought hundred-dollar no, peo...</td>\n",
       "    </tr>\n",
       "    <tr>\n",
       "      <th>1548</th>\n",
       "      <td>4.101484e+03</td>\n",
       "      <td>1.326401e+04</td>\n",
       "      <td>start up your computer and get talking.</td>\n",
       "      <td>tom, up dear said and besides, talking.</td>\n",
       "    </tr>\n",
       "    <tr>\n",
       "      <th>1154</th>\n",
       "      <td>3.607669e+03</td>\n",
       "      <td>1.326695e+04</td>\n",
       "      <td>he saves many lives.</td>\n",
       "      <td>he gradgrind birds strong,</td>\n",
       "    </tr>\n",
       "    <tr>\n",
       "      <th>777</th>\n",
       "      <td>1.328589e+04</td>\n",
       "      <td>1.328589e+04</td>\n",
       "      <td>by changing him physically.</td>\n",
       "      <td>by changing him physically.</td>\n",
       "    </tr>\n",
       "    <tr>\n",
       "      <th>334</th>\n",
       "      <td>2.742198e+03</td>\n",
       "      <td>1.335914e+04</td>\n",
       "      <td>books do not kill people.</td>\n",
       "      <td>man returned he, kill people.</td>\n",
       "    </tr>\n",
       "    <tr>\n",
       "      <th>1542</th>\n",
       "      <td>2.184791e+03</td>\n",
       "      <td>1.345755e+04</td>\n",
       "      <td>this will drastically change how we learn abou...</td>\n",
       "      <td>this will drastically bed, white fang disturbe...</td>\n",
       "    </tr>\n",
       "    <tr>\n",
       "      <th>210</th>\n",
       "      <td>1.561664e+03</td>\n",
       "      <td>1.392937e+04</td>\n",
       "      <td>by taking certain books, music, movies, or mag...</td>\n",
       "      <td>by murdstone farmer morning, too, accustomed b...</td>\n",
       "    </tr>\n",
       "    <tr>\n",
       "      <th>643</th>\n",
       "      <td>2.010924e+03</td>\n",
       "      <td>1.407324e+04</td>\n",
       "      <td>many things can affect the cyclist.</td>\n",
       "      <td>barkis here, miss dogs brought judgment</td>\n",
       "    </tr>\n",
       "    <tr>\n",
       "      <th>449</th>\n",
       "      <td>2.398979e+02</td>\n",
       "      <td>1.469441e+04</td>\n",
       "      <td>should be removed from the library.</td>\n",
       "      <td>wopsle, heard go, from brought applied</td>\n",
       "    </tr>\n",
       "    <tr>\n",
       "      <th>1630</th>\n",
       "      <td>5.229245e+04</td>\n",
       "      <td>1.507131e+04</td>\n",
       "      <td>censorship only causes curiosity.</td>\n",
       "      <td>guv'ner only causes curiosity.</td>\n",
       "    </tr>\n",
       "    <tr>\n",
       "      <th>663</th>\n",
       "      <td>9.754662e+02</td>\n",
       "      <td>1.554596e+04</td>\n",
       "      <td>materials should not be removed from libraries.</td>\n",
       "      <td>democracy. wopsle, heard go, from me.</td>\n",
       "    </tr>\n",
       "    <tr>\n",
       "      <th>730</th>\n",
       "      <td>8.621546e+03</td>\n",
       "      <td>1.616378e+04</td>\n",
       "      <td>because people think differently.</td>\n",
       "      <td>upon mr. think differently.</td>\n",
       "    </tr>\n",
       "    <tr>\n",
       "      <th>1714</th>\n",
       "      <td>2.565284e+03</td>\n",
       "      <td>1.655759e+04</td>\n",
       "      <td>they change the medical field too.</td>\n",
       "      <td>they bed, brought medical field meanwhile,</td>\n",
       "    </tr>\n",
       "    <tr>\n",
       "      <th>1752</th>\n",
       "      <td>8.606105e+03</td>\n",
       "      <td>1.721408e+04</td>\n",
       "      <td>who reads this?</td>\n",
       "      <td>who object, this?</td>\n",
       "    </tr>\n",
       "    <tr>\n",
       "      <th>1123</th>\n",
       "      <td>2.972318e+03</td>\n",
       "      <td>1.796348e+04</td>\n",
       "      <td>dear local newspaper, you think computer have ...</td>\n",
       "      <td>it's bedroom. biddy, gradgrind, think said bou...</td>\n",
       "    </tr>\n",
       "    <tr>\n",
       "      <th>998</th>\n",
       "      <td>6.187968e+04</td>\n",
       "      <td>1.920301e+04</td>\n",
       "      <td>computers have dramatically changed lives fore...</td>\n",
       "      <td>dont come dramatically changed lives forever.</td>\n",
       "    </tr>\n",
       "    <tr>\n",
       "      <th>4</th>\n",
       "      <td>4.058473e+03</td>\n",
       "      <td>2.008810e+04</td>\n",
       "      <td>saves money and time!</td>\n",
       "      <td>gradgrind money and time!</td>\n",
       "    </tr>\n",
       "    <tr>\n",
       "      <th>1046</th>\n",
       "      <td>3.055164e+04</td>\n",
       "      <td>2.016624e+04</td>\n",
       "      <td>two, spend less time exercising.</td>\n",
       "      <td>two, singular less time spoken</td>\n",
       "    </tr>\n",
       "    <tr>\n",
       "      <th>36</th>\n",
       "      <td>4.007830e+04</td>\n",
       "      <td>2.147104e+04</td>\n",
       "      <td>computers provide entertainment to people.</td>\n",
       "      <td>dont consideration, she, alighted people.</td>\n",
       "    </tr>\n",
       "    <tr>\n",
       "      <th>267</th>\n",
       "      <td>2.244791e+04</td>\n",
       "      <td>2.242967e+04</td>\n",
       "      <td>therefore computers have positive effects.</td>\n",
       "      <td>therefore present begin exchanged effects.</td>\n",
       "    </tr>\n",
       "    <tr>\n",
       "      <th>386</th>\n",
       "      <td>5.554204e+01</td>\n",
       "      <td>2.374342e+04</td>\n",
       "      <td>what do you think?</td>\n",
       "      <td>what returned gradgrind, think?</td>\n",
       "    </tr>\n",
       "    <tr>\n",
       "      <th>295</th>\n",
       "      <td>4.809198e+04</td>\n",
       "      <td>2.389007e+04</td>\n",
       "      <td>soon dusk fell.</td>\n",
       "      <td>soon fell.</td>\n",
       "    </tr>\n",
       "    <tr>\n",
       "      <th>106</th>\n",
       "      <td>3.007066e+04</td>\n",
       "      <td>2.859842e+04</td>\n",
       "      <td>failing hurt her greatly.</td>\n",
       "      <td>failing only, her greatly.</td>\n",
       "    </tr>\n",
       "    <tr>\n",
       "      <th>698</th>\n",
       "      <td>1.744793e+04</td>\n",
       "      <td>3.439459e+04</td>\n",
       "      <td>arguing just decreases the social time spent.</td>\n",
       "      <td>arguing must decreases brought slip with spent.</td>\n",
       "    </tr>\n",
       "    <tr>\n",
       "      <th>1273</th>\n",
       "      <td>1.322110e+03</td>\n",
       "      <td>3.643822e+04</td>\n",
       "      <td>why should libraries have one?</td>\n",
       "      <td>structure wopsle, may begin one?</td>\n",
       "    </tr>\n",
       "    <tr>\n",
       "      <th>1183</th>\n",
       "      <td>4.694965e+03</td>\n",
       "      <td>3.892635e+04</td>\n",
       "      <td>next, you get no exercises.</td>\n",
       "      <td>o. gradgrind, besides, no exercises.</td>\n",
       "    </tr>\n",
       "    <tr>\n",
       "      <th>927</th>\n",
       "      <td>8.933860e+02</td>\n",
       "      <td>3.915250e+04</td>\n",
       "      <td>do you like computers?</td>\n",
       "      <td>returned gradgrind, him computers?</td>\n",
       "    </tr>\n",
       "    <tr>\n",
       "      <th>629</th>\n",
       "      <td>6.637780e+03</td>\n",
       "      <td>4.606656e+04</td>\n",
       "      <td>fortunately, the bus started again.</td>\n",
       "      <td>fortunately, brought mighty started again. for...</td>\n",
       "    </tr>\n",
       "    <tr>\n",
       "      <th>326</th>\n",
       "      <td>1.023691e+06</td>\n",
       "      <td>3.288908e+06</td>\n",
       "      <td>specifically, baseball.</td>\n",
       "      <td>baseball.</td>\n",
       "    </tr>\n",
       "    <tr>\n",
       "      <th>816</th>\n",
       "      <td>5.325929e+05</td>\n",
       "      <td>NaN</td>\n",
       "      <td>(not finished!!!)</td>\n",
       "      <td></td>\n",
       "    </tr>\n",
       "  </tbody>\n",
       "</table>\n",
       "<p>1792 rows × 4 columns</p>\n",
       "</div>"
      ],
      "text/plain": [
       "              ppl1          ppl2  \\\n",
       "1264  6.299666e+02  1.219778e+01   \n",
       "870   3.616669e+02  1.450479e+01   \n",
       "1481  1.344034e+02  1.925944e+01   \n",
       "469   2.006014e+02  2.282417e+01   \n",
       "237   9.013228e+03  2.303703e+01   \n",
       "1367  2.722401e+02  3.699500e+01   \n",
       "827   3.758994e+01  3.758994e+01   \n",
       "555   1.486490e+03  4.250249e+01   \n",
       "604   3.084192e+02  4.613766e+01   \n",
       "51    1.589690e+02  5.261858e+01   \n",
       "1061  2.239245e+02  5.510625e+01   \n",
       "817   5.581313e+01  5.581313e+01   \n",
       "1098  1.209989e+04  5.996291e+01   \n",
       "1772  9.070560e+01  6.517071e+01   \n",
       "660   1.824309e+02  7.255531e+01   \n",
       "1260  1.633950e+02  7.590205e+01   \n",
       "946   2.053343e+02  7.619834e+01   \n",
       "1456  7.913239e+01  7.913239e+01   \n",
       "684   8.827142e+02  7.941479e+01   \n",
       "307   4.730235e+01  8.245585e+01   \n",
       "1282  1.120024e+02  8.251863e+01   \n",
       "1731  8.414794e+01  8.414794e+01   \n",
       "1340  8.619253e+01  8.619253e+01   \n",
       "483   1.351745e+02  8.714843e+01   \n",
       "701   4.514194e+02  9.863764e+01   \n",
       "711   4.063167e+01  1.012068e+02   \n",
       "772   2.560322e+02  1.015596e+02   \n",
       "1076  2.662674e+02  1.026100e+02   \n",
       "1672  1.561145e+03  1.098626e+02   \n",
       "297   6.504841e+02  1.124624e+02   \n",
       "...            ...           ...   \n",
       "1258  3.240136e+03  1.308612e+04   \n",
       "1548  4.101484e+03  1.326401e+04   \n",
       "1154  3.607669e+03  1.326695e+04   \n",
       "777   1.328589e+04  1.328589e+04   \n",
       "334   2.742198e+03  1.335914e+04   \n",
       "1542  2.184791e+03  1.345755e+04   \n",
       "210   1.561664e+03  1.392937e+04   \n",
       "643   2.010924e+03  1.407324e+04   \n",
       "449   2.398979e+02  1.469441e+04   \n",
       "1630  5.229245e+04  1.507131e+04   \n",
       "663   9.754662e+02  1.554596e+04   \n",
       "730   8.621546e+03  1.616378e+04   \n",
       "1714  2.565284e+03  1.655759e+04   \n",
       "1752  8.606105e+03  1.721408e+04   \n",
       "1123  2.972318e+03  1.796348e+04   \n",
       "998   6.187968e+04  1.920301e+04   \n",
       "4     4.058473e+03  2.008810e+04   \n",
       "1046  3.055164e+04  2.016624e+04   \n",
       "36    4.007830e+04  2.147104e+04   \n",
       "267   2.244791e+04  2.242967e+04   \n",
       "386   5.554204e+01  2.374342e+04   \n",
       "295   4.809198e+04  2.389007e+04   \n",
       "106   3.007066e+04  2.859842e+04   \n",
       "698   1.744793e+04  3.439459e+04   \n",
       "1273  1.322110e+03  3.643822e+04   \n",
       "1183  4.694965e+03  3.892635e+04   \n",
       "927   8.933860e+02  3.915250e+04   \n",
       "629   6.637780e+03  4.606656e+04   \n",
       "326   1.023691e+06  3.288908e+06   \n",
       "816   5.325929e+05           NaN   \n",
       "\n",
       "                                                  sent1  \\\n",
       "1264                                      i was caught.   \n",
       "870                            it is also very opening.   \n",
       "1481                                      i know i did!   \n",
       "469                                     i live in the .   \n",
       "237                                            he can’t   \n",
       "1367                             what would it be like?   \n",
       "827                  this is a good idea for all of us.   \n",
       "555                                   have you connect.   \n",
       "604                       he was looking very handsome.   \n",
       "51                             have you ever heard of ?   \n",
       "1061              the power of man resides in his mind.   \n",
       "817                 it was at the when i was years old.   \n",
       "1098                                       they cannot.   \n",
       "1772              he discovered the law of gravitation.   \n",
       "660   we should be kind to each other and speak poli...   \n",
       "1260  after an hour or so, i woke up and went to my ...   \n",
       "946                the next day we went on a city tour.   \n",
       "1456        they came to for him to have a better life.   \n",
       "684   not only should censorship be allowed, it shou...   \n",
       "307            he said it was hot and that he was lost.   \n",
       "1282                  but there is a good side as well.   \n",
       "1731                   i believe this is a great thing!   \n",
       "1340                they were going to take to a party.   \n",
       "483   that is their work and they took the time to d...   \n",
       "701                i remember when my friend moved to .   \n",
       "711                         there is not a point to it.   \n",
       "772   the mood created by the author in the memoir i...   \n",
       "1076         he had received a big cut on the forehead.   \n",
       "1672              what if it messes up their childhood?   \n",
       "297              i had vocals is a galore to deal with.   \n",
       "...                                                 ...   \n",
       "1258           think computers have a effect on people.   \n",
       "1548            start up your computer and get talking.   \n",
       "1154                               he saves many lives.   \n",
       "777                         by changing him physically.   \n",
       "334                           books do not kill people.   \n",
       "1542  this will drastically change how we learn abou...   \n",
       "210   by taking certain books, music, movies, or mag...   \n",
       "643                 many things can affect the cyclist.   \n",
       "449                 should be removed from the library.   \n",
       "1630                  censorship only causes curiosity.   \n",
       "663     materials should not be removed from libraries.   \n",
       "730                   because people think differently.   \n",
       "1714                 they change the medical field too.   \n",
       "1752                                    who reads this?   \n",
       "1123  dear local newspaper, you think computer have ...   \n",
       "998   computers have dramatically changed lives fore...   \n",
       "4                                 saves money and time!   \n",
       "1046                   two, spend less time exercising.   \n",
       "36           computers provide entertainment to people.   \n",
       "267          therefore computers have positive effects.   \n",
       "386                                  what do you think?   \n",
       "295                                     soon dusk fell.   \n",
       "106                           failing hurt her greatly.   \n",
       "698       arguing just decreases the social time spent.   \n",
       "1273                     why should libraries have one?   \n",
       "1183                        next, you get no exercises.   \n",
       "927                              do you like computers?   \n",
       "629                 fortunately, the bus started again.   \n",
       "326                             specifically, baseball.   \n",
       "816                                   (not finished!!!)   \n",
       "\n",
       "                                                  sent2  \n",
       "1264                                              i was  \n",
       "870                                         it was very  \n",
       "1481                                           i know i  \n",
       "469                                       i live in the  \n",
       "237                                                  he  \n",
       "1367                                   what would it be  \n",
       "827                  this is a good idea for all of us.  \n",
       "555                                            have you  \n",
       "604                                 he was looking very  \n",
       "51                          have you ever heard of her.  \n",
       "1061                      the power of man in his mind.  \n",
       "817                 it was at the when i was years old.  \n",
       "1098                                               they  \n",
       "1772                           he discovered the law of  \n",
       "660           we should be kind to each other and speak  \n",
       "1260  after an hour or so, i woke up and went to my ...  \n",
       "946                      the next day we went on a city  \n",
       "1456        they came to for him to have a better life.  \n",
       "684                 not only should may be it should be  \n",
       "307          he said it was meat, and that he was lost.  \n",
       "1282                 but there was a good side as well.  \n",
       "1731                   i believe this is a great thing!  \n",
       "1340                they were going to take to a party.  \n",
       "483   that he their work and they took the time to d...  \n",
       "701              i remember when my friend moved to the  \n",
       "711                          there was not a us, to it.  \n",
       "772   the by the author in the case is that he is pr...  \n",
       "1076                   he had received a big cut on the  \n",
       "1672                                what if it up their  \n",
       "297                            i had is a to deal with.  \n",
       "...                                                 ...  \n",
       "1258  think dont come thought hundred-dollar no, peo...  \n",
       "1548            tom, up dear said and besides, talking.  \n",
       "1154                         he gradgrind birds strong,  \n",
       "777                         by changing him physically.  \n",
       "334                       man returned he, kill people.  \n",
       "1542  this will drastically bed, white fang disturbe...  \n",
       "210   by murdstone farmer morning, too, accustomed b...  \n",
       "643             barkis here, miss dogs brought judgment  \n",
       "449              wopsle, heard go, from brought applied  \n",
       "1630                     guv'ner only causes curiosity.  \n",
       "663               democracy. wopsle, heard go, from me.  \n",
       "730                         upon mr. think differently.  \n",
       "1714         they bed, brought medical field meanwhile,  \n",
       "1752                                  who object, this?  \n",
       "1123  it's bedroom. biddy, gradgrind, think said bou...  \n",
       "998       dont come dramatically changed lives forever.  \n",
       "4                             gradgrind money and time!  \n",
       "1046                     two, singular less time spoken  \n",
       "36            dont consideration, she, alighted people.  \n",
       "267          therefore present begin exchanged effects.  \n",
       "386                     what returned gradgrind, think?  \n",
       "295                                          soon fell.  \n",
       "106                          failing only, her greatly.  \n",
       "698     arguing must decreases brought slip with spent.  \n",
       "1273                   structure wopsle, may begin one?  \n",
       "1183               o. gradgrind, besides, no exercises.  \n",
       "927                  returned gradgrind, him computers?  \n",
       "629   fortunately, brought mighty started again. for...  \n",
       "326                                           baseball.  \n",
       "816                                                      \n",
       "\n",
       "[1792 rows x 4 columns]"
      ]
     },
     "execution_count": 125,
     "metadata": {},
     "output_type": "execute_result"
    }
   ],
   "source": [
    "dfOrig"
   ]
  },
  {
   "cell_type": "code",
   "execution_count": null,
   "metadata": {},
   "outputs": [],
   "source": []
  },
  {
   "cell_type": "markdown",
   "metadata": {},
   "source": [
    "# Reference Code from Papers"
   ]
  },
  {
   "cell_type": "markdown",
   "metadata": {},
   "source": [
    "### Transformer Paper"
   ]
  },
  {
   "cell_type": "markdown",
   "metadata": {},
   "source": [
    "\n",
    "\n",
    "yelp_acc_path = 'acc_yelp.bin'\n",
    "yelp_ppl_path = 'ppl_yelp.binary'\n",
    "yelp_ref0_path = 'yelp.refs.0'\n",
    "yelp_ref1_path = 'yelp.refs.1'\n",
    "\n",
    "\n",
    "yelp_acc_file = pkg_resources.resource_stream(resource_package, yelp_acc_path)\n",
    "yelp_ppl_file = pkg_resources.resource_stream(resource_package, yelp_ppl_path)\n",
    "yelp_ref0_file = pkg_resources.resource_stream(resource_package, yelp_ref0_path)\n",
    "yelp_ref1_file = pkg_resources.resource_stream(resource_package, yelp_ref1_path)\n",
    "\n",
    "\n",
    "self.yelp_ref = []\n",
    "with open(yelp_ref0_file.name, 'r') as fin:\n",
    "    self.yelp_ref.append(fin.readlines())\n",
    "with open(yelp_ref1_file.name, 'r') as fin:\n",
    "    self.yelp_ref.append(fin.readlines())\n",
    "self.classifier_yelp = fasttext.load_model(yelp_acc_file.name)\n",
    "self.yelp_ppl_model = kenlm.Model(yelp_ppl_file.name)"
   ]
  },
  {
   "cell_type": "code",
   "execution_count": null,
   "metadata": {
    "collapsed": true
   },
   "outputs": [],
   "source": [
    "# Style check from fastText model\n",
    "\n",
    "def yelp_style_check(self, text_transfered, style_origin):\n",
    "        text_transfered = ' '.join(word_tokenize(text_transfered.lower().strip()))\n",
    "        if text_transfered == '':\n",
    "            return False\n",
    "        label = self.classifier_yelp.predict([text_transfered])\n",
    "        style_transfered = label[0][0] == '__label__positive'\n",
    "        return (style_transfered != style_origin)\n",
    "    \n",
    "# Checking the accuracy for different styles\n",
    "    \n",
    "def yelp_acc_b(self, texts, styles_origin):\n",
    "        assert len(texts) == len(styles_origin), 'Size of inputs does not match!'\n",
    "        count = 0\n",
    "        for text, style in zip(texts, styles_origin):\n",
    "            if self.yelp_style_check(text, style):\n",
    "                count += 1\n",
    "        return count / len(texts)\n",
    "\n",
    "def yelp_acc_0(self, texts):\n",
    "        styles_origin = [0] * len(texts)\n",
    "        return self.yelp_acc_b(texts, styles_origin)\n",
    "\n",
    "def yelp_acc_1(self, texts):\n",
    "        styles_origin = [1] * len(texts)\n",
    "        return self.yelp_acc_b(texts, styles_origin)"
   ]
  },
  {
   "cell_type": "code",
   "execution_count": 40,
   "metadata": {
    "collapsed": true
   },
   "outputs": [],
   "source": [
    "# Initialize the NLTK model\n",
    "def nltk_bleu(texts_origin, text_transfered):\n",
    "        texts_origin = [word_tokenize(text_origin.lower().strip()) for text_origin in texts_origin]\n",
    "        text_transfered = word_tokenize(text_transfered.lower().strip())\n",
    "        return sentence_bleu(texts_origin, text_transfered) * 100\n",
    "\n",
    "# Check the BLEU diff between original & transferred text\n",
    "def self_bleu_b(self, texts_origin, texts_transfered):\n",
    "        assert len(texts_origin) == len(texts_transfered), 'Size of inputs does not match!'\n",
    "        sum = 0\n",
    "        n = len(texts_origin)\n",
    "        for x, y in zip(texts_origin, texts_transfered):\n",
    "            sum += self.nltk_bleu([x], y)\n",
    "        return sum / n"
   ]
  },
  {
   "cell_type": "code",
   "execution_count": null,
   "metadata": {
    "collapsed": true
   },
   "outputs": [],
   "source": [
    "# Measures perplexity of language model\n",
    "\n",
    "def yelp_ppl(self, texts_transfered):\n",
    "        texts_transfered = [' '.join(word_tokenize(itm.lower().strip())) for itm in texts_transfered]\n",
    "        sum = 0\n",
    "        words = []\n",
    "        length = 0\n",
    "        for i, line in enumerate(texts_transfered):\n",
    "            words += [word for word in line.split()]\n",
    "            length += len(line.split())\n",
    "            score = self.yelp_ppl_model.score(line)\n",
    "            sum += score\n",
    "        return math.pow(10, -sum / length)"
   ]
  },
  {
   "cell_type": "code",
   "execution_count": null,
   "metadata": {
    "collapsed": true
   },
   "outputs": [],
   "source": []
  },
  {
   "cell_type": "markdown",
   "metadata": {},
   "source": [
    "### ARAE"
   ]
  },
  {
   "cell_type": "code",
   "execution_count": null,
   "metadata": {
    "collapsed": true
   },
   "outputs": [],
   "source": [
    "\n",
    "def train_ngram_lm(kenlm_path, data_path, output_path, N):\n",
    "    \"\"\"\n",
    "    Trains a modified Kneser-Ney n-gram KenLM from a text file.\n",
    "    Creates a .arpa file to store n-grams.\n",
    "    \"\"\"\n",
    "    # create .arpa file of n-grams\n",
    "    curdir = os.path.abspath(os.path.curdir)\n",
    "    #\n",
    "    command = \"bin/lmplz -o \"+str(N)+\" <\"+os.path.join(curdir, data_path) + \\\n",
    "              \" >\"+os.path.join(curdir, output_path)\n",
    "    os.system(\"cd \"+os.path.join(kenlm_path, 'build')+\" && \"+command)\n",
    "\n",
    "    load_kenlm()\n",
    "    # create language model\n",
    "    assert(output_path)  # captured by try..except block outside\n",
    "    model = kenlm.Model(output_path)\n",
    "\n",
    "    return model\n",
    "\n",
    "\n",
    "def get_ppl(lm, sentences):\n",
    "    \"\"\"\n",
    "    Assume sentences is a list of strings (space delimited sentences)\n",
    "    \"\"\"\n",
    "    total_nll = 0\n",
    "    total_wc = 0\n",
    "    for sent in sentences:\n",
    "        words = sent.strip().split()\n",
    "        nll = np.sum([- math.log(math.pow(10.0, score)) for score, _, _ in lm.full_scores(sent, bos=True, eos=False)])\n",
    "        word_count = len(words)\n",
    "        total_wc += word_count\n",
    "        total_nll += nll\n",
    "    ppl = np.exp(total_nll / total_wc)\n",
    "    return ppl\n"
   ]
  },
  {
   "cell_type": "code",
   "execution_count": null,
   "metadata": {
    "collapsed": true
   },
   "outputs": [],
   "source": []
  },
  {
   "cell_type": "markdown",
   "metadata": {},
   "source": [
    "### Other - https://github.com/adsieg/text_similarity/blob/master/Different%20Embeddings%20%2B%20Cosine%20Similarity%20%2B%20HeatMap%20illustration.ipynb"
   ]
  },
  {
   "cell_type": "code",
   "execution_count": 3,
   "metadata": {},
   "outputs": [],
   "source": [
    "def cosine_distance_countvectorizer_method(s1, s2):\n",
    "    \n",
    "    # sentences to list\n",
    "    allsentences = [s1 , s2]\n",
    "    \n",
    "    # packages\n",
    "    from sklearn.feature_extraction.text import CountVectorizer\n",
    "    from scipy.spatial import distance\n",
    "    \n",
    "    # text to vector\n",
    "    vectorizer = CountVectorizer()\n",
    "    all_sentences_to_vector = vectorizer.fit_transform(allsentences)\n",
    "    text_to_vector_v1 = all_sentences_to_vector.toarray()[0].tolist()\n",
    "    text_to_vector_v2 = all_sentences_to_vector.toarray()[1].tolist()\n",
    "    \n",
    "    # distance of similarity\n",
    "    cosine = distance.cosine(text_to_vector_v1, text_to_vector_v2)\n",
    "    print('Similarity of two sentences are equal to ',round((1-cosine)*100,2),'%')\n",
    "    return cosine"
   ]
  },
  {
   "cell_type": "code",
   "execution_count": 4,
   "metadata": {},
   "outputs": [],
   "source": [
    "\n",
    "\n",
    "def loadGloveModel(gloveFile):\n",
    "    print (\"Loading Glove Model\")\n",
    "    with open(gloveFile, encoding=\"utf8\" ) as f:\n",
    "        content = f.readlines()\n",
    "    model = {}\n",
    "    for line in content:\n",
    "        splitLine = line.split()\n",
    "        word = splitLine[0]\n",
    "        embedding = np.array([float(val) for val in splitLine[1:]])\n",
    "        model[word] = embedding\n",
    "    print (\"Done.\",len(model),\" words loaded!\")\n",
    "    return model\n",
    "\n",
    "\n",
    "def preprocess(raw_text):\n",
    "\n",
    "    # keep only words\n",
    "    letters_only_text = re.sub(\"[^a-zA-Z]\", \" \", raw_text)\n",
    "\n",
    "    # convert to lower case and split \n",
    "    words = letters_only_text.lower().split()\n",
    "\n",
    "    # remove stopwords\n",
    "    stopword_set = set(stopwords.words(\"english\"))\n",
    "    cleaned_words = list(set([w for w in words if w not in stopword_set]))\n",
    "\n",
    "    return cleaned_words\n",
    "\n",
    "def cosine_distance_between_two_words(word1, word2):\n",
    "    import scipy\n",
    "    return (1- scipy.spatial.distance.cosine(model[word1], model[word2]))\n",
    "\n",
    "def calculate_heat_matrix_for_two_sentences(s1,s2):\n",
    "    s1 = preprocess(s1)\n",
    "    s2 = preprocess(s2)\n",
    "    result_list = [[cosine_distance_between_two_words(word1, word2) for word2 in s2] for word1 in s1]\n",
    "    result_df = pd.DataFrame(result_list)\n",
    "    result_df.columns = s2\n",
    "    result_df.index = s1\n",
    "    return result_df\n",
    "\n",
    "def cosine_distance_wordembedding_method(s1, s2):\n",
    "    import scipy\n",
    "    vector_1 = np.mean([model[word] for word in preprocess(s1)],axis=0)\n",
    "    vector_2 = np.mean([model[word] for word in preprocess(s2)],axis=0)\n",
    "    cosine = scipy.spatial.distance.cosine(vector_1, vector_2)\n",
    "    print('Word Embedding method with a cosine distance asses that our two sentences are similar to',round((1-cosine)*100,2),'%')\n",
    "\n",
    "def heat_map_matrix_between_two_sentences(s1,s2):\n",
    "    df = calculate_heat_matrix_for_two_sentences(s1,s2)\n",
    "    import seaborn as sns\n",
    "    import matplotlib.pyplot as plt\n",
    "    fig, ax = plt.subplots(figsize=(5,5)) \n",
    "    ax_blue = sns.heatmap(df, cmap=\"YlGnBu\")\n",
    "    # ax_red = sns.heatmap(df)\n",
    "    print(cosine_distance_wordembedding_method(s1, s2))\n",
    "    return ax_blue"
   ]
  },
  {
   "cell_type": "code",
   "execution_count": 13,
   "metadata": {
    "scrolled": true
   },
   "outputs": [
    {
     "name": "stdout",
     "output_type": "stream",
     "text": [
      "Word Embedding method with a cosine distance asses that our two sentences are similar to 98.39 %\n",
      "None\n"
     ]
    },
    {
     "data": {
      "text/plain": [
       "<matplotlib.axes._subplots.AxesSubplot at 0x7fc46c56da20>"
      ]
     },
     "execution_count": 13,
     "metadata": {},
     "output_type": "execute_result"
    },
    {
     "data": {
      "image/png": "[encoded data removed]",
      "text/plain": [
       "<Figure size 360x360 with 2 Axes>"
      ]
     },
     "metadata": {},
     "output_type": "display_data"
    }
   ],
   "source": [
    "heat_map_matrix_between_two_sentences(gold[100],raw0[100])"
   ]
  }
 ],
 "metadata": {
  "kernelspec": {
   "display_name": "Python 3",
   "language": "python",
   "name": "python3"
  },
  "language_info": {
   "codemirror_mode": {
    "name": "ipython",
    "version": 3
   },
   "file_extension": ".py",
   "mimetype": "text/x-python",
   "name": "python",
   "nbconvert_exporter": "python",
   "pygments_lexer": "ipython3",
   "version": "3.6.5"
  }
 },
 "nbformat": 4,
 "nbformat_minor": 1
}

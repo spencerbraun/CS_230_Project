{
 "cells": [
  {
   "cell_type": "code",
   "execution_count": 1,
   "metadata": {},
   "outputs": [],
   "source": [
    "import glob\n",
    "import os\n",
    "import sys\n",
    "import re\n",
    "import math\n",
    "import itertools\n",
    "\n",
    "import scipy\n",
    "import pandas as pd\n",
    "import numpy as np\n",
    "\n",
    "from nltk.tokenize import word_tokenize\n",
    "from nltk.translate.bleu_score import sentence_bleu, corpus_bleu, SmoothingFunction\n",
    "from nltk.corpus import stopwords\n",
    "from sklearn.metrics.pairwise import cosine_similarity\n",
    "\n",
    "import spacy\n",
    "import fasttext\n",
    "import pkg_resources\n",
    "\n",
    "import seaborn as sns\n",
    "import matplotlib.pyplot as plt\n",
    "import matplotlib\n",
    "%matplotlib inline"
   ]
  },
  {
   "cell_type": "code",
   "execution_count": 2,
   "metadata": {},
   "outputs": [],
   "source": [
    "gloveFile = \"glove.6B.50d.txt\""
   ]
  },
  {
   "cell_type": "markdown",
   "metadata": {},
   "source": [
    "# Our Code"
   ]
  },
  {
   "cell_type": "code",
   "execution_count": 3,
   "metadata": {},
   "outputs": [],
   "source": [
    "originalPath = \"/home/ubuntu/style-transformer/outputs/soph_1/model_iteration_lr_0.0001/\"\n",
    "higherLR = \"/home/ubuntu/style-transformer/outputs/soph_1/model_iteration_lr_0.001/\"\n",
    "soph2 = \"/home/ubuntu/style-transformer/outputs/soph_2/\"\n",
    "soph3 = \"/home/ubuntu/style-transformer/outputs/soph_3/\"\n",
    "sophTagged = \"/home/ubuntu/style-transformer/outputs/soph_tagged/\"\n",
    "sophTaggedNp = \"/home/ubuntu/style-transformer/outputs/soph_tagged_np/\"\n"
   ]
  },
  {
   "cell_type": "code",
   "execution_count": 4,
   "metadata": {},
   "outputs": [],
   "source": [
    "def process(sent):\n",
    "    sent = sent.strip().replace('<pad>', '').strip()\n",
    "    return sent"
   ]
  },
  {
   "cell_type": "code",
   "execution_count": 5,
   "metadata": {},
   "outputs": [],
   "source": [
    "def readNaiveTest(runNum):\n",
    "    path = f\"/home/ubuntu/style-transformer/data/soph_{runNum}/test.neg\"\n",
    "    with open(path) as f:\n",
    "        naive = f.readlines()\n",
    "    return list(map(process, naive))"
   ]
  },
  {
   "cell_type": "code",
   "execution_count": 6,
   "metadata": {},
   "outputs": [],
   "source": [
    "def load_transformer(path):\n",
    "    with open(path + \"gold_text.txt\") as f:\n",
    "        gold = f.readlines()\n",
    "    with open(path + \"rev_output_0.txt\") as f:\n",
    "        rev0 = f.readlines()\n",
    "    with open(path + \"raw_output_0.txt\") as f:\n",
    "        raw0 = f.readlines()\n",
    "    with open(path + \"rev_output_1.txt\") as f:\n",
    "        rev1 = f.readlines()\n",
    "    with open(path + \"raw_output_1.txt\") as f:\n",
    "        raw1 = f.readlines()\n",
    "        \n",
    "    gold = list(map(process, gold))\n",
    "    rev0 = list(map(process, rev0))\n",
    "    raw0 = list(map(process, raw0))\n",
    "    \n",
    "    return {0: (gold, rev0, raw0), 1:(gold, rev1, raw1)}"
   ]
  },
  {
   "cell_type": "code",
   "execution_count": 66,
   "metadata": {},
   "outputs": [],
   "source": []
  },
  {
   "cell_type": "code",
   "execution_count": 89,
   "metadata": {},
   "outputs": [],
   "source": []
  },
  {
   "cell_type": "markdown",
   "metadata": {},
   "source": [
    "### Bleu"
   ]
  },
  {
   "cell_type": "code",
   "execution_count": 7,
   "metadata": {},
   "outputs": [],
   "source": [
    "def bleu_sent(originText, transferredText):\n",
    "    texts_origin = [\n",
    "        word_tokenize(text.lower().strip()) \n",
    "        for text in originText\n",
    "    ]\n",
    "    text_transfered = word_tokenize(transferredText.lower().strip())\n",
    "    cc = SmoothingFunction()\n",
    "    return sentence_bleu(texts_origin, text_transfered, smoothing_function=cc.method3)\n",
    "\n",
    "\n",
    "\n",
    "def bleu_avg(originText, transferredText):\n",
    "    assert len(originText) == len(transferredText), 'Size of inputs does not match!'\n",
    "    sum = 0\n",
    "    n = len(originText)\n",
    "    for x, y in zip(originText, transferredText):\n",
    "        sum += bleu_sent([x], y)\n",
    "    return sum / n"
   ]
  },
  {
   "cell_type": "code",
   "execution_count": 11,
   "metadata": {},
   "outputs": [
    {
     "data": {
      "text/plain": [
       "0.8358760961477509"
      ]
     },
     "execution_count": 11,
     "metadata": {},
     "output_type": "execute_result"
    }
   ],
   "source": [
    "bleu_avg(gold, raw0)"
   ]
  },
  {
   "cell_type": "markdown",
   "metadata": {
    "collapsed": true
   },
   "source": [
    "### KenLM"
   ]
  },
  {
   "cell_type": "markdown",
   "metadata": {},
   "source": [
    "LMs add probability to each token sequence to indicate how likely it is for the sequence to occur in real text. Train LM on the target language, and the model estimates the probability of seeing a given sentence in the target text using Markov chains.\n",
    "\n",
    "\n",
    "In information theory, perplexity is a measurement of how well a probability distribution or probability model predicts a sample. It may be used to compare probability models. A low perplexity indicates the probability distribution is good at predicting the sample. \n",
    "\n",
    "The perplexity(sometimes called PP for short) of a language model on a test set is the inverse probability of the test set, normalized by the numberof words. https://lagunita.stanford.edu/c4x/Engineering/CS-224N/asset/slp4.pdf\n",
    "\n",
    "PPLxdenotes theperplexity of sentences transferred from positive sentences evaluated by a language model trainedwith negative sentences and vice versa. https://arxiv.org/pdf/1805.11749.pdf"
   ]
  },
  {
   "cell_type": "code",
   "execution_count": 8,
   "metadata": {},
   "outputs": [],
   "source": [
    "def load_kenlm():\n",
    "    global kenlm\n",
    "    import kenlm\n",
    "\n",
    "def train_ngram_lm(kenlm_path, data_path, output_path, N, load=False):\n",
    "    \"\"\"\n",
    "    FROM ARAE\n",
    "    Trains a modified Kneser-Ney n-gram KenLM from a text file.\n",
    "    Creates a .arpa file to store n-grams.\n",
    "    \"\"\"\n",
    "    if not load:\n",
    "        \n",
    "        curdir = os.path.abspath(os.path.curdir)\n",
    "        command = \"bin/lmplz -o \"+str(N)+\" <\"+os.path.join(curdir, data_path) + \\\n",
    "                  \" >\"+os.path.join(curdir, output_path)\n",
    "        print(command)\n",
    "        os.system(\"cd \"+os.path.join(kenlm_path, 'build')+\" && \"+command)\n",
    "\n",
    "    load_kenlm()\n",
    "\n",
    "    assert(output_path) \n",
    "    model = kenlm.Model(output_path)\n",
    "\n",
    "    return model"
   ]
  },
  {
   "cell_type": "code",
   "execution_count": 9,
   "metadata": {},
   "outputs": [
    {
     "name": "stdout",
     "output_type": "stream",
     "text": [
      "bin/lmplz -o 5 </home/ubuntu/CS_230_Project/data/processed/soph_train_tagged_nopunct.txt >/home/ubuntu/CS_230_Project/klm_soph_tagged_np.arpa\n"
     ]
    }
   ],
   "source": [
    "kenlm_model = train_ngram_lm('kenlm', 'data/processed/soph_train_tagged_nopunct.txt', 'klm_soph_tagged_np.arpa', 5, load=False)"
   ]
  },
  {
   "cell_type": "code",
   "execution_count": 45,
   "metadata": {},
   "outputs": [
    {
     "name": "stdout",
     "output_type": "stream",
     "text": [
      "-11.295788764953613\n",
      "-13.6751070022583\n"
     ]
    }
   ],
   "source": [
    "\n",
    "print(kenlm_model.score(gold[0]))\n",
    "print(kenlm_model.score(rev0[0]))"
   ]
  },
  {
   "cell_type": "code",
   "execution_count": 46,
   "metadata": {},
   "outputs": [
    {
     "name": "stdout",
     "output_type": "stream",
     "text": [
      "-1.716026782989502 2: <s> they\n",
      "-4.684571266174316 1: follow\n",
      "-3.069218635559082 1: what\n",
      "-5.896757125854492 1: technology\n",
      "\t\"technology\" is an OOV\n",
      "-1.8870635032653809 1: to\n",
      "-1.8208752870559692 2: to make\n",
      "-3.4363248348236084 2: make life\n",
      "-4.816084384918213 1: .\n",
      "-0.05439453572034836 2: . </s>\n",
      "\"technology\" is an OOV\n"
     ]
    }
   ],
   "source": [
    "sentence = gold[10]\n",
    "# Show scores and n-gram matches\n",
    "words = ['<s>'] + sentence.split() + ['</s>']\n",
    "for i, (prob, length, oov) in enumerate(kenlm_model.full_scores(sentence)):\n",
    "    print('{0} {1}: {2}'.format(prob, length, ' '.join(words[i+2-length:i+2])))\n",
    "    if oov:\n",
    "        print('\\t\"{0}\" is an OOV'.format(words[i+1]))\n",
    "\n",
    "# Find out-of-vocabulary words\n",
    "for w in words:\n",
    "    if not w in kenlm_model:\n",
    "        print('\"{0}\" is an OOV'.format(w))"
   ]
  },
  {
   "cell_type": "code",
   "execution_count": 10,
   "metadata": {},
   "outputs": [],
   "source": [
    "def get_ppl(lm, sentences):\n",
    "    \"\"\"\n",
    "    Assume sentences is a list of strings (space delimited sentences)\n",
    "    \"\"\"\n",
    "    total_nll = 0\n",
    "    total_wc = 0\n",
    "    for sent in sentences:\n",
    "        words = sent.strip().split()\n",
    "        nll = np.sum([- math.log(math.pow(10.0, score)) for score, _, _ in lm.full_scores(sent, bos=True, eos=False)])\n",
    "        word_count = len(words)\n",
    "        total_wc += word_count\n",
    "        total_nll += nll\n",
    "    ppl = np.exp(total_nll / total_wc)\n",
    "    return ppl"
   ]
  },
  {
   "cell_type": "code",
   "execution_count": 20,
   "metadata": {},
   "outputs": [
    {
     "data": {
      "text/plain": [
       "720.2415806656699"
      ]
     },
     "execution_count": 20,
     "metadata": {},
     "output_type": "execute_result"
    }
   ],
   "source": [
    "get_ppl(kenlm_model, gold)\n"
   ]
  },
  {
   "cell_type": "code",
   "execution_count": 21,
   "metadata": {},
   "outputs": [
    {
     "data": {
      "text/plain": [
       "969.148919193934"
      ]
     },
     "execution_count": 21,
     "metadata": {},
     "output_type": "execute_result"
    }
   ],
   "source": [
    "get_ppl(kenlm_model, raw0)\n"
   ]
  },
  {
   "cell_type": "code",
   "execution_count": 22,
   "metadata": {},
   "outputs": [
    {
     "data": {
      "text/plain": [
       "1047.93716841179"
      ]
     },
     "execution_count": 22,
     "metadata": {},
     "output_type": "execute_result"
    }
   ],
   "source": [
    "get_ppl(kenlm_model, rev0)\n"
   ]
  },
  {
   "cell_type": "markdown",
   "metadata": {},
   "source": [
    "### Similarities - Jaccard,  Cosine"
   ]
  },
  {
   "cell_type": "code",
   "execution_count": 11,
   "metadata": {},
   "outputs": [],
   "source": [
    "def jaccard_sim(sent1, sent2): \n",
    "    a = set(sent1.split()) \n",
    "    b = set(sent2.split())\n",
    "    c = a.intersection(b)\n",
    "    return float(len(c)) / (len(a) + len(b) - len(c))"
   ]
  },
  {
   "cell_type": "code",
   "execution_count": 24,
   "metadata": {},
   "outputs": [
    {
     "data": {
      "text/plain": [
       "0.6"
      ]
     },
     "execution_count": 24,
     "metadata": {},
     "output_type": "execute_result"
    }
   ],
   "source": [
    "jaccard_sim(gold[0], rev0[0])"
   ]
  },
  {
   "cell_type": "code",
   "execution_count": 12,
   "metadata": {},
   "outputs": [],
   "source": [
    "\n",
    "def loadGloveModel(gloveFile):\n",
    "    with open(gloveFile, encoding=\"utf8\" ) as f:\n",
    "        content = f.readlines()\n",
    "    model = {}\n",
    "    for line in content:\n",
    "        splitLine = line.split()\n",
    "        word = splitLine[0]\n",
    "        embedding = np.array([float(val) for val in splitLine[1:]])\n",
    "        model[word] = embedding\n",
    "    return model\n",
    "\n",
    "\n",
    "def cosine_format(raw):\n",
    "\n",
    "    processed = re.sub(\"[^a-zA-Z]\", \" \", raw)\n",
    "    words = processed.lower().split()\n",
    "    stopword_set = set(stopwords.words(\"english\"))\n",
    "    uniq_words = list(set([w for w in words if w not in stopword_set]))\n",
    "    \n",
    "    return uniq_words\n",
    "\n",
    "def cosine_words(word1, word2):\n",
    "\n",
    "    return (1 - scipy.spatial.distance.cosine(model[word1], model[word2]))\n"
   ]
  },
  {
   "cell_type": "code",
   "execution_count": 13,
   "metadata": {},
   "outputs": [],
   "source": [
    "model = loadGloveModel(gloveFile)"
   ]
  },
  {
   "cell_type": "code",
   "execution_count": 14,
   "metadata": {},
   "outputs": [],
   "source": [
    "def cosine_sent(sent1, sent2):\n",
    "    if not isinstance(sent1, list):\n",
    "        sent1 = cosine_format(sent1)\n",
    "        sent2 = cosine_format(sent2)\n",
    "\n",
    "    embs1 = np.mean([model[word] for word in sent1], axis=0)\n",
    "    embs2 = np.mean([model[word] for word in sent2], axis=0)\n",
    "\n",
    "    return(1 - scipy.spatial.distance.cosine(embs1, embs2))"
   ]
  },
  {
   "cell_type": "code",
   "execution_count": 28,
   "metadata": {},
   "outputs": [
    {
     "data": {
      "text/plain": [
       "0.9578221528266511"
      ]
     },
     "execution_count": 28,
     "metadata": {},
     "output_type": "execute_result"
    }
   ],
   "source": [
    "cosine_sent(gold[106], rev0[106])"
   ]
  },
  {
   "cell_type": "code",
   "execution_count": 15,
   "metadata": {},
   "outputs": [],
   "source": [
    "\n",
    "def heat_matrix(sent1, sent2):\n",
    "    \n",
    "    s1 = cosine_format(sent1)\n",
    "    s2 = cosine_format(sent2)\n",
    "    \n",
    "    result_list = [[cosine_words(word1, word2) for word2 in s2] for word1 in s1]\n",
    "    result_df = pd.DataFrame(result_list)\n",
    "    result_df.columns = s2\n",
    "    result_df.index = s1\n",
    "    \n",
    "    return result_df\n",
    "\n",
    "\n",
    "def heat_map(s1, s2):\n",
    "    df = heat_matrix(s1, s2)\n",
    "\n",
    "    fig, ax = plt.subplots(figsize=(5,5)) \n",
    "    ax_blue = sns.heatmap(df, cmap=\"YlGnBu\")\n",
    "    print(cosine_sent(s1, s2))\n",
    "    return ax_blue"
   ]
  },
  {
   "cell_type": "code",
   "execution_count": 33,
   "metadata": {},
   "outputs": [
    {
     "name": "stdout",
     "output_type": "stream",
     "text": [
      "1.0\n"
     ]
    },
    {
     "data": {
      "text/plain": [
       "<matplotlib.axes._subplots.AxesSubplot at 0x7f5e0f1f49e8>"
      ]
     },
     "execution_count": 33,
     "metadata": {},
     "output_type": "execute_result"
    },
    {
     "data": {
      "image/png": "[encoded data removed]",
      "text/plain": [
       "<Figure size 360x360 with 2 Axes>"
      ]
     },
     "metadata": {},
     "output_type": "display_data"
    }
   ],
   "source": [
    "heat_map(gold[105], raw0[105])"
   ]
  },
  {
   "cell_type": "markdown",
   "metadata": {},
   "source": [
    "### PINC  - https://github.com/cocoxu/Shakespeare/blob/master/python/PINC_sentence.py"
   ]
  },
  {
   "cell_type": "code",
   "execution_count": 16,
   "metadata": {},
   "outputs": [],
   "source": [
    "from collections import Counter\n",
    "\n",
    "def intersect(list1, list2) :\n",
    "    cnt1 = Counter()\n",
    "    cnt2 = Counter()\n",
    "    for tk1 in list1:\n",
    "        cnt1[tk1] += 1\n",
    "    for tk2 in list2:\n",
    "        cnt2[tk2] += 1    \n",
    "    inter = cnt1 & cnt2\n",
    "    return len(list(inter.elements()))\n",
    "\n",
    "\n",
    "def pinc(ssent, csent):\n",
    "    s1grams = ssent.split(\" \")\n",
    "    c1grams = csent.split(\" \")\n",
    "    s2grams = []\n",
    "    c2grams = []\n",
    "    s3grams = []\n",
    "    c3grams = []\n",
    "    s4grams = []\n",
    "    c4grams = []\n",
    "        \n",
    "    for i in range(0, len(s1grams)-1) :\n",
    "        if i < len(s1grams) - 1:\n",
    "            s2gram = s1grams[i] + \" \" + s1grams[i+1]\n",
    "            s2grams.append(s2gram)\n",
    "        if i < len(s1grams)-2:\n",
    "            s3gram = s1grams[i] + \" \" + s1grams[i+1] + \" \" + s1grams[i+2]\n",
    "            s3grams.append(s3gram)\n",
    "        if i < len(s1grams)-3:\n",
    "            s4gram = s1grams[i] + \" \" + s1grams[i+1] + \" \" + s1grams[i+2] + \" \" + s1grams[i+3]\n",
    "            s4grams.append(s4gram)\n",
    "            \n",
    "    for i in range(0, len(c1grams)-1) :\n",
    "        if i < len(c1grams) - 1:\n",
    "            c2gram = c1grams[i] + \" \" + c1grams[i+1]\n",
    "            c2grams.append(c2gram)\n",
    "        if i < len(c1grams)-2:\n",
    "            c3gram = c1grams[i] + \" \" + c1grams[i+1] + \" \" + c1grams[i+2]\n",
    "            c3grams.append(c3gram)\n",
    "        if i < len(c1grams)-3:\n",
    "            c4gram = c1grams[i] + \" \" + c1grams[i+1] + \" \" + c1grams[i+2] + \" \" + c1grams[i+3]\n",
    "            c4grams.append(c4gram)\n",
    "\n",
    "    score = intersect(s1grams, c1grams) / len(c1grams)\n",
    "    if len(c2grams) > 0:\n",
    "        score += intersect(s2grams, c2grams) / len(c2grams)\n",
    "    if len(c3grams) > 0:\n",
    "        score += intersect(s3grams, c3grams) / len(c3grams)\n",
    "    if len(c4grams) > 0:\n",
    "        score += intersect(s4grams, c4grams) / len(c4grams)\n",
    "    return 1 - score/4\n"
   ]
  },
  {
   "cell_type": "code",
   "execution_count": 50,
   "metadata": {},
   "outputs": [
    {
     "data": {
      "text/plain": [
       "0.7291666666666667"
      ]
     },
     "execution_count": 50,
     "metadata": {},
     "output_type": "execute_result"
    }
   ],
   "source": [
    "pinc(gold[106], rev0[106])"
   ]
  },
  {
   "cell_type": "code",
   "execution_count": 17,
   "metadata": {},
   "outputs": [],
   "source": [
    "def pinc_corpus(origText, transferText):\n",
    "    sentcount = len(origText)\n",
    "    pincscore = 0.0\n",
    "\n",
    "    for idx in range(len(origText)):\n",
    "\n",
    "        sline = origText[idx].strip()\n",
    "        cline = transferText[idx].strip()\n",
    "        \n",
    "        sentscore = pinc(sline, cline)       \n",
    "        pincscore += sentscore\n",
    "\n",
    "    pincscore = pincscore / sentcount * 100\n",
    "    \n",
    "    return pincscore"
   ]
  },
  {
   "cell_type": "markdown",
   "metadata": {},
   "source": [
    "### Putting it all together"
   ]
  },
  {
   "cell_type": "code",
   "execution_count": 18,
   "metadata": {},
   "outputs": [],
   "source": [
    "def sentenceMetrics(sent1, sent2, kenlm_model, output=False):\n",
    "    metrics = {}\n",
    "    \n",
    "    metrics['bleu'] = bleu_sent(sent1, sent2)\n",
    "    metrics['cosine'] = cosine_sent(sent1, sent2)\n",
    "    metrics['jaccard'] = jaccard_sim(sent1, sent2)\n",
    "    metrics['pinc'] = pinc(sent1, sent2)\n",
    "    metrics['ppl'] = (get_ppl(kenlm_model, [sent1]), get_ppl(kenlm_model, [sent2]))\n",
    "    \n",
    "    if output:\n",
    "        print(f\"Orig: {sent1}\")\n",
    "        print(f\"New: {sent2}\")\n",
    "        heat_map(sent1, sent2)\n",
    "    return metrics"
   ]
  },
  {
   "cell_type": "code",
   "execution_count": 55,
   "metadata": {},
   "outputs": [
    {
     "name": "stdout",
     "output_type": "stream",
     "text": [
      "Orig: the mood that the author creates in the memoir is gratefulness.\n",
      "New: mrs. had brought was appeals in the case is gratefulness.\n",
      "0.6072675802561083\n"
     ]
    },
    {
     "data": {
      "text/plain": [
       "{'bleu': 0.03747776736677922,\n",
       " 'cosine': 0.6072675802561083,\n",
       " 'jaccard': 0.26666666666666666,\n",
       " 'pinc': 0.8444444444444444,\n",
       " 'ppl': (462.99934971193403, 717.1712770706305)}"
      ]
     },
     "execution_count": 55,
     "metadata": {},
     "output_type": "execute_result"
    },
    {
     "data": {
      "image/png": "[encoded data removed]",
      "text/plain": [
       "<Figure size 360x360 with 2 Axes>"
      ]
     },
     "metadata": {},
     "output_type": "display_data"
    }
   ],
   "source": [
    "sentenceMetrics(gold[1022], rev0[1022], output=True)"
   ]
  },
  {
   "cell_type": "code",
   "execution_count": 19,
   "metadata": {},
   "outputs": [],
   "source": [
    "def globalMetrics(origData, transferData, kenlm_model):\n",
    "    metrics = {}\n",
    "    \n",
    "    metrics['bleu'] = bleu_avg(origData, transferData)\n",
    "    metrics['ppl'] = (get_ppl(kenlm_model, origData), \n",
    "                      get_ppl(kenlm_model, transferData))\n",
    "    metrics['pinc'] = pinc_corpus(origData, transferData)\n",
    "    \n",
    "    return metrics"
   ]
  },
  {
   "cell_type": "code",
   "execution_count": 58,
   "metadata": {},
   "outputs": [
    {
     "data": {
      "text/plain": [
       "{'bleu': 0.46153848006722215,\n",
       " 'ppl': (712.1788917124655, 1175.9971924517877),\n",
       " 'pinc': 51.41437930819486}"
      ]
     },
     "execution_count": 58,
     "metadata": {},
     "output_type": "execute_result"
    }
   ],
   "source": [
    "globalMetrics(gold, rev0)"
   ]
  },
  {
   "cell_type": "code",
   "execution_count": null,
   "metadata": {},
   "outputs": [],
   "source": []
  },
  {
   "cell_type": "markdown",
   "metadata": {},
   "source": [
    "### Dataset Metrics"
   ]
  },
  {
   "cell_type": "code",
   "execution_count": 20,
   "metadata": {},
   "outputs": [],
   "source": [
    "loaded_data = load_transformer(originalPath)\n",
    "gold_orig, rev_orig, raw_orig = loaded_data[0]"
   ]
  },
  {
   "cell_type": "code",
   "execution_count": 21,
   "metadata": {},
   "outputs": [],
   "source": [
    "loaded_data = load_transformer(higherLR)\n",
    "gold_HLR, rev_HLR, raw_HLR = loaded_data[0]"
   ]
  },
  {
   "cell_type": "code",
   "execution_count": 22,
   "metadata": {},
   "outputs": [],
   "source": [
    "loaded_data = load_transformer(soph2)\n",
    "gold_soph2, rev_soph2, raw_soph2 = loaded_data[0]"
   ]
  },
  {
   "cell_type": "code",
   "execution_count": 23,
   "metadata": {},
   "outputs": [],
   "source": [
    "loaded_data = load_transformer(sophTagged)\n",
    "gold_soph_tag, rev_soph_tag, raw_soph_tag = loaded_data[0]"
   ]
  },
  {
   "cell_type": "code",
   "execution_count": 24,
   "metadata": {},
   "outputs": [],
   "source": [
    "loaded_data = load_transformer(sophTaggedNp)\n",
    "gold_soph_tag_np, rev_soph_tag_np, raw_soph_tag_np = loaded_data[0]"
   ]
  },
  {
   "cell_type": "code",
   "execution_count": 27,
   "metadata": {},
   "outputs": [],
   "source": [
    "naive_1 = readNaiveTest(1)\n",
    "naive_2 = readNaiveTest(2)\n",
    "naive_3 = readNaiveTest(3)\n",
    "naive_tag = readNaiveTest('tagged')\n",
    "naive_tag_np = readNaiveTest('tagged_np')"
   ]
  },
  {
   "cell_type": "code",
   "execution_count": 28,
   "metadata": {},
   "outputs": [],
   "source": [
    "# kenlm_1 = train_ngram_lm('kenlm', 'data/processed/soph_train.txt', 'klm_soph_1.arpa', 5, load=True)\n",
    "# kenlm_2 = train_ngram_lm('kenlm', 'data/processed/soph_train_2.txt', 'klm_soph_2.arpa', 5, load=True)\n",
    "# kenlm_3 = train_ngram_lm('kenlm', 'data/processed/soph_train_3.txt', 'klm_soph_3.arpa', 5, load=True)\n",
    "# kenlm_tag = train_ngram_lm('kenlm', 'data/processed/soph_train_tagged.txt', 'klm_soph_tagged.arpa', 5, load=True)\n",
    "kenlm_tag_np = train_ngram_lm('kenlm', 'data/processed/soph_train_tagged_nopunct.txt', 'klm_soph_tagged_np.arpa', 5, load=True)"
   ]
  },
  {
   "cell_type": "code",
   "execution_count": 105,
   "metadata": {},
   "outputs": [
    {
     "data": {
      "text/plain": [
       "{'bleu': 0.3613066422495174,\n",
       " 'ppl': (798.1598083846517, 629.9162131290562),\n",
       " 'pinc': 62.63539704549997}"
      ]
     },
     "execution_count": 105,
     "metadata": {},
     "output_type": "execute_result"
    }
   ],
   "source": [
    "globalMetrics(naive_2, rev_soph2, kenlm_2)"
   ]
  },
  {
   "cell_type": "code",
   "execution_count": 26,
   "metadata": {},
   "outputs": [
    {
     "data": {
      "text/plain": [
       "{'bleu': 0.380887868597427,\n",
       " 'ppl': (447.7485862016299, 282.4529932116936),\n",
       " 'pinc': 58.73869506288379}"
      ]
     },
     "execution_count": 26,
     "metadata": {},
     "output_type": "execute_result"
    }
   ],
   "source": [
    "globalMetrics(naive_tag, rev_soph_tag, kenlm_tag)"
   ]
  },
  {
   "cell_type": "code",
   "execution_count": 31,
   "metadata": {},
   "outputs": [
    {
     "data": {
      "text/plain": [
       "{'bleu': 0.09690859889981704,\n",
       " 'ppl': (546.7043494507218, 73.09098323777687),\n",
       " 'pinc': 83.82863839728782}"
      ]
     },
     "execution_count": 31,
     "metadata": {},
     "output_type": "execute_result"
    }
   ],
   "source": [
    "globalMetrics(naive_tag_np, rev_soph_tag_np, kenlm_tag_np)"
   ]
  },
  {
   "cell_type": "code",
   "execution_count": 32,
   "metadata": {},
   "outputs": [],
   "source": [
    "def SentencePplFrame(reference, transferred, klm):\n",
    "    ppl_dict = {}\n",
    "    for i in range(len(reference)):\n",
    "        ppl_dict[i] = {'ppl':(get_ppl(klm, [reference[i]]), get_ppl(klm, [transferred[i]])), \n",
    "                       'sent1': reference[i],\n",
    "                       'sent2': transferred[i]}\n",
    "    test_df = pd.DataFrame(ppl_dict).T\n",
    "    test_df['ppl1'] = test_df.ppl.apply(lambda x: x[0])\n",
    "    test_df['ppl2'] = test_df.ppl.apply(lambda x: x[1])\n",
    "    test_df = test_df.sort_values('ppl2')\n",
    "    cols = ['ppl1', 'ppl2', 'sent1', 'sent2']\n",
    "    \n",
    "    return test_df[cols]"
   ]
  },
  {
   "cell_type": "code",
   "execution_count": 33,
   "metadata": {},
   "outputs": [],
   "source": [
    "dftag = SentencePplFrame(naive_tag_np, rev_soph_tag_np, kenlm_tag_np)"
   ]
  },
  {
   "cell_type": "code",
   "execution_count": 34,
   "metadata": {},
   "outputs": [
    {
     "data": {
      "text/html": [
       "<div>\n",
       "<style scoped>\n",
       "    .dataframe tbody tr th:only-of-type {\n",
       "        vertical-align: middle;\n",
       "    }\n",
       "\n",
       "    .dataframe tbody tr th {\n",
       "        vertical-align: top;\n",
       "    }\n",
       "\n",
       "    .dataframe thead th {\n",
       "        text-align: right;\n",
       "    }\n",
       "</style>\n",
       "<table border=\"1\" class=\"dataframe\">\n",
       "  <thead>\n",
       "    <tr style=\"text-align: right;\">\n",
       "      <th></th>\n",
       "      <th>ppl1</th>\n",
       "      <th>ppl2</th>\n",
       "      <th>sent1</th>\n",
       "      <th>sent2</th>\n",
       "    </tr>\n",
       "  </thead>\n",
       "  <tbody>\n",
       "    <tr>\n",
       "      <th>995</th>\n",
       "      <td>482.787222</td>\n",
       "      <td>54.211250</td>\n",
       "      <td>so everyday i had to try to keep my mind on something besides the phone</td>\n",
       "      <td>so i had been to my own hand on to the to my own to the</td>\n",
       "    </tr>\n",
       "    <tr>\n",
       "      <th>318</th>\n",
       "      <td>1257.029526</td>\n",
       "      <td>45.988393</td>\n",
       "      <td>the feature of rolling hills also affects the cyclist</td>\n",
       "      <td>the man who the of the white fang of the of the which</td>\n",
       "    </tr>\n",
       "    <tr>\n",
       "      <th>443</th>\n",
       "      <td>980.760771</td>\n",
       "      <td>101.954429</td>\n",
       "      <td>the hibiscus does these actions by coming out of its buds and blooming</td>\n",
       "      <td>the and all its and does that its own and out of its and of its</td>\n",
       "    </tr>\n",
       "    <tr>\n",
       "      <th>803</th>\n",
       "      <td>423.573330</td>\n",
       "      <td>69.036768</td>\n",
       "      <td>when i got home i had learn two lessons one was not to worry about anything and i learn how to have patients</td>\n",
       "      <td>when he was to the other i had i had been not i knew and i had been not to the other more than and i could and the other</td>\n",
       "    </tr>\n",
       "    <tr>\n",
       "      <th>525</th>\n",
       "      <td>330.456966</td>\n",
       "      <td>67.816189</td>\n",
       "      <td>i know that after a long time on the computer i have a massive headache because my eyes just hurt so bad</td>\n",
       "      <td>i know that i know i know i know so much that i know a long on my head on the long</td>\n",
       "    </tr>\n",
       "    <tr>\n",
       "      <th>1412</th>\n",
       "      <td>827.701177</td>\n",
       "      <td>62.681532</td>\n",
       "      <td>nature itself also seems to &lt;caps&gt; a &lt;caps&gt; the winds above the building were very violent</td>\n",
       "      <td>thus the and to the which were very well to the</td>\n",
       "    </tr>\n",
       "    <tr>\n",
       "      <th>1575</th>\n",
       "      <td>907.726414</td>\n",
       "      <td>49.519487</td>\n",
       "      <td>in the story do not exceed posted speed limit the cyclist sees many different settings when he left it was early summer and it was pretty hot outside</td>\n",
       "      <td>in when he was not so he was not even he was not many times and the other it was not in the other</td>\n",
       "    </tr>\n",
       "    <tr>\n",
       "      <th>435</th>\n",
       "      <td>2061.942170</td>\n",
       "      <td>157.430043</td>\n",
       "      <td>in conclusion you live a happier life when explore the</td>\n",
       "      <td>in when you do when you do a life of when the life</td>\n",
       "    </tr>\n",
       "    <tr>\n",
       "      <th>572</th>\n",
       "      <td>1226.238892</td>\n",
       "      <td>74.116477</td>\n",
       "      <td>the human race has survived over hundreds of years without computers and we can survive hundreds more</td>\n",
       "      <td>the men and we can no more than and more than of the years and more than of the years of the united and</td>\n",
       "    </tr>\n",
       "    <tr>\n",
       "      <th>1581</th>\n",
       "      <td>2550.839142</td>\n",
       "      <td>635.986420</td>\n",
       "      <td>libraries are usually pretty good at sorting things</td>\n",
       "      <td>such are good at good are good</td>\n",
       "    </tr>\n",
       "    <tr>\n",
       "      <th>642</th>\n",
       "      <td>1667.006319</td>\n",
       "      <td>574.505827</td>\n",
       "      <td>the other practical reason why dirigibles could not more at the empire state building was an existing law against airships flying too low over urban areas</td>\n",
       "      <td>the did not was an existing law against an existing law against an existing law against airships would not even more than any one</td>\n",
       "    </tr>\n",
       "    <tr>\n",
       "      <th>1673</th>\n",
       "      <td>360.025208</td>\n",
       "      <td>60.302671</td>\n",
       "      <td>the steel frame would have to be modified and strengthened</td>\n",
       "      <td>the would have been to the and would be paid and to the ground and its</td>\n",
       "    </tr>\n",
       "    <tr>\n",
       "      <th>1150</th>\n",
       "      <td>542.009250</td>\n",
       "      <td>39.261224</td>\n",
       "      <td>this is where some kids go because they are addicted to the computer</td>\n",
       "      <td>this they are not go to go to the of the</td>\n",
       "    </tr>\n",
       "    <tr>\n",
       "      <th>1256</th>\n",
       "      <td>723.978158</td>\n",
       "      <td>72.689014</td>\n",
       "      <td>it is basically any information in a click</td>\n",
       "      <td>it is a relation in any alternate</td>\n",
       "    </tr>\n",
       "    <tr>\n",
       "      <th>640</th>\n",
       "      <td>499.350265</td>\n",
       "      <td>45.673305</td>\n",
       "      <td>for one the machines use up load of energy in the house making the electric bill rise and &lt;date&gt;</td>\n",
       "      <td>for one of the and the in the city and the of the city</td>\n",
       "    </tr>\n",
       "    <tr>\n",
       "      <th>399</th>\n",
       "      <td>570.628212</td>\n",
       "      <td>109.817339</td>\n",
       "      <td>at first none of us really skated cause we were looking around</td>\n",
       "      <td>at least we were no one of the of us we were no one of us of us of us</td>\n",
       "    </tr>\n",
       "    <tr>\n",
       "      <th>1113</th>\n",
       "      <td>948.893445</td>\n",
       "      <td>48.551498</td>\n",
       "      <td>we hardly ever see kids with friends and family hanging around</td>\n",
       "      <td>we all with the and with his own and with the and all of his own</td>\n",
       "    </tr>\n",
       "    <tr>\n",
       "      <th>115</th>\n",
       "      <td>638.058207</td>\n",
       "      <td>30.625649</td>\n",
       "      <td>he called it a substance it had a flavor of battery acid</td>\n",
       "      <td>he had been a little of a man it</td>\n",
       "    </tr>\n",
       "    <tr>\n",
       "      <th>1174</th>\n",
       "      <td>485.969761</td>\n",
       "      <td>139.408003</td>\n",
       "      <td>this affected him a lot because the desert is very hot</td>\n",
       "      <td>this very little but the him is a little water</td>\n",
       "    </tr>\n",
       "    <tr>\n",
       "      <th>1483</th>\n",
       "      <td>98.255765</td>\n",
       "      <td>83.834317</td>\n",
       "      <td>we were going to &lt;location&gt; that &lt;caps&gt; when all of a sudden the &lt;caps&gt; sign came up on the &lt;caps&gt;</td>\n",
       "      <td>we came on when we were to when we were all to the of a of the</td>\n",
       "    </tr>\n",
       "    <tr>\n",
       "      <th>1148</th>\n",
       "      <td>1399.538719</td>\n",
       "      <td>163.137864</td>\n",
       "      <td>we were running suicides</td>\n",
       "      <td>we they were</td>\n",
       "    </tr>\n",
       "    <tr>\n",
       "      <th>820</th>\n",
       "      <td>541.468522</td>\n",
       "      <td>103.616829</td>\n",
       "      <td>and to make things worse there was this annoying little boy talking to me about some food or something</td>\n",
       "      <td>and there was to me or no longer to me or even about this was no longer of some</td>\n",
       "    </tr>\n",
       "    <tr>\n",
       "      <th>1356</th>\n",
       "      <td>299.209189</td>\n",
       "      <td>31.721332</td>\n",
       "      <td>you have to want things bad enough and put the effort into it</td>\n",
       "      <td>you do nt get it and the way to the it and it</td>\n",
       "    </tr>\n",
       "    <tr>\n",
       "      <th>207</th>\n",
       "      <td>1564.997506</td>\n",
       "      <td>82.377836</td>\n",
       "      <td>though that most libraries split a lot of there sections up by ages</td>\n",
       "      <td>but that there is a few of which there of and up of a few of which</td>\n",
       "    </tr>\n",
       "    <tr>\n",
       "      <th>861</th>\n",
       "      <td>116.446454</td>\n",
       "      <td>50.639326</td>\n",
       "      <td>i got out a piece of play doe and i made it into the &lt;caps&gt; i put it on the top of the tower</td>\n",
       "      <td>i got and i got a on the of the and i had made it of the</td>\n",
       "    </tr>\n",
       "    <tr>\n",
       "      <th>250</th>\n",
       "      <td>49.131490</td>\n",
       "      <td>24.010395</td>\n",
       "      <td>it was a very good statement</td>\n",
       "      <td>it was a good a good</td>\n",
       "    </tr>\n",
       "    <tr>\n",
       "      <th>446</th>\n",
       "      <td>1313.372109</td>\n",
       "      <td>118.414855</td>\n",
       "      <td>a lot of people are religious and their particular religion &lt;month&gt; be against looking at suggestive and unholy material</td>\n",
       "      <td>a and at each other people are not are not be no any other kinds of their own knowledge and at their own knowledge and at and at their own knowledge</td>\n",
       "    </tr>\n",
       "    <tr>\n",
       "      <th>1540</th>\n",
       "      <td>257.144343</td>\n",
       "      <td>87.898236</td>\n",
       "      <td>a library should have a variety of books</td>\n",
       "      <td>a of such a should have may should be such a certain of such a certain of a certain</td>\n",
       "    </tr>\n",
       "    <tr>\n",
       "      <th>1027</th>\n",
       "      <td>1325.727417</td>\n",
       "      <td>58.239437</td>\n",
       "      <td>we left my mom and headed to the first store</td>\n",
       "      <td>we came to my and the and the other the night</td>\n",
       "    </tr>\n",
       "    <tr>\n",
       "      <th>865</th>\n",
       "      <td>341.425682</td>\n",
       "      <td>80.445854</td>\n",
       "      <td>some movies are really offensive and they should be removed from the shelf</td>\n",
       "      <td>some and they should be no longer from the and should be removed and the which</td>\n",
       "    </tr>\n",
       "    <tr>\n",
       "      <th>...</th>\n",
       "      <td>...</td>\n",
       "      <td>...</td>\n",
       "      <td>...</td>\n",
       "      <td>...</td>\n",
       "    </tr>\n",
       "    <tr>\n",
       "      <th>32</th>\n",
       "      <td>383.719745</td>\n",
       "      <td>63.652561</td>\n",
       "      <td>only to quickly realize that it was only her fist</td>\n",
       "      <td>only was to her hand that it was no one to her it was that it</td>\n",
       "    </tr>\n",
       "    <tr>\n",
       "      <th>1182</th>\n",
       "      <td>305.784700</td>\n",
       "      <td>54.745153</td>\n",
       "      <td>i heard a couple nights ago that &lt;organization&gt; had an earthquake</td>\n",
       "      <td>i had been an that he had been an old an hour</td>\n",
       "    </tr>\n",
       "    <tr>\n",
       "      <th>958</th>\n",
       "      <td>148.163990</td>\n",
       "      <td>108.185307</td>\n",
       "      <td>a computer is a great thing to have for all these things</td>\n",
       "      <td>a for all of the and all a great thing to all things</td>\n",
       "    </tr>\n",
       "    <tr>\n",
       "      <th>600</th>\n",
       "      <td>1737.729518</td>\n",
       "      <td>55.314201</td>\n",
       "      <td>the first problem they faced was redesigning the buildings original skeleton to fit the needs of the mooring mast</td>\n",
       "      <td>the last was they had to the of the of the of the</td>\n",
       "    </tr>\n",
       "    <tr>\n",
       "      <th>1052</th>\n",
       "      <td>637.240881</td>\n",
       "      <td>60.786237</td>\n",
       "      <td>all loyalties aside in my honest opinion i believe censorship in the &lt;caps&gt; is a bad idea and will never work to solve actual problems with the world</td>\n",
       "      <td>all the and i may i think to my own opinion is not with the world in a great world and with the world to the</td>\n",
       "    </tr>\n",
       "    <tr>\n",
       "      <th>234</th>\n",
       "      <td>625.256345</td>\n",
       "      <td>42.246590</td>\n",
       "      <td>i think they should just make sure the kids are checking out what their allowed to read</td>\n",
       "      <td>i think that they should make to make the and the of their</td>\n",
       "    </tr>\n",
       "    <tr>\n",
       "      <th>757</th>\n",
       "      <td>130.568066</td>\n",
       "      <td>78.129123</td>\n",
       "      <td>they want to sell and advertise their product and they have a right to do so</td>\n",
       "      <td>they should so much to their and so and to do so and to their own and so</td>\n",
       "    </tr>\n",
       "    <tr>\n",
       "      <th>188</th>\n",
       "      <td>211.132560</td>\n",
       "      <td>50.629581</td>\n",
       "      <td>this showed how it affected him because he thought he is going to drop from the heat</td>\n",
       "      <td>this was he seemed to him and he found he found from the to the</td>\n",
       "    </tr>\n",
       "    <tr>\n",
       "      <th>1635</th>\n",
       "      <td>293.973794</td>\n",
       "      <td>16.317459</td>\n",
       "      <td>he was a guy of color and he was complaining because he read a book about slaves</td>\n",
       "      <td>he was a man and he was he was a man of the and he was a man of a man</td>\n",
       "    </tr>\n",
       "    <tr>\n",
       "      <th>526</th>\n",
       "      <td>182.816458</td>\n",
       "      <td>67.317436</td>\n",
       "      <td>this form of bulling has happened to many and we have lost many to it</td>\n",
       "      <td>this has we have been found and we have been to many and we have been found it of it</td>\n",
       "    </tr>\n",
       "    <tr>\n",
       "      <th>1033</th>\n",
       "      <td>539.108789</td>\n",
       "      <td>138.852144</td>\n",
       "      <td>they could us that money and buy better books and at a lower price</td>\n",
       "      <td>they could at a and at and that and at a good and at a and at us and that and</td>\n",
       "    </tr>\n",
       "    <tr>\n",
       "      <th>1582</th>\n",
       "      <td>4044.322503</td>\n",
       "      <td>185.894541</td>\n",
       "      <td>censoring these books can give an ease to kids and parents</td>\n",
       "      <td>&lt; p &gt; p &gt; to make an such an and an and an other an other an</td>\n",
       "    </tr>\n",
       "    <tr>\n",
       "      <th>1612</th>\n",
       "      <td>1633.287639</td>\n",
       "      <td>86.445822</td>\n",
       "      <td>you also read about new subjects and learn new things on computers possibly helping you in your classes or</td>\n",
       "      <td>you may you or any other of the new and on or in your own and in on and with and in and the other of the</td>\n",
       "    </tr>\n",
       "    <tr>\n",
       "      <th>257</th>\n",
       "      <td>181.789263</td>\n",
       "      <td>64.810319</td>\n",
       "      <td>they can help us in school and give information we need to do things in life</td>\n",
       "      <td>they can do to make us and we can make the work in life and our life</td>\n",
       "    </tr>\n",
       "    <tr>\n",
       "      <th>1072</th>\n",
       "      <td>105.479998</td>\n",
       "      <td>74.750426</td>\n",
       "      <td>but then i do see it the other way to</td>\n",
       "      <td>but then he do to see it i do it the way of it</td>\n",
       "    </tr>\n",
       "    <tr>\n",
       "      <th>312</th>\n",
       "      <td>288.736308</td>\n",
       "      <td>138.395285</td>\n",
       "      <td>were part of a movement that will last forever</td>\n",
       "      <td>they will a of that will the last day of a week of which</td>\n",
       "    </tr>\n",
       "    <tr>\n",
       "      <th>1473</th>\n",
       "      <td>190.535639</td>\n",
       "      <td>50.716945</td>\n",
       "      <td>&lt;caps&gt; was last year when we went looking for a dog to adopt</td>\n",
       "      <td>&lt;num&gt; was when we went to a man for when we came to a</td>\n",
       "    </tr>\n",
       "    <tr>\n",
       "      <th>936</th>\n",
       "      <td>1061.461716</td>\n",
       "      <td>68.017508</td>\n",
       "      <td>many features of the setting affected the cyclist</td>\n",
       "      <td>other the of the of the dogs of the dogs of the of the other</td>\n",
       "    </tr>\n",
       "    <tr>\n",
       "      <th>1566</th>\n",
       "      <td>326.781090</td>\n",
       "      <td>47.604413</td>\n",
       "      <td>they are having a positive effect on people</td>\n",
       "      <td>they are no longer on a certain which</td>\n",
       "    </tr>\n",
       "    <tr>\n",
       "      <th>1527</th>\n",
       "      <td>227.011267</td>\n",
       "      <td>68.025145</td>\n",
       "      <td>one of the teachers tried to help me by telling me that they were laughing at my joke</td>\n",
       "      <td>one of the of the to me they were at him to me that</td>\n",
       "    </tr>\n",
       "    <tr>\n",
       "      <th>681</th>\n",
       "      <td>2054.252542</td>\n",
       "      <td>131.725294</td>\n",
       "      <td>the architects of the empire state building ran into many problems attempting to allow dirigibles to dock their</td>\n",
       "      <td>the men of the men to their men and their to their feet of their other their other their feet</td>\n",
       "    </tr>\n",
       "    <tr>\n",
       "      <th>1074</th>\n",
       "      <td>337.288633</td>\n",
       "      <td>152.305297</td>\n",
       "      <td>you also can see it from the way she acts</td>\n",
       "      <td>you can she will she will she will she will she will she will she said that it and the way from its way</td>\n",
       "    </tr>\n",
       "    <tr>\n",
       "      <th>986</th>\n",
       "      <td>1111.514086</td>\n",
       "      <td>47.518364</td>\n",
       "      <td>these obstacles were overlooked in the plans to create the empire state building</td>\n",
       "      <td>these of the in to the city to the city and the other</td>\n",
       "    </tr>\n",
       "    <tr>\n",
       "      <th>953</th>\n",
       "      <td>1732.553963</td>\n",
       "      <td>88.069953</td>\n",
       "      <td>imagine you working on a project in school</td>\n",
       "      <td>&lt; p &gt; p &gt; p &gt; in a on a week on the in a new york</td>\n",
       "    </tr>\n",
       "    <tr>\n",
       "      <th>776</th>\n",
       "      <td>1592.399370</td>\n",
       "      <td>176.473670</td>\n",
       "      <td>&lt;caps&gt; people use computers for work</td>\n",
       "      <td>&lt;num&gt; for each and for work for work</td>\n",
       "    </tr>\n",
       "    <tr>\n",
       "      <th>1345</th>\n",
       "      <td>517.747634</td>\n",
       "      <td>188.400909</td>\n",
       "      <td>like the time where i met this guy named &lt;person&gt;</td>\n",
       "      <td>like i said i met this time i met this i met the of this</td>\n",
       "    </tr>\n",
       "    <tr>\n",
       "      <th>1318</th>\n",
       "      <td>584.096375</td>\n",
       "      <td>75.798493</td>\n",
       "      <td>i had missed about an inning of the game already</td>\n",
       "      <td>i had been an about an of the of the of an</td>\n",
       "    </tr>\n",
       "    <tr>\n",
       "      <th>1440</th>\n",
       "      <td>279.189413</td>\n",
       "      <td>78.757911</td>\n",
       "      <td>you can also use the computer to look up different kinds of people</td>\n",
       "      <td>you will look to the other of which and of the other</td>\n",
       "    </tr>\n",
       "    <tr>\n",
       "      <th>951</th>\n",
       "      <td>503.292554</td>\n",
       "      <td>150.884318</td>\n",
       "      <td>i will never forget how my parents turned this simple house into a home</td>\n",
       "      <td>i will my house into a house</td>\n",
       "    </tr>\n",
       "    <tr>\n",
       "      <th>758</th>\n",
       "      <td>1076.980960</td>\n",
       "      <td>146.520470</td>\n",
       "      <td>i once spent &lt;num&gt; hours on my computer on &lt;caps&gt;</td>\n",
       "      <td>i once on my on my</td>\n",
       "    </tr>\n",
       "  </tbody>\n",
       "</table>\n",
       "<p>100 rows × 4 columns</p>\n",
       "</div>"
      ],
      "text/plain": [
       "             ppl1        ppl2  \\\n",
       "995   482.787222   54.211250    \n",
       "318   1257.029526  45.988393    \n",
       "443   980.760771   101.954429   \n",
       "803   423.573330   69.036768    \n",
       "525   330.456966   67.816189    \n",
       "1412  827.701177   62.681532    \n",
       "1575  907.726414   49.519487    \n",
       "435   2061.942170  157.430043   \n",
       "572   1226.238892  74.116477    \n",
       "1581  2550.839142  635.986420   \n",
       "642   1667.006319  574.505827   \n",
       "1673  360.025208   60.302671    \n",
       "1150  542.009250   39.261224    \n",
       "1256  723.978158   72.689014    \n",
       "640   499.350265   45.673305    \n",
       "399   570.628212   109.817339   \n",
       "1113  948.893445   48.551498    \n",
       "115   638.058207   30.625649    \n",
       "1174  485.969761   139.408003   \n",
       "1483  98.255765    83.834317    \n",
       "1148  1399.538719  163.137864   \n",
       "820   541.468522   103.616829   \n",
       "1356  299.209189   31.721332    \n",
       "207   1564.997506  82.377836    \n",
       "861   116.446454   50.639326    \n",
       "250   49.131490    24.010395    \n",
       "446   1313.372109  118.414855   \n",
       "1540  257.144343   87.898236    \n",
       "1027  1325.727417  58.239437    \n",
       "865   341.425682   80.445854    \n",
       "...          ...         ...    \n",
       "32    383.719745   63.652561    \n",
       "1182  305.784700   54.745153    \n",
       "958   148.163990   108.185307   \n",
       "600   1737.729518  55.314201    \n",
       "1052  637.240881   60.786237    \n",
       "234   625.256345   42.246590    \n",
       "757   130.568066   78.129123    \n",
       "188   211.132560   50.629581    \n",
       "1635  293.973794   16.317459    \n",
       "526   182.816458   67.317436    \n",
       "1033  539.108789   138.852144   \n",
       "1582  4044.322503  185.894541   \n",
       "1612  1633.287639  86.445822    \n",
       "257   181.789263   64.810319    \n",
       "1072  105.479998   74.750426    \n",
       "312   288.736308   138.395285   \n",
       "1473  190.535639   50.716945    \n",
       "936   1061.461716  68.017508    \n",
       "1566  326.781090   47.604413    \n",
       "1527  227.011267   68.025145    \n",
       "681   2054.252542  131.725294   \n",
       "1074  337.288633   152.305297   \n",
       "986   1111.514086  47.518364    \n",
       "953   1732.553963  88.069953    \n",
       "776   1592.399370  176.473670   \n",
       "1345  517.747634   188.400909   \n",
       "1318  584.096375   75.798493    \n",
       "1440  279.189413   78.757911    \n",
       "951   503.292554   150.884318   \n",
       "758   1076.980960  146.520470   \n",
       "\n",
       "                                                                                                                                                           sent1  \\\n",
       "995   so everyday i had to try to keep my mind on something besides the phone                                                                                      \n",
       "318   the feature of rolling hills also affects the cyclist                                                                                                        \n",
       "443   the hibiscus does these actions by coming out of its buds and blooming                                                                                       \n",
       "803   when i got home i had learn two lessons one was not to worry about anything and i learn how to have patients                                                 \n",
       "525   i know that after a long time on the computer i have a massive headache because my eyes just hurt so bad                                                     \n",
       "1412  nature itself also seems to <caps> a <caps> the winds above the building were very violent                                                                   \n",
       "1575  in the story do not exceed posted speed limit the cyclist sees many different settings when he left it was early summer and it was pretty hot outside        \n",
       "435   in conclusion you live a happier life when explore the                                                                                                       \n",
       "572   the human race has survived over hundreds of years without computers and we can survive hundreds more                                                        \n",
       "1581  libraries are usually pretty good at sorting things                                                                                                          \n",
       "642   the other practical reason why dirigibles could not more at the empire state building was an existing law against airships flying too low over urban areas   \n",
       "1673  the steel frame would have to be modified and strengthened                                                                                                   \n",
       "1150  this is where some kids go because they are addicted to the computer                                                                                         \n",
       "1256  it is basically any information in a click                                                                                                                   \n",
       "640   for one the machines use up load of energy in the house making the electric bill rise and <date>                                                             \n",
       "399   at first none of us really skated cause we were looking around                                                                                               \n",
       "1113  we hardly ever see kids with friends and family hanging around                                                                                               \n",
       "115   he called it a substance it had a flavor of battery acid                                                                                                     \n",
       "1174  this affected him a lot because the desert is very hot                                                                                                       \n",
       "1483  we were going to <location> that <caps> when all of a sudden the <caps> sign came up on the <caps>                                                           \n",
       "1148  we were running suicides                                                                                                                                     \n",
       "820   and to make things worse there was this annoying little boy talking to me about some food or something                                                       \n",
       "1356  you have to want things bad enough and put the effort into it                                                                                                \n",
       "207   though that most libraries split a lot of there sections up by ages                                                                                          \n",
       "861   i got out a piece of play doe and i made it into the <caps> i put it on the top of the tower                                                                 \n",
       "250   it was a very good statement                                                                                                                                 \n",
       "446   a lot of people are religious and their particular religion <month> be against looking at suggestive and unholy material                                     \n",
       "1540  a library should have a variety of books                                                                                                                     \n",
       "1027  we left my mom and headed to the first store                                                                                                                 \n",
       "865   some movies are really offensive and they should be removed from the shelf                                                                                   \n",
       "...                                                                          ...                                                                                   \n",
       "32    only to quickly realize that it was only her fist                                                                                                            \n",
       "1182  i heard a couple nights ago that <organization> had an earthquake                                                                                            \n",
       "958   a computer is a great thing to have for all these things                                                                                                     \n",
       "600   the first problem they faced was redesigning the buildings original skeleton to fit the needs of the mooring mast                                            \n",
       "1052  all loyalties aside in my honest opinion i believe censorship in the <caps> is a bad idea and will never work to solve actual problems with the world        \n",
       "234   i think they should just make sure the kids are checking out what their allowed to read                                                                      \n",
       "757   they want to sell and advertise their product and they have a right to do so                                                                                 \n",
       "188   this showed how it affected him because he thought he is going to drop from the heat                                                                         \n",
       "1635  he was a guy of color and he was complaining because he read a book about slaves                                                                             \n",
       "526   this form of bulling has happened to many and we have lost many to it                                                                                        \n",
       "1033  they could us that money and buy better books and at a lower price                                                                                           \n",
       "1582  censoring these books can give an ease to kids and parents                                                                                                   \n",
       "1612  you also read about new subjects and learn new things on computers possibly helping you in your classes or                                                   \n",
       "257   they can help us in school and give information we need to do things in life                                                                                 \n",
       "1072  but then i do see it the other way to                                                                                                                        \n",
       "312   were part of a movement that will last forever                                                                                                               \n",
       "1473  <caps> was last year when we went looking for a dog to adopt                                                                                                 \n",
       "936   many features of the setting affected the cyclist                                                                                                            \n",
       "1566  they are having a positive effect on people                                                                                                                  \n",
       "1527  one of the teachers tried to help me by telling me that they were laughing at my joke                                                                        \n",
       "681   the architects of the empire state building ran into many problems attempting to allow dirigibles to dock their                                              \n",
       "1074  you also can see it from the way she acts                                                                                                                    \n",
       "986   these obstacles were overlooked in the plans to create the empire state building                                                                             \n",
       "953   imagine you working on a project in school                                                                                                                   \n",
       "776   <caps> people use computers for work                                                                                                                         \n",
       "1345  like the time where i met this guy named <person>                                                                                                            \n",
       "1318  i had missed about an inning of the game already                                                                                                             \n",
       "1440  you can also use the computer to look up different kinds of people                                                                                           \n",
       "951   i will never forget how my parents turned this simple house into a home                                                                                      \n",
       "758   i once spent <num> hours on my computer on <caps>                                                                                                            \n",
       "\n",
       "                                                                                                                                                     sent2  \n",
       "995   so i had been to my own hand on to the to my own to the                                                                                               \n",
       "318   the man who the of the white fang of the of the which                                                                                                 \n",
       "443   the and all its and does that its own and out of its and of its                                                                                       \n",
       "803   when he was to the other i had i had been not i knew and i had been not to the other more than and i could and the other                              \n",
       "525   i know that i know i know i know so much that i know a long on my head on the long                                                                    \n",
       "1412  thus the and to the which were very well to the                                                                                                       \n",
       "1575  in when he was not so he was not even he was not many times and the other it was not in the other                                                     \n",
       "435   in when you do when you do a life of when the life                                                                                                    \n",
       "572   the men and we can no more than and more than of the years and more than of the years of the united and                                               \n",
       "1581  such are good at good are good                                                                                                                        \n",
       "642   the did not was an existing law against an existing law against an existing law against airships would not even more than any one                     \n",
       "1673  the would have been to the and would be paid and to the ground and its                                                                                \n",
       "1150  this they are not go to go to the of the                                                                                                              \n",
       "1256  it is a relation in any alternate                                                                                                                     \n",
       "640   for one of the and the in the city and the of the city                                                                                                \n",
       "399   at least we were no one of the of us we were no one of us of us of us                                                                                 \n",
       "1113  we all with the and with his own and with the and all of his own                                                                                      \n",
       "115   he had been a little of a man it                                                                                                                      \n",
       "1174  this very little but the him is a little water                                                                                                        \n",
       "1483  we came on when we were to when we were all to the of a of the                                                                                        \n",
       "1148  we they were                                                                                                                                          \n",
       "820   and there was to me or no longer to me or even about this was no longer of some                                                                       \n",
       "1356  you do nt get it and the way to the it and it                                                                                                         \n",
       "207   but that there is a few of which there of and up of a few of which                                                                                    \n",
       "861   i got and i got a on the of the and i had made it of the                                                                                              \n",
       "250   it was a good a good                                                                                                                                  \n",
       "446   a and at each other people are not are not be no any other kinds of their own knowledge and at their own knowledge and at and at their own knowledge  \n",
       "1540  a of such a should have may should be such a certain of such a certain of a certain                                                                   \n",
       "1027  we came to my and the and the other the night                                                                                                         \n",
       "865   some and they should be no longer from the and should be removed and the which                                                                        \n",
       "...                                                                              ...                                                                        \n",
       "32    only was to her hand that it was no one to her it was that it                                                                                         \n",
       "1182  i had been an that he had been an old an hour                                                                                                         \n",
       "958   a for all of the and all a great thing to all things                                                                                                  \n",
       "600   the last was they had to the of the of the of the                                                                                                     \n",
       "1052  all the and i may i think to my own opinion is not with the world in a great world and with the world to the                                          \n",
       "234   i think that they should make to make the and the of their                                                                                            \n",
       "757   they should so much to their and so and to do so and to their own and so                                                                              \n",
       "188   this was he seemed to him and he found he found from the to the                                                                                       \n",
       "1635  he was a man and he was he was a man of the and he was a man of a man                                                                                 \n",
       "526   this has we have been found and we have been to many and we have been found it of it                                                                  \n",
       "1033  they could at a and at and that and at a good and at a and at us and that and                                                                         \n",
       "1582  < p > p > to make an such an and an and an other an other an                                                                                          \n",
       "1612  you may you or any other of the new and on or in your own and in on and with and in and the other of the                                              \n",
       "257   they can do to make us and we can make the work in life and our life                                                                                  \n",
       "1072  but then he do to see it i do it the way of it                                                                                                        \n",
       "312   they will a of that will the last day of a week of which                                                                                              \n",
       "1473  <num> was when we went to a man for when we came to a                                                                                                 \n",
       "936   other the of the of the dogs of the dogs of the of the other                                                                                          \n",
       "1566  they are no longer on a certain which                                                                                                                 \n",
       "1527  one of the of the to me they were at him to me that                                                                                                   \n",
       "681   the men of the men to their men and their to their feet of their other their other their feet                                                         \n",
       "1074  you can she will she will she will she will she will she will she said that it and the way from its way                                               \n",
       "986   these of the in to the city to the city and the other                                                                                                 \n",
       "953   < p > p > p > in a on a week on the in a new york                                                                                                     \n",
       "776   <num> for each and for work for work                                                                                                                  \n",
       "1345  like i said i met this time i met this i met the of this                                                                                              \n",
       "1318  i had been an about an of the of the of an                                                                                                            \n",
       "1440  you will look to the other of which and of the other                                                                                                  \n",
       "951   i will my house into a house                                                                                                                          \n",
       "758   i once on my on my                                                                                                                                    \n",
       "\n",
       "[100 rows x 4 columns]"
      ]
     },
     "execution_count": 34,
     "metadata": {},
     "output_type": "execute_result"
    }
   ],
   "source": [
    "pd.set_option('display.max_colwidth', -1)\n",
    "dftag.sample(frac=1).head(100)"
   ]
  },
  {
   "cell_type": "code",
   "execution_count": null,
   "metadata": {},
   "outputs": [],
   "source": []
  },
  {
   "cell_type": "markdown",
   "metadata": {},
   "source": [
    "# Reference Code from Papers"
   ]
  },
  {
   "cell_type": "markdown",
   "metadata": {},
   "source": [
    "### Transformer Paper"
   ]
  },
  {
   "cell_type": "markdown",
   "metadata": {},
   "source": [
    "\n",
    "\n",
    "yelp_acc_path = 'acc_yelp.bin'\n",
    "yelp_ppl_path = 'ppl_yelp.binary'\n",
    "yelp_ref0_path = 'yelp.refs.0'\n",
    "yelp_ref1_path = 'yelp.refs.1'\n",
    "\n",
    "\n",
    "yelp_acc_file = pkg_resources.resource_stream(resource_package, yelp_acc_path)\n",
    "yelp_ppl_file = pkg_resources.resource_stream(resource_package, yelp_ppl_path)\n",
    "yelp_ref0_file = pkg_resources.resource_stream(resource_package, yelp_ref0_path)\n",
    "yelp_ref1_file = pkg_resources.resource_stream(resource_package, yelp_ref1_path)\n",
    "\n",
    "\n",
    "self.yelp_ref = []\n",
    "with open(yelp_ref0_file.name, 'r') as fin:\n",
    "    self.yelp_ref.append(fin.readlines())\n",
    "with open(yelp_ref1_file.name, 'r') as fin:\n",
    "    self.yelp_ref.append(fin.readlines())\n",
    "self.classifier_yelp = fasttext.load_model(yelp_acc_file.name)\n",
    "self.yelp_ppl_model = kenlm.Model(yelp_ppl_file.name)"
   ]
  },
  {
   "cell_type": "code",
   "execution_count": null,
   "metadata": {
    "collapsed": true
   },
   "outputs": [],
   "source": [
    "# Style check from fastText model\n",
    "\n",
    "def yelp_style_check(self, text_transfered, style_origin):\n",
    "        text_transfered = ' '.join(word_tokenize(text_transfered.lower().strip()))\n",
    "        if text_transfered == '':\n",
    "            return False\n",
    "        label = self.classifier_yelp.predict([text_transfered])\n",
    "        style_transfered = label[0][0] == '__label__positive'\n",
    "        return (style_transfered != style_origin)\n",
    "    \n",
    "# Checking the accuracy for different styles\n",
    "    \n",
    "def yelp_acc_b(self, texts, styles_origin):\n",
    "        assert len(texts) == len(styles_origin), 'Size of inputs does not match!'\n",
    "        count = 0\n",
    "        for text, style in zip(texts, styles_origin):\n",
    "            if self.yelp_style_check(text, style):\n",
    "                count += 1\n",
    "        return count / len(texts)\n",
    "\n",
    "def yelp_acc_0(self, texts):\n",
    "        styles_origin = [0] * len(texts)\n",
    "        return self.yelp_acc_b(texts, styles_origin)\n",
    "\n",
    "def yelp_acc_1(self, texts):\n",
    "        styles_origin = [1] * len(texts)\n",
    "        return self.yelp_acc_b(texts, styles_origin)"
   ]
  },
  {
   "cell_type": "code",
   "execution_count": 40,
   "metadata": {
    "collapsed": true
   },
   "outputs": [],
   "source": [
    "# Initialize the NLTK model\n",
    "def nltk_bleu(texts_origin, text_transfered):\n",
    "        texts_origin = [word_tokenize(text_origin.lower().strip()) for text_origin in texts_origin]\n",
    "        text_transfered = word_tokenize(text_transfered.lower().strip())\n",
    "        return sentence_bleu(texts_origin, text_transfered) * 100\n",
    "\n",
    "# Check the BLEU diff between original & transferred text\n",
    "def self_bleu_b(self, texts_origin, texts_transfered):\n",
    "        assert len(texts_origin) == len(texts_transfered), 'Size of inputs does not match!'\n",
    "        sum = 0\n",
    "        n = len(texts_origin)\n",
    "        for x, y in zip(texts_origin, texts_transfered):\n",
    "            sum += self.nltk_bleu([x], y)\n",
    "        return sum / n"
   ]
  },
  {
   "cell_type": "code",
   "execution_count": null,
   "metadata": {
    "collapsed": true
   },
   "outputs": [],
   "source": [
    "# Measures perplexity of language model\n",
    "\n",
    "def yelp_ppl(self, texts_transfered):\n",
    "        texts_transfered = [' '.join(word_tokenize(itm.lower().strip())) for itm in texts_transfered]\n",
    "        sum = 0\n",
    "        words = []\n",
    "        length = 0\n",
    "        for i, line in enumerate(texts_transfered):\n",
    "            words += [word for word in line.split()]\n",
    "            length += len(line.split())\n",
    "            score = self.yelp_ppl_model.score(line)\n",
    "            sum += score\n",
    "        return math.pow(10, -sum / length)"
   ]
  },
  {
   "cell_type": "code",
   "execution_count": null,
   "metadata": {
    "collapsed": true
   },
   "outputs": [],
   "source": []
  },
  {
   "cell_type": "markdown",
   "metadata": {},
   "source": [
    "### ARAE"
   ]
  },
  {
   "cell_type": "code",
   "execution_count": null,
   "metadata": {
    "collapsed": true
   },
   "outputs": [],
   "source": [
    "\n",
    "def train_ngram_lm(kenlm_path, data_path, output_path, N):\n",
    "    \"\"\"\n",
    "    Trains a modified Kneser-Ney n-gram KenLM from a text file.\n",
    "    Creates a .arpa file to store n-grams.\n",
    "    \"\"\"\n",
    "    # create .arpa file of n-grams\n",
    "    curdir = os.path.abspath(os.path.curdir)\n",
    "    #\n",
    "    command = \"bin/lmplz -o \"+str(N)+\" <\"+os.path.join(curdir, data_path) + \\\n",
    "              \" >\"+os.path.join(curdir, output_path)\n",
    "    os.system(\"cd \"+os.path.join(kenlm_path, 'build')+\" && \"+command)\n",
    "\n",
    "    load_kenlm()\n",
    "    # create language model\n",
    "    assert(output_path)  # captured by try..except block outside\n",
    "    model = kenlm.Model(output_path)\n",
    "\n",
    "    return model\n",
    "\n",
    "\n",
    "def get_ppl(lm, sentences):\n",
    "    \"\"\"\n",
    "    Assume sentences is a list of strings (space delimited sentences)\n",
    "    \"\"\"\n",
    "    total_nll = 0\n",
    "    total_wc = 0\n",
    "    for sent in sentences:\n",
    "        words = sent.strip().split()\n",
    "        nll = np.sum([- math.log(math.pow(10.0, score)) for score, _, _ in lm.full_scores(sent, bos=True, eos=False)])\n",
    "        word_count = len(words)\n",
    "        total_wc += word_count\n",
    "        total_nll += nll\n",
    "    ppl = np.exp(total_nll / total_wc)\n",
    "    return ppl\n"
   ]
  },
  {
   "cell_type": "code",
   "execution_count": null,
   "metadata": {
    "collapsed": true
   },
   "outputs": [],
   "source": []
  },
  {
   "cell_type": "markdown",
   "metadata": {},
   "source": [
    "### Other - https://github.com/adsieg/text_similarity/blob/master/Different%20Embeddings%20%2B%20Cosine%20Similarity%20%2B%20HeatMap%20illustration.ipynb"
   ]
  },
  {
   "cell_type": "code",
   "execution_count": 3,
   "metadata": {},
   "outputs": [],
   "source": [
    "def cosine_distance_countvectorizer_method(s1, s2):\n",
    "    \n",
    "    # sentences to list\n",
    "    allsentences = [s1 , s2]\n",
    "    \n",
    "    # packages\n",
    "    from sklearn.feature_extraction.text import CountVectorizer\n",
    "    from scipy.spatial import distance\n",
    "    \n",
    "    # text to vector\n",
    "    vectorizer = CountVectorizer()\n",
    "    all_sentences_to_vector = vectorizer.fit_transform(allsentences)\n",
    "    text_to_vector_v1 = all_sentences_to_vector.toarray()[0].tolist()\n",
    "    text_to_vector_v2 = all_sentences_to_vector.toarray()[1].tolist()\n",
    "    \n",
    "    # distance of similarity\n",
    "    cosine = distance.cosine(text_to_vector_v1, text_to_vector_v2)\n",
    "    print('Similarity of two sentences are equal to ',round((1-cosine)*100,2),'%')\n",
    "    return cosine"
   ]
  },
  {
   "cell_type": "code",
   "execution_count": 4,
   "metadata": {},
   "outputs": [],
   "source": [
    "\n",
    "\n",
    "def loadGloveModel(gloveFile):\n",
    "    print (\"Loading Glove Model\")\n",
    "    with open(gloveFile, encoding=\"utf8\" ) as f:\n",
    "        content = f.readlines()\n",
    "    model = {}\n",
    "    for line in content:\n",
    "        splitLine = line.split()\n",
    "        word = splitLine[0]\n",
    "        embedding = np.array([float(val) for val in splitLine[1:]])\n",
    "        model[word] = embedding\n",
    "    print (\"Done.\",len(model),\" words loaded!\")\n",
    "    return model\n",
    "\n",
    "\n",
    "def preprocess(raw_text):\n",
    "\n",
    "    # keep only words\n",
    "    letters_only_text = re.sub(\"[^a-zA-Z]\", \" \", raw_text)\n",
    "\n",
    "    # convert to lower case and split \n",
    "    words = letters_only_text.lower().split()\n",
    "\n",
    "    # remove stopwords\n",
    "    stopword_set = set(stopwords.words(\"english\"))\n",
    "    cleaned_words = list(set([w for w in words if w not in stopword_set]))\n",
    "\n",
    "    return cleaned_words\n",
    "\n",
    "def cosine_distance_between_two_words(word1, word2):\n",
    "    import scipy\n",
    "    return (1- scipy.spatial.distance.cosine(model[word1], model[word2]))\n",
    "\n",
    "def calculate_heat_matrix_for_two_sentences(s1,s2):\n",
    "    s1 = preprocess(s1)\n",
    "    s2 = preprocess(s2)\n",
    "    result_list = [[cosine_distance_between_two_words(word1, word2) for word2 in s2] for word1 in s1]\n",
    "    result_df = pd.DataFrame(result_list)\n",
    "    result_df.columns = s2\n",
    "    result_df.index = s1\n",
    "    return result_df\n",
    "\n",
    "def cosine_distance_wordembedding_method(s1, s2):\n",
    "    import scipy\n",
    "    vector_1 = np.mean([model[word] for word in preprocess(s1)],axis=0)\n",
    "    vector_2 = np.mean([model[word] for word in preprocess(s2)],axis=0)\n",
    "    cosine = scipy.spatial.distance.cosine(vector_1, vector_2)\n",
    "    print('Word Embedding method with a cosine distance asses that our two sentences are similar to',round((1-cosine)*100,2),'%')\n",
    "\n",
    "def heat_map_matrix_between_two_sentences(s1,s2):\n",
    "    df = calculate_heat_matrix_for_two_sentences(s1,s2)\n",
    "    import seaborn as sns\n",
    "    import matplotlib.pyplot as plt\n",
    "    fig, ax = plt.subplots(figsize=(5,5)) \n",
    "    ax_blue = sns.heatmap(df, cmap=\"YlGnBu\")\n",
    "    # ax_red = sns.heatmap(df)\n",
    "    print(cosine_distance_wordembedding_method(s1, s2))\n",
    "    return ax_blue"
   ]
  },
  {
   "cell_type": "code",
   "execution_count": 13,
   "metadata": {
    "scrolled": true
   },
   "outputs": [
    {
     "name": "stdout",
     "output_type": "stream",
     "text": [
      "Word Embedding method with a cosine distance asses that our two sentences are similar to 98.39 %\n",
      "None\n"
     ]
    },
    {
     "data": {
      "text/plain": [
       "<matplotlib.axes._subplots.AxesSubplot at 0x7fc46c56da20>"
      ]
     },
     "execution_count": 13,
     "metadata": {},
     "output_type": "execute_result"
    },
    {
     "data": {
      "image/png": "[encoded data removed]",
      "text/plain": [
       "<Figure size 360x360 with 2 Axes>"
      ]
     },
     "metadata": {},
     "output_type": "display_data"
    }
   ],
   "source": [
    "heat_map_matrix_between_two_sentences(gold[100],raw0[100])"
   ]
  }
 ],
 "metadata": {
  "kernelspec": {
   "display_name": "Python 3",
   "language": "python",
   "name": "python3"
  },
  "language_info": {
   "codemirror_mode": {
    "name": "ipython",
    "version": 3
   },
   "file_extension": ".py",
   "mimetype": "text/x-python",
   "name": "python",
   "nbconvert_exporter": "python",
   "pygments_lexer": "ipython3",
   "version": "3.6.5"
  }
 },
 "nbformat": 4,
 "nbformat_minor": 1
}

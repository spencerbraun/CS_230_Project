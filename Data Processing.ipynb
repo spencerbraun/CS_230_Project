{
 "cells": [
  {
   "cell_type": "code",
   "execution_count": 1,
   "metadata": {},
   "outputs": [],
   "source": [
    "import sys\n",
    "import os\n",
    "import nltk\n",
    "from nltk.tokenize import sent_tokenize, word_tokenize\n",
    "import re\n",
    "import spacy\n",
    "from spacy.lang.en.stop_words import STOP_WORDS\n",
    "import string\n",
    "from string import punctuation\n",
    "from collections import Counter\n",
    "import numpy as np\n",
    "import random\n",
    "\n",
    "from bs4 import BeautifulSoup\n",
    "import pandas as pd\n",
    "import requests\n",
    "\n",
    "from time import sleep\n",
    "\n",
    "import enchant\n",
    "d = enchant.Dict(\"en_US\")\n",
    "\n",
    "\n",
    "from tqdm.notebook import tqdm\n",
    "import string"
   ]
  },
  {
   "cell_type": "code",
   "execution_count": 3,
   "metadata": {},
   "outputs": [
    {
     "data": {
      "text/plain": [
       "<spacy.lang.en.English at 0x7f9afe5bc9b0>"
      ]
     },
     "execution_count": 3,
     "metadata": {},
     "output_type": "execute_result"
    }
   ],
   "source": []
  },
  {
   "cell_type": "code",
   "execution_count": 7,
   "metadata": {},
   "outputs": [
    {
     "ename": "FileNotFoundError",
     "evalue": "[Errno 2] No such file or directory: 'data/raw/asap-aes/train.tsv'",
     "output_type": "error",
     "traceback": [
      "\u001b[0;31m---------------------------------------------------------------------------\u001b[0m",
      "\u001b[0;31mFileNotFoundError\u001b[0m                         Traceback (most recent call last)",
      "\u001b[0;32m<ipython-input-7-104fb36c8054>\u001b[0m in \u001b[0;36m<module>\u001b[0;34m()\u001b[0m\n\u001b[1;32m      5\u001b[0m \u001b[0;34m\u001b[0m\u001b[0m\n\u001b[1;32m      6\u001b[0m \u001b[0messayList\u001b[0m \u001b[0;34m=\u001b[0m \u001b[0;34m[\u001b[0m\u001b[0;34m]\u001b[0m\u001b[0;34m\u001b[0m\u001b[0m\n\u001b[0;32m----> 7\u001b[0;31m \u001b[0;32mwith\u001b[0m \u001b[0mopen\u001b[0m\u001b[0;34m(\u001b[0m\u001b[0messay_file\u001b[0m\u001b[0;34m)\u001b[0m \u001b[0;32mas\u001b[0m \u001b[0mf\u001b[0m\u001b[0;34m:\u001b[0m\u001b[0;34m\u001b[0m\u001b[0m\n\u001b[0m\u001b[1;32m      8\u001b[0m     \u001b[0;32mfor\u001b[0m \u001b[0mline\u001b[0m \u001b[0;32min\u001b[0m \u001b[0mf\u001b[0m\u001b[0;34m:\u001b[0m\u001b[0;34m\u001b[0m\u001b[0m\n\u001b[1;32m      9\u001b[0m         \u001b[0;32mif\u001b[0m \u001b[0mline\u001b[0m\u001b[0;34m.\u001b[0m\u001b[0mstartswith\u001b[0m\u001b[0;34m(\u001b[0m\u001b[0;34m\"Id\"\u001b[0m\u001b[0;34m)\u001b[0m\u001b[0;34m:\u001b[0m\u001b[0;34m\u001b[0m\u001b[0m\n",
      "\u001b[0;31mFileNotFoundError\u001b[0m: [Errno 2] No such file or directory: 'data/raw/asap-aes/train.tsv'"
     ]
    }
   ],
   "source": [
    "path = \"data/raw/\"\n",
    "essay_file = path+ \"asap-aes/train.tsv\"\n",
    "\n",
    "i=0\n",
    "\n",
    "essayList = []\n",
    "with open(essay_file) as f:\n",
    "    for line in f:\n",
    "        if line.startswith(\"Id\"):\n",
    "            continue\n",
    "        splitLine = line.strip().split(\"\\t\")\n",
    "        scores = map(int, splitLine[2:4])\n",
    "        avgscore = sum(scores)/2\n",
    "        essay = sent_tokenize(splitLine[4])\n",
    "        for sent in essay:\n",
    "            essayList.append([sent, avgscore])\n",
    "    "
   ]
  },
  {
   "cell_type": "code",
   "execution_count": 10,
   "metadata": {
    "collapsed": true
   },
   "outputs": [],
   "source": [
    "path = \"data/raw/\"\n",
    "short_answer_file = path+ \"asap-sas/train.tsv\"\n",
    "\n",
    "i=0\n",
    "\n",
    "dataList = []\n",
    "with open(short_answer_file) as f:\n",
    "    for line in f:\n",
    "        if line.startswith(\"Id\"):\n",
    "            continue\n",
    "        splitLine = line.strip().split(\"\\t\")\n",
    "        scores = map(int, splitLine[2:4])\n",
    "        avgscore = sum(scores)/2\n",
    "        essay = sent_tokenize(splitLine[4])\n",
    "        for sent in essay:\n",
    "            dataList.append([sent, avgscore])\n",
    "    "
   ]
  },
  {
   "cell_type": "code",
   "execution_count": 11,
   "metadata": {
    "collapsed": true
   },
   "outputs": [],
   "source": [
    "highScores = []\n",
    "lowScores = []\n",
    "for data in dataList:\n",
    "    if len(word_tokenize(data[0])) > 20:\n",
    "        continue\n",
    "    if data[1] >= 2:\n",
    "        highScores.append(data[0])\n",
    "    if data[1] ==0:\n",
    "        lowScores.append(data[0])\n",
    "    "
   ]
  },
  {
   "cell_type": "code",
   "execution_count": 40,
   "metadata": {
    "collapsed": true
   },
   "outputs": [],
   "source": [
    "import csv\n",
    "\n",
    "with open('sas_high.csv', 'w', newline='\\n') as f:\n",
    "    writer = csv.writer(f)\n",
    "    writer.writerows(highScores)\n",
    "    \n",
    "\n",
    "with open('sas_low.csv', 'w', newline='\\n') as f:\n",
    "    writer = csv.writer(f)\n",
    "    writer.writerows(lowScores)"
   ]
  },
  {
   "cell_type": "code",
   "execution_count": 19,
   "metadata": {
    "collapsed": true
   },
   "outputs": [],
   "source": []
  },
  {
   "cell_type": "code",
   "execution_count": 42,
   "metadata": {},
   "outputs": [
    {
     "data": {
      "text/plain": [
       "Counter({1.0: 11279,\n",
       "         0.0: 11879,\n",
       "         2.0: 11669,\n",
       "         0.5: 2255,\n",
       "         3.0: 2247,\n",
       "         2.5: 510,\n",
       "         1.5: 3216})"
      ]
     },
     "execution_count": 42,
     "metadata": {},
     "output_type": "execute_result"
    }
   ],
   "source": [
    "Counter([x[1] for x in dataList])"
   ]
  },
  {
   "cell_type": "code",
   "execution_count": 131,
   "metadata": {
    "collapsed": true
   },
   "outputs": [],
   "source": [
    "\n",
    "random.shuffle(cleanLow)\n",
    "train_low = cleanLow[:5000]\n",
    "test_low = cleanLow[5500:]\n",
    "dev_low = cleanLow[5000:5500]\n",
    "\n",
    "random.shuffle(cleanHigh)\n",
    "train_high = cleanHigh[:5000]\n",
    "test_high = cleanHigh[5500:]\n",
    "dev_high = cleanHigh[5000:5500]"
   ]
  },
  {
   "cell_type": "code",
   "execution_count": 23,
   "metadata": {
    "collapsed": true
   },
   "outputs": [],
   "source": [
    "import string\n",
    "\n",
    "def clean(data_list):\n",
    "    regex = re.compile('[%s]' % re.escape(string.punctuation))\n",
    "    newList = []\n",
    "    for sent in data_list:\n",
    "        if len(sent) < 40:\n",
    "            continue\n",
    "        if '^' in sent:\n",
    "            continue\n",
    "        #sent = re.sub(r'\\d+', '', sent)\n",
    "        \n",
    "\n",
    "        #sent = re.sub('['+string.punctuation+']', '', sent)\n",
    "        sent = sent.lower()\n",
    "        \n",
    "        newList.append(sent + '\\n')\n",
    "    \n",
    "    return newList\n",
    "        "
   ]
  },
  {
   "cell_type": "code",
   "execution_count": 24,
   "metadata": {
    "collapsed": true
   },
   "outputs": [],
   "source": [
    "cleanLow = clean(lowScores)"
   ]
  },
  {
   "cell_type": "code",
   "execution_count": 25,
   "metadata": {
    "collapsed": true
   },
   "outputs": [],
   "source": [
    "cleanHigh = clean(highScores)"
   ]
  },
  {
   "cell_type": "code",
   "execution_count": 26,
   "metadata": {},
   "outputs": [
    {
     "data": {
      "text/plain": [
       "6057"
      ]
     },
     "execution_count": 26,
     "metadata": {},
     "output_type": "execute_result"
    }
   ],
   "source": [
    "len(cleanLow)"
   ]
  },
  {
   "cell_type": "code",
   "execution_count": 27,
   "metadata": {},
   "outputs": [
    {
     "data": {
      "text/plain": [
       "7221"
      ]
     },
     "execution_count": 27,
     "metadata": {},
     "output_type": "execute_result"
    }
   ],
   "source": [
    "len(cleanHigh)"
   ]
  },
  {
   "cell_type": "code",
   "execution_count": 28,
   "metadata": {
    "collapsed": true
   },
   "outputs": [],
   "source": [
    "with open('sas_data.1', 'w') as f:\n",
    "    f.writelines(cleanHigh)"
   ]
  },
  {
   "cell_type": "code",
   "execution_count": 29,
   "metadata": {
    "collapsed": true
   },
   "outputs": [],
   "source": [
    "with open('sas_data.0', 'w') as f:\n",
    "    f.writelines(cleanLow)"
   ]
  },
  {
   "cell_type": "code",
   "execution_count": 106,
   "metadata": {
    "collapsed": true
   },
   "outputs": [],
   "source": [
    "high_label = [1 for x in cleanHigh]\n",
    "low_label = [0 for x in cleanLow]"
   ]
  },
  {
   "cell_type": "code",
   "execution_count": 111,
   "metadata": {
    "collapsed": true
   },
   "outputs": [],
   "source": [
    "labels = high_label + low_label"
   ]
  },
  {
   "cell_type": "code",
   "execution_count": 113,
   "metadata": {
    "collapsed": true
   },
   "outputs": [],
   "source": [
    "all_data = cleanHigh + cleanLow"
   ]
  },
  {
   "cell_type": "code",
   "execution_count": 114,
   "metadata": {
    "collapsed": true
   },
   "outputs": [],
   "source": [
    "import random\n",
    "\n",
    "c = list(zip(all_data, labels))\n",
    "\n",
    "random.shuffle(c)\n",
    "\n",
    "shuff_data, shuff_labels = zip(*c)\n"
   ]
  },
  {
   "cell_type": "code",
   "execution_count": 119,
   "metadata": {
    "collapsed": true
   },
   "outputs": [],
   "source": [
    "with open('../text_style_transfer/model/data/sas_data', 'w') as f:\n",
    "    retokenized = map(lambda x: ' '.join(word_tokenize(x)) + '\\n', shuff_data)\n",
    "    f.writelines(retokenized)\n",
    "    \n",
    "# with open('../text_style_transfer/model/data/sas.test.1', 'w') as f:\n",
    "#     retokenized = map(lambda x: ' '.join(word_tokenize(x)) + '\\n', test_high)\n",
    "#     f.writelines(retokenized)\n",
    "    \n",
    "# with open('../text_style_transfer/model/data/sas.dev.1', 'w') as f:\n",
    "#     retokenized = map(lambda x: ' '.join(word_tokenize(x)) + '\\n', dev_high)\n",
    "#     f.writelines(retokenized)\n",
    "\n",
    "with open('../text_style_transfer/model/data/sas_labels', 'w') as f:\n",
    "    f.writelines(map(lambda x: str(x) + '\\n', shuff_labels))"
   ]
  },
  {
   "cell_type": "code",
   "execution_count": 132,
   "metadata": {
    "collapsed": true
   },
   "outputs": [],
   "source": [
    "\n",
    "\n",
    "with open('../language-style-transfer/data/sas.train.1', 'w') as f:\n",
    "    retokenized = map(lambda x: ' '.join(word_tokenize(x)) + '\\n', train_high)\n",
    "    f.writelines(retokenized)\n",
    "    \n",
    "with open('../language-style-transfer/data/sas.test.1', 'w') as f:\n",
    "    retokenized = map(lambda x: ' '.join(word_tokenize(x)) + '\\n', test_high)\n",
    "    f.writelines(retokenized)\n",
    "    \n",
    "with open('../language-style-transfer/data/sas.dev.1', 'w') as f:\n",
    "    retokenized = map(lambda x: ' '.join(word_tokenize(x)) + '\\n', dev_high)\n",
    "    f.writelines(retokenized)\n",
    "\n",
    "with open('../language-style-transfer/data/sas.train.0', 'w') as f:\n",
    "    retokenized = map(lambda x: ' '.join(word_tokenize(x)) + '\\n', train_low)\n",
    "    f.writelines(retokenized)\n",
    "    \n",
    "with open('../language-style-transfer/data/sas.test.0', 'w') as f:\n",
    "    retokenized = map(lambda x: ' '.join(word_tokenize(x)) + '\\n', test_low)\n",
    "    f.writelines(retokenized)\n",
    "    \n",
    "with open('../language-style-transfer/data/sas.dev.0', 'w') as f:\n",
    "    retokenized = map(lambda x: ' '.join(word_tokenize(x)) + '\\n', dev_low)\n",
    "    f.writelines(retokenized)\n",
    "    "
   ]
  },
  {
   "cell_type": "code",
   "execution_count": 53,
   "metadata": {},
   "outputs": [
    {
     "data": {
      "text/plain": [
       "'You would need many more pieces of information to replicate the experiment .'"
      ]
     },
     "execution_count": 53,
     "metadata": {},
     "output_type": "execute_result"
    }
   ],
   "source": [
    "' '.join(word_tokenize(highScores[0][0])) "
   ]
  },
  {
   "cell_type": "code",
   "execution_count": null,
   "metadata": {
    "collapsed": true
   },
   "outputs": [],
   "source": [
    "def sentence_to_wordlist(raw_sentence):\n",
    "    \n",
    "    clean_sentence = re.sub(\"[^a-zA-Z0-9]\",\" \", raw_sentence)\n",
    "    tokens = nltk.word_tokenize(clean_sentence)\n",
    "    \n",
    "    return tokens"
   ]
  },
  {
   "cell_type": "code",
   "execution_count": null,
   "metadata": {
    "collapsed": true
   },
   "outputs": [],
   "source": [
    "\n",
    "def tokenize(essay):\n",
    "    stripped_essay = essay.strip()\n",
    "    \n",
    "    tokenizer = nltk.data.load('tokenizers/punkt/english.pickle')\n",
    "    raw_sentences = tokenizer.tokenize(stripped_essay)\n",
    "    \n",
    "    tokenized_sentences = []\n",
    "    for raw_sentence in raw_sentences:\n",
    "        if len(raw_sentence) > 0:\n",
    "            tokenized_sentences.append(sentence_to_wordlist(raw_sentence))\n",
    "    \n",
    "    return tokenized_sentences"
   ]
  },
  {
   "cell_type": "code",
   "execution_count": 43,
   "metadata": {
    "collapsed": true
   },
   "outputs": [],
   "source": []
  },
  {
   "cell_type": "code",
   "execution_count": 47,
   "metadata": {},
   "outputs": [
    {
     "data": {
      "text/plain": [
       "'some additional information that we would need to replicate the experiment is how much vinegar should be placed in each identical container how or what tool to use to measure the mass of the four different samples and how much distilled water to use to rinse the four samples after taking them out of the vinegar'"
      ]
     },
     "execution_count": 47,
     "metadata": {},
     "output_type": "execute_result"
    }
   ],
   "source": [
    "clean_text(dataList[0][0])"
   ]
  },
  {
   "cell_type": "code",
   "execution_count": null,
   "metadata": {
    "collapsed": true
   },
   "outputs": [],
   "source": [
    "class Vocabulary(object):\n",
    "    def __init__(self, vocab_file, emb_file='', dim_emb=0):\n",
    "        with open(vocab_file, 'rb') as f:\n",
    "            self.size, self.word2id, self.id2word = pickle.load(f)\n",
    "        self.dim_emb = dim_emb\n",
    "        self.embedding = np.random.random_sample(\n",
    "            (self.size, self.dim_emb)) - 0.5\n",
    "\n",
    "        if emb_file:\n",
    "            print( 'Loading word vectors from', emb_file)\n",
    "            with open(emb_file) as f:\n",
    "                for line in f:\n",
    "                    parts = line.split()\n",
    "                    word = parts[0]\n",
    "                    vec = np.array([float(x) for x in parts[1:]])\n",
    "                    if word in self.word2id:\n",
    "                        self.embedding[self.word2id[word]] = vec\n",
    "\n",
    "        for i in range(self.size):\n",
    "            self.embedding[i] /= LA.norm(self.embedding[i])\n",
    "\n",
    "def build_vocab(data, path, min_occur=5):\n",
    "    word2id = {'<pad>':0, '<go>':1, '<eos>':2, '<unk>':3}\n",
    "    id2word = ['<pad>', '<go>', '<eos>', '<unk>']\n",
    "\n",
    "    words = [word for sent in data for word in sent]\n",
    "    cnt = Counter(words)\n",
    "    for word in cnt:\n",
    "        if cnt[word] >= min_occur:\n",
    "            word2id[word] = len(word2id)\n",
    "            id2word.append(word)\n",
    "    vocab_size = len(word2id)\n",
    "    with open(path, 'wb') as f:\n",
    "        pickle.dump((vocab_size, word2id, id2word), f, pickle.HIGHEST_PROTOCOL)\n"
   ]
  },
  {
   "cell_type": "code",
   "execution_count": null,
   "metadata": {
    "collapsed": true
   },
   "outputs": [],
   "source": []
  },
  {
   "cell_type": "code",
   "execution_count": 152,
   "metadata": {
    "collapsed": true
   },
   "outputs": [],
   "source": [
    "with open('../language-style-transfer/data/sas.test.0') as f:\n",
    "    data_0 = f.readlines()"
   ]
  },
  {
   "cell_type": "code",
   "execution_count": 151,
   "metadata": {
    "collapsed": true
   },
   "outputs": [],
   "source": [
    "with open('../language-style-transfer/data/sas.test.1') as f:\n",
    "    data_1 = f.readlines()"
   ]
  },
  {
   "cell_type": "code",
   "execution_count": 133,
   "metadata": {
    "collapsed": true
   },
   "outputs": [],
   "source": [
    "with open('../language-style-transfer/tmp/sas.test.0.tsf') as f:\n",
    "    test_0 = f.readlines()"
   ]
  },
  {
   "cell_type": "code",
   "execution_count": 134,
   "metadata": {
    "collapsed": true
   },
   "outputs": [],
   "source": [
    "with open('../language-style-transfer/tmp/sas.test.1.tsf') as f:\n",
    "    test_1 = f.readlines()"
   ]
  },
  {
   "cell_type": "code",
   "execution_count": 145,
   "metadata": {
    "collapsed": true
   },
   "outputs": [],
   "source": [
    "def strip_unk(sent):\n",
    "    sent = re.sub(r'<unk>', '', sent)\n",
    "    \n",
    "    return word_tokenize(sent)"
   ]
  },
  {
   "cell_type": "code",
   "execution_count": 155,
   "metadata": {
    "collapsed": true
   },
   "outputs": [],
   "source": [
    "test_1_strip = list(map(strip_unk, test_1))\n",
    "test_0_strip = list(map(strip_unk, test_0))\n",
    "data_1_strip = list(map(strip_unk, data_1))\n",
    "data_0_strip = list(map(strip_unk, data_0))"
   ]
  },
  {
   "cell_type": "code",
   "execution_count": 157,
   "metadata": {
    "collapsed": true
   },
   "outputs": [],
   "source": [
    "def bleu(sent1, sent2):\n",
    "    \n",
    "    score = nltk.translate.bleu_score.sentence_bleu([sent1], sent2)\n",
    "    return score"
   ]
  },
  {
   "cell_type": "code",
   "execution_count": 158,
   "metadata": {},
   "outputs": [
    {
     "name": "stderr",
     "output_type": "stream",
     "text": [
      "/usr/local/Cellar/python/3.7.6_1/Frameworks/Python.framework/Versions/3.7/lib/python3.7/site-packages/nltk/translate/bleu_score.py:523: UserWarning: \n",
      "The hypothesis contains 0 counts of 4-gram overlaps.\n",
      "Therefore the BLEU score evaluates to 0, independently of\n",
      "how many N-gram overlaps of lower order it contains.\n",
      "Consider using lower n-gram order or use SmoothingFunction()\n",
      "  warnings.warn(_msg)\n",
      "/usr/local/Cellar/python/3.7.6_1/Frameworks/Python.framework/Versions/3.7/lib/python3.7/site-packages/nltk/translate/bleu_score.py:523: UserWarning: \n",
      "The hypothesis contains 0 counts of 3-gram overlaps.\n",
      "Therefore the BLEU score evaluates to 0, independently of\n",
      "how many N-gram overlaps of lower order it contains.\n",
      "Consider using lower n-gram order or use SmoothingFunction()\n",
      "  warnings.warn(_msg)\n",
      "/usr/local/Cellar/python/3.7.6_1/Frameworks/Python.framework/Versions/3.7/lib/python3.7/site-packages/nltk/translate/bleu_score.py:523: UserWarning: \n",
      "The hypothesis contains 0 counts of 2-gram overlaps.\n",
      "Therefore the BLEU score evaluates to 0, independently of\n",
      "how many N-gram overlaps of lower order it contains.\n",
      "Consider using lower n-gram order or use SmoothingFunction()\n",
      "  warnings.warn(_msg)\n"
     ]
    }
   ],
   "source": [
    "\n",
    "bleus_1 = []\n",
    "for i in range(len(test_1_strip)):\n",
    "    bleus_1.append(bleu(data_1_strip[i],test_1_strip[i]))"
   ]
  },
  {
   "cell_type": "code",
   "execution_count": 160,
   "metadata": {},
   "outputs": [
    {
     "data": {
      "text/plain": [
       "(['the',\n",
       "  'author',\n",
       "  'first',\n",
       "  'starts',\n",
       "  'out',\n",
       "  'with',\n",
       "  'the',\n",
       "  'introduction',\n",
       "  'which',\n",
       "  'explains',\n",
       "  'what',\n",
       "  'it',\n",
       "  'is',\n",
       "  'about'],\n",
       " ['the',\n",
       "  'author',\n",
       "  'organizes',\n",
       "  'the',\n",
       "  'article',\n",
       "  'in',\n",
       "  'what',\n",
       "  'it',\n",
       "  'is',\n",
       "  'going',\n",
       "  'about',\n",
       "  'space',\n",
       "  'junk'])"
      ]
     },
     "execution_count": 160,
     "metadata": {},
     "output_type": "execute_result"
    }
   ],
   "source": [
    "data_1_strip[0],test_1_strip[0]"
   ]
  },
  {
   "cell_type": "code",
   "execution_count": 162,
   "metadata": {},
   "outputs": [
    {
     "data": {
      "text/plain": [
       "(['as',\n",
       "  'the',\n",
       "  'article',\n",
       "  'states',\n",
       "  'in',\n",
       "  'paragraph',\n",
       "  'the',\n",
       "  'snakes',\n",
       "  'have',\n",
       "  'imperiled',\n",
       "  'endangered',\n",
       "  'species',\n",
       "  'in',\n",
       "  'the',\n",
       "  'florida',\n",
       "  'keys'],\n",
       " ['in', 'the', 'and', 'the', 'koala', 'are', 'different', 'of', 'the'])"
      ]
     },
     "execution_count": 162,
     "metadata": {},
     "output_type": "execute_result"
    }
   ],
   "source": [
    "data_1_strip[1],test_1_strip[1]"
   ]
  },
  {
   "cell_type": "markdown",
   "metadata": {},
   "source": [
    "### My Kids Way Essays"
   ]
  },
  {
   "cell_type": "code",
   "execution_count": 18,
   "metadata": {},
   "outputs": [
    {
     "ename": "AttributeError",
     "evalue": "ResultSet object has no attribute 'get'. You're probably treating a list of elements like a single element. Did you call find_all() when you meant to call find()?",
     "output_type": "error",
     "traceback": [
      "\u001b[0;31m---------------------------------------------------------------------------\u001b[0m",
      "\u001b[0;31mAttributeError\u001b[0m                            Traceback (most recent call last)",
      "\u001b[0;32m<ipython-input-18-d7e200ae5451>\u001b[0m in \u001b[0;36m<module>\u001b[0;34m\u001b[0m\n\u001b[1;32m      1\u001b[0m \u001b[0mreq\u001b[0m \u001b[0;34m=\u001b[0m \u001b[0mrequests\u001b[0m\u001b[0;34m.\u001b[0m\u001b[0mget\u001b[0m\u001b[0;34m(\u001b[0m\u001b[0;34m\"https://www.mykidsway.com/essays/a-house-on-fire-2/\"\u001b[0m\u001b[0;34m)\u001b[0m\u001b[0;34m\u001b[0m\u001b[0;34m\u001b[0m\u001b[0m\n\u001b[1;32m      2\u001b[0m \u001b[0msoup\u001b[0m \u001b[0;34m=\u001b[0m \u001b[0mBeautifulSoup\u001b[0m\u001b[0;34m(\u001b[0m\u001b[0mreq\u001b[0m\u001b[0;34m.\u001b[0m\u001b[0mcontent\u001b[0m\u001b[0;34m,\u001b[0m \u001b[0;34m'html.parser'\u001b[0m\u001b[0;34m)\u001b[0m\u001b[0;34m\u001b[0m\u001b[0;34m\u001b[0m\u001b[0m\n\u001b[0;32m----> 3\u001b[0;31m \u001b[0mtext\u001b[0m \u001b[0;34m=\u001b[0m \u001b[0msoup\u001b[0m\u001b[0;34m.\u001b[0m\u001b[0mfind_all\u001b[0m\u001b[0;34m(\u001b[0m\u001b[0;34m\"span\"\u001b[0m\u001b[0;34m,\u001b[0m \u001b[0mitemprop\u001b[0m\u001b[0;34m=\u001b[0m\u001b[0;34m\"description\"\u001b[0m\u001b[0;34m)\u001b[0m\u001b[0;34m.\u001b[0m\u001b[0mget\u001b[0m\u001b[0;34m(\u001b[0m\u001b[0;34m'p'\u001b[0m\u001b[0;34m)\u001b[0m\u001b[0;34m\u001b[0m\u001b[0;34m\u001b[0m\u001b[0m\n\u001b[0m",
      "\u001b[0;32m~/dev/virtualenvs/cs230/lib/python3.7/site-packages/bs4/element.py\u001b[0m in \u001b[0;36m__getattr__\u001b[0;34m(self, key)\u001b[0m\n\u001b[1;32m   2079\u001b[0m         \u001b[0;34m\"\"\"Raise a helpful exception to explain a common code fix.\"\"\"\u001b[0m\u001b[0;34m\u001b[0m\u001b[0;34m\u001b[0m\u001b[0m\n\u001b[1;32m   2080\u001b[0m         raise AttributeError(\n\u001b[0;32m-> 2081\u001b[0;31m             \u001b[0;34m\"ResultSet object has no attribute '%s'. You're probably treating a list of elements like a single element. Did you call find_all() when you meant to call find()?\"\u001b[0m \u001b[0;34m%\u001b[0m \u001b[0mkey\u001b[0m\u001b[0;34m\u001b[0m\u001b[0;34m\u001b[0m\u001b[0m\n\u001b[0m\u001b[1;32m   2082\u001b[0m         )\n",
      "\u001b[0;31mAttributeError\u001b[0m: ResultSet object has no attribute 'get'. You're probably treating a list of elements like a single element. Did you call find_all() when you meant to call find()?"
     ]
    }
   ],
   "source": [
    "req = requests.get(\"https://www.mykidsway.com/essays/a-house-on-fire-2/\")\n",
    "soup = BeautifulSoup(req.content, 'html.parser')\n",
    "text = soup.find_all(\"span\", itemprop=\"description\")"
   ]
  },
  {
   "cell_type": "code",
   "execution_count": 24,
   "metadata": {},
   "outputs": [],
   "source": [
    "data = []\n",
    "for item in text:\n",
    "    data.append(item.get_text().split('\\n'))"
   ]
  },
  {
   "cell_type": "code",
   "execution_count": 99,
   "metadata": {},
   "outputs": [],
   "source": [
    "paginated_links = \"https://www.mykidsway.com/essays/page/{}/\"\n",
    "\n",
    "all_essays = req = requests.get(\"https://www.mykidsway.com/essays/\")\n",
    "essay_html = BeautifulSoup(all_essays.content, 'html.parser')\n",
    "divs = essay_html.find_all(\"div\", class_=\"hovereffect\")\n"
   ]
  },
  {
   "cell_type": "code",
   "execution_count": 106,
   "metadata": {},
   "outputs": [],
   "source": [
    "all_links = []\n",
    "for content in divs:\n",
    "    all_links.append(content.find(\"a\").get(\"href\"))"
   ]
  },
  {
   "cell_type": "code",
   "execution_count": 108,
   "metadata": {},
   "outputs": [],
   "source": [
    "for i in range(1,20):\n",
    "    new_page = paginated_links.format(str(i))\n",
    "    \n",
    "    all_essays = req = requests.get(new_page)\n",
    "    essay_html = BeautifulSoup(all_essays.content, 'html.parser')\n",
    "    divs = essay_html.find_all(\"div\", class_=\"hovereffect\")\n",
    "    \n",
    "\n",
    "    for content in divs:\n",
    "        all_links.append(content.find(\"a\").get(\"href\"))\n",
    "    sleep(1)"
   ]
  },
  {
   "cell_type": "code",
   "execution_count": 111,
   "metadata": {},
   "outputs": [],
   "source": [
    "def getText(link):\n",
    "    \n",
    "    req = requests.get(link)\n",
    "    soup = BeautifulSoup(req.content, 'html.parser')\n",
    "    text = soup.find_all(\"span\", itemprop=\"description\")\n",
    "    \n",
    "    data = []\n",
    "    for item in text:\n",
    "        split_text = item.get_text().split('\\n')\n",
    "        total_len = sum([len(x) for x in split_text])\n",
    "        if total_len > 2000:\n",
    "            print(\"skipping \", link)\n",
    "            continue\n",
    "            \n",
    "        for sentence in split_text:\n",
    "            data.append(sentence)\n",
    "    \n",
    "    return data\n"
   ]
  },
  {
   "cell_type": "code",
   "execution_count": 120,
   "metadata": {},
   "outputs": [],
   "source": [
    "\n",
    "# all_sentences = []\n",
    "# for link in set(all_links):\n",
    "#     print(link)\n",
    "#     data_list = getText(link)\n",
    "#     for sentence in data_list:\n",
    "#         all_sentences.append(sentence)\n",
    "        \n",
    "#     sleep(1)"
   ]
  },
  {
   "cell_type": "code",
   "execution_count": null,
   "metadata": {
    "collapsed": true
   },
   "outputs": [],
   "source": []
  },
  {
   "cell_type": "code",
   "execution_count": 136,
   "metadata": {},
   "outputs": [],
   "source": [
    "\n",
    "def clean(data_list):\n",
    "#     regex = re.compile('[%s]' % re.escape(string.punctuation))\n",
    "    newList = []\n",
    "    for sent in data_list:\n",
    "        if len(sent) < 40:\n",
    "            continue\n",
    "        if '^' in sent:\n",
    "            continue\n",
    "        if bool(re.search(r'\\d', sent)):\n",
    "            continue\n",
    "            \n",
    "        sent = sent.lower()\n",
    "        newList.append(sent + '\\n')\n",
    "    \n",
    "    return newList\n",
    "        "
   ]
  },
  {
   "cell_type": "code",
   "execution_count": 137,
   "metadata": {
    "collapsed": true
   },
   "outputs": [],
   "source": [
    "cleanedEssays = clean(all_sentences)"
   ]
  },
  {
   "cell_type": "code",
   "execution_count": 138,
   "metadata": {},
   "outputs": [],
   "source": [
    "reordered = []\n",
    "for sent in cleanedEssays:\n",
    "    split_sent = sent_tokenize(sent.strip())\n",
    "    for sentence in split_sent:\n",
    "        if (len(word_tokenize(sentence)) > 20) or (len(word_tokenize(sentence)) < 4):\n",
    "            continue\n",
    "        reordered.append(sentence + '\\n')"
   ]
  },
  {
   "cell_type": "code",
   "execution_count": 140,
   "metadata": {},
   "outputs": [],
   "source": [
    "with open(\"/Users/spencerbraun/Documents/Stanford/CS 230 - Deep Learning/Project/CS_230_Project/data/processed/KMW_essays.txt\", 'w') as f:\n",
    "    f.writelines(reordered)"
   ]
  },
  {
   "cell_type": "markdown",
   "metadata": {},
   "source": [
    "### Hewlett AES processing"
   ]
  },
  {
   "cell_type": "code",
   "execution_count": 2,
   "metadata": {},
   "outputs": [],
   "source": [
    "\n",
    "aes_file = \"/Users/spencerbraun/Documents/Stanford/CS 230 - Deep Learning/Project/CS_230_Project/data/raw/asap-aes/training_set_rel3.tsv\"\n",
    "aes_list = [] \n",
    "with open(aes_file, encoding='utf-8', errors='ignore') as f:\n",
    "    for line in f:\n",
    "        aes_list.append(line.strip().split('\\t'))\n"
   ]
  },
  {
   "cell_type": "code",
   "execution_count": 3,
   "metadata": {},
   "outputs": [],
   "source": [
    "aes_df = pd.DataFrame(aes_list[1:], columns=aes_list[0])"
   ]
  },
  {
   "cell_type": "code",
   "execution_count": 5,
   "metadata": {
    "collapsed": true
   },
   "outputs": [],
   "source": [
    "import numpy as np"
   ]
  },
  {
   "cell_type": "code",
   "execution_count": 4,
   "metadata": {},
   "outputs": [],
   "source": [
    "num_cols = ['rater1_domain1', 'rater2_domain1',\n",
    "       'rater3_domain1', 'domain1_score', 'rater1_domain2', 'rater2_domain2',\n",
    "       'domain2_score']\n",
    "\n",
    "aes_df[num_cols] = aes_df[num_cols].applymap(lambda x: np.nan if (x == \"\") or (x is None) else int(x))\n"
   ]
  },
  {
   "cell_type": "code",
   "execution_count": null,
   "metadata": {
    "collapsed": true
   },
   "outputs": [],
   "source": []
  },
  {
   "cell_type": "code",
   "execution_count": 5,
   "metadata": {},
   "outputs": [
    {
     "data": {
      "text/plain": [
       "0        0.0\n",
       "1        0.0\n",
       "2        0.0\n",
       "3        0.0\n",
       "4        0.0\n",
       "        ... \n",
       "12973    0.0\n",
       "12974    0.0\n",
       "12975    0.0\n",
       "12976    0.0\n",
       "12977    0.0\n",
       "Name: domain2_score, Length: 12978, dtype: float64"
      ]
     },
     "execution_count": 5,
     "metadata": {},
     "output_type": "execute_result"
    }
   ],
   "source": [
    "aes_df[\"domain2_score\"].fillna(0)"
   ]
  },
  {
   "cell_type": "code",
   "execution_count": 6,
   "metadata": {},
   "outputs": [],
   "source": [
    "aes_df[\"total_score\"] = (aes_df[\"domain1_score\"] + aes_df[\"domain2_score\"].fillna(aes_df[\"domain1_score\"]))/2"
   ]
  },
  {
   "cell_type": "code",
   "execution_count": 7,
   "metadata": {},
   "outputs": [
    {
     "data": {
      "text/html": [
       "<div>\n",
       "<style scoped>\n",
       "    .dataframe tbody tr th:only-of-type {\n",
       "        vertical-align: middle;\n",
       "    }\n",
       "\n",
       "    .dataframe tbody tr th {\n",
       "        vertical-align: top;\n",
       "    }\n",
       "\n",
       "    .dataframe thead th {\n",
       "        text-align: right;\n",
       "    }\n",
       "</style>\n",
       "<table border=\"1\" class=\"dataframe\">\n",
       "  <thead>\n",
       "    <tr style=\"text-align: right;\">\n",
       "      <th></th>\n",
       "      <th>essay_id</th>\n",
       "      <th>essay_set</th>\n",
       "      <th>essay</th>\n",
       "      <th>domain1_score</th>\n",
       "      <th>domain2_score</th>\n",
       "      <th>total_score</th>\n",
       "    </tr>\n",
       "  </thead>\n",
       "  <tbody>\n",
       "    <tr>\n",
       "      <th>0</th>\n",
       "      <td>1</td>\n",
       "      <td>1</td>\n",
       "      <td>\"Dear local newspaper, I think effects compute...</td>\n",
       "      <td>8</td>\n",
       "      <td>NaN</td>\n",
       "      <td>8.0</td>\n",
       "    </tr>\n",
       "    <tr>\n",
       "      <th>1</th>\n",
       "      <td>2</td>\n",
       "      <td>1</td>\n",
       "      <td>\"Dear @CAPS1 @CAPS2, I believe that using comp...</td>\n",
       "      <td>9</td>\n",
       "      <td>NaN</td>\n",
       "      <td>9.0</td>\n",
       "    </tr>\n",
       "    <tr>\n",
       "      <th>2</th>\n",
       "      <td>3</td>\n",
       "      <td>1</td>\n",
       "      <td>\"Dear, @CAPS1 @CAPS2 @CAPS3 More and more peop...</td>\n",
       "      <td>7</td>\n",
       "      <td>NaN</td>\n",
       "      <td>7.0</td>\n",
       "    </tr>\n",
       "    <tr>\n",
       "      <th>3</th>\n",
       "      <td>4</td>\n",
       "      <td>1</td>\n",
       "      <td>\"Dear Local Newspaper, @CAPS1 I have found tha...</td>\n",
       "      <td>10</td>\n",
       "      <td>NaN</td>\n",
       "      <td>10.0</td>\n",
       "    </tr>\n",
       "    <tr>\n",
       "      <th>4</th>\n",
       "      <td>5</td>\n",
       "      <td>1</td>\n",
       "      <td>\"Dear @LOCATION1, I know having computers has ...</td>\n",
       "      <td>8</td>\n",
       "      <td>NaN</td>\n",
       "      <td>8.0</td>\n",
       "    </tr>\n",
       "    <tr>\n",
       "      <th>...</th>\n",
       "      <td>...</td>\n",
       "      <td>...</td>\n",
       "      <td>...</td>\n",
       "      <td>...</td>\n",
       "      <td>...</td>\n",
       "      <td>...</td>\n",
       "    </tr>\n",
       "    <tr>\n",
       "      <th>12973</th>\n",
       "      <td>21626</td>\n",
       "      <td>8</td>\n",
       "      <td>\" In most stories mothers and daughters are ei...</td>\n",
       "      <td>35</td>\n",
       "      <td>NaN</td>\n",
       "      <td>35.0</td>\n",
       "    </tr>\n",
       "    <tr>\n",
       "      <th>12974</th>\n",
       "      <td>21628</td>\n",
       "      <td>8</td>\n",
       "      <td>\" I never understood the meaning laughter is t...</td>\n",
       "      <td>32</td>\n",
       "      <td>NaN</td>\n",
       "      <td>32.0</td>\n",
       "    </tr>\n",
       "    <tr>\n",
       "      <th>12975</th>\n",
       "      <td>21629</td>\n",
       "      <td>8</td>\n",
       "      <td>\"When you laugh, is @CAPS5 out of habit, or is...</td>\n",
       "      <td>40</td>\n",
       "      <td>NaN</td>\n",
       "      <td>40.0</td>\n",
       "    </tr>\n",
       "    <tr>\n",
       "      <th>12976</th>\n",
       "      <td>21630</td>\n",
       "      <td>8</td>\n",
       "      <td>\"                               Trippin' on fe...</td>\n",
       "      <td>40</td>\n",
       "      <td>NaN</td>\n",
       "      <td>40.0</td>\n",
       "    </tr>\n",
       "    <tr>\n",
       "      <th>12977</th>\n",
       "      <td>21633</td>\n",
       "      <td>8</td>\n",
       "      <td>\" Many people believe that laughter can improv...</td>\n",
       "      <td>40</td>\n",
       "      <td>NaN</td>\n",
       "      <td>40.0</td>\n",
       "    </tr>\n",
       "  </tbody>\n",
       "</table>\n",
       "<p>12978 rows × 6 columns</p>\n",
       "</div>"
      ],
      "text/plain": [
       "      essay_id essay_set                                              essay  \\\n",
       "0            1         1  \"Dear local newspaper, I think effects compute...   \n",
       "1            2         1  \"Dear @CAPS1 @CAPS2, I believe that using comp...   \n",
       "2            3         1  \"Dear, @CAPS1 @CAPS2 @CAPS3 More and more peop...   \n",
       "3            4         1  \"Dear Local Newspaper, @CAPS1 I have found tha...   \n",
       "4            5         1  \"Dear @LOCATION1, I know having computers has ...   \n",
       "...        ...       ...                                                ...   \n",
       "12973    21626         8  \" In most stories mothers and daughters are ei...   \n",
       "12974    21628         8  \" I never understood the meaning laughter is t...   \n",
       "12975    21629         8  \"When you laugh, is @CAPS5 out of habit, or is...   \n",
       "12976    21630         8  \"                               Trippin' on fe...   \n",
       "12977    21633         8  \" Many people believe that laughter can improv...   \n",
       "\n",
       "       domain1_score  domain2_score  total_score  \n",
       "0                  8            NaN          8.0  \n",
       "1                  9            NaN          9.0  \n",
       "2                  7            NaN          7.0  \n",
       "3                 10            NaN         10.0  \n",
       "4                  8            NaN          8.0  \n",
       "...              ...            ...          ...  \n",
       "12973             35            NaN         35.0  \n",
       "12974             32            NaN         32.0  \n",
       "12975             40            NaN         40.0  \n",
       "12976             40            NaN         40.0  \n",
       "12977             40            NaN         40.0  \n",
       "\n",
       "[12978 rows x 6 columns]"
      ]
     },
     "execution_count": 7,
     "metadata": {},
     "output_type": "execute_result"
    }
   ],
   "source": [
    "cols = ['essay_id', 'essay_set', 'essay', 'domain1_score', 'domain2_score', 'total_score']\n",
    "aes_df[cols]"
   ]
  },
  {
   "cell_type": "code",
   "execution_count": 10,
   "metadata": {},
   "outputs": [
    {
     "data": {
      "text/plain": [
       "<matplotlib.axes._subplots.AxesSubplot at 0x12be78a10>"
      ]
     },
     "execution_count": 10,
     "metadata": {},
     "output_type": "execute_result"
    },
    {
     "data": {
      "image/png": "[encoded data removed]",
      "text/plain": [
       "<Figure size 432x288 with 1 Axes>"
      ]
     },
     "metadata": {
      "needs_background": "light"
     },
     "output_type": "display_data"
    }
   ],
   "source": [
    "aes_df.total_score.hist()"
   ]
  },
  {
   "cell_type": "code",
   "execution_count": 11,
   "metadata": {},
   "outputs": [],
   "source": [
    "aes_essays = aes_df.query(\"total_score > 1\")[\"essay\"].values.tolist()"
   ]
  },
  {
   "cell_type": "code",
   "execution_count": 12,
   "metadata": {},
   "outputs": [],
   "source": [
    "def cleanAES(dataList):\n",
    "    newList = []\n",
    "    for sent in dataList:\n",
    "        sent = re.sub(r'(?<=^|(?<=[^a-zA-Z0-9-_\\.]))@([A-Za-z]+[A-Za-z0-9-_]+)', '', sent)\n",
    "        sent = sent.replace(\"\\\\\",\"\")\n",
    "        sent = sent.replace(\"\\\\'\",\"\")\n",
    "        sent = sent.strip().strip(\"'\").strip('\"')\n",
    "\n",
    "        if len(sent) < 40:\n",
    "            continue\n",
    "        if '^' in sent:\n",
    "            continue\n",
    "        \n",
    "        sent = ' '.join(sent.split())\n",
    "        sent = sent.lower()#.decode('utf8', 'ignore')\n",
    "        newList.append(sent + '\\n')\n",
    "    \n",
    "    return newList"
   ]
  },
  {
   "cell_type": "code",
   "execution_count": 13,
   "metadata": {},
   "outputs": [],
   "source": [
    "clean_aes = cleanAES(aes_essays)"
   ]
  },
  {
   "cell_type": "code",
   "execution_count": null,
   "metadata": {},
   "outputs": [],
   "source": []
  },
  {
   "cell_type": "code",
   "execution_count": 150,
   "metadata": {},
   "outputs": [
    {
     "data": {
      "text/plain": [
       "True"
      ]
     },
     "execution_count": 150,
     "metadata": {},
     "output_type": "execute_result"
    }
   ],
   "source": [
    "\n",
    "d.check(\"league\")"
   ]
  },
  {
   "cell_type": "code",
   "execution_count": 14,
   "metadata": {},
   "outputs": [
    {
     "name": "stderr",
     "output_type": "stream",
     "text": [
      "100%|██████████| 10826/10826 [01:46<00:00, 101.41it/s]\n"
     ]
    }
   ],
   "source": [
    "# from spellchecker import SpellChecker\n",
    "\n",
    "# spell = SpellChecker()\n",
    "\n",
    "d_check = lambda sent: map(lambda x: d.check(x), word_tokenize(sent))\n",
    "split_aes = []\n",
    "for essay in tqdm(clean_aes):\n",
    "    split_up = sent_tokenize(essay)\n",
    "    for sent in split_up:\n",
    "        words = word_tokenize(sent)\n",
    "        if not all(list(d_check(sent))):\n",
    "            continue\n",
    "        if len(words) > 30:\n",
    "            continue\n",
    "        if len(words) < 4:\n",
    "            continue\n",
    "        split_aes.append(sent+'\\n')"
   ]
  },
  {
   "cell_type": "code",
   "execution_count": 456,
   "metadata": {},
   "outputs": [
    {
     "data": {
      "text/plain": [
       "False"
      ]
     },
     "execution_count": 456,
     "metadata": {},
     "output_type": "execute_result"
    }
   ],
   "source": [
    "\n",
    "# list(map(lambda x: d_check, split_aes[0:100]))\n"
   ]
  },
  {
   "cell_type": "code",
   "execution_count": 152,
   "metadata": {},
   "outputs": [
    {
     "data": {
      "text/plain": [
       "['how',\n",
       " 'would',\n",
       " 'you',\n",
       " 'feel',\n",
       " 'if',\n",
       " 'your',\n",
       " 'teenager',\n",
       " 'is',\n",
       " 'always',\n",
       " 'on',\n",
       " 'the',\n",
       " 'phone',\n",
       " 'with',\n",
       " 'friends',\n",
       " '!']"
      ]
     },
     "execution_count": 152,
     "metadata": {},
     "output_type": "execute_result"
    }
   ],
   "source": [
    "word_tokenize(split_aes[0])"
   ]
  },
  {
   "cell_type": "code",
   "execution_count": 154,
   "metadata": {},
   "outputs": [],
   "source": [
    "with open(\"/Users/spencerbraun/Documents/Stanford/CS 230 - Deep Learning/Project/CS_230_Project/data/processed/aes.txt\", 'w') as f:\n",
    "    f.writelines(split_aes)"
   ]
  },
  {
   "cell_type": "code",
   "execution_count": 153,
   "metadata": {},
   "outputs": [
    {
     "data": {
      "text/plain": [
       "84373"
      ]
     },
     "execution_count": 153,
     "metadata": {},
     "output_type": "execute_result"
    }
   ],
   "source": [
    "len(split_aes)"
   ]
  },
  {
   "cell_type": "code",
   "execution_count": null,
   "metadata": {
    "collapsed": true
   },
   "outputs": [],
   "source": []
  },
  {
   "cell_type": "markdown",
   "metadata": {},
   "source": [
    "### Hewlett AES  - Keep tokens in"
   ]
  },
  {
   "cell_type": "code",
   "execution_count": 6,
   "metadata": {},
   "outputs": [],
   "source": [
    "\n",
    "aes_file = \"/home/ubuntu/CS_230_Project/data/raw/asap-aes/training_set_rel3.tsv\"\n",
    "aes_list = [] \n",
    "with open(aes_file, encoding='utf-8', errors='ignore') as f:\n",
    "    for line in f:\n",
    "        aes_list.append(line.strip().split('\\t'))\n",
    "        \n",
    "aes_df = pd.DataFrame(aes_list[1:], columns=aes_list[0])    \n",
    "num_cols = ['rater1_domain1', 'rater2_domain1',\n",
    "       'rater3_domain1', 'domain1_score', 'rater1_domain2', 'rater2_domain2',\n",
    "       'domain2_score']\n",
    "\n",
    "aes_df[num_cols] = aes_df[num_cols].applymap(lambda x: np.nan if (x == \"\") or (x is None) else int(x))\n",
    "aes_df[\"total_score\"] = (aes_df[\"domain1_score\"] + aes_df[\"domain2_score\"].fillna(aes_df[\"domain1_score\"]))/2"
   ]
  },
  {
   "cell_type": "code",
   "execution_count": 7,
   "metadata": {},
   "outputs": [],
   "source": [
    "aes_essays = aes_df.query(\"total_score > 1\")[\"essay\"].values.tolist()"
   ]
  },
  {
   "cell_type": "code",
   "execution_count": 85,
   "metadata": {},
   "outputs": [],
   "source": [
    "matches = re.findall(r'(?<=^|(?<=[^a-zA-Z0-9-_\\.]))@([A-Za-z]+[0-9]+)', aes_essays[5])\n",
    "new_strings = [(\"<\" + re.sub('[0-9]', '', x) + \">\").replace(',','').replace(\"'\", \"\").replace(\"s\", \"\") for x in matches]"
   ]
  },
  {
   "cell_type": "code",
   "execution_count": 98,
   "metadata": {},
   "outputs": [],
   "source": [
    "token_list = []\n",
    "new_strings = []\n",
    "for string in aes_essays:\n",
    "    matches = re.findall(r'(?<=^|(?<=[^a-zA-Z0-9-_\\.]))@([A-Za-z]+[0-9]+)', string)\n",
    "    token_list.extend(list(set(matches)))\n",
    "    \n",
    "    string = string.replace('@' , '')\n",
    "    \n",
    "    replacement = {x: \"<\" + re.sub('[0-9]', '', x) + \">\" for x in matches}\n",
    "    for match in matches:\n",
    "        string = string.replace(match, replacement[match])\n",
    "    new_strings.append(string)"
   ]
  },
  {
   "cell_type": "code",
   "execution_count": 99,
   "metadata": {},
   "outputs": [],
   "source": [
    "general_tokens = list(set([re.sub('[0-9]', '', x) for x in token_list]))"
   ]
  },
  {
   "cell_type": "code",
   "execution_count": 100,
   "metadata": {},
   "outputs": [
    {
     "data": {
      "text/plain": [
       "['MONTH',\n",
       " 'PERCENT',\n",
       " 'STATE',\n",
       " 'CAPS',\n",
       " 'NUM',\n",
       " 'TIME',\n",
       " 'CITY',\n",
       " 'LOCATION',\n",
       " 'PERSON',\n",
       " 'MONEY',\n",
       " 'DR',\n",
       " 'ORGANIZATION',\n",
       " 'DATE']"
      ]
     },
     "execution_count": 100,
     "metadata": {},
     "output_type": "execute_result"
    }
   ],
   "source": [
    "general_tokens"
   ]
  },
  {
   "cell_type": "code",
   "execution_count": null,
   "metadata": {},
   "outputs": [],
   "source": []
  },
  {
   "cell_type": "code",
   "execution_count": 104,
   "metadata": {},
   "outputs": [],
   "source": [
    "def cleanAES(dataList):\n",
    "    newList = []\n",
    "    for sent in dataList:\n",
    "        \n",
    "        sent = sent.replace(\"\\\\'\",\"\")\n",
    "        sent = sent.strip().strip(\"'\").strip('\"')\n",
    "        sent = sent.replace(\"'\", \"\")\n",
    "        sent = sent.replace('\"', \"\")\n",
    "        sent = re.sub('([.,!?()])', r' \\1 ', sent)\n",
    "        sent = re.sub('\\s{2,}', ' ', sent)\n",
    "        sent = sent.replace(\">s\", \">\")\n",
    "        sent = sent.strip()\n",
    "        \n",
    "\n",
    "        if len(sent) < 40:\n",
    "            continue\n",
    "        if '^' in sent:\n",
    "            continue\n",
    "        \n",
    "        sent = ' '.join(sent.split())\n",
    "        sent = sent.lower()#.decode('utf8', 'ignore')\n",
    "        newList.append(sent + '\\n')\n",
    "    \n",
    "    return newList"
   ]
  },
  {
   "cell_type": "code",
   "execution_count": 105,
   "metadata": {},
   "outputs": [],
   "source": [
    "clean_aes = cleanAES(new_strings)"
   ]
  },
  {
   "cell_type": "code",
   "execution_count": 106,
   "metadata": {},
   "outputs": [
    {
     "data": {
      "text/plain": [
       "['dear local newspaper , i think effects computers have on people are great learning skills/affects because they give us time to chat with friends/new people , helps us learn about the globe ( astronomy ) and keeps us out of troble ! thing about ! dont you think so ? how would you feel if your teenager is always on the phone with friends ! do you ever time to chat with your friends or buisness partner about things . well now - theres a new way to chat the computer , theirs plenty of sites on the internet to do so: <organization> , <organization> , <caps> , facebook , myspace ect . just think now while your setting up meeting with your boss on the computer , your teenager is having fun on the phone not rushing to get off cause you want to use it . how did you learn about other countrys/states outside of yours ? well i have by computer/internet , its a new way to learn about what going on in our time ! you might think your child spends a lot of time on the computer , but ask them so question about the economy , sea floor spreading or even about the <date> youll be surprise at how much he/she knows . believe it or not the computer is much interesting then in class all day reading out of books . if your child is home on your computer or at a local library , its better than being out with friends being fresh , or being perpressured to doing something they know isnt right . you might not know where your child is , <caps> forbidde in a hospital bed because of a drive-by . rather than your child on the computer learning , chatting or just playing games , safe and sound in your home or community place . now i hope you have reached a point to understand and agree with me , because computers can have great effects on you or child because it gives us time to chat with friends/new people , helps us learn about the globe and believe or not keeps us out of troble . thank you for listening .\\n',\n",
       " 'dear <caps> <caps> , i believe that using computers will benefit us in many ways like talking and becoming friends will others through websites like facebook and mysace . using computers can help us find coordibates , locations , and able ourselfs to millions of information . also computers will benefit us by helping with jobs as in planning a house plan and typing a <num> page report for one of our jobs in less than writing it . now lets go into the wonder world of technology . using a computer will help us in life by talking or making friends on line . many people have myspace , facebooks , aim , these all benefit us by having conversations with one another . many people believe computers are bad but how can you make friends if you can never talk to them ? i am very fortunate for having a computer that can help with not only school work but my social life and how i make friends . computers help us with finding our locations , coordibates and millions of information online . if we didnt go on the internet a lot we wouldnt know how to go onto websites that <month> help us with locations and coordinates like <location> . would you rather use a computer or be in <location> . when your supposed to be vacationing in <location> . million of information is found on the internet . you can as almost every question and a computer will have it . would you rather easily draw up a house plan on the computers or take <num> hours doing one by hand with ugly erazer marks all over it , you are garrenteed that to find a job with a drawing like that . also when appling for a job many workers must write very long papers like a <num> word essay on why this job fits you the most , and many people i know dont like writing <num> words non-stopp for hours when it could take them i hav an a computer . that is why computers we needed a lot now adays . i hope this essay has impacted your descion on computers because they are great machines to work with . the other day i showed my mom how to use a computer and she said it was the greatest invention sense sliced bread ! now go out and buy a computer to help you chat online with friends , find locations and millions of information on one click of the button and help your self with getting a job with neat , prepared , printed work that your boss will love .\\n',\n",
       " 'dear , <caps> <caps> <caps> more and more people use computers , but not everyone agrees that this benefits society . those who support advances in technology believe that computers have a positive effect on people . others have different ideas . a great amount in the world today are using computers , some for work and spme for the fun of it . computers is one of mans greatest accomplishments . computers are helpful in so many ways , <caps> , news , and live streams . dont get me wrong way to much people spend time on the computer and they should be out interacting with others but who are we to tell them what to do . when i grow up i want to be a author or a journalist and i know for a fact that both of those jobs involve lots of time on time on the computer , one <month> spend more time then the other but you know exactly what <caps> getting at . so what if some expert think people are spending to much time on the computer and not exercising , enjoying natures and interacting with family and friends . for all the expert knows that its how must people make a living and we dont know why people choose to use the computer for a great amount of time and to be honest its non of my concern and it shouldnt be the so called experts concern . people interact a thousand times a day on the computers . computers keep lots of kids of the streets instead of being out and causing trouble . computers helps the <organization> locate most wanted criminals . as you can see computers are more useful to society then you think , computers benefit society .\\n',\n",
       " 'dear local newspaper , <caps> i have found that many experts say that computers do not benifit our society . in some cases this is true but in most cases studdies show that computers can help people . while nothing beats talking in person computers can get really close such examples are webcams or e-mail . <percent> of students who get good grades refer to reliable websites for reasearch or to help find good books . also online catalouges or advertisments help the economy of stores worldwide . <caps> people were not allowed to use computers most of the modern would not exist . <person> said that the best form of modern communication is the computer because of the ability to write , talk , or write back for much cheaper ! almost every single event i go to is planed on a computer by communication such as e-mail <caps> a student ever needs homework because lam out sick or needs help studying for a test then contact their teacher through the best form of communication for them always e-mail . even the post office uses computers to get letters and boxes to people . the president of the post office , <person> said <caps> would be imposible to get mail to our coustmers <caps> <caps> were not for computers telling us where a zip code is or how heavy a box is . <caps> that tell people what is happening around the world would not exist <caps> <caps> were not for the moder communication abilities that computer provid us . because information can be commucated so quick . so can reasearch . when the country of <location> took a pole <percent> of people used computer for any type of reasearch , of those <percent> were students currently in school and <percent> of them have good grades . when the same survey was taken in the <location> <percent> of people used computers fore reasons and <percent> were students who had good grade <caps> <caps> were not posible for me to access documents in the <caps> <caps> online i probably would not have gotten an a+ on my <caps> assignment ! could you amagine <caps> suddenly your newspaper reporters couldnt use the internet to work on their reports ? the articles would probably be <num> after the events occur . most buissness , including the newspaper , use the internet to advertise , shop , or read . the association of <organization> reported that in <percent> of <organization> used a website and of them <percent> were in good positions . the president of <caps> <num> imports said that they use an online catalouge because <caps> is cheaper , but they can also promote that <caps> is to save trees , or for the castomers convinence . small <organization> can make websites to promote them selves and explain their star to potential coustomers . <person> , the owner of <organization> said that the internet saved her resturant . <caps> <caps> wer not for the internet <num> more people would be jobless in <location> . in conclusion computer help everyday people and without them most convinences would not exist . they help communicate around the world . computers help people reaserch subjects for school reports , and they make the current economy get better everyday . in moderation computers are the most useful tool out there .\\n',\n",
       " 'dear <location> , i know having computers has a positive effect on people . the computers connect families , contain information which is great for peoples education , and are very conveint . computors are a step into the future and we should take advantage of it . first off the internet or e-mail will help family members connect . my family , which lives <num> hours away by car , love to talk with me by e-mail . this helps me connect with my family and is just another reason why we should have computors . another reason that includes family is when the family is just sitting around and are calling everywhere just to find a board game , it would just be easier to go online to find it . this way it would be quick and easy to find that one board game . the last reason why a computer would help a family is if a family wants to get in to any kinds of activities and they need the number they could just go online . on the internet the family could find the numbers , the and some information about it . this way more and more families can do activities together . as one can see the computer is bringing more and more families together . an other reason why the computers are good for society is educations . with information at the tip of your fingers more and more people will want to learn . now a days people try to find the out , but will all the tools on the computers mae people get the education . secondly computers are another way to go to collage . if you arnt up to going to school/collage because your sick . you wouldnt have to miss anything because with a click of a button you will have the materials needed for what was missed . lastly everyone knows that in <location> most classrooms cant afford one computer . the children want computors so hard . if they were to get one it would change so much . they would be able to learn so much more than before . the children could lean about different countries far away . as a result computers would improve the way we learn . the last reason why computers are so helpful is convience . now a say the world is crazy , so if we dont have to go out or talk to someone we wont . the computer will offer the ability to confrence will other people so that there would be communication between work parttners . with the ability to talk with another for work would make us a lighter nation . this is only one of the many reasons computers are very conviente , subssiquently computers are conviente because you could book flights , vacations , rentals , and much more . with a click of a button you should be going to <caps> or a nice vacation .\\n',\n",
       " 'dear <location> , i think that computers have a negative affect on us ! how many people have acess to a camputer daily in america . . <num> and how many people go on at least an hour a <num> . that means that <num> people cant exercise are wasting many are have the posibility of physical <caps> that sound good to you ? think of everything you done when you write a letter . i got up and got all the materials and sit back down . after in done writing have to put all the materials away and then put the letter in the mailbox and walk all the way back . well this is what i had to do . now think how you write an email sitdown and move your fingers . do you see the difference ? <caps> instead of getting a good walk to your friends house to talk to you just in him/er . did you know that you can literally but from on your computer . instead of around with this that can add anything you your computer gives away information they information lead to that and then everthing you have wouldbe gone . all this so you can go online . believe it or not , you can phisically get hurt for being on the computer , to long . <num> thing is that when you at a computer <caps> what happened to my grandpa is that when you are in a wood chair all day you can get ardthritis in your muscle <caps> thing th .\\n',\n",
       " 'did you know that more and more people these days are depending on computers for their safety , natural education , and their social life ? in my opinion , the increasing use of computers is not benefiting society . initially , ones safety while using a computer is at risk . to begin , when someone is talking to another on a computer , they <month> never know who is at the other end of it . for example , <caps> a small girl was playing a game on the computer and a person began talking to her , it could be a predator . she will never know unless they meet us somewhere . at this point , it maybe too late . moreover , studies show that <percent> of peoples information is more widely exposed in the last <num> years due to the new chat websites . such as myspace and facebook . in these websites , people share their information . with this , their safety is at risk . finally , people should stop using computers as much as they are now , in order to keep their safety safe . furthermore , enjoying nature is a must , in our world full of immense landscapes , wide waters , dense forests , and lush valleys . <caps> you depend on your computer to teach you about the world , you should cease this use . one must actually be outside , experiencing the feel , the smell , and even the taste of nature . a recent study shows that people who actually went to the grand canyon could write a <num> page essay on what they had learned . the people who didnt go and simply read information off their computer , could not write this much . finally , society needs to back away from their computers , and stop into . thirdly , a persons social life could be ruined from the use of computers for many reasons . one reasons for this could be that a person spends all their time on their computer instead of spending time with their family and friends . sure , you can chat with people online , but thats nothing like chatting in person . there is no need to talk to a friend or family member online , when you could do it in person . finally , <caps> someone takes an embarrasing picture of you and puts it on their computer , it is there forever . thus , you can lose friends , whether youre the person in the picture or the addict who put the picture on . with this , you can easily ruin your family/social life by using your computer too often . how would you feel <caps> it was your fault that someones safety is at risk ? wouldnt you rather enjoy nature in person instead of which it on your computer and not get the fall effect ? couldnt you talk to your friends and family in person rather than ignore them to use your computer ? there are numerous ways in which the increasing rate of computer use does not benefit society . i encourage you to agree with me that computers can put one safety at risk decrease their education of nature and ruin their social life .\\n',\n",
       " '<percent> of people agree that computers make life less complicated . i also agree with this . using computers teaches hand-eye coordination , gives people the ability to learn about faraway places and people , and lets people talk online with other people . i think that these are all very important . why wouldnt you want to have strong hand-eye coordination ? i think this a very important skill . computers help teach hand-eye coordination and they keep it strong . while youre looking at the screen your hand is moving the mouse where you want it to go . good hand-eye coordination is used for a lot of things; mostly everything . if you play some sports like baseball , hand-eye is one of the most important elements . why not make that stronger off of the feild ? also , hand-eye can be used to <organization> while taking notes . hand-eye is involved with almost everything you do . you cant have a poor hand-eye coordination or else you wont be able to function properly . <num> out of <num> doctors agree that hand-eye very important for healthy living . i love to travel , but i want to know about the place im going to before i get on the phone to go there . said <person> , a science teacher at <organization> . he feels the way , im sure , a lot of people feel . they want to know about the place they are going to and they want it to be current . the computer has plenty information about a lot of different places in the world . some books dont offer as much information or they need to be updated . computers are also very good for learning about other cultures and traditions . no one wants to be ignorant right ? people want to know whats going on in the world quick and easy . the computer does this . i remember when i was about <num> , our phone broke in our house . we couldnt go out and get one right away either . the only way we were able to communicate with our family and friends was by computer . the computer made it easier to e-mail everyone and tell them why we werent answering our house phone . this happens more often than you think . people need to communicate through computer a lot . at work , if you need to talk to an employee or co-worker and you cant leave your desk , you can just e-mail the information to them . <num> out of <num> employees say that it is much faster and easier to e-mail information as opposed to talking them on the phone or in person . a lot of people agree that computer make life a lot easier . computers teach hand-eye coordination and they let you communicate with other people . the most critical reason is that computers let people learn about faraway places and people . you can make a difference in the way people feel about computers . write to your local newspaper . its now or never !\\n',\n",
       " 'dear reader , <organization> has had a dramatic effect on human life . it has changed the way we do almost everything today . the most well know , is the computer . this device has allowed people do buy things online , talk to people online , and also provides entertainment for some people . all good qualities that make everyones lives easier . imagine you look into your refrigerator and you notice its almost empty . someone is using the car and you need to go grocery shopping and the store is too far . what do you do ? well you could go on a computer and look for food online . ther are many great deals and some companies even deliver for free ! the amazing and easy way to buy food without leaving your house . but food isnt all you can purchase . many products are sold through the computer . need new toys for kids ? or how about a new hat for your friend ? maybe even more curtains for your room ? well at the easy access of internet on a computer , you can buy all those items and more . the computer has also the way of communication . lets say someone wants to talk to a friend or relative that lives far away in another country . <caps> someone dosent own a phone or <caps> they cant make the call , all these is to be in you on the computer . you can communicate with anyone just by using your email adress . now friends and families can talk to each other over the ease of the computer . just type to want to say and boom , instant , on the chat . lets face it . no matter what a child or even teenager . but now with a computer all that can change . with just one click you could actually be watching a movie from the comfort of your own home . but what <caps> you dont want a movie ? no entertainment like listing to musics , watching fun , and probable the most popular playing games . everyone loves to play a game every once in a while , and with the selection of thousands of online games , these isnt or person who cant fled atleast our game enjoyable . there are even games for educational fun that many kids love . with all the entertainment a computer can produce; who could hate it ? all in all the computer is a revolutinizing device that has changes the way we shop , communicate , and find exciting entertainment . to be able to do so much with just a couple clicks; new that i find extravagant . it blows my mind to see and think , <caps> we can do this now , i wonder what we can accomplish in the future .\\n',\n",
       " 'in the <location> we have the technology of a computer . some say that the computers are good for the society . i disagree , i believe that it is bad for a few reasons . some of the reasons are obesity , cramps , more sexual harrassment and even cyber bullying . first if people dont get off the computers and go out to exercise then it will cause obesity . think of it this way , if you watch a kid that didnt have to go to school his entire life and he started off at <num> pounds . the only thing the kid will want to do is play on the computer and he will gain weight . next , tip-top-tip-top , thats all you hear when a kid is on the computer , <caps> teens come home from school and go straight to the computer and dont get off about on a school night . these are the kids that are <caps> likely to get bad cramps . they get the cramps form typing to fast , hard and too long . they also can get the cramps from just sitting down for to long then trying to get up but cant because it hurts to much to decide to move anywhere . theres also a lot more of sexual harassment that is going on some kids goin to a chat room to talk to their friends about some great news , but when they get out of the chat room they are all mad and pissed off . the reason is because someone was making fun of them and they didnt like it . this happens maybe close to <percent> of the time that teens and even parents go into chat rooms online . this is the third reason on why computers have an huge effect on people . the last reason that computers have a huge effect on people is because of cyberbullying . cyberbullying is when someone bullies you but just online instead . have you realized that children became poor or sick because they dont want to be hurt or killed over something very stupid ? well , i have and its not nice , and now the god thing is if a kid goes to school online he/she <month> get cyberbullied because hes not smart enough or if he/she dont have the money to go to school . the cyberbullying normally occures in a chat room online . there is where all of the family will either become broke with no money or food . they <month> even lose their kid or the house that they live in because someone wanted to act all big and bad to be popular in school . in conclusion , these are only a few ways that computers effects people . the obesity , cramps , sexual harrassment and cyberbullying are not a joke and its not fun to get done to you . now its your turn to tell us what you think about the computers . do you think computers are good and benefits society or is it bad a rot little kids brains to make their lives horrible for them to live with ?\\n',\n",
       " 'dear <location> , <caps> people acknowledge the great advances that computers give us , but they also put us at <caps> disadvantages . computers have been known to help develop health issues . as people become more intune with the online world , they tend to interact with their family less . dont forget the danger of online predators - theyre deadly . <caps> people who do nothing , but watch television are often refered to as cauch potatoes . those who are glued to their computer screens are no better . it is stated by numerous of <location> top doctors that too much time spent on the computer can cause damage to your health . exercise is highly stressed by doctors around the globe and the only exercise a computer addict will be doing is typing up a storm . they can submerge themselves into obesity . this often causes depression as it begins to sink in . addition itself is a serious health issue . i wouldnt be surprised if they add a computer wing to rehab centers sometime in the near future . these problems are slowly spreading and we must come together to abolish them ! family time is an treasured value , to the <caps> people , but lately , computers are ruining this tradition . with so <caps> people absorbed with online drama , friends , and even video games , family interaction is declining . people slowly remove themselves from reality and enter an alternate world of cyberspace . they <month> only emerge from their rooms to use the bathroom and eat , scarcely resting . this can cause great tension or sorrow in <caps> families . who can erase the horrifying stories of abduction from their memories ? online predators are highly dangerous and extremely clever . your children could be talking to someone they believe is another teenager looking for a friend to console in when , really , they are a forty-year-old serial killer waiting to find the right time to attack . studies show that one fourth of online users have had an encounter with a dangerous person .\\n',\n",
       " 'dear <caps> <caps> i feel that computers do take away from peoples life and arent as important than the other factors of life . first of all you know that the world is becoming obease because of lack of exercise . also people dont realize that <caps> warming is becomeing a big problum . finally familys arnt as close as they used to be . these are all the reasons why computers arnt important to human socioty . first of the world is becomeing obease and cumputers play a huge part in this . computers dont make people exercise they basicly just sit down on there couch and use the computer this wont help amarica get back into shape . also computers become a habbit if a person uses a computer everyday of there life it will become an addiction then they wont be able to stop . finally when people use the computer they dont realize the lack exersise there getting . this is the first reason why computeres are a bad thing . next <caps> warming is mealting the polar ice caps . computers play a part in <caps> warming because they use electricty and thjen the electrisity melts the polar ice caps . if this keeps happining then they will all melt and we will not have a shorline and half of the world will be fluded . finally computers play a huge part in <caps> warming because of the fact that they are so popular . this is another reason why computers are bad . finally the last reason why computers are bad is because they take away from your family life . for instance there are more and more familys splitting up now and sientest sat that <percent> of the time its because of technolagy . when on peroson is on the computer the other people feel that they love the computer more than they love themselfs . then they split up for good . this is the last reason why i feel computers are bad . in conclution you can see that computeres are a bad thing . first of all you can see that amarica is becomeing obease because of the computers . also computers are causeing <caps> warming and are eventually goung to flood the earth . and last but not least computers take away from peoples family life and cause them to split up and become unhappy . these are all the reasons why computers are bad .\\n',\n",
       " 'dear local newspaper i raed ur argument on the computers and i think they are a positive effect on people . the first reson i think they are a good effect is because you can do so much with them like if you live in mane and ur cuzin lives in califan you and him could have a wed chat . the second thing you could do is look up news any were in the world you could be stuck on a plane and it would be vary boring when you can take but ur computer and go on ur computer at work and start doing work . when you said it takes away from exirsis well some people use the computer for that too to chart how fast they run or how meny miles they want and sometimes what they eat . the thrid reson is some peolpe jobs are on the computers or making computers for exmple when you made this artical you didnt use a type writer you used a computer and printed it out if we didnt have computers it would make ur <caps> a lot harder . thank you for reading and whe you are thinking adout it agen pleas consiter my thrie resons .\\n',\n",
       " 'my three detaileds for this news paper article is one state you opinion about the effects of computers . seconde give detailed resons that will persuade of the local newspaper to agree with yor postition . this are my three ideas to the news paper article . to bigin my opinion about the computer effects are wast time . many people wast time computers like fat people insted by insted by in the computer go and run or exercising . insted be computer go out ur girlfriend or family or family or friends to have fun . so be incomputer to long is bad many kids wach bad stuff like for adults . is good to be in computer but not to long . to start you shod agree with me becasue my detailed and my reason . my resons are many airs the bas stuff like porn . many kids wach that it ruins ther mainly and the futur . they get addicted to that watching . so people that use computer for good stuff its old for mids for good ganes of good . this are my detailed and resons for yor with me . to bigin and going to organize my ideas and well and present them clearly . it good to be at the computer but not the long insted go out plat and exersus . abd yor can enjoy life insted be in computer . the bad things many kids wach bad stuff and cmputer has relly bad staff . the computer is use for evrye thing this days . this how organize my ideas . in conclusion this are my ideas for the news papaer . ols i state my opinion on computer effects . i give detailed and resons that will persuade local news paper and to agree with me . think i organize my ideas as much present them clearly . this are my ideas so could new papaer to se computers effects .\\n',\n",
       " 'dear , in this world today we should have everyone useing computers . computers have a positive effect on people . they teach hand-eye coordination , give people the ability to learn about faraway places and people , and even allow people to talk online with other people . today computers are like the worlds biggest book of knowledge . everything you need to know is in a computer . you can look up faraway places , and zap theres everything you need to know write in front of you . computers are fast and easy , everyone can use them . today kids are so addicted to computers everyday they are on them . there are so many websites that kids and teens go on , like <caps> , and facebook ect . on these websites kids as young as ten years old are chatting with friends and putting up pictures . thers is also webchat websites that allow you to use a webcame and talk to people anywhere in the world . computers are a great way to get in touch with people . everyone should have a computer in there home today .\\n',\n",
       " 'dear <organization> , the computer blinked to life and an image of a blonde haired girl filled the screen . it was easy to find out how life was in <location> , thanks to the actual <caps> girl explaining it . going to the library wouldnt have filled one with this priceless information and human interection . computers are a nessessity of life if soceity wishes to grow and expand . they should be supported because they teach hand eye coordination , give people the ability to learn about faraway places , and allow people to talk to others online . firstly , computers help teach hand eye coordination . hand-eye coordination is a useful ability that is usod to excel in sports . in a recent survey , <percent> of kids felt their hand eye coordination improves after computer use . even a simple thing like tying can build up this skill . famous neurologist <caps> <person> stated in an article last week that , <caps> and computer strength the <caps> . when on the computer , you automatically process what the eyes see into a command for your hands . <caps> hand eye coordination can improve people in sports such as baseball and basketball . if someone want to become better in these sports , all theyd need to do was turn on the computer . once people become better at sports , theyre more likely to play them and become more healthy . in reality , computers can help with exercising instead of decreasing it . additionaly , computers allow people to access information about faraway places and people . if someone wanted to reasearch <location> , all theyd need to do was type in a search would be presented to them in it would link forever to search through countless things . also , having the ability to learn about cultures can make peole peole and their cultures , they understand others something . increase tolerance people are . computers are a resourceful tool that they can help people in every different aspect of life . lastly , computer and in technology can allow people to chat . computer chat and video chat can help the all different nations . bring on good terms places other than can help us understand story comes out about something that happend in <location> , people can just go on their computer and ask an actual <location> citizen their take on the matter . also , video chat and online conversation can cut down on expensive phone bills . no one wants to pay more than they have to in this economy . another good point is that you can acess family members you scaresly visit . it can help you connect within your own family more . oviously , computers are a useful aid in todays era . their advancements push the world foreward to a better place . computers can help people because they help teach handeye coordination , give people the bility to learn about faraway places and people , and allow people to talk online with others . think of a world with no computers or technologicall advancements . the world would be sectored and unified , contact between people scare , and information even . the internet is like thousands or librarys put together . nobody would know much about other nations and news would travel slower . is that the kind of palce you want people to live in ?\\n',\n",
       " 'dear local newspaper , i belive that computers have a negative effect on peoples lives . i belive this because who spend to much time on the computer dont get out as much as they should , dont spend enough time with their family , and the computer cant do everything . my first reason is i belive that people need to get out more . when they dont get out , they dont exersise and that is very unhealthy . instead of watching the games or the scores they should get out and play the game . i also belive that they should enjoy nature because i feel like they are wasting the beauty of nature all around them . we wouldnt want to waste our abilities and privalges would we ? another reason is that they do not spend enough time with family . if you have family near you , then you should take advantage of that and interact with one another . you can have fun with your family by playing games . you can also have fun by just hanging out , which boost your social skills and the computer cant always do that , which brings me to my next point . the computer cant do everything , so take advantage of what you have now . some computer time is fine , but it can be very dangerous by getting addictted to it . the computer <month> have lots of information , but there is nothing that you cant find in a book . your computer cant love your dog , so there is a reason why we should get off the computer . there are pleanty of other things that you can do that you cant do on the computer , including sports , taking care of family , and any of your hobbys . remember that the computer <month> be great from time to time , but it can not live your life for you . that is why i belive that we should spend less time on the computer , and more time getting out , and having fun with family , and that the the computer cant do everything .\\n',\n",
       " 'dear local newspaper , i must admit that the experts are centainly right cause i know people that stay on the computer all day and thats really not good if you ask me . instead of being on computers learning about faraway places , and talking to other people , you should go exercising , you should relax , and you should interact with family and friends . exercising is much more better than being on a computer , and i say that to say this . when your on a computer just sitting there playing online games and checking other things out , or whatever the case <month> be , you get board , and hungry , and i know theres some snacks around you while your doing whatever your doing . instead of being on a computer for <num> or <num> hours or maybe even all day getting fat . there are many ways you can exercise . you can take walks , you can go joggin , you could play a sport , i mean there are a lot of things you can do when your not on a computer . i know some people that could be workin all day and still come home to there computer . rest is good also . you dont always have to jump on your computer , you could just relax watch a movie , eat some pop corn and just enjoy yourself , you could even take a nap for a little while or something but you dont always have to get straight on your computer if you really dont have to use it . the way i see it is family , and computers are always going to be there but at the same time which one is more important . friends arent always dependable so you really dont need them around only a selected few , but thats not the point . both family , and your true friends have feelings , and if your not spending time with them over a computer that your gonna have when you leave , and come back home too something isnt right . tomorrow isnt promised , we live for today . so enjoy life while you got the chance , and spend time doing something active , with family and friends , and if your really into computers , try to balance your time out .\\n',\n",
       " 'i aegre waf the evansmant ov tnachnolage . the evansmant ov tnachnolige is being to halp fined a kohar froi alnsas . tnanchnolage waf ont ot we wod not go to the moon . tnachnologe evans as we maech at . the people are in tnacholege to the frchr fror the good ov live . famas invanyor ues tnacholage leki lena orde dvanse and his fling mashine . tnachologe is the grat\\n',\n",
       " 'well computers can be a good or a bad thing . i don<caps> realy see <caps> computers can be a bad thing for me . i also know <caps> computers can or will help people all around the world . i think computers has positive effects on people like me . computers teaches hand-eye coordination . it can help if you need to find out reasearch for a school project . you can create lots of things on computers like music , desiner <caps>-shirts , logos , banners and lots of other creative things . with computer you can look up available homes and apartments . you can even go online and fill out a job application and save trips to stores <caps> cool is that ! ! well im a regular person not rich not famous but computers provide lot of information people use today . thats why i think that computers has a positive effects on people and you don<caps> have to be super smart to use one .\\n']"
      ]
     },
     "execution_count": 106,
     "metadata": {},
     "output_type": "execute_result"
    }
   ],
   "source": [
    "clean_aes[0:20]"
   ]
  },
  {
   "cell_type": "code",
   "execution_count": 108,
   "metadata": {},
   "outputs": [
    {
     "data": {
      "application/vnd.jupyter.widget-view+json": {
       "model_id": "7b796100cd914790ad301e5502a08eb2",
       "version_major": 2,
       "version_minor": 0
      },
      "text/plain": [
       "HBox(children=(IntProgress(value=0, max=10826), HTML(value='')))"
      ]
     },
     "metadata": {},
     "output_type": "display_data"
    },
    {
     "name": "stdout",
     "output_type": "stream",
     "text": [
      "\n"
     ]
    }
   ],
   "source": [
    "\n",
    "d_check = lambda words: map(lambda x: d.check(x), words)\n",
    "split_aes = []\n",
    "for essay in tqdm.notebook.tqdm(clean_aes):\n",
    "    split_up = sent_tokenize(essay)\n",
    "    for sent in split_up:\n",
    "        words_ex_tokens = [x for x in sent.split() if x.upper().strip('<').strip('>') not in general_tokens]\n",
    "        words = word_tokenize(' '.join(words_ex_tokens))\n",
    "        if not all(list(d_check(words))):\n",
    "            continue\n",
    "        if len(words) > 30:\n",
    "            continue\n",
    "        if len(words) < 4:\n",
    "            continue\n",
    "        split_aes.append(sent+'\\n')"
   ]
  },
  {
   "cell_type": "code",
   "execution_count": 110,
   "metadata": {},
   "outputs": [
    {
     "data": {
      "text/plain": [
       "59886"
      ]
     },
     "execution_count": 110,
     "metadata": {},
     "output_type": "execute_result"
    }
   ],
   "source": [
    "len(split_aes)"
   ]
  },
  {
   "cell_type": "code",
   "execution_count": 40,
   "metadata": {},
   "outputs": [],
   "source": [
    "taggedCorpus = [\n",
    "    \"http://www.gutenberg.org/cache/epub/5827/pg5827.txt\", #Russell, The Problems of Philosophy\n",
    "    \"http://www.gutenberg.org/cache/epub/15718/pg15718.txt\", #Bleyer, How To Write Special Feature Articles\n",
    "    \"https://www.gutenberg.org/files/492/492-0.txt\", #Essays in the Art of Writing, by Robert Louis\n",
    "    \"https://www.gutenberg.org/files/37090/37090-0.txt\", #Our Knowledge of the External World as a Field for Scientific Method in Philosoph, by Bertrand Russell\n",
    "    \"https://www.gutenberg.org/files/42580/42580-8.txt\", #Expository Writing, by Mervin James Curl\n",
    "    \"http://www.gutenberg.org/cache/epub/2529/pg2529.txt\", #The Analysis of Mind, by Bertrand Russell\n",
    "    \"https://www.gutenberg.org/files/38280/38280-0.txt\", #Modern Essays, by Various\n",
    "    \"https://www.gutenberg.org/files/205/205-0.txt\", #Walden, and On The Duty Of Civil Disobedience, by Henry David Thoreau\n",
    "    \"https://www.gutenberg.org/files/1022/1022-0.txt\", #Walking, by Henry David Thoreau\n",
    "    \"http://www.gutenberg.org/cache/epub/34901/pg34901.txt\",\n",
    "    \"https://www.gutenberg.org/files/98/98-0.txt\",\n",
    "    \"http://www.gutenberg.org/cache/epub/32168/pg32168.txt\",\n",
    "    \"https://www.gutenberg.org/files/1250/1250-0.txt\",\n",
    "    \"https://www.gutenberg.org/files/140/140-0.txt\",\n",
    "    \"https://www.gutenberg.org/files/215/215-0.txt\", # London, call of the wild.\n",
    "    \"http://www.gutenberg.org/cache/epub/910/pg910.txt\", #London White Fang\n",
    "    \"http://www.gutenberg.org/cache/epub/10378/pg10378.txt\",\n",
    "    \"http://www.gutenberg.org/cache/epub/5123/pg5123.txt\",\n",
    "    \"http://www.gutenberg.org/cache/epub/5669/pg5669.txt\",\n",
    "    \"https://ota.bodleian.ox.ac.uk/repository/xmlui/bitstream/handle/20.500.12024/1906/cardinal-1906.txt?sequence=3&isAllowed=y\",\n",
    "    \"https://ota.bodleian.ox.ac.uk/repository/xmlui/bitstream/handle/20.500.12024/1658/WoolfWaves-1658.txt?sequence=4&isAllowed=y\",\n",
    "    \"https://ota.bodleian.ox.ac.uk/repository/xmlui/bitstream/handle/20.500.12024/0172/moderns-0172.txt?sequence=4&isAllowed=y\",\n",
    "]\n"
   ]
  },
  {
   "cell_type": "code",
   "execution_count": 41,
   "metadata": {},
   "outputs": [],
   "source": [
    "def filterSentences(sentList):\n",
    "    filteredList = []\n",
    "    for sent in sentList:\n",
    "        sent = sent.replace(\"\\\\\",\"\")\n",
    "        sent = sent.replace(\"\\\\'\",\"\")\n",
    "\n",
    "\n",
    "        if len(sent) < 40:\n",
    "            continue\n",
    "        if '^' in sent:\n",
    "            continue\n",
    "#         if bool(re.search(r'\\d', sent)):\n",
    "#             continue\n",
    "        if bool(re.search(r\"\\b[A-Z][A-Z]+\\b\", sent)):\n",
    "            continue\n",
    "#         if bool(re.search(r'\\\"', sent)):\n",
    "#             continue\n",
    "        if bool(re.search(r'_', sent)):\n",
    "            continue\n",
    "\n",
    "        sent = sent.strip()\n",
    "#         sent = sent.lower()\n",
    "        sent = ' '.join(sent.split())\n",
    "        filteredList.append(sent + '\\n')\n",
    "\n",
    "    return filteredList"
   ]
  },
  {
   "cell_type": "code",
   "execution_count": 42,
   "metadata": {},
   "outputs": [],
   "source": [
    "def readCorpus(url):\n",
    "    content = requests.get(url).content.decode('ascii', 'ignore')\n",
    "    content_list = sent_tokenize(content.replace('\\r\\n', ' '))\n",
    "    \n",
    "    filtered_list = filterSentences(content_list)\n",
    "    \n",
    "    return filtered_list[100:]"
   ]
  },
  {
   "cell_type": "code",
   "execution_count": 43,
   "metadata": {},
   "outputs": [],
   "source": [
    "taggedTexts = []\n",
    "for url in taggedCorpus:\n",
    "    taggedTexts.append(readCorpus(url))"
   ]
  },
  {
   "cell_type": "code",
   "execution_count": 44,
   "metadata": {},
   "outputs": [
    {
     "data": {
      "text/plain": [
       "50860"
      ]
     },
     "execution_count": 44,
     "metadata": {},
     "output_type": "execute_result"
    }
   ],
   "source": [
    "sum([len(x) for x in taggedTexts])"
   ]
  },
  {
   "cell_type": "code",
   "execution_count": 45,
   "metadata": {},
   "outputs": [],
   "source": [
    "allTaggedSophs = [y for x in taggedTexts for y in x]"
   ]
  },
  {
   "cell_type": "code",
   "execution_count": 46,
   "metadata": {},
   "outputs": [
    {
     "data": {
      "text/plain": [
       "'Lawrence, however, with Kansas progressiveness, proposes to cure these ills.\\n'"
      ]
     },
     "execution_count": 46,
     "metadata": {},
     "output_type": "execute_result"
    }
   ],
   "source": [
    "allTaggedSophs[3098]"
   ]
  },
  {
   "cell_type": "code",
   "execution_count": null,
   "metadata": {},
   "outputs": [],
   "source": []
  },
  {
   "cell_type": "markdown",
   "metadata": {},
   "source": [
    "#### StanfordNERTagger"
   ]
  },
  {
   "cell_type": "code",
   "execution_count": 11,
   "metadata": {},
   "outputs": [],
   "source": [
    "from nltk.tag import StanfordNERTagger"
   ]
  },
  {
   "cell_type": "code",
   "execution_count": 13,
   "metadata": {},
   "outputs": [],
   "source": [
    "jar = \"stanford-ner-2018-10-16/stanford-ner-3.9.2.jar\"\n",
    "model = \"stanford-ner-2018-10-16/classifiers/english.muc.7class.distsim.crf.ser.gz\"\n"
   ]
  },
  {
   "cell_type": "code",
   "execution_count": 22,
   "metadata": {},
   "outputs": [],
   "source": [
    "st = StanfordNERTagger(model, jar) "
   ]
  },
  {
   "cell_type": "code",
   "execution_count": 71,
   "metadata": {},
   "outputs": [],
   "source": [
    "TAG_HASH = {}\n",
    "\n",
    "def tagSentence(sent):\n",
    "    tokenize = word_tokenize(sent)\n",
    "    tagged = st.tag(tokenize)\n",
    "    \n",
    "    tokens = dict([x for x in tagged if x[1] != 'O'])\n",
    "    tokens = {x: \"<\" + y  + \">\" for x,y in tokens.items() }\n",
    "    new_sent = [tokens.get(x, x) for x in tokenize]\n",
    "    for word, repl in tokens.items():\n",
    "        TAG_HASH[word] = repl\n",
    "    \n",
    "    return(' '.join(new_sent) + '\\n')"
   ]
  },
  {
   "cell_type": "code",
   "execution_count": 106,
   "metadata": {},
   "outputs": [],
   "source": [
    "write_path = '/home/ubuntu/CS_230_Project/data/processed/tagged_data/'\n",
    "batches = [x for x in range(len(allTaggedSophs)) if x % 1000 == 0]\n",
    "batches.append(len(allTaggedSophs))"
   ]
  },
  {
   "cell_type": "code",
   "execution_count": 4,
   "metadata": {},
   "outputs": [],
   "source": [
    "for i in tqdm.notebook.tqdm(range(len(batches)-1)):\n",
    "    \n",
    "    start = batches[i]\n",
    "    stop = batches[i+1]\n",
    "    batch = allTaggedSophs[start:stop]\n",
    "\n",
    "    stanfordTaggedSophs = []\n",
    "    for sent in tqdm.notebook.tqdm(batch):\n",
    "        stanfordTaggedSophs.append(tagSentence(sent))\n",
    "        \n",
    "    with open(write_path + f'batch{i}', 'w') as f:\n",
    "        f.writelines(stanfordTaggedSophs)"
   ]
  },
  {
   "cell_type": "code",
   "execution_count": 113,
   "metadata": {},
   "outputs": [
    {
     "data": {
      "text/plain": [
       "{'Descartes': '<PERSON>',\n",
       " 'Detroit': '<LOCATION>',\n",
       " 'United': '<LOCATION>',\n",
       " 'States': '<LOCATION>',\n",
       " 'Lawrence': '<PERSON>',\n",
       " 'Kansas': '<ORGANIZATION>',\n",
       " 'Blackmar': '<PERSON>',\n",
       " 'the': '<ORGANIZATION>',\n",
       " 'University': '<ORGANIZATION>',\n",
       " 'of': '<ORGANIZATION>',\n",
       " 'Leibniz': '<PERSON>',\n",
       " 'Berkeley': '<LOCATION>',\n",
       " 'Bishop': '<LOCATION>',\n",
       " 'China': '<LOCATION>',\n",
       " 'Bismarck': '<PERSON>',\n",
       " 'Germany': '<LOCATION>',\n",
       " 'London': '<LOCATION>',\n",
       " 'England': '<LOCATION>',\n",
       " 'Europe': '<LOCATION>',\n",
       " 'Earth': '<LOCATION>'}"
      ]
     },
     "execution_count": 113,
     "metadata": {},
     "output_type": "execute_result"
    }
   ],
   "source": [
    "TAG_HASH"
   ]
  },
  {
   "cell_type": "code",
   "execution_count": 5,
   "metadata": {},
   "outputs": [],
   "source": []
  },
  {
   "cell_type": "code",
   "execution_count": 23,
   "metadata": {},
   "outputs": [
    {
     "name": "stdout",
     "output_type": "stream",
     "text": [
      "('GPE', Kansas)\n"
     ]
    }
   ],
   "source": []
  },
  {
   "cell_type": "markdown",
   "metadata": {},
   "source": [
    "#### spacy"
   ]
  },
  {
   "cell_type": "code",
   "execution_count": 47,
   "metadata": {},
   "outputs": [],
   "source": [
    "#https://spacy.io/api/annotation#named-entities\n",
    "spacy2stanford = {\n",
    "    'NORP': 'CAPS',\n",
    "    'FAC': 'LOCATION',\n",
    "    'ORG': 'ORGANIZATION',\n",
    "    'GPE': 'STATE',\n",
    "    'LOC': 'LOCATION',\n",
    "    'PRODUCT': 'CAPS',\n",
    "    'EVENT': 'CAPS',\n",
    "    'WORK_OF_ART': 'CAPS',\n",
    "    'LAW': 'CAPS',\n",
    "    'LANGUAGE': 'CAPS',\n",
    "    'QUANTITY': 'NUM',\n",
    "    'ORDINAL': 'NUM',\n",
    "    'CARDINAL': 'NUM'   \n",
    "}"
   ]
  },
  {
   "cell_type": "code",
   "execution_count": 48,
   "metadata": {},
   "outputs": [],
   "source": [
    "spacy_nlp = spacy.load(\"en_core_web_sm\")"
   ]
  },
  {
   "cell_type": "code",
   "execution_count": 49,
   "metadata": {},
   "outputs": [],
   "source": [
    "write_path = '/home/ubuntu/CS_230_Project/data/processed/tagged_data/'"
   ]
  },
  {
   "cell_type": "code",
   "execution_count": 50,
   "metadata": {},
   "outputs": [],
   "source": [
    "\n",
    "batches = [x for x in range(len(allTaggedSophs)) if x % 1000 == 0]\n",
    "batches.append(len(allTaggedSophs))"
   ]
  },
  {
   "cell_type": "code",
   "execution_count": 51,
   "metadata": {},
   "outputs": [],
   "source": [
    "SPACY_TOKENS = {}\n",
    "def spacyTagger(sent):\n",
    "    tokenize = word_tokenize(sent)\n",
    "    document = spacy_nlp(sent)\n",
    "    token_map = {}\n",
    "    for element in document.ents:\n",
    "        label = spacy2stanford.get(str(element.label_), str(element.label_))\n",
    "        SPACY_TOKENS[str(element)] = label\n",
    "        token_map[str(element)] = \"<\" + label + \">\"\n",
    "    \n",
    "    new_sent = [token_map.get(x, x) for x in tokenize]\n",
    "    \n",
    "    return(' '.join(new_sent) + '\\n')"
   ]
  },
  {
   "cell_type": "code",
   "execution_count": 52,
   "metadata": {},
   "outputs": [
    {
     "data": {
      "application/vnd.jupyter.widget-view+json": {
       "model_id": "220713a9a3c54f99951b1f75f9e1d3e8",
       "version_major": 2,
       "version_minor": 0
      },
      "text/plain": [
       "HBox(children=(IntProgress(value=0, max=50860), HTML(value='')))"
      ]
     },
     "metadata": {},
     "output_type": "display_data"
    },
    {
     "name": "stdout",
     "output_type": "stream",
     "text": [
      "\n"
     ]
    }
   ],
   "source": [
    "\n",
    "spacyTaggedSophs = []\n",
    "for sent in tqdm.notebook.tqdm(allTaggedSophs):\n",
    "    spacyTaggedSophs.append(spacyTagger(sent))\n",
    "\n",
    "with open(write_path + f'spacyTaggedSophs.txt', 'w') as f:\n",
    "    f.writelines(spacyTaggedSophs)"
   ]
  },
  {
   "cell_type": "code",
   "execution_count": 53,
   "metadata": {},
   "outputs": [],
   "source": [
    "with open(write_path + 'spacyTaggedSophs.txt') as f:\n",
    "    tagged = f.readlines()"
   ]
  },
  {
   "cell_type": "code",
   "execution_count": 140,
   "metadata": {},
   "outputs": [],
   "source": [
    "tagged = list(map(str.lower, tagged))"
   ]
  },
  {
   "cell_type": "code",
   "execution_count": 141,
   "metadata": {},
   "outputs": [
    {
     "data": {
      "text/plain": [
       "['but doubt concerning his own existence was not possible , for if he did not exist , no demon could deceive him .\\n',\n",
       " 'if he doubted , he must exist ; if he had any experiences whatever , he must exist .\\n',\n",
       " 'thus his own existence was an absolute certainty to him .\\n',\n",
       " 'by inventing the method of doubt , and by showing that subjective things are the most certain , <person> performed a great service to philosophy , and one which makes him still useful to all students of the subject .\\n',\n",
       " \"but some care is needed in using <person> ' argument .\\n\",\n",
       " \"'i think , therefore i am ' says rather more than is strictly certain .\\n\",\n",
       " 'it might seem as though we were quite sure of being the same person to-day as we were <date> , and this is no doubt true in some sense .\\n',\n",
       " 'but the real self is as hard to arrive at as the real table , and does not seem to have that absolute , convincing certainty that belongs to particular experiences .\\n',\n",
       " \"this of course involves something ( or somebody ) which ( or who ) sees the brown colour ; but it does not of itself involve that more or less permanent person whom we call 'i ' .\\n\",\n",
       " 'so far as immediate certainty goes , it might be that the something which sees the brown colour is quite momentary , and not the same as the something which has some different experience the next moment .\\n',\n",
       " 'thus it is our particular thoughts and feelings that have primitive certainty .\\n',\n",
       " 'and this applies to dreams and hallucinations as well as to normal perceptions : when we dream or see a ghost , we certainly do have the sensations we think we have , but for various reasons it is held that no physical object corresponds to these sensations .\\n',\n",
       " 'thus the certainty of our knowledge of our own experiences does not have to be limited in any way to allow for exceptional cases .\\n',\n",
       " 'here , therefore , we have , for what it is worth , a solid basis from which to begin our pursuit of knowledge .\\n',\n",
       " 'the problem we have to consider is this : granted that we are certain of our own sense-data , have we any reason for regarding them as signs of the existence of something else , which we can call the physical object ?\\n',\n",
       " 'when we have enumerated all the sense-data which we should naturally regard as connected with the table , have we said all there is to say about the table , or is there still something else -- something not a sense-datum , something which persists when we go out of the room ?\\n',\n",
       " 'common sense unhesitatingly answers that there is .\\n',\n",
       " 'if the cloth completely hides the table , we shall derive no sense-data from the table , and therefore , if the table were merely sense-data , it would have ceased to exist , and the cloth would be suspended in empty air , resting , by a miracle , in the place where the table formerly was .\\n',\n",
       " 'this seems plainly absurd ; but whoever wishes to become a philosopher must learn not to be frightened by absurdities .\\n',\n",
       " '<num> great reason why it is felt that we must secure a physical object in addition to the sense-data , is that we want the same object for different people .\\n',\n",
       " 'when <num> people are sitting round a dinner-table , it seems preposterous to maintain that they are not seeing the same tablecloth , the same knives and forks and spoons and glasses .\\n',\n",
       " 'but the sense-data are private to each separate person ; what is immediately present to the sight of one is not immediately present to the sight of another : they all see things from slightly different points of view , and therefore see them slightly differently .\\n',\n",
       " 'thus , if there are to be public neutral objects , which can be in some sense known to many different people , there must be something over and above the private and particular sense-data which appear to various people .\\n',\n",
       " 'what reason , then , have we for believing that there are such public neutral objects ?\\n',\n",
       " \"the <num> answer that naturally occurs to one is that , although different people may see the table slightly differently , still they all see more or less similar things when they look at the table , and the variations in what they see follow the laws of perspective and reflection of light , so that it is easy to arrive at a permanent object underlying all the different people 's sense-data .\\n\",\n",
       " 'thus it is the fact that different people have similar sense-data , and that <num> person in a given place at different times has similar sense-data , which makes us suppose that over and above the sense-data there is a permanent public object which underlies or causes the sense-data of various people at various times .\\n',\n",
       " 'now in so far as the above considerations depend upon supposing that there are other people besides ourselves , they beg the very question at issue .\\n',\n",
       " 'other people are represented to me by certain sense-data , such as the sight of them or the sound of their voices , and if i had no reason to believe that there were physical objects independent of my sense-data , i should have no reason to believe that other people exist except as part of my dream .\\n',\n",
       " \"thus , when we are trying to show that there must be objects independent of our own sense-data , we can not appeal to the testimony of other people , since this testimony itself consists of sense-data , and does not reveal other people 's experiences unless our own sense-data are signs of things existing independently of us .\\n\",\n",
       " 'we must therefore , if possible , find , in our own purely private experiences , characteristics which show , or tend to show , that there are in the world things other than ourselves and our private experiences .\\n',\n",
       " 'in <num> sense it must be admitted that we can never prove the existence of things other than ourselves and our experiences .\\n',\n",
       " 'no logical absurdity results from the hypothesis that the world consists of myself and my thoughts and feelings and sensations , and that everything else is mere fancy .\\n',\n",
       " 'in dreams a very complicated world may seem to be present , and yet on waking we find it was a delusion ; that is to say , we find that the sense-data in the dream do not appear to have corresponded with such physical objects as we should naturally infer from our sense-data .\\n',\n",
       " '( it is true that , when the physical world is assumed , it is possible to find physical causes for the sense-data in dreams : a door banging , for instance , may cause us to dream of a naval engagement .\\n',\n",
       " 'but although , in this case , there is a physical cause for the sense-data , there is not a physical object corresponding to the sense-data in the way in which an actual naval battle would correspond . )\\n',\n",
       " 'there is no logical impossibility in the supposition that the whole of life is a dream , in which we ourselves create all the objects that come before us .\\n',\n",
       " 'but although this is not logically impossible , there is no reason whatever to suppose that it is true ; and it is , in fact , a less simple hypothesis , viewed as a means of accounting for the facts of our own life , than the common-sense hypothesis that there really are objects independent of us , whose action on us causes our sensations .\\n',\n",
       " 'the way in which simplicity comes in from supposing that there really are physical objects is easily seen .\\n',\n",
       " 'if the cat appears at <num> moment in <num> part of the room , and at another in another part , it is natural to suppose that it has moved from the <num> to the other , passing over a series of intermediate positions .\\n',\n",
       " 'but if it is merely a set of sense-data , it can not have ever been in any place where i did not see it ; thus we shall have to suppose that it did not exist at all while i was not looking , but suddenly sprang into being in a new place .\\n',\n",
       " 'if the cat exists whether i see it or not , we can understand from our own experience how it gets hungry between one meal and the next ; but if it does not exist when i am not seeing it , it seems odd that appetite should grow during non-existence as fast as during existence .\\n',\n",
       " 'and if the cat consists only of sense-data , it can not be hungry , since no hunger but my own can be a sense-datum to me .\\n',\n",
       " 'thus the behaviour of the sense-data which represent the cat to me , though it seems quite natural when regarded as an expression of hunger , becomes utterly inexplicable when regarded as mere movements and changes of patches of colour , which are as incapable of hunger as a triangle is of playing football .\\n',\n",
       " 'but the difficulty in the case of the cat is nothing compared to the difficulty in the case of human beings .\\n',\n",
       " 'when human beings speak -- that is , when we hear certain noises which we associate with ideas , and simultaneously see certain motions of lips and expressions of face -- it is very difficult to suppose that what we hear is not the expression of a thought , as we know it would be if we emitted the same sounds .\\n',\n",
       " 'of course similar things happen in dreams , where we are mistaken as to the existence of other people .\\n',\n",
       " 'but dreams are more or less suggested by what we call waking life , and are capable of being more or less accounted for on scientific principles if we assume that there really is a physical world .\\n',\n",
       " 'thus every principle of simplicity urges us to adopt the natural view , that there really are objects other than ourselves and our sense-data which have an existence not dependent upon our perceiving them .\\n',\n",
       " 'of course it is not by argument that we originally come by our belief in an independent external world .\\n',\n",
       " 'we should never have been led to question this belief but for the fact that , at any rate in the case of sight , it seems as if the sense-datum itself were instinctively believed to be the independent object , whereas argument shows that the object can not be identical with the sense-datum .\\n',\n",
       " 'since this belief does not lead to any difficulties , but on the contrary tends to simplify and systematize our account of our experiences , there seems no good reason for rejecting it .\\n',\n",
       " 'we may therefore admit -- though with a slight doubt derived from dreams -- that the external world does really exist , and is not wholly dependent for its existence upon our continuing to perceive it .\\n',\n",
       " 'the argument which has led us to this conclusion is doubtless less strong than we could wish , but it is typical of many philosophical arguments , and it is therefore worth while to consider briefly its general character and validity .\\n',\n",
       " 'all knowledge , we find , must be built up upon our instinctive beliefs , and if these are rejected , nothing is left .\\n',\n",
       " 'but among our instinctive beliefs some are much stronger than others , while many have , by habit and association , become entangled with other beliefs , not really instinctive , but falsely supposed to be part of what is believed instinctively .\\n',\n",
       " 'philosophy should show us the hierarchy of our instinctive beliefs , beginning with those we hold most strongly , and presenting each as much isolated and as free from irrelevant additions as possible .\\n',\n",
       " 'it should take care to show that , in the form in which they are finally set forth , our instinctive beliefs do not clash , but form a harmonious system .\\n',\n",
       " 'there can never be any reason for rejecting <num> instinctive belief except that it clashes with others ; thus , if they are found to harmonize , the whole system becomes worthy of acceptance .\\n',\n",
       " 'this function , at least , philosophy can perform .\\n',\n",
       " 'most philosophers , rightly or wrongly , believe that philosophy can do much more than this -- that it can give us knowledge , not otherwise attainable , concerning the universe as a whole , and concerning the nature of ultimate reality .\\n',\n",
       " 'whether this be the case or not , the more modest function we have spoken of can certainly be performed by philosophy , and certainly suffices , for those who have once begun to doubt the adequacy of common sense , to justify the arduous and difficult labours that philosophical problems involve .\\n',\n",
       " 'that is to say , over and above the sensations of colour , hardness , noise , and so on , which make up the appearance of the table to me , i assume that there is something else , of which these things are appearances .\\n',\n",
       " 'the colour ceases to exist if i shut my eyes , the sensation of hardness ceases to exist if i remove my arm from contact with the table , the sound ceases to exist if i cease to rap the table with my knuckles .\\n',\n",
       " 'but i do not believe that when all these things cease the table ceases .\\n',\n",
       " 'on the contrary , i believe that it is because the table exists continuously that all these sense-data will reappear when i open my eyes , replace my arm , and begin again to rap with my knuckles .\\n',\n",
       " 'the question we have to consider in this chapter is : what is the nature of this real table , which persists independently of my perception of it ?\\n',\n",
       " 'to this question physical science gives an answer , somewhat incomplete it is true , and in part still very hypothetical , but yet deserving of respect so far as it goes .\\n',\n",
       " 'physical science , more or less unconsciously , has drifted into the view that all natural phenomena ought to be reduced to motions .\\n',\n",
       " 'light and heat and sound are all due to wave-motions , which travel from the body emitting them to the person who sees light or feels heat or hears sound .\\n',\n",
       " \"that which has the wave-motion is either aether or 'gross matter ' , but in either case is what the philosopher would call matter .\\n\",\n",
       " 'the only properties which science assigns to it are position in space , and the power of motion according to the laws of motion .\\n',\n",
       " 'a wave-motion , on the contrary , could quite well be described to a blind man , since he can acquire a knowledge of space by the sense of touch ; and he can experience a wave-motion by a sea voyage almost as well as we can .\\n',\n",
       " 'now this something , which all of us who are not blind know , is not , according to science , really to be found in the outer world : it is something caused by the action of certain waves upon the eyes and nerves and brain of the person who sees the light .\\n',\n",
       " 'but light itself , the thing which seeing people experience and blind people do not , is not supposed by science to form any part of the world that is independent of us and our senses .\\n',\n",
       " 'and very similar remarks would apply to other kinds of sensations .\\n',\n",
       " 'to begin with , space as we see it is not the same as space as we get it by the sense of touch ; it is only by experience in infancy that we learn how to touch things we see , or how to get a sight of things which we feel touching us .\\n',\n",
       " 'but the space of science is neutral as between touch and sight ; thus it can not be either the space of touch or the space of sight .\\n',\n",
       " 'again , different people see the same object as of different shapes , according to their point of view .\\n',\n",
       " 'the real space is public , the apparent space is private to the percipient .\\n',\n",
       " \"these physical objects are in the space of science , which we may call 'physical ' space .\\n\",\n",
       " 'it is important to notice that , if our sensations are to be caused by physical objects , there must be a physical space containing these objects and our sense-organs and nerves and brain .\\n',\n",
       " 'we get a sensation of touch from an object when we are in contact with it ; that is to say , when some part of our body occupies a place in physical space quite close to the space occupied by the object .\\n',\n",
       " 'we see an object ( roughly speaking ) when no opaque body is between the object and our eyes in physical space .\\n',\n",
       " 'similarly , we only hear or smell or taste an object when we are sufficiently near to it , or when it touches the tongue , or has some suitable position in physical space relatively to our body .\\n',\n",
       " 'we can not begin to state what different sensations we shall derive from a given object under different circumstances unless we regard the object and our body as both in <num> physical space , for it is mainly the relative positions of the object and our body that determine what sensations we shall derive from the object .\\n',\n",
       " 'now our sense-data are situated in our private spaces , either the space of sight or the space of touch or such vaguer spaces as other senses may give us .\\n',\n",
       " 'if , as science and common sense assume , there is <num> public all-embracing physical space in which physical objects are , the relative positions of physical objects in physical space must more or less correspond to the relative positions of sense-data in our private spaces .\\n',\n",
       " 'there is no difficulty in supposing this to be the case .\\n',\n",
       " 'if we see on a road <num> house nearer to us than another , our other senses will bear out the view that it is nearer ; for example , it will be reached sooner if we walk along the road .\\n',\n",
       " 'other people will agree that the house which looks nearer to us is nearer ; the ordnance map will take the same view ; and thus everything points to a spatial relation between the houses corresponding to the relation between the sense-data which we see when we look at the houses .\\n',\n",
       " 'thus we may assume that there is a physical space in which physical objects have spatial relations corresponding to those which the corresponding sense-data have in our private spaces .\\n',\n",
       " 'it is this physical space which is dealt with in geometry and assumed in physics and astronomy .\\n',\n",
       " 'assuming that there is physical space , and that it does thus correspond to private spaces , what can we know about it ?\\n',\n",
       " 'that is to say , we can know nothing of what it is like in itself , but we can know the sort of arrangement of physical objects which results from their spatial relations .\\n',\n",
       " 'we can know , for example , that the <location> and <location> and sun are in <num> straight line during an eclipse , though we can not know what a physical straight line is in itself , as we know the look of a straight line in our visual space .\\n',\n",
       " 'we can know all those things about physical space which a man born blind might know through other people about the space of sight ; but the kind of things which a man born blind could never know about the space of sight we also can not know about physical space .\\n',\n",
       " 'we can know the properties of the relations required to preserve the correspondence with sense-data , but we can not know the nature of the terms between which the relations hold .\\n',\n",
       " 'times when we are bored or suffering pain pass slowly , times when we are agreeably occupied pass quickly , and times when we are sleeping pass almost as if they did not exist .\\n',\n",
       " 'thus , in so far as time is constituted by duration , there is the same necessity for distinguishing a public and a private time as there was in the case of space .\\n',\n",
       " 'at any rate no reason can be given for supposing that the <num> orders are not the same .\\n',\n",
       " 'the same is usually true of space : if a regiment of men are marching along a road , the shape of the regiment will look different from different points of view , but the men will appear arranged in the same order from all points of view .\\n',\n",
       " 'hence we regard the order as true also in physical space , whereas the shape is only supposed to correspond to the physical space so far as is required for the preservation of the order .\\n',\n",
       " 'in saying that the time-order which events seem to have is the same as the time-order which they really have , it is necessary to guard against a possible misunderstanding .\\n',\n",
       " 'it must not be supposed that the various states of different physical objects have the same time-order as the sense-data which constitute the perceptions of those objects .\\n',\n",
       " 'considered as physical objects , the thunder and lightning are simultaneous ; that is to say , the lightning is simultaneous with the disturbance of the air in the place where the disturbance begins , namely , where the lightning is .\\n',\n",
       " 'but the sense-datum which we call hearing the thunder does not take place until the disturbance of the air has travelled as far as to where we are .\\n',\n",
       " \"similarly , it takes about eight minutes for the sun 's light to reach us ; thus , when we see the sun we are seeing the sun of eight minutes ago .\\n\",\n",
       " \"so far as our sense-data afford evidence as to the physical sun they afford evidence as to the physical sun of eight minutes ago ; if the physical sun had ceased to exist within the last eight minutes , that would make no difference to the sense-data which we call 'seeing the sun ' .\\n\",\n",
       " 'this affords a fresh illustration of the necessity of distinguishing between sense-data and physical objects .\\n',\n",
       " 'what we have found as regards space is much the same as what we find in relation to the correspondence of the sense-data with their physical counterparts .\\n',\n",
       " 'if <num> object looks blue and another red , we may reasonably presume that there is some corresponding difference between the physical objects ; if <num> objects both look blue , we may presume a corresponding similarity .\\n',\n",
       " 'but we can not hope to be acquainted directly with the quality in the physical object which makes it look blue or red .\\n',\n",
       " 'science tells us that this quality is a certain sort of wave-motion , and this sounds familiar , because we think of wave-motions in the space we see .\\n',\n",
       " 'but the wave-motions must really be in physical space , with which we have no direct acquaintance ; thus the real wave-motions have not that familiarity which we might have supposed them to have .\\n',\n",
       " 'and what holds for colours is closely similar to what holds for other sense-data .\\n',\n",
       " 'the question remains whether there is any other method of discovering the intrinsic nature of physical objects .\\n',\n",
       " 'according to this view , physical objects will , for example , really have colours , and we might , by good luck , see an object as of the colour it really is .\\n',\n",
       " \"the colour which an object seems to have at any given moment will in general be very similar , though not quite the same , from many different points of view ; we might thus suppose the 'real ' colour to be a sort of medium colour , intermediate between the various shades which appear from the different points of view .\\n\",\n",
       " 'such a theory is perhaps not capable of being definitely refuted , but it can be shown to be groundless .\\n',\n",
       " 'to begin with , it is plain that the colour we see depends only upon the nature of the light-waves that strike the eye , and is therefore modified by the medium intervening between us and the object , as well as by the manner in which light is reflected from the object in the direction of the eye .\\n',\n",
       " 'the intervening air alters colours unless it is perfectly clear , and any strong reflection will alter them completely .\\n',\n",
       " 'thus the colour we see is a result of the ray as it reaches the eye , and not simply a property of the object from which the ray comes .\\n',\n",
       " 'hence , also , provided certain waves reach the eye , we shall see a certain colour , whether the object from which the waves start has any colour or not .\\n',\n",
       " 'thus it is quite gratuitous to suppose that physical objects have colours , and therefore there is no justification for making such a supposition .\\n',\n",
       " 'exactly similar arguments will apply to other sense-data .\\n',\n",
       " 'it remains to ask whether there are any general philosophical arguments enabling us to say that , if matter is real , it must be of such and such a nature .\\n',\n",
       " 'as explained above , very many philosophers , perhaps most , have held that whatever is real must be in some sense mental , or at any rate that whatever we can know anything about must be in some sense mental .\\n',\n",
       " \"such philosophers are called 'idealists ' .\\n\",\n",
       " \"idealists tell us that what appears as matter is really something mental ; namely , either ( as <person> held ) more or less rudimentary minds , or ( as <organization> contended ) ideas in the minds which , as we should commonly say , 'perceive ' the matter .\\n\",\n",
       " 'thus idealists deny the existence of matter as something intrinsically different from mind , though they do not deny that our sense-data are signs of something which exists independently of our private sensations .\\n',\n",
       " 'in the following chapter we shall consider briefly the reasons -- in my opinion fallacious -- which idealists advance in favour of their theory .\\n',\n",
       " 'we shall understand by it the doctrine that whatever exists , or at any rate whatever can be known to exist , must be in some sense mental .\\n',\n",
       " 'this doctrine , which is very widely held among philosophers , has several forms , and is advocated on several different grounds .\\n',\n",
       " 'the doctrine is so widely held , and so interesting in itself , that even the briefest survey of philosophy must give some account of it .\\n',\n",
       " 'those who are unaccustomed to philosophical speculation may be inclined to dismiss such a doctrine as obviously absurd .\\n',\n",
       " 'there is no doubt that common sense regards tables and chairs and the sun and moon and material objects generally as something radically different from minds and the contents of minds , and as having an existence which might continue if minds ceased .\\n',\n",
       " 'we think of matter as having existed long before there were any minds , and it is hard to think of it as a mere product of mental activity .\\n',\n",
       " 'but whether true or false , idealism is not to be dismissed as obviously absurd .\\n',\n",
       " 'hence common sense leaves us completely in the dark as to the true intrinsic nature of physical objects , and if there were good reason to regard them as mental , we could not legitimately reject this opinion merely because it strikes us as strange .\\n',\n",
       " 'it may be unattainable , but if any philosopher believes that he has attained it , the fact that what he offers as the truth is strange ought not to be made a ground of objection to his opinion .\\n',\n",
       " 'the grounds on which idealism is advocated are generally grounds derived from the theory of knowledge , that is to say , from a discussion of the conditions which things must satisfy in order that we may be able to know them .\\n',\n",
       " 'the <num> serious attempt to establish idealism on such grounds was that of bishop berkeley .\\n',\n",
       " \"he proved <num> , by arguments which were largely valid , that our sense-data can not be supposed to have an existence independent of us , but must be , in part at least , 'in ' the mind , in the sense that their existence would not continue if there were no seeing or hearing or touching or smelling or tasting .\\n\",\n",
       " 'so far , his contention was almost certainly valid , even if some of his arguments were not so .\\n',\n",
       " \"but he went on to argue that sense-data were the only things of whose existence our perceptions could assure us ; and that to be known is to be 'in ' a mind , and therefore to be mental .\\n\",\n",
       " 'hence he concluded that nothing can ever be known except what is in some mind , and that whatever is known without being in my mind must be in some other mind .\\n',\n",
       " \"in order to understand his argument , it is necessary to understand his use of the word 'idea ' .\\n\",\n",
       " 'thus a particular colour which we see is an idea ; so is a voice which we hear , and so on .\\n',\n",
       " 'but the term is not wholly confined to sense-data .\\n',\n",
       " 'there will also be things remembered or imagined , for with such things also we have immediate acquaintance at the moment of remembering or imagining .\\n',\n",
       " \"all such immediate data he calls 'ideas ' .\\n\",\n",
       " 'he then proceeds to consider common objects , such as a tree , for instance .\\n',\n",
       " \"he shows that all we know immediately when we 'perceive ' the tree consists of ideas in his sense of the word , and he argues that there is not the slightest ground for supposing that there is anything real about the tree except what is perceived .\\n\",\n",
       " 'he fully admits that the tree must continue to exist even when we shut our eyes or when no human being is near it .\\n',\n",
       " \"but this continued existence , he says , is due to the fact that god continues to perceive it ; the 'real ' tree , which corresponds to what we called the physical object , consists of ideas in the mind of god , ideas more or less like those we have when we see the tree , but differing in the fact that they are permanent in god 's mind so long as the tree continues to exist .\\n\",\n",
       " \"all our perceptions , according to him , consist in a partial participation in god 's perceptions , and it is because of this participation that different people see more or less the same tree .\\n\",\n",
       " 'thus apart from minds and their ideas there is nothing in the world , nor is it possible that anything else should ever be known , since whatever is known is necessarily an idea .\\n',\n",
       " 'there are in this argument a good many fallacies which have been important in the history of philosophy , and which it will be as well to bring to light .\\n',\n",
       " \"in the <num> place , there is a confusion engendered by the use of the word 'idea ' .\\n\",\n",
       " \"we think of an idea as essentially something in somebody 's mind , and thus when we are told that a tree consists entirely of ideas , it is natural to suppose that , if so , the tree must be entirely in minds .\\n\",\n",
       " \"but the notion of being 'in ' the mind is ambiguous .\\n\",\n",
       " 'we speak of bearing a person in mind , not meaning that the person is in our minds , but that a thought of him is in our minds .\\n',\n",
       " 'when a man says that some business he had to arrange went clean out of his mind , he does not mean to imply that the business itself was ever in his mind , but only that a thought of the business was formerly in his mind , but afterwards ceased to be in his mind .\\n',\n",
       " 'and so when <organization> says that the tree must be in our minds if we can know it , all that he really has a right to say is that a thought of the tree must be in our minds .\\n',\n",
       " 'to argue that the tree itself must be in our minds is like arguing that a person whom we bear in mind is himself in our minds .\\n',\n",
       " 'this confusion may seem too gross to have been really committed by any competent philosopher , but various attendant circumstances rendered it possible .\\n',\n",
       " 'in order to see how it was possible , we must go more deeply into the question as to the nature of ideas .\\n',\n",
       " 'before taking up the general question of the nature of ideas , we must disentangle <num> entirely separate questions which arise concerning sense-data and physical objects .\\n',\n",
       " 'we saw that , for various reasons of detail , <organization> was right in treating the sense-data which constitute our perception of the tree as more or less subjective , in the sense that they depend upon us as much as upon the tree , and would not exist if the tree were not being perceived .\\n',\n",
       " 'but this is an entirely different point from the one by which <organization> seeks to prove that whatever can be immediately known must be in a mind .\\n',\n",
       " 'for this purpose arguments of detail as to the dependence of sense-data upon us are useless .\\n',\n",
       " 'it is necessary to prove , generally , that by being known , things are shown to be mental .\\n',\n",
       " 'this is what <state> believes himself to have done .\\n',\n",
       " 'it is this question , and not our previous question as to the difference between sense-data and the physical object , that must now concern us .\\n',\n",
       " \"taking the word 'idea ' in <state> 's sense , there are <num> quite distinct things to be considered whenever an idea is before the mind .\\n\",\n",
       " 'there is on the one hand the thing of which we are aware -- say the colour of my table -- and on the other hand the actual awareness itself , the mental act of apprehending the thing .\\n',\n",
       " 'the mental act is undoubtedly mental , but is there any reason to suppose that the thing apprehended is in any sense mental ?\\n',\n",
       " 'our previous arguments concerning the colour did not prove it to be mental ; they only proved that its existence depends upon the relation of our sense organs to the physical object -- in our case , the table .\\n',\n",
       " 'that is to say , they proved that a certain colour will exist , in a certain light , if a normal eye is placed at a certain point relatively to the table .\\n',\n",
       " 'they did not prove that the colour is in the mind of the percipient .\\n',\n",
       " \"<organization> 's view , that obviously the colour must be in the mind , seems to depend for its plausibility upon confusing the thing apprehended with the act of apprehension .\\n\",\n",
       " \"either of these might be called an 'idea ' ; probably either would have been called an idea by <organization> .\\n\",\n",
       " 'the act is undoubtedly in the mind ; hence , when we are thinking of the act , we readily assent to the view that ideas must be in the mind .\\n',\n",
       " \"then , forgetting that this was only true when ideas were taken as acts of apprehension , we transfer the proposition that 'ideas are in the mind ' to ideas in the other sense , i.e .\\n\",\n",
       " 'to the things apprehended by our acts of apprehension .\\n',\n",
       " 'thus , by an unconscious equivocation , we arrive at the conclusion that whatever we can apprehend must be in our minds .\\n',\n",
       " \"this seems to be the true analysis of <organization> 's argument , and the ultimate fallacy upon which it rests .\\n\",\n",
       " 'this question of the distinction between act and object in our apprehending of things is vitally important , since our whole power of acquiring knowledge is bound up with it .\\n',\n",
       " 'the faculty of being acquainted with things other than itself is the main characteristic of a mind .\\n',\n",
       " \"acquaintance with objects essentially consists in a relation between the mind and something other than the mind ; it is this that constitutes the mind 's power of knowing things .\\n\",\n",
       " \"if we say that the things known must be in the mind , we are either unduly limiting the mind 's power of knowing , or we are uttering a mere tautology .\\n\",\n",
       " 'if we mean merely being apprehended by the mind .\\n',\n",
       " \"thus when we realize the nature of knowledge , <organization> 's argument is seen to be wrong in substance as well as in form , and his grounds for supposing that 'ideas ' -- i.e .\\n\",\n",
       " 'the objects apprehended -- must be mental , are found to have no validity whatever .\\n',\n",
       " 'hence his grounds in favour of idealism may be dismissed .\\n',\n",
       " 'it remains to see whether there are any other grounds .\\n',\n",
       " 'it is often said , as though it were a self-evident truism , that we can not know that anything exists which we do not know .\\n',\n",
       " 'it is inferred that whatever can in any way be relevant to our experience must be at least capable of being known by us ; whence it follows that if matter were essentially something with which we could not become acquainted , matter would be something which we could not know to exist , and which could have for us no importance whatever .\\n',\n",
       " 'it is generally also implied , for reasons which remain obscure , that what can have no importance for us can not be real , and that therefore matter , if it is not composed of minds or of mental ideas , is impossible and a mere chimaera .\\n',\n",
       " 'to go into this argument fully at our present stage would be impossible , since it raises points requiring a considerable preliminary discussion ; but certain reasons for rejecting the argument may be noticed at once .\\n',\n",
       " 'but if this sort of interest is included , it is not the case that matter has no importance for us , provided it exists even if we can not know that it exists .\\n',\n",
       " 'we can , obviously , suspect that it may exist , and wonder whether it does ; hence it is connected with our desire for knowledge , and has the importance of either satisfying or thwarting this desire .\\n',\n",
       " 'again , it is by no means a truism , and is in fact false , that we can not know that anything exists which we do not know .\\n',\n",
       " \"the word 'know ' is here used in <num> different senses .\\n\",\n",
       " 'this is the sense in which we know sense-data .\\n',\n",
       " \"thus the statement which seemed like a truism becomes , when re-stated , the following : 'we can never truly judge that something with which we are not acquainted exists . '\\n\",\n",
       " 'this is by no means a truism , but on the contrary a palpable falsehood .\\n',\n",
       " 'i have not the honour to be acquainted with the emperor of <state> , but i truly judge that he exists .\\n',\n",
       " \"it may be said , of course , that i judge this because of other people 's acquaintance with him .\\n\",\n",
       " 'this , however , would be an irrelevant retort , since , if the principle were true , i could not know that any one else is acquainted with him .\\n',\n",
       " 'but further : there is no reason why i should not know of the existence of something with which nobody is acquainted .\\n',\n",
       " 'this point is important , and demands elucidation .\\n',\n",
       " 'if i am acquainted with a thing which exists , my acquaintance gives me the knowledge that it exists .\\n',\n",
       " 'but it is not true that , conversely , whenever i can know that a thing of a certain sort exists , i or some one else must be acquainted with the thing .\\n',\n",
       " 'in order to understand this point fully , it will be well <num> to deal with the difference between knowledge by acquaintance and knowledge by description , and then to consider what knowledge of general principles , if any , has the same kind of certainty as our knowledge of the existence of our own experiences .\\n',\n",
       " 'these subjects will be dealt with in the following chapters .\\n',\n",
       " 'in this chapter we shall be concerned exclusively with knowledge of things , of which in turn we shall have to distinguish <num> kinds .\\n',\n",
       " \"but <num> of all we must make clear what we mean by 'acquaintance ' and what we mean by 'description ' .\\n\",\n",
       " 'thus in the presence of my table i am acquainted with the sense-data that make up the appearance of my table -- its colour , shape , hardness , smoothness , etc .\\n',\n",
       " '; all these are things of which i am immediately conscious when i am seeing and touching my table .\\n',\n",
       " 'the particular shade of colour that i am seeing may have many things said about it -- i may say that it is brown , that it is rather dark , and so on .\\n',\n",
       " 'but such statements , though they make me know truths about the colour , do not make me know the colour itself any better than i did before so far as concerns knowledge of the colour itself , as opposed to knowledge of truths about it , i know the colour perfectly and completely when i see it , and no further knowledge of it itself is even theoretically possible .\\n',\n",
       " 'thus the sense-data which make up the appearance of my table are things with which i have acquaintance , things immediately known to me just as they are .\\n',\n",
       " 'my knowledge of the table as a physical object , on the contrary , is not direct knowledge .\\n',\n",
       " 'such as it is , it is obtained through acquaintance with the sense-data that make up the appearance of the table .\\n',\n",
       " 'we have seen that it is possible , without absurdity , to doubt whether there is a table at all , whereas it is not possible to doubt the sense-data .\\n',\n",
       " \"my knowledge of the table is of the kind which we shall call 'knowledge by description ' .\\n\",\n",
       " \"the table is 'the physical object which causes such-and-such sense-data ' .\\n\",\n",
       " 'this describes the table by means of the sense-data .\\n',\n",
       " \"in order to know anything at all about the table , we must know truths connecting it with things with which we have acquaintance : we must know that 'such-and-such sense-data are caused by a physical object ' .\\n\",\n",
       " 'there is no state of mind in which we are directly aware of the table ; all our knowledge of the table is really knowledge of truths , and the actual thing which is the table is not , strictly speaking , known to us at all .\\n',\n",
       " 'we know a description , and we know that there is just <num> object to which this description applies , though the object itself is not directly known to us .\\n',\n",
       " 'in such a case , we say that our knowledge of the object is knowledge by description .\\n',\n",
       " 'all our knowledge , both knowledge of things and knowledge of truths , rests upon acquaintance as its foundation .\\n',\n",
       " 'it is therefore important to consider what kinds of things there are with which we have acquaintance .\\n',\n",
       " 'sense-data , as we have already seen , are among the things with which we are acquainted ; in fact , they supply the most obvious and striking example of knowledge by acquaintance .\\n',\n",
       " 'but if they were the sole example , our knowledge would be very much more restricted than it is .\\n',\n",
       " \"we should only know what is now present to our senses : we could not know anything about the past -- not even that there was a past -- nor could we know any truths about our sense-data , for all knowledge of truths , as we shall show , demands acquaintance with things which are of an essentially different character from sense-data , the things which are sometimes called 'abstract ideas ' , but which we shall call 'universals ' .\\n\",\n",
       " 'we have therefore to consider acquaintance with other things besides sense-data if we are to obtain any tolerably adequate analysis of our knowledge .\\n',\n",
       " 'it is obvious that we often remember what we have seen or heard or had otherwise present to our senses , and that in such cases we are still immediately aware of what we remember , in spite of the fact that it appears as past and not as present .\\n',\n",
       " 'this immediate knowledge by memory is the source of all our knowledge concerning the past : without it , there could be no knowledge of the past by inference , since we should never know that there was anything past to be inferred .\\n',\n",
       " 'we are not only aware of things , but we are often aware of being aware of them .\\n',\n",
       " \"when i see the sun , i am often aware of my seeing the sun ; thus 'my seeing the sun ' is an object with which i have acquaintance .\\n\",\n",
       " \"when i desire food , i may be aware of my desire for food ; thus 'my desiring food ' is an object with which i am acquainted .\\n\",\n",
       " 'similarly we may be aware of our feeling pleasure or pain , and generally of the events which happen in our minds .\\n',\n",
       " 'this kind of acquaintance , which may be called self-consciousness , is the source of all our knowledge of mental things .\\n',\n",
       " 'it is obvious that it is only what goes on in our own minds that can be thus known immediately .\\n',\n",
       " 'what goes on in the minds of others is known to us through our perception of their bodies , that is , through the sense-data in us which are associated with their bodies .\\n',\n",
       " 'but for our acquaintance with the contents of our own minds , we should be unable to imagine the minds of others , and therefore we could never arrive at the knowledge that they have minds .\\n',\n",
       " 'it seems natural to suppose that self-consciousness is <num> of the things that distinguish men from animals : animals , we may suppose , though they have acquaintance with sense-data , never become aware of this acquaintance .\\n',\n",
       " 'the question whether we are also acquainted with our bare selves , as opposed to particular thoughts and feelings , is a very difficult one , upon which it would be rash to speak positively .\\n',\n",
       " \"when we try to look into ourselves we always seem to come upon some particular thought or feeling , and not upon the 'i ' which has the thought or feeling .\\n\",\n",
       " \"nevertheless there are some reasons for thinking that we are acquainted with the 'i ' , though the acquaintance is hard to disentangle from other things .\\n\",\n",
       " 'to make clear what sort of reason there is , let us consider for a moment what our acquaintance with particular thoughts really involves .\\n',\n",
       " \"when i am acquainted with 'my seeing the sun ' , it seems plain that i am acquainted with <num> different things in relation to each other .\\n\",\n",
       " 'on the one hand there is the sense-datum which represents the sun to me , on the other hand there is that which sees this sense-datum .\\n',\n",
       " 'all acquaintance , such as my acquaintance with the sense-datum which represents the sun , seems obviously a relation between the person acquainted and the object with which the person is acquainted .\\n',\n",
       " 'when a case of acquaintance is one with which i can be acquainted ( as i am acquainted with my acquaintance with the sense-datum representing the sun ) , it is plain that the person acquainted is myself .\\n',\n",
       " \"thus , when i am acquainted with my seeing the sun , the whole fact with which i am acquainted is 'self-acquainted-with-sense-datum ' .\\n\",\n",
       " \"further , we know the truth 'i am acquainted with this sense-datum ' .\\n\",\n",
       " \"it is hard to see how we could know this truth , or even understand what is meant by it , unless we were acquainted with something which we call 'i ' .\\n\",\n",
       " 'it does not seem necessary to suppose that we are acquainted with a more or less permanent person , the same to-day as <date> , but it does seem as though we must be acquainted with that thing , whatever its nature , which sees the sun and has acquaintance with sense-data .\\n',\n",
       " 'thus , in some sense it would seem we must be acquainted with our selves as opposed to our particular experiences .\\n',\n",
       " 'but the question is difficult , and complicated arguments can be adduced on either side .\\n',\n",
       " 'we may therefore sum up as follows what has been said concerning acquaintance with things that exist .\\n',\n",
       " 'we have acquaintance in sensation with the data of the outer senses , and in introspection with the data of what may be called the inner sense -- thoughts , feelings , desires , etc .\\n',\n",
       " '; we have acquaintance in memory with things which have been data either of the outer senses or of the inner sense .\\n',\n",
       " 'further , it is probable , though not certain , that we have acquaintance with self , as that which is aware of things or has desires towards things .\\n',\n",
       " 'every complete sentence must contain at least one word which stands for a universal , since all verbs have a meaning which is universal .\\n',\n",
       " \"it will be seen that among the objects with which we are acquainted are not included physical objects ( as opposed to sense-data ) , nor other people 's minds .\\n\",\n",
       " \"these things are known to us by what i call 'knowledge by description ' , which we must now consider .\\n\",\n",
       " \"by a 'description ' i mean any phrase of the form 'a so-and-so ' or 'the so-and-so ' .\\n\",\n",
       " \"a phrase of the form 'a so-and-so ' i shall call an 'ambiguous ' description ; a phrase of the form 'the so-and-so ' ( in the singular ) i shall call a 'definite ' description .\\n\",\n",
       " \"thus 'a man ' is an ambiguous description , and 'the man with the iron mask ' is a definite description .\\n\",\n",
       " 'there are various problems connected with ambiguous descriptions , but i pass them by , since they do not directly concern the matter we are discussing , which is the nature of our knowledge concerning objects in cases where we know that there is an object answering to a definite description , though we are not acquainted with any such object .\\n',\n",
       " 'this is a matter which is concerned exclusively with definite descriptions .\\n',\n",
       " \"i shall therefore , in the sequel , speak simply of 'descriptions ' when i mean 'definite descriptions ' .\\n\",\n",
       " \"thus a description will mean any phrase of the form 'the so-and-so ' in the singular .\\n\",\n",
       " \"we shall say that an object is 'known by description ' when we know that it is 'the so-and-so ' , i.e .\\n\",\n",
       " 'when we know that there is <num> object , and no more , having a certain property ; and it will generally be implied that we do not have knowledge of the same object by acquaintance .\\n',\n",
       " 'we know that the man with the iron mask existed , and many propositions are known about him ; but we do not know who he was .\\n',\n",
       " 'we know that the candidate who gets the most votes will be elected , and in this case we are very likely also acquainted ( in the only sense in which one can be acquainted with some one else ) with the man who is , in fact , the candidate who will get most votes ; but we do not know which of the candidates he is , i.e .\\n',\n",
       " \"we do not know any proposition of the form 'a is the candidate who will get most votes ' where a is one of the candidates by name .\\n\",\n",
       " \"when we say 'the so-and-so exists ' , we mean that there is just <num> object which is the so-and-so .\\n\",\n",
       " \"<organization> is the <caps> candidate for this constituency ' means 'mr .\\n\",\n",
       " \"<organization> is a <caps> candidate for this constituency , and no one else is ' .\\n\",\n",
       " \"'the <caps> candidate for this constituency exists ' means 'some one is a <caps> candidate for this constituency , and no one else is ' .\\n\",\n",
       " 'thus , when we are acquainted with an object which is the so-and-so , we know that the so-and-so exists ; but we may know that the so-and-so exists when we are not acquainted with any object which we know to be the so-and-so , and even when we are not acquainted with any object which , in fact , is the so-and-so .\\n',\n",
       " 'common words , even proper names , are usually really descriptions .\\n',\n",
       " 'that is to say , the thought in the mind of a person using a proper name correctly can generally only be expressed explicitly if we replace the proper name by a description .\\n',\n",
       " 'moreover , the description required to express the thought will vary for different people , or for the same person at different times .\\n',\n",
       " 'the only thing constant ( so long as the name is rightly used ) is the object to which the name applies .\\n',\n",
       " 'but so long as this remains constant , the particular description involved usually makes no difference to the truth or falsehood of the proposition in which the name appears .\\n',\n",
       " 'suppose some statement made about <person> .\\n',\n",
       " 'assuming that there is such a thing as direct acquaintance with oneself , <person> himself might have used his name directly to designate the particular person with whom he was acquainted .\\n',\n",
       " 'in this case , if he made a judgement about himself , he himself might be a constituent of the judgement .\\n',\n",
       " 'here the proper name has the direct use which it always wishes to have , as simply standing for a certain object , and not for a description of the object .\\n',\n",
       " 'but if a person who knew <person> made a judgement about him , the case is different .\\n',\n",
       " \"what this person was acquainted with were certain sense-data which he connected ( rightly , we will suppose ) with <person> 's body .\\n\",\n",
       " 'his body , as a physical object , and still more his mind , were only known as the body and the mind connected with these sense-data .\\n',\n",
       " 'that is , they were known by description .\\n',\n",
       " \"it is , of course , very much a matter af chance which characteristics of a man 's appearance will come into a friend 's mind when he thinks of him ; thus the description actually in the friend 's mind is accidental .\\n\",\n",
       " 'the essential point is that he knows that the various descriptions all apply to the same entity , in spite of not being acquainted with the entity in question .\\n',\n",
       " 'when we , who did not know <person> , make a judgement about him , the description in our minds will probably be some more or less vague mass of historical knowledge -- far more , in most cases , than is required to identify him .\\n',\n",
       " \"but , for the sake of illustration , let us assume that we think of him as 'the <num> chancellor of the german empire ' .\\n\",\n",
       " \"here all the words are abstract except 'german ' .\\n\",\n",
       " \"the word 'german ' will , again , have different meanings for different people .\\n\",\n",
       " 'to some it will recall travels in <state> , to some the look of <state> on the map , and so on .\\n',\n",
       " 'but if we are to obtain a description which we know to be applicable , we shall be compelled , at some point , to bring in a reference to a particular with which we are acquainted .\\n',\n",
       " 'such reference is involved in any mention of past , present , and future ( as opposed to definite dates ) , or of here and there , or of what others have told us .\\n',\n",
       " \"for example , 'the most long-lived of men ' is a description involving only universals , which must apply to some man , but we can make no judgements concerning this man which involve knowledge about him beyond what the description gives .\\n\",\n",
       " \"if , however , we say , 'the <num> chancellor of the german empire was an astute diplomatist ' , we can only be assured of the truth of our judgement in virtue of something with which we are acquainted -- usually a testimony heard or read .\\n\",\n",
       " 'apart from the information we convey to others , apart from the fact about the actual <person> , which gives importance to our judgement , the thought we really have contains the <num> or more particulars involved , and otherwise consists wholly of concepts .\\n',\n",
       " 'all names of places -- <state> , <state> , <location> , the <location> , the solar system -- similarly involve , when used , descriptions which start from some one or more particulars with which we are acquainted .\\n',\n",
       " 'i suspect that even the <state> , as considered by metaphysics , involves such a connexion with particulars .\\n',\n",
       " 'in logic , on the contrary , where we are concerned not merely with what does exist , but with whatever might or could exist or be , no reference to actual particulars is involved .\\n',\n",
       " 'that is to say , when we say anything about <person> , we should like , if we could , to make the judgement which <person> alone can make , namely , the judgement of which he himself is a constituent .\\n',\n",
       " 'in this we are necessarily defeated , since the actual <person> is unknown to us .\\n',\n",
       " 'but we know that there is an object b , called <person> , and that b was an astute diplomatist .\\n',\n",
       " \"if we are describing <person> as 'the <num> chancellor of the german empire ' , the proposition we should like to affirm may be described as 'the proposition asserting , concerning the actual object which was the <num> chancellor of the german empire , that this object was an astute diplomatist ' .\\n\",\n",
       " 'what enables us to communicate in spite of the varying descriptions we employ is that we know there is a true proposition concerning the actual <person> , and that however we may vary the description ( so long as the description is correct ) the proposition described is still the same .\\n',\n",
       " 'this proposition , which is described and is known to be true , is what interests us ; but we are not acquainted with the proposition itself , and do not know it , though we know it is true .\\n',\n",
       " 'it will be seen that there are various stages in the removal from acquaintance with particulars : there is <person> to people who knew him ; <person> to those who only know of him through history ; the man with the iron mask ; the longest-lived of men .\\n',\n",
       " \"these are progressively further removed from acquaintance with particulars ; the <num> comes as near to acquaintance as is possible in regard to another person ; in the <num> , we shall still be said to know 'who <person> was ' ; in the <num> , we do not know who was the man with the iron mask , though we can know many propositions about him which are not logically deducible from the fact that he wore an iron mask ; in the <num> , finally , we know nothing beyond what is logically deducible from the definition of the man .\\n\",\n",
       " 'there is a similar hierarchy in the region of universals .\\n',\n",
       " 'many universals , like many particulars , are only known to us by description .\\n',\n",
       " 'but here , as in the case of particulars , knowledge concerning what is known by description is ultimately reducible to knowledge concerning what is known by acquaintance .\\n',\n",
       " 'we shall not at this stage attempt to answer all the objections which may be urged against this fundamental principle .\\n',\n",
       " 'for the present , we shall merely point out that , in some way or other , it must be possible to meet these objections , for it is scarcely conceivable that we can make a judgement or entertain a supposition without knowing what it is that we are judging or supposing about .\\n',\n",
       " 'thus when , for example , we make a statement about julius caesar , it is plain that julius caesar himself is not before our minds , since we are not acquainted with him .\\n',\n",
       " 'thus our statement does not mean quite what it seems to mean , but means something involving , instead of julius caesar , some description of him which is composed wholly of particulars and universals with which we are acquainted .\\n',\n",
       " 'the chief importance of knowledge by description is that it enables us to pass beyond the limits of our private experience .\\n',\n",
       " 'in spite of the fact that we can only know truths which are wholly composed of terms which we have experienced in acquaintance , we can yet have knowledge by description of things which we have never experienced .\\n',\n",
       " 'in view of the very narrow range of our immediate experience , this result is vital , and until it is understood , much of our knowledge must remain mysterious and therefore doubtful .\\n',\n",
       " 'what things are there in the universe whose existence is known to us owing to our being acquainted with them ?\\n',\n",
       " 'so far , our answer has been that we are acquainted with our sense-data , and , probably , with ourselves .\\n',\n",
       " 'and past sense-data which are remembered are known to have existed in the past .\\n',\n",
       " 'but if we are to be able to draw inferences from these data -- if we are to know of the existence of matter , of other people , of the past before our individual memory begins , or of the future , we must know general principles of some kind by means of which such inferences can be drawn .\\n',\n",
       " 'it must be known to us that the existence of some one sort of thing , a , is a sign of the existence of some other sort of thing , b , either at the same time as a or at some earlier or later time , as , for example , thunder is a sign of the earlier existence of lightning .\\n',\n",
       " 'if this were not known to us , we could never extend our knowledge beyond the sphere of our private experience ; and this sphere , as we have seen , is exceedingly limited .\\n',\n",
       " 'the question we have now to consider is whether such an extension is possible , and if so , how it is effected .\\n',\n",
       " 'let us take as an illustration a matter about which none of us , in fact , feel the slightest doubt .\\n',\n",
       " 'we are all convinced that the sun will rise to-morrow .\\n',\n",
       " 'is this belief a mere blind outcome of past experience , or can it be justified as a reasonable belief ?\\n',\n",
       " 'it is not easy to find a test by which to judge whether a belief of this kind is reasonable or not , but we can at least ascertain what sort of general beliefs would suffice , if true , to justify the judgement that the sun will rise to-morrow , and the many other similar judgements upon which our actions are based .\\n',\n",
       " \"it is obvious that if we are asked why we believe that the sun will rise to-morrow , we shall naturally answer 'because it always has risen every day ' .\\n\",\n",
       " 'we have a firm belief that it will rise in the future , because it has risen in the past .\\n',\n",
       " 'if we are challenged as to why we believe that it will continue to rise as heretofore , we may appeal to the laws of motion : the earth , we shall say , is a freely rotating body , and such bodies do not cease to rotate unless something interferes from outside , and there is nothing outside to interfere with the earth between now and to-morrow .\\n',\n",
       " 'of course it might be doubted whether we are quite certain that there is nothing outside to interfere , but this is not the interesting doubt .\\n',\n",
       " 'the interesting doubt is as to whether the laws of motion will remain in operation until to-morrow .\\n',\n",
       " 'if this doubt is raised , we find ourselves in the same position as when the doubt about the sunrise was first raised .\\n',\n",
       " 'it is true that we have a greater body of evidence from the past in favour of the laws of motion than we have in favour of the sunrise , because the sunrise is merely a particular case of fulfilment of the laws of motion , and there are countless other particular cases .\\n',\n",
       " 'if not , it becomes plain that we have no ground whatever for expecting the sun to rise to-morrow , or for expecting the bread we shall eat at our next meal not to poison us , or for any of the other scarcely conscious expectations that control our <date> lives .\\n',\n",
       " 'now in dealing with this question we must , to begin with , make an important distinction , without which we should soon become involved in hopeless confusions .\\n',\n",
       " 'food that has a certain appearance generally has a certain taste , and it is a severe shock to our expectations when the familiar appearance is found to be associated with an unusual taste .\\n',\n",
       " 'things which we see become associated , by habit , with certain tactile sensations which we expect if we touch them ; one of the horrors of a ghost ( in many ghost-stories ) is that it fails to give us any sensations of touch .\\n',\n",
       " 'uneducated people who go abroad for the <num> time are so surprised as to be incredulous when they find their native language not understood .\\n',\n",
       " 'and this kind of association is not confined to men ; in animals also it is very strong .\\n',\n",
       " 'a horse which has been often driven along a certain road resists the attempt to drive him in a different direction .\\n',\n",
       " 'domestic animals expect food when they see the person who usually feeds them .\\n',\n",
       " 'we know that all these rather crude expectations of uniformity are liable to be misleading .\\n',\n",
       " 'the man who has fed the chicken every day throughout its life at last wrings its neck instead , showing that more refined views as to the uniformity of nature would have been useful to the chicken .\\n',\n",
       " 'but in spite of the misleadingness of such expectations , they nevertheless exist .\\n',\n",
       " 'the mere fact that something has happened a certain number of times causes animals and men to expect that it will happen again .\\n',\n",
       " 'thus our instincts certainly cause us to believe that the sun will rise to-morrow , but we may be in no better a position than the chicken which unexpectedly has its neck wrung .\\n',\n",
       " \"the problem we have to discuss is whether there is any reason for believing in what is called 'the uniformity of nature ' .\\n\",\n",
       " 'the belief in the uniformity of nature is the belief that everything that has happened or will happen is an instance of some general law to which there are no exceptions .\\n',\n",
       " 'the crude expectations which we have been considering are all subject to exceptions , and therefore liable to disappoint those who entertain them .\\n',\n",
       " 'but science habitually assumes , at least as a working hypothesis , that general rules which have exceptions can be replaced by general rules which have no exceptions .\\n',\n",
       " \"'unsupported bodies in air fall ' is a general rule to which balloons and aeroplanes are exceptions .\\n\",\n",
       " 'but the laws of motion and the law of gravitation , which account for the fact that most bodies fall , also account for the fact that balloons and aeroplanes can rise ; thus the laws of motion and the law of gravitation are not subject to these exceptions .\\n',\n",
       " 'the belief that the sun will rise to-morrow might be falsified if the <location> came suddenly into contact with a large body which destroyed its rotation ; but the laws of motion and the law of gravitation would not be infringed by such an event .\\n',\n",
       " 'the business of science is to find uniformities , such as the laws of motion and the law of gravitation , to which , so far as our experience extends , there are no exceptions .\\n',\n",
       " 'in this search science has been remarkably successful , and it may be conceded that such uniformities have held hitherto .\\n',\n",
       " 'this brings us back to the question : have we any reason , assuming that they have always held in the past , to suppose that they will hold in the future ?\\n',\n",
       " 'it has been argued that we have reason to know that the future will resemble the past , because what was the future has constantly become the past , and has always been found to resemble the past , so that we really have experience of the future , namely of times which were formerly future , which we may call past futures .\\n',\n",
       " 'but such an argument really begs the very question at issue .\\n',\n",
       " 'we have experience of past futures , but not of future futures , and the question is : will future futures resemble past futures ?\\n',\n",
       " 'this question is not to be answered by an argument which starts from past futures alone .\\n',\n",
       " 'we have therefore still to seek for some principle which shall enable us to know that the future will follow the same laws as the past .\\n',\n",
       " 'the reference to the future in this question is not essential .\\n',\n",
       " 'the same question arises when we apply the laws that work in our experience to past things of which we have no experience -- as , for example , in geology , or in theories as to the origin of the solar system .\\n',\n",
       " \"the question we really have to ask is : 'when <num> things have been found to be often associated , and no instance is known of the <num> occurring without the other , does the occurrence of <num> of the <num> , in a fresh instance , give any good ground for expecting the other ? '\\n\",\n",
       " 'on our answer to this question must depend the validity of the whole of our expectations as to the future , the whole of the results obtained by induction , and in fact practically all the beliefs upon which our <date> life is based .\\n',\n",
       " 'it can never quite reach certainty , because we know that in spite of frequent repetitions there sometimes is a failure at the last , as in the case of the chicken whose neck is wrung .\\n',\n",
       " 'thus probability is all we ought to seek .\\n',\n",
       " 'it might be urged , as against the view we are advocating , that we know all natural phenomena to be subject to the reign of law , and that sometimes , on the basis of observation , we can see that only one law can possibly fit the facts of the case .\\n',\n",
       " 'the <num> is that the reign of law would seem to be itself only probable , and that our belief that it will hold in the future , or in unexamined cases in the past , is itself based upon the very principle we are examining .\\n',\n",
       " 'as just stated , the principle applies only to the verification of our expectation in a single fresh instance .\\n',\n",
       " 'the probability of the general law is obviously less than the probability of the particular case , since if the general law is true , the particular case must also be true , whereas the particular case may be true without the general law being true .\\n',\n",
       " 'nevertheless the probability of the general law is increased by repetitions , just as the probability of the particular case is .\\n',\n",
       " 'we may therefore repeat the <num> parts of our principle as regards the general law , thus : ( a ) the greater the number of cases in which a thing of the sort a has been found associated with a thing of the sort b , the more probable it is ( if no cases of failure of association are known ) that a is always associated with b ; b ) under the same circumstances , a sufficient number of cases of the association of a with b will make it nearly certain that a is always associated with b , and will make this general law approach certainty without limit .\\n',\n",
       " 'it should be noted that probability is always relative to certain data .\\n',\n",
       " 'in our case , the data are merely the known cases of coexistence of a and b .\\n',\n",
       " 'the argument is not disproved by the fact that some swans are black , because a thing may very well happen in spite of the fact that some data render it improbable .\\n',\n",
       " 'in the case of the <caps> , a man might know that colour is a very variable characteristic in many species of animals , and that , therefore , an induction as to colour is peculiarly liable to error .\\n',\n",
       " 'but this knowledge would be a fresh datum , by no means proving that the probability relatively to our previous data had been wrongly estimated .\\n',\n",
       " 'experience might conceivably confirm the inductive principle as regards the cases that have been already examined ; but as regards unexamined cases , it is the inductive principle alone that can justify any inference from what has been examined to what has not been examined .\\n',\n",
       " 'all arguments which , on the basis of experience , argue as to the future or the unexperienced parts of the past or present , assume the inductive principle ; hence we can never use experience to prove the inductive principle without begging the question .\\n',\n",
       " 'thus we must either accept the inductive principle on the ground of its intrinsic evidence , or forgo all justification of our expectations about the future .\\n',\n",
       " 'if the principle is unsound , we have no reason to expect the sun to rise to-morrow , to expect bread to be more nourishing than a stone , or to expect that if we throw ourselves off the roof we shall fall .\\n',\n",
       " 'when we see what looks like our best friend approaching us , we shall have no reason to suppose that his body is not inhabited by the mind of our worst enemy or of some total stranger .\\n',\n",
       " 'all our conduct is based upon associations which have worked in the past , and which we therefore regard as likely to work in the future ; and this likelihood is dependent for its validity upon the inductive principle .\\n',\n",
       " 'the general principles of science , such as the belief in the reign of law , and the belief that every event must have a cause , are as completely dependent upon the inductive principle as are the beliefs of <date> life all such general principles are believed because mankind have found innumerable instances of their truth and no instances of their falsehood .\\n',\n",
       " 'but this affords no evidence for their truth in the future , unless the inductive principle is assumed .\\n',\n",
       " 'thus all knowledge which , on a basis of experience tells us something about what is not experienced , is based upon a belief which experience can neither confirm nor confute , yet which , at least in its more concrete applications , appears to be as firmly rooted in us as many of the facts of experience .\\n',\n",
       " 'the existence and justification of such beliefs -- for the inductive principle , as we shall see , is not the only example -- raises some of the most difficult and most debated problems of philosophy .\\n',\n",
       " 'we will , in the next chapter , consider briefly what may be said to account for such knowledge , and what is its scope and its degree of certainty .\\n',\n",
       " 'in these characteristics the principle of induction does not stand alone .\\n',\n",
       " 'there are a number of other principles which can not be proved or disproved by experience , but are used in arguments which start from what is experienced .\\n',\n",
       " 'some of these principles have even greater evidence than the principle of induction , and the knowledge of them has the same degree of certainty as the knowledge of the existence of sense-data .\\n',\n",
       " 'they constitute the means of drawing inferences from what is given in sensation ; and if what we infer is to be true , it is just as necessary that our principles of inference should be true as it is that our data should be true .\\n',\n",
       " 'the principles of inference are apt to be overlooked because of their very obviousness -- the assumption involved is assented to without our realizing that it is an assumption .\\n',\n",
       " 'but it is very important to realize the use of principles of inference , if a correct theory of knowledge is to be obtained ; for our knowledge of them raises interesting and difficult questions .\\n',\n",
       " 'in all our knowledge of general principles , what actually happens is that <num> of all we realize some particular application of the principle , and then we realize that the particularity is irrelevant , and that there is a generality which may equally truly be affirmed .\\n',\n",
       " \"this is of course familiar in such matters as teaching arithmetic : 'two and two are <num> ' is <num> learnt in the case of some particular pair of couples , and then in some other particular case , and so on , until at last it becomes possible to see that it is true of any pair of couples .\\n\",\n",
       " 'the same thing happens with logical principles .\\n',\n",
       " 'suppose <num> men are discussing what day of the month it is .\\n',\n",
       " \"'and you know ' , the <num> continues , 'that <date> was the 15th , because you dined with <state> , and your diary will tell you that was on the 15th . '\\n\",\n",
       " 'now such an argument is not hard to follow ; and if it is granted that its premisses are true in fact , no one will deny that the conclusion must also be true .\\n',\n",
       " 'but it depends for its truth upon an instance of a general logical principle .\\n',\n",
       " \"when it is the case that if this is true , that is true , we shall say that this 'implies ' that , and that that 'follows from ' this .\\n\",\n",
       " 'thus our principle states that if this implies that , and this is true , then that is true .\\n',\n",
       " \"in other words , 'anything implied by a true proposition is true ' , or 'whatever follows from a true proposition is true ' .\\n\",\n",
       " 'this principle is really involved -- at least , concrete instances of it are involved -- in all demonstrations .\\n',\n",
       " 'whenever <num> thing which we believe is used to prove something else , which we consequently believe , this principle is relevant .\\n',\n",
       " \"if any one asks : 'why should i accept the results of valid arguments based on true premisses ? '\\n\",\n",
       " 'we can only answer by appealing to our principle .\\n',\n",
       " 'in fact , the truth of the principle is impossible to doubt , and its obviousness is so great that at <num> sight it seems almost trivial .\\n',\n",
       " 'such principles , however , are not trivial to the philosopher , for they show that we may have indubitable knowledge which is in no way derived from objects of sense .\\n',\n",
       " 'the above principle is merely one of a certain number of self-evident logical principles .\\n',\n",
       " 'some at least of these principles must be granted before any argument or proof becomes possible .\\n',\n",
       " 'when some of them have been granted , others can be proved , though these others , so long as they are simple , are just as obvious as the principles taken for granted .\\n',\n",
       " \"for no very good reason , <num> of these principles have been singled out by tradition under the name of 'laws of thought ' .\\n\",\n",
       " 'these <num> laws are samples of self-evident logical principles , but are not really more fundamental or more self-evident than various other similar principles : for instance , the <num> we considered just now , which states that what follows from a true premiss is true .\\n',\n",
       " 'but this is a large question , to which we must return at a later stage .\\n',\n",
       " 'an example of such principles -- perhaps the most important example is the inductive principle , which we considered in the preceding chapter .\\n',\n",
       " \"<num> of the great historic controversies in philosophy is the controversy between the <num> schools called respectively 'empiricists ' and 'rationalists ' .\\n\",\n",
       " \"the empiricists -- who are best represented by the <caps> philosophers , locke , berkeley , and <person> -- maintained that all our knowledge is derived from experience ; the rationalists -- who are represented by the <organization> philosophers of the seventeenth century , especially descartes and <person> -- maintained that , in addition to what we know by experience , there are certain 'innate ideas ' and 'innate principles ' , which we know independently of experience .\\n\",\n",
       " 'it has now become possible to decide with some confidence as to the truth or falsehood of these opposing schools .\\n',\n",
       " 'it must be admitted , for the reasons already stated , that logical principles are known to us , and can not be themselves proved by experience , since all proof presupposes them .\\n',\n",
       " 'in this , therefore , which was the most important point of the controversy , the rationalists were in the right .\\n',\n",
       " 'it is on occasion of particular experiences that we become aware of the general laws which their connexions exemplify .\\n',\n",
       " 'it would certainly be absurd to suppose that there are innate principles in the sense that babies are born with a knowledge of everything which men know and which can not be deduced from what is experienced .\\n',\n",
       " \"for this reason , the word 'innate ' would not now be employed to describe our knowledge of logical principles .\\n\",\n",
       " 'there is another point of great importance , in which the empiricists were in the right as against the rationalists .\\n',\n",
       " 'that is to say , if we wish to prove that something of which we have no direct experience exists , we must have among our premisses the existence of <num> or more things of which we have direct experience .\\n',\n",
       " 'our belief that the emperor of <state> exists , for example , rests upon testimony , and testimony consists , in the last analysis , of sense-data seen or heard in reading or being spoken to .\\n',\n",
       " 'rationalists believed that , from general consideration as to what must be , they could deduce the existence of this or that in the actual world .\\n',\n",
       " 'in this belief they seem to have been mistaken .\\n',\n",
       " 'all knowledge that something exists must be in part dependent on experience .\\n',\n",
       " 'i am not speaking of judgements as to what is useful or as to what is virtuous , for such judgements do require empirical premisses ; i am speaking of judgements as to the intrinsic desirability of things .\\n',\n",
       " 'if something is useful , it must be useful because it secures some end ; the end must , if we have gone far enough , be valuable on its own account , and not merely because it is useful for some further end .\\n',\n",
       " 'thus all judgements as to what is useful depend upon judgements as to what has value on its own account .\\n',\n",
       " 'we judge , for example , that happiness is more desirable than misery , knowledge than ignorance , goodwill than hatred , and so on .\\n',\n",
       " 'but it is fairly obvious that they can not be proved by experience ; for the fact that a thing exists or does not exist can not prove either that it is good that it should exist or that it is bad .\\n',\n",
       " 'the pursuit of this subject belongs to ethics , where the impossibility of deducing what ought to be from what is has to be established .\\n',\n",
       " 'this was strenuously denied by the empirical philosophers , who maintained that experience was as much the source of our knowledge of arithmetic as of our knowledge of geography .\\n',\n",
       " 'if , however , this were the source of our knowledge that <num> and <num> are <num> , we should proceed differently , in persuading ourselves of its truth , from the way in which we do actually proceed .\\n',\n",
       " 'in fact , a certain number of instances are needed to make us think of <num> abstractly , rather than of <num> coins or <num> books or <num> people , or <num> of any other specified kind .\\n',\n",
       " 'the same thing is exemplified in geometry .\\n',\n",
       " 'we do not , in fact , feel our certainty that <num> and <num> are <num> increased by fresh instances , because , as soon as we have seen the truth of this proposition , our certainty becomes so great as to be incapable of growing greater .\\n',\n",
       " \"moreover , we feel some quality of necessity about the proposition 'two and <num> are <num> ' , which is absent from even the best attested empirical generalizations .\\n\",\n",
       " 'such generalizations always remain mere facts : we feel that there might be a world in which they were false , though in the actual world they happen to be true .\\n',\n",
       " 'in any possible world , on the contrary , we feel that <num> and <num> would be <num> : this is not a mere fact , but a necessity to which everything actual and possible must conform .\\n',\n",
       " \"the case may be made clearer by considering a genuinely-empirical generalization , such as 'all men are mortal . '\\n\",\n",
       " \"it is plain that we believe this proposition , in the <num> place , because there is no known instance of men living beyond a certain age , and in the <num> place because there seem to be physiological grounds for thinking that an organism such as a man 's body must sooner or later wear out .\\n\",\n",
       " \"neglecting the <num> ground , and considering merely our experience of men 's mortality , it is plain that we should not be content with <num> quite clearly understood instance of a man dying , whereas , in the case of 'two and <num> are <num> ' , <num> instance does suffice , when carefully considered , to persuade us that the same must happen in any other instance .\\n\",\n",
       " 'this may be made plain by the attempt to imagine <num> different worlds , in <num> of which there are men who are not mortal , while in the other <num> and <num> make <num> .\\n',\n",
       " 'when swift invites us to consider the race of <person> who never die , we are able to acquiesce in imagination .\\n',\n",
       " 'but a world where <num> and <num> make <num> seems quite on a different level .\\n',\n",
       " 'we feel that such a world , if there were one , would upset the whole fabric of our knowledge and reduce us to utter doubt .\\n',\n",
       " \"the fact is that , in simple mathematical judgements such as 'two and <num> are <num> ' , and also in many judgements of logic , we can know the general proposition without inferring it from instances , although some instance is usually necessary to make clear to us what the general proposition means .\\n\",\n",
       " 'we can now see that in certain cases , at least , it does do so .\\n',\n",
       " 'if we already know that <num> and <num> always make <num> , and we know that <person> and <state> are <num> , and so are <person> and <person> , we can deduce that <person> and <state> and <person> and <person> are <num> .\\n',\n",
       " \"this is new knowledge , not contained in our premisses , because the general proposition , 'two and two are <num> ' , never told us there were such people as <person> and <state> and <person> and <person> , and the particular premisses do not tell us that there were <num> of them , whereas the particular proposition deduced does tell us both these things .\\n\",\n",
       " \"but the newness of the knowledge is much less certain if we take the stock instance of deduction that is always given in books on logic , namely , 'all men are mortal ; <state> is a man , therefore <state> is mortal . '\\n\",\n",
       " 'in this case , what we really know beyond reasonable doubt is that certain men , a , b , c , were mortal , since , in fact , they have died .\\n',\n",
       " \"if <state> is not <num> of the men on whom our induction is based , we shall still do better to argue straight from our a , b , c , to <state> , than to go round by the general proposition , 'all men are mortal ' .\\n\",\n",
       " 'for the probability that <state> is mortal is greater , on our data , than the probability that all men are mortal .\\n',\n",
       " '( this is obvious , because if all men are mortal , so is <state> ; but if <state> is mortal , it does not follow that all men are mortal . )\\n',\n",
       " \"hence we shall reach the conclusion that <state> is mortal with a greater approach to certainty if we make our argument purely inductive than if we go by way of 'all men are mortal ' and then use deduction .\\n\",\n",
       " 'in regard to the former , deduction is the right mode of argument , whereas in regard to the latter , induction is always theoretically preferable , and warrants a greater confidence in the truth of our conclusion , because all empirical generalizations are more uncertain than the instances of them .\\n',\n",
       " 'the question which must next occupy us is this : how is it possible that there should be such knowledge ?\\n',\n",
       " 'and more particularly , how can there be knowledge of general propositions in cases where we have not examined all the instances , and indeed never can examine them all , because their number is infinite ?\\n',\n",
       " 'these questions , which were <num> brought prominently forward by the <caps> philosopher <person> ( <date> ) , are very difficult , and historically very important .\\n',\n",
       " 'though he lived through the seven years war and the french revolution , he never interrupted his teaching of philosophy at <state> in east prussia .\\n',\n",
       " \"his most distinctive contribution was the invention of what he called the 'critical ' philosophy , which , assuming as a datum that there is knowledge of various kinds , inquired how such knowledge comes to be possible , and deduced , from the answer to this inquiry , many metaphysical results as to the nature of the world .\\n\",\n",
       " 'whether these results were valid may well be doubted .\\n',\n",
       " 'such that the opposite would be self-contradictory , and <num> , for having made evident the philosophical importance of the theory of knowledge .\\n',\n",
       " 'what this word means will be best illustrated by examples .\\n',\n",
       " \"if i say , 'a bald man is a man ' , 'a plane figure is a figure ' , 'a bad poet is a poet ' , i make a purely analytic judgement : the subject spoken about is given as having at least two properties , of which one is singled out to be asserted of it .\\n\",\n",
       " 'such propositions as the above are trivial , and would never be enunciated in real life except by an orator preparing the way for a piece of sophistry .\\n',\n",
       " \"they are called 'analytic ' because the predicate is obtained by merely analysing the subject .\\n\",\n",
       " \"'a bald man is not bald ' would assert and deny baldness of the same man , and would therefore contradict itself .\\n\",\n",
       " 'before <person> , rationalists at least had supposed that the effect could be logically deduced from the cause , if only we had sufficient knowledge .\\n',\n",
       " 'hume argued -- correctly , as would now be generally admitted -- that this could not be done .\\n',\n",
       " \"<organization> , who had been educated in the rationalist tradition , was much perturbed by <person> 's scepticism , and endeavoured to find an answer to it .\\n\",\n",
       " \"he perceived that not only the connexion of cause and effect , but all the propositions of arithmetic and geometry , are 'synthetic ' , i.e .\\n\",\n",
       " 'not analytic : in all these propositions , no analysis of the subject will reveal the predicate .\\n',\n",
       " 'his stock instance was the proposition 7 + <num> = <num> .\\n',\n",
       " 'he pointed out , quite truly , that <num> and <num> have to be put together to give <num> : the idea of <num> is not contained in them , nor even in the idea of adding them together .\\n',\n",
       " \"the question which <organization> put at the beginning of his philosophy , namely 'how is pure mathematics possible ? '\\n\",\n",
       " 'is an interesting and difficult one , to which every philosophy which is not purely sceptical must find some answer .\\n',\n",
       " \"the answer of the pure empiricists , that our mathematical knowledge is derived by induction from particular instances , we have already seen to be inadequate , for <num> reasons : <num> , that the validity of the inductive principle itself can not be proved by induction ; <num> , that the general propositions of mathematics , such as 'two and <num> always make <num> ' , can obviously be known with certainty by consideration of a single instance , and gain nothing by enumeration of other cases in which they have been found to be true .\\n\",\n",
       " \"thus our knowledge of the general propositions of mathematics ( and the same applies to logic ) must be accounted for otherwise than our ( merely probable ) knowledge of empirical generalizations such as 'all men are mortal ' .\\n\",\n",
       " 'the problem arises through the fact that such knowledge is general , whereas all experience is particular .\\n',\n",
       " 'it seems strange that we should apparently be able to know some truths in advance about particular things of which we have as yet no experience ; but it can not easily be doubted that logic and arithmetic will apply to such things .\\n',\n",
       " 'we do not know who will be the inhabitants of <state> a hundred years hence ; but we know that any <num> of them and any other <num> of them will make <num> of them .\\n',\n",
       " 'this apparent power of anticipating facts about things of which we have no experience is certainly surprising .\\n',\n",
       " \"<organization> 's solution of the problem , though not valid in my opinion , is interesting .\\n\",\n",
       " 'it is , however , very difficult , and is differently understood by different philosophers .\\n',\n",
       " \"we can , therefore , only give the merest outline of it , and even that will be thought misleading by many exponents of <organization> 's system .\\n\",\n",
       " 'what <organization> maintained was that in all our experience there are <num> elements to be distinguished , the <num> due to the object ( i.e .\\n',\n",
       " \"to what we have called the 'physical object ' ) , the other due to our own nature .\\n\",\n",
       " 'we saw , in discussing matter and sense-data , that the physical object is different from the associated sense-data , and that the sense-data are to be regarded as resulting from an interaction between the physical object and ourselves .\\n',\n",
       " 'but what is distinctive of <organization> is the way in which he apportions the shares of ourselves and the physical object respectively .\\n',\n",
       " 'he considers that the crude material given in sensation -- the colour , hardness , etc. -- is due to the object , and that what we supply is the arrangement in space and time , and all the relations between sense-data which result from comparison or from considering <num> as the cause of the other or in any other way .\\n',\n",
       " \"the physical object , which he calls the 'thing in itself ' , ( 1 ) he regards as essentially unknowable ; what can be known is the object as we have it in experience , which he calls the 'phenomenon ' .\\n\",\n",
       " 'hence this knowledge , though true of all actual and possible experience , must not be supposed to apply outside experience .\\n',\n",
       " 'in this way he tries to reconcile and harmonize the contentions of the rationalists with the arguments of the empiricists .\\n',\n",
       " \"in the properties deduced from the definition it is not identical , since <person> held ( in spite of some inconsistency as regards cause ) that we can know that none of the categories are applicable to the 'thing in itself ' .\\n\",\n",
       " 'the thing to be accounted for is our certainty that the facts must always conform to logic and arithmetic .\\n',\n",
       " 'to say that logic and arithmetic are contributed by us does not account for this .\\n',\n",
       " 'our nature is as much a fact of the existing world as anything , and there can be no certainty that it will remain constant .\\n',\n",
       " 'it might happen , if <person> is right , that to-morrow our nature would so change as to make <num> and <num> become <num> .\\n',\n",
       " 'this possibility seems never to have occurred to him , yet it is one which utterly destroys the certainty and universality which he is anxious to vindicate for arithmetical propositions .\\n',\n",
       " 'it is true that this possibility , formally , is inconsistent with the <caps> view that time itself is a form imposed by the subject upon phenomena , so that our real self is not in time and has no to-morrow .\\n',\n",
       " 'but he will still have to suppose that the time-order of phenomena is determined by characteristics of what is behind phenomena , and this suffices for the substance of our argument .\\n',\n",
       " 'reflection , moreover , seems to make it clear that , if there is any truth in our arithmetical beliefs , they must apply to things equally whether we think of them or not .\\n',\n",
       " '<num> physical objects and <num> other physical objects must make <num> physical objects , even if physical objects can not be experienced .\\n',\n",
       " 'to assert this is certainly within the scope of what we mean when we state that <num> and <num> are <num> .\\n',\n",
       " 'its truth is just as indubitable as the truth of the assertion that <num> phenomena and <num> other phenomena make <num> phenomena .\\n',\n",
       " \"we noted in the preceding chapter the <num> principles commonly called 'laws of thought ' .\\n\",\n",
       " 'the view which led to their being so named is a natural one , but there are strong reasons for thinking that it is erroneous .\\n',\n",
       " 'let us take as an illustration the law of contradiction .\\n',\n",
       " \"this is commonly stated in the form 'nothing can both be and not be ' , which is intended to express the fact that nothing can at once have and not have a given quality .\\n\",\n",
       " 'thus , for example , if a tree is a beech it can not also be not a beech ; if my table is rectangular it can not also be not rectangular , and so on .\\n',\n",
       " 'when we have seen that a tree is a beech , we do not need to look again in order to ascertain whether it is also not a beech ; thought alone makes us know that this is impossible .\\n',\n",
       " 'what we believe , when we believe the law of contradiction , is not that the mind is so made that it must believe the law of contradiction .\\n',\n",
       " 'the belief in the law of contradiction is a belief about things , not only about thoughts .\\n',\n",
       " 'thus the law of contradiction is about things , and not merely about thoughts ; and although belief in the law of contradiction is a thought , the law of contradiction itself is not a thought , but a fact concerning the things in the world .\\n',\n",
       " 'when we judge that <num> and <num> are <num> , we are not making a judgement about our thoughts , but about all actual or possible couples .\\n',\n",
       " 'the fact that our minds are so constituted as to believe that <num> and <num> are <num> , though it is true , is emphatically not what we assert when we assert that <num> and <num> are <num> .\\n',\n",
       " 'these entities are such as can be named by parts of speech which are not substantives ; they are such entities as qualities and relations .\\n',\n",
       " 'suppose , for instance , that i am in my room .\\n',\n",
       " \"i exist , and my room exists ; but does 'in ' exist ?\\n\",\n",
       " \"yet obviously the word 'in ' has a meaning ; it denotes a relation which holds between me and my room .\\n\",\n",
       " \"the relation 'in ' is something which we can think about and understand , for , if we could not understand it , we could not understand the sentence 'i am in my room ' .\\n\",\n",
       " 'many philosophers , following <organization> , have maintained that relations are the work of the mind , that things in themselves have no relations , but that the mind brings them together in <num> act of thought and thus produces the relations which it judges them to have .\\n',\n",
       " 'this view , however , seems open to objections similar to those which we urged before against <organization> .\\n',\n",
       " \"it seems plain that it is not thought which produces the truth of the proposition 'i am in my room ' .\\n\",\n",
       " 'it may be true that an earwig is in my room , even if neither i nor the earwig nor any one else is aware of this truth ; for this truth concerns only the earwig and the room , and does not depend upon anything else .\\n',\n",
       " 'thus relations , as we shall see more fully in the next chapter , must be placed in a world which is neither mental nor physical .\\n',\n",
       " 'in the next chapter we shall proceed to develop its nature and its bearing upon the questions with which we have been dealing .\\n',\n",
       " 'in the present chapter we have to consider what is the nature of this kind of being , and also what objects there are that have this kind of being .\\n',\n",
       " 'the problem with which we are now concerned is a very old one , since it was brought into philosophy by <organization> .\\n',\n",
       " \"<organization> 's 'theory of ideas ' is an attempt to solve this very problem , and in my opinion it is one of the most successful attempts hitherto made .\\n\",\n",
       " \"the theory to be advocated in what follows is largely <organization> 's , with merely such modifications as time has shown to be necessary .\\n\",\n",
       " 'the way the problem arose for <organization> was more or less as follows .\\n',\n",
       " 'if we ask ourselves what justice is , it is natural to proceed by considering this , that , and the other just act , with a view to discovering what they have in common .\\n',\n",
       " 'they must all , in some sense , partake of a common nature , which will be found in whatever is just and in nothing else .\\n',\n",
       " 'this common nature , in virtue of which they are all just , will be justice itself , the pure essence the admixture of which with facts of ordinary life produces the multiplicity of just acts .\\n',\n",
       " \"similarly with any other word which may be applicable to common facts , such as 'whiteness ' for example .\\n\",\n",
       " 'the word will be applicable to a number of particular things because they all participate in a common nature or essence .\\n',\n",
       " \"this pure essence is what <organization> calls an 'idea ' or 'form ' .\\n\",\n",
       " \"( it must not be supposed that 'ideas ' , in his sense , exist in minds , though they may be apprehended by minds . )\\n\",\n",
       " 'not being particular , it can not itself exist in the world of sense .\\n',\n",
       " 'moreover it is not fleeting or changeable like the things of sense : it is eternally itself , immutable and indestructible .\\n',\n",
       " 'thus plato is led to a supra-sensible world , more real than the common world of sense , the unchangeable world of ideas , which alone gives to the world of sense whatever pale reflection of reality may belong to it .\\n',\n",
       " 'the truly real world , for <organization> , is the world of ideas ; for whatever we may attempt to say about things in the world of sense , we can only succeed in saying that they participate in such and such ideas , which , therefore , constitute all their character .\\n',\n",
       " 'hence it is easy to pass on into a mysticism .\\n',\n",
       " 'we may hope , in a mystic illumination , to see the ideas as we see objects of sense ; and we may imagine that the ideas exist in heaven .\\n',\n",
       " 'these mystical developments are very natural , but the basis of the theory is in logic , and it is as based in logic that we have to consider it .\\n',\n",
       " \"the word 'idea ' has acquired , in the course of time , many associations which are quite misleading when applied to <organization> 's 'ideas ' .\\n\",\n",
       " \"we shall therefore use the word 'universal ' instead of the word 'idea ' , to describe what <organization> meant .\\n\",\n",
       " 'the essence of the sort of entity that <organization> meant is that it is opposed to the particular things that are given in sensation .\\n',\n",
       " 'when we examine common words , we find that , broadly speaking , proper names stand for particulars , while other substantives , adjectives , prepositions , and verbs stand for universals .\\n',\n",
       " 'pronouns stand for particulars , but are ambiguous : it is only by the context or the circumstances that we know what particulars they stand for .\\n',\n",
       " \"the word 'now ' stands for a particular , namely the present moment ; but like pronouns , it stands for an ambiguous particular , because the present is always changing .\\n\",\n",
       " 'it will be seen that no sentence can be made up without at least one word which denotes a universal .\\n',\n",
       " \"the nearest approach would be some such statement as 'i like this ' .\\n\",\n",
       " \"but even here the word 'like ' denotes a universal , for i may like other things , and other people may like things .\\n\",\n",
       " 'thus all truths involve universals , and all knowledge of truths involves acquaintance with universals .\\n',\n",
       " 'seeing that nearly all the words to be found in the dictionary stand for universals , it is strange that hardly anybody except students of philosophy ever realizes that there are such entities as universals .\\n',\n",
       " 'we do not naturally dwell upon those words in a sentence which do not stand for particulars ; and if we are forced to dwell upon a word which stands for a universal , we naturally think of it as standing for some one of the particulars that come under the universal .\\n',\n",
       " 'hence we succeed in avoiding all notice of universals as such , until the study of philosophy forces them upon our attention .\\n',\n",
       " 'even among philosophers , we may say , broadly , that only those universals which are named by adjectives or substantives have been much or often recognized , while those named by verbs and prepositions have been usually overlooked .\\n',\n",
       " 'this omission has had a very great effect upon philosophy ; it is hardly too much to say that most metaphysics , since <state> , has been largely determined by it .\\n',\n",
       " 'the way this has occurred is , in outline , as follows : speaking generally , adjectives and common nouns express qualities or properties of single things , whereas prepositions and verbs tend to express relations between <num> or more things .\\n',\n",
       " 'thus the neglect of prepositions and verbs led to the belief that every proposition can be regarded as attributing a property to a single thing , rather than as expressing a relation between <num> or more things .\\n',\n",
       " 'hence it was supposed that , ultimately , there can be no such entities as relations between things .\\n',\n",
       " 'hence either there can be only one thing in the universe , or , if there are many things , they can not possibly interact in any way , since any interaction would be a relation , and relations are impossible .\\n',\n",
       " 'both these opposing philosophies , interesting as they are , result , in my opinion , from an undue attention to <num> sort of universals , namely the sort represented by adjectives and substantives rather than by verbs and prepositions .\\n',\n",
       " 'the sort of universals generally represented by verbs and prepositions .\\n',\n",
       " 'if we believe that there is such a universal , we shall say that things are white because they have the quality of whiteness .\\n',\n",
       " 'this view , however , was strenuously denied by <organization> and <person> , who have been followed in this by later empiricists .\\n',\n",
       " \"the form which their denial took was to deny that there are such things as 'abstract ideas ' .\\n\",\n",
       " 'when we want to think of whiteness , they said , we form an image of some particular white thing , and reason concerning this particular , taking care not to deduce anything concerning it which we can not see to be equally true of any other white thing .\\n',\n",
       " 'as an account of our actual mental processes , this is no doubt largely true .\\n',\n",
       " 'in geometry , for example , when we wish to prove something about all triangles , we draw a particular triangle and reason about it , taking care not to use any characteristic which it does not share with other triangles .\\n',\n",
       " 'the beginner , in order to avoid error , often finds it useful to draw several triangles , as unlike each other as possible , in order to make sure that his reasoning is equally applicable to all of them .\\n',\n",
       " 'but a difficulty emerges as soon as we ask ourselves how we know that a thing is white or a triangle .\\n',\n",
       " 'but then the resemblance required will have to be a universal .\\n',\n",
       " 'since there are many white things , the resemblance must hold between many pairs of particular white things ; and this is the characteristic of a universal .\\n',\n",
       " 'it will be useless to say that there is a different resemblance for each pair , for then we shall have to say that these resemblances resemble each other , and thus at last we shall be forced to admit resemblance as a universal .\\n',\n",
       " 'the relation of resemblance , therefore , must be a true universal .\\n',\n",
       " 'and having been forced to admit this universal , we find that it is no longer worth while to invent difficult and unplausible theories to avoid the admission of such universals as whiteness and triangularity .\\n',\n",
       " 'we have therefore here another respect in which the rationalists appear to have been in the right as against the empiricists , although , owing to the neglect or denial of relations , the deductions made by rationalists were , if anything , more apt to be mistaken than those made by empiricists .\\n',\n",
       " 'having now seen that there must be such entities as universals , the next point to be proved is that their being is not merely mental .\\n',\n",
       " 'by this is meant that whatever being belongs to them is independent of their being thought of or in any way apprehended by minds .\\n',\n",
       " 'we have already touched on this subject at the end of the preceding chapter , but we must now consider more fully what sort of being it is that belongs to universals .\\n',\n",
       " \"consider such a proposition as 'edinburgh is north of <state> ' .\\n\",\n",
       " 'here we have a relation between <num> places , and it seems plain that the relation subsists independently of our knowledge of it .\\n',\n",
       " 'when we come to know that <person> is north of <state> , we come to know something which has to do only with <person> and <state> : we do not cause the truth of the proposition by coming to know it , on the contrary we merely apprehend a fact which was there before we knew it .\\n',\n",
       " \"the part of the <location> 's surface where <person> stands would be north of the part where <state> stands , even if there were no human being to know about north and south , and even if there were no minds at all in the universe .\\n\",\n",
       " \"this is , of course , denied by many philosophers , either for <organization> 's reasons or for <organization> 's .\\n\",\n",
       " 'but we have already considered these reasons , and decided that they are inadequate .\\n',\n",
       " 'we may therefore now assume it to be true that nothing mental is presupposed in the fact that <person> is north of <state> .\\n',\n",
       " \"but this fact involves the relation 'north of ' , which is a universal ; and it would be impossible for the whole fact to involve nothing mental if the relation 'north of ' , which is a constituent part of the fact , did involve anything mental .\\n\",\n",
       " 'hence we must admit that the relation , like the terms it relates , is not dependent upon thought , but belongs to the independent world which thought apprehends but does not create .\\n',\n",
       " \"if we ask 'where and when does this relation exist ? '\\n\",\n",
       " \"the answer must be 'nowhere and <person> ' .\\n\",\n",
       " \"there is no place or time where we can find the relation 'north of ' .\\n\",\n",
       " 'it does not exist in <state> any more than in <state> , for it relates the <num> and is neutral as between them .\\n',\n",
       " 'nor can we say that it exists at any particular time .\\n',\n",
       " 'now everything that can be apprehended by the senses or by introspection exists at some particular time .\\n',\n",
       " \"hence the relation 'north of ' is radically different from such things .\\n\",\n",
       " 'it is neither in space nor in time , neither material nor mental ; yet it is something .\\n',\n",
       " 'it is largely the very peculiar kind of being that belongs to universals which has led many people to suppose that they are really mental .\\n',\n",
       " 'suppose , for example , that we are thinking of whiteness .\\n',\n",
       " 'in the strict sense , it is not whiteness that is in our mind , but the act of thinking of whiteness .\\n',\n",
       " \"the connected ambiguity in the word 'idea ' , which we noted at the same time , also causes confusion here .\\n\",\n",
       " \"hence , if the ambiguity is not guarded against , we may come to think that whiteness is an 'idea ' in the other sense , i.e .\\n\",\n",
       " 'an act of thought ; and thus we come to think that whiteness is mental .\\n',\n",
       " 'but in so thinking , we rob it of its essential quality of universality .\\n',\n",
       " \"<num> man 's act of thought is necessarily a different thing from another man 's ; <num> man 's act of thought at <num> time is necessarily a different thing from the same man 's act of thought at another time .\\n\",\n",
       " 'hence , if whiteness were the thought as opposed to its object , no <num> different men could think of it , and no one man could think of it twice .\\n',\n",
       " 'thus universals are not thoughts , though when known they are the objects of thoughts .\\n',\n",
       " 'thus thoughts and feelings , minds and physical objects exist .\\n',\n",
       " 'the world of universals , therefore , may also be described as the world of being .\\n',\n",
       " 'the world of being is unchangeable , rigid , exact , delightful to the mathematician , the logician , the builder of metaphysical systems , and all who love perfection more than life .\\n',\n",
       " 'the world of existence is fleeting , vague , without sharp boundaries , without any clear plan or arrangement , but it contains all thoughts and feelings , all the data of sense , and all physical objects , everything that can do either good or harm , everything that makes any difference to the value of life and the world .\\n',\n",
       " 'according to our temperaments , we shall prefer the contemplation of the <num> or of the other .\\n',\n",
       " 'the one we do not prefer will probably seem to us a pale shadow of the one we prefer , and hardly worthy to be regarded as in any sense real .\\n',\n",
       " 'but the truth is that both have the same claim on our impartial attention , both are real , and both are important to the metaphysician .\\n',\n",
       " 'indeed no sooner have we distinguished the <num> worlds than it becomes necessary to consider their relations .\\n',\n",
       " 'but <num> of all we must examine our knowledge of universals .\\n',\n",
       " 'let us consider <num> the knowledge of universals by acquaintance .\\n',\n",
       " 'it is obvious , to begin with , that we are acquainted with such universals as white , red , black , sweet , sour , loud , hard , etc. , i.e .\\n',\n",
       " 'with qualities which are exemplified in sense-data .\\n',\n",
       " 'when we see a white patch , we are acquainted , in the <num> instance , with the particular patch ; but by seeing many white patches , we easily learn to abstract the whiteness which they all have in common , and in learning to do this we are learning to be acquainted with whiteness .\\n',\n",
       " 'a similar process will make us acquainted with any other universal of the same sort .\\n',\n",
       " \"universals of this sort may be called 'sensible qualities ' .\\n\",\n",
       " 'they can be apprehended with less effort of abstraction than any others , and they seem less removed from particulars than other universals are .\\n',\n",
       " 'the easiest relations to apprehend are those which hold between the different parts of a single complex sense-datum .\\n',\n",
       " 'for example , i can see at a glance the whole of the page on which i am writing ; thus the whole page is included in <num> sense-datum .\\n',\n",
       " 'but i perceive that some parts of the page are to the left of other parts , and some parts are above other parts .\\n',\n",
       " \"the process of abstraction in this case seems to proceed somewhat as follows : i see successively a number of sense-data in which <num> part is to the left of another ; i perceive , as in the case of different white patches , that all these sense-data have something in common , and by abstraction i find that what they have in common is a certain relation between their parts , namely the relation which i call 'being to the left of ' .\\n\",\n",
       " 'in this way i become acquainted with the universal relation .\\n',\n",
       " 'in like manner i become aware of the relation of before and after in time .\\n',\n",
       " 'suppose i hear a chime of bells : when the last bell of the chime sounds , i can retain the whole chime before my mind , and i can perceive that the earlier bells came before the later ones .\\n',\n",
       " 'also in memory i perceive that what i am remembering came before the present time .\\n',\n",
       " \"from either of these sources i can abstract the universal relation of before and after , just as i abstracted the universal relation 'being to the left of ' .\\n\",\n",
       " 'thus time-relations , like space-relations , are among those with which we are acquainted .\\n',\n",
       " 'another relation with which we become acquainted in much the same way is resemblance .\\n',\n",
       " 'if i see simultaneously <num> shades of green , i can see that they resemble each other ; if i also see a shade of red : at the same time , i can see that the <num> greens have more resemblance to each other than either has to the red .\\n',\n",
       " 'between universals , as between particulars , there are relations of which we may be immediately aware .\\n',\n",
       " 'we have just seen that we can perceive that the resemblance between <num> shades of green is greater than the resemblance between a shade of red and a shade of green .\\n',\n",
       " \"here we are dealing with a relation , namely 'greater than ' , between two relations .\\n\",\n",
       " 'our knowledge of such relations , though it requires more power of abstraction than is required for perceiving the qualities of sense-data , appears to be equally immediate , and ( at least in some cases ) equally indubitable .\\n',\n",
       " 'thus there is immediate knowledge concerning universals as well as concerning sense-data .\\n',\n",
       " \"let us revert to the proposition 'two and two are <num> ' .\\n\",\n",
       " \"it is fairly obvious , in view of what has been said , that this proposition states a relation between the universal 'two ' and the universal 'four ' .\\n\",\n",
       " 'in this case it might seem as though we were dealing with the particulars that have the property rather than with the property .\\n',\n",
       " \"the proposition 'two and <num> are <num> ' is really a case in point , for this may be stated in the form 'any <num> and any other <num> are <num> ' , or 'any collection formed of <num> twos is a collection of <num> ' .\\n\",\n",
       " 'if we can show that such statements as this really deal only with universals , our proposition may be regarded as proved .\\n',\n",
       " '<num> way of discovering what a proposition deals with is to ask ourselves what words we must understand -- in other words , what objects we must be acquainted with -- in order to see what the proposition means .\\n',\n",
       " 'as soon as we see what the proposition means , even if we do not yet know whether it is true or false , it is evident that we must have acquaintance with whatever is really dealt with by the proposition .\\n',\n",
       " 'by applying this test , it appears that many propositions which might seem to be concerned with particulars are really concerned only with universals .\\n',\n",
       " \"in the special case of 'two and <num> are <num> ' , even when we interpret it as meaning 'any collection formed of <num> twos is a collection of <num> ' , it is plain that we can understand the proposition , i.e .\\n\",\n",
       " \"we can see what it is that it asserts , as soon as we know what is meant by 'collection ' and 'two ' and 'four ' .\\n\",\n",
       " 'it is quite unnecessary to know all the couples in the world : if it were necessary , obviously we could never understand the proposition , since the couples are infinitely numerous and therefore can not all be known to us .\\n',\n",
       " \"the statement made is about 'couple ' , the universal , and not about this or that couple .\\n\",\n",
       " \"thus the statement 'two and two are <num> ' deals exclusively with universals , and therefore may be known by anybody who is acquainted with the universals concerned and can perceive the relation between them which the statement asserts .\\n\",\n",
       " 'the thing that seemed mysterious , when we formerly considered such knowledge , was that it seemed to anticipate and control experience .\\n',\n",
       " 'this , however , we can now see to have been an error .\\n',\n",
       " 'the reason is that this proposition can not be understood at all unless we know that there are such people as <person> and <state> and <person> and <person> , and this we can only know by experience .\\n',\n",
       " 'it is obviously unnecessary to have an individual acquaintance with the whole human race in order to understand what our proposition means .\\n',\n",
       " 'in the empirical case , the evidence consists in the particular instances .\\n',\n",
       " 'we believe that all men are mortal because we know that there are innumerable instances of men dying , and no instances of their living beyond a certain age .\\n',\n",
       " 'but that only means that our generalization has been subsumed under a wider generalization , for which the evidence is still of the same kind , though more extensive .\\n',\n",
       " 'the progress of science is constantly producing such subsumptions , and therefore giving a constantly wider inductive basis for scientific generalizations .\\n',\n",
       " 'the <num> is that , if many particular instances are known , our general proposition may be arrived at in the <num> instance by induction , and the connexion of universals may be only subsequently perceived .\\n',\n",
       " 'for example , it is known that if we draw perpendiculars to the sides of a triangle from the opposite angles , all <num> perpendiculars meet in a point .\\n',\n",
       " 'it would be quite possible to be <num> led to this proposition by actually drawing perpendiculars in many cases , and finding that they always met in a point ; this experience might lead us to look for the general proof and find it .\\n',\n",
       " 'such cases are common in the experience of every mathematician .\\n',\n",
       " 'the other point is more interesting , and of more philosophical importance .\\n',\n",
       " 'it is , that we may sometimes know a general proposition in cases where we do not know a single instance of it .\\n',\n",
       " 'we know that all pairs of integers the product of which is less than 100 have been actually multiplied together , and the value of the product recorded in the multiplication table .\\n',\n",
       " 'but we also know that the number of integers is infinite , and that only a finite number of pairs of integers ever have been or ever will be thought of by human beings .\\n',\n",
       " 'hence it follows that there are pairs of integers which never have been and never will be thought of by human beings , and that all of them deal with integers the product of which is over 100 .\\n',\n",
       " \"hence we arrive at the proposition : 'all products of <num> integers , which never have been and never will be thought of by any human being , are over 100 . '\\n\",\n",
       " 'here is a general proposition of which the truth is undeniable , and yet , from the very nature of the case , we can never give an instance ; because any <num> numbers we may think of are excluded by the terms of the proposition .\\n',\n",
       " 'this possibility , of knowledge of general propositions of which no instance can be given , is often denied , because it is not perceived that the knowledge of such propositions only requires a knowledge of the relations of universals , and does not require any knowledge of instances of the universals in question .\\n',\n",
       " 'yet the knowledge of such general propositions is quite vital to a great deal of what is generally admitted to be known .\\n',\n",
       " 'for example , we saw , in our early chapters , that knowledge of physical objects , as opposed to sense-data , is only obtained by an inference , and that they are not things with which we are acquainted .\\n',\n",
       " \"hence we can never know any proposition of the form 'this is a physical object ' , where 'this ' is something immediately known .\\n\",\n",
       " 'it follows that all our knowledge concerning physical objects is such that no actual instance can be given .\\n',\n",
       " 'we can give instances of the associated sense-data , but we can not give instances of the actual physical objects .\\n',\n",
       " 'hence our knowledge as to physical objects depends throughout upon this possibility of general knowledge where no instance can be given .\\n',\n",
       " \"and the same applies to our knowledge of other people 's minds , or of any other class of things of which no instance is known to us by acquaintance .\\n\",\n",
       " 'we may now take a survey of the sources of our knowledge , as they have appeared in the course of our analysis .\\n',\n",
       " 'we have <num> to distinguish knowledge of things and knowledge of truths .\\n',\n",
       " 'in each there are <num> kinds , <num> immediate and <num> derivative .\\n',\n",
       " 'among particulars , we have acquaintance with sense-data and ( probably ) with ourselves .\\n',\n",
       " 'among universals , there seems to be no principle by which we can decide which can be known by acquaintance , but it is clear that among those that can be so known are sensible qualities , relations of space and time , similarity , and certain abstract logical universals .\\n',\n",
       " 'among such truths are included those which merely state what is given in sense , and also certain abstract logical and arithmetical principles , and ( though with less certainty ) some ethical propositions .\\n',\n",
       " 'if the above account is correct , all our knowledge of truths depends upon our intuitive knowledge .\\n',\n",
       " 'it therefore becomes important to consider the nature and scope of intuitive knowledge , in much the same way as , at an earlier stage , we considered the nature and scope of knowledge by acquaintance .\\n',\n",
       " 'some of our beliefs turn out to be erroneous , and therefore it becomes necessary to consider how , if at all , we can distinguish knowledge from error .\\n',\n",
       " 'this problem does not arise with regard to knowledge by acquaintance , for , whatever may be the object of acquaintance , even in dreams and hallucinations , there is no error involved so long as we do not go beyond the immediate object : error can only arise when we regard the immediate object , i.e .\\n',\n",
       " 'the sense-datum , as the mark of some physical object .\\n',\n",
       " 'thus the problems connected with knowledge of truths are more difficult than those connected with knowledge of things .\\n',\n",
       " 'as the <num> of the problems connected with knowledge of truths , let us examine the nature and scope of our intuitive judgements .\\n',\n",
       " 'it is felt by many that a belief for which no reason can be given is an unreasonable belief .\\n',\n",
       " 'almost all our common beliefs are either inferred , or capable of being inferred , from other beliefs which may be regarded as giving the reason for them .\\n',\n",
       " 'as a rule , the reason has been forgotten , or has even never been consciously present to our minds .\\n',\n",
       " 'few of us ever ask ourselves , for example , what reason there is to suppose the food we are just going to eat will not turn out to be poison .\\n',\n",
       " 'yet we feel , when challenged , that a perfectly good reason could be found , even if we are not ready with it at the moment .\\n',\n",
       " 'and in this belief we are usually justified .\\n',\n",
       " 'but let us imagine some insistent <person> , who , whatever reason we give him , continues to demand a reason for the reason .\\n',\n",
       " 'we must sooner or later , and probably before very long , be driven to a point where we can not find any further reason , and where it becomes almost certain that no further reason is even theoretically discoverable .\\n',\n",
       " 'starting with the common beliefs of <date> life , we can be driven back from point to point , until we come to some general principle , or some instance of a general principle , which seems luminously evident , and is not itself capable of being deduced from anything more evident .\\n',\n",
       " 'but beyond that , there seems to be no further regress .\\n',\n",
       " 'the principle itself is constantly used in our reasoning , sometimes consciously , sometimes unconsciously ; but there is no reasoning which , starting from some simpler self-evident principle , leads us to the principle of induction as its conclusion .\\n',\n",
       " 'and the same holds for other logical principles .\\n',\n",
       " 'their truth is evident to us , and we employ them in constructing demonstrations ; but they themselves , or at least some of them , are incapable of demonstration .\\n',\n",
       " 'self-evidence , however , is not confined to those among general principles which are incapable of proof .\\n',\n",
       " 'when a certain number of logical principles have been admitted , the rest can be deduced from them ; but the propositions deduced are often just as self-evident as those that were assumed without proof .\\n',\n",
       " \"all arithmetic , moreover , can be deduced from the general principles of logic , yet the simple propositions of arithmetic , such as 'two and <num> are <num> ' , are just as self-evident as the principles of logic .\\n\",\n",
       " \"it would seem , also , though this is more disputable , that there are some self-evident ethical principles , such as 'we ought to pursue what is good ' .\\n\",\n",
       " 'it should be observed that , in all cases of general principles , particular instances , dealing with familiar things , are more evident than the general principle .\\n',\n",
       " 'for example , the law of contradiction states that nothing can both have a certain property and not have it .\\n',\n",
       " 'this is evident as soon as it is understood , but it is not so evident as that a particular rose which we see can not be both red and not red .\\n',\n",
       " \"( it is of course possible that parts of the rose may be red and parts not red , or that the rose may be of a shade of pink which we hardly know whether to call red or not ; but in the former case it is plain that the rose as a whole is not red , while in the latter case the answer is theoretically definite as soon as we have decided on a precise definition of 'red ' . )\\n\",\n",
       " 'it is usually through particular instances that we come to be able to see the general principle .\\n',\n",
       " 'only those who are practised in dealing with abstractions can readily grasp a general principle without the help of instances .\\n',\n",
       " 'in addition to general principles , the other kind of self-evident truths are those immediately derived from sensation .\\n',\n",
       " \"we will call such truths 'truths of perception ' , and the judgements expressing them we will call 'judgements of perception ' .\\n\",\n",
       " 'but here a certain amount of care is required in getting at the precise nature of the truths that are self-evident .\\n',\n",
       " 'the actual sense-data are neither true nor false .\\n',\n",
       " 'a particular patch of colour which i see , for example , simply exists : it is not the sort of thing that is true or false .\\n',\n",
       " 'it is true that there is such a patch , true that it has a certain shape and degree of brightness , true that it is surrounded by certain other colours .\\n',\n",
       " 'thus whatever self-evident truths may be obtained from our senses must be different from the sense-data from which they are obtained .\\n',\n",
       " 'it would seem that there are <num> kinds of self-evident truths of perception , though perhaps in the last analysis the <num> kinds may coalesce .\\n',\n",
       " \"we see a patch of red , and we judge 'there is such-and-such a patch of red ' , or more strictly 'there is that ' ; this is <num> kind of intuitive judgement of perception .\\n\",\n",
       " 'the other kind arises when the object of sense is complex , and we subject it to some degree of analysis .\\n',\n",
       " 'this is again a judgement of perception , but it differs from our previous kind .\\n',\n",
       " 'in our present kind we have a single sense-datum which has both colour and shape : the colour is red and the shape is round .\\n',\n",
       " 'our judgement analyses the datum into colour and shape , and then recombines them by stating that the red colour is round in shape .\\n',\n",
       " \"another example of this kind of judgement is 'this is to the right of that ' , where 'this ' and 'that ' are seen simultaneously .\\n\",\n",
       " 'in this kind of judgement the sense-datum contains constituents which have some relation to each other , and the judgement asserts that these constituents have this relation .\\n',\n",
       " 'there is some danger of confusion as to the nature of memory , owing to the fact that memory of an object is apt to be accompanied by an image of the object , and yet the image can not be what constitutes memory .\\n',\n",
       " 'this is easily seen by merely noticing that the image is in the present , whereas what is remembered is known to be in the past .\\n',\n",
       " 'moreover , we are certainly able to some extent to compare our image with the object remembered , so that we often know , within somewhat wide limits , how far our image is accurate ; but this would be impossible , unless the object , as opposed to the image , were in some way before the mind .\\n',\n",
       " 'thus the essence of memory is not constituted by the image , but by having immediately before the mind an object which is recognized as past .\\n',\n",
       " \"but for the fact of memory in this sense , we should not know that there ever was a past at all , nor should we be able to understand the word 'past ' , any more than a man born blind can understand the word 'light ' .\\n\",\n",
       " 'thus there must be intuitive judgements of memory , and it is upon them , ultimately , that all our knowledge of the past depends .\\n',\n",
       " 'the case of memory , however , raises a difficulty , for it is notoriously fallacious , and thus throws doubt on the trustworthiness of intuitive judgements in general .\\n',\n",
       " 'but let us <num> narrow its scope as far as possible .\\n',\n",
       " 'broadly speaking , memory is trustworthy in proportion to the vividness of the experience and to its nearness in time .\\n',\n",
       " 'if the house next door was struck by lightning half a minute ago , my memory of what i saw and heard will be so reliable that it would be preposterous to doubt whether there had been a flash at all .\\n',\n",
       " 'and the same applies to less vivid experiences , so long as they are recent .\\n',\n",
       " 'i am absolutely certain that half a minute ago i was sitting in the same chair in which i am sitting now .\\n',\n",
       " 'going backward over the day , i find things of which i am quite certain , other things of which i am almost certain , other things of which i can become certain by thought and by calling up attendant circumstances , and some things of which i am by no means certain .\\n',\n",
       " 'i am quite certain that i ate my breakfast this morning , but if i were as indifferent to my breakfast as a philosopher should be , i should be doubtful .\\n',\n",
       " 'as to the conversation at breakfast , i can recall some of it easily , some with an effort , some only with a large element of doubt , and some not at all .\\n',\n",
       " 'thus there is a continual gradation in the degree of self-evidence of what i remember , and a corresponding gradation in the trustworthiness of my memory .\\n',\n",
       " 'thus the <num> answer to the difficulty of fallacious memory is to say that memory has degrees of self-evidence , and that these correspond to the degrees of its trustworthiness , reaching a limit of perfect self-evidence and perfect trustworthiness in our memory of events which are recent and vivid .\\n',\n",
       " 'it would seem , however , that there are cases of very firm belief in a memory which is wholly false .\\n',\n",
       " 'it is probable that , in these cases , what is really remembered , in the sense of being immediately before the mind , is something other than what is falsely believed in , though something generally associated with it .\\n',\n",
       " 'in this case , what was immediately remembered was his repeated assertion ; the belief in what he was asserting ( if it existed ) would be produced by association with the remembered assertion , and would therefore not be a genuine case of memory .\\n',\n",
       " 'it would seem that cases of fallacious memory can probably all be dealt with in this way , i.e .\\n',\n",
       " 'they can be shown to be not cases of memory in the strict sense at all .\\n',\n",
       " '<num> important point about self-evidence is made clear by the case of memory , and that is , that self-evidence has degrees : it is not a quality which is simply present or absent , but a quality which may be more or less present , in gradations ranging from absolute certainty down to an almost imperceptible faintness .\\n',\n",
       " 'truths of perception and some of the principles of logic have the very highest degree of self-evidence ; truths of immediate memory have an almost equally high degree .\\n',\n",
       " \"the inductive principle has less self-evidence than some of the other principles of logic , such as 'what follows from a true premiss must be true ' .\\n\",\n",
       " 'memories have a diminishing self-evidence as they become remoter and fainter ; the truths of logic and mathematics have ( broadly speaking ) less self-evidence as they become more complicated .\\n',\n",
       " 'judgements of intrinsic ethical or aesthetic value are apt to have some self-evidence , but not much .\\n',\n",
       " 'degrees of self-evidence are important in the theory of knowledge , since , if propositions may ( as seems likely ) have some degree of self-evidence without being true , it will not be necessary to abandon all connexion between self-evidence and truth , but merely to say that , where there is a conflict , the more self-evident proposition is to be retained and the less self-evident rejected .\\n',\n",
       " \"it seems , however , highly probable that <num> different notions are combined in 'self-evidence ' as above explained ; that <num> of them , which corresponds to the highest degree of self-evidence , is really an infallible guarantee of truth , while the other , which corresponds to all the other degrees , does not give an infallible guarantee , but only a greater or less presumption .\\n\",\n",
       " 'this , however , is only a suggestion , which we can not as yet develop further .\\n',\n",
       " 'after we have dealt with the nature of truth , we shall return to the subject of self-evidence , in connexion with the distinction between knowledge and error .\\n',\n",
       " 'so far as things are concerned , we may know them or not know them , but there is no positive state of mind which can be described as erroneous knowledge of things , so long , at any rate , as we confine ourselves to knowledge by acquaintance .\\n',\n",
       " 'whatever we are acquainted with must be something ; we may draw wrong inferences from our acquaintance , but the acquaintance itself can not be deceptive .\\n',\n",
       " 'thus there is no dualism as regards acquaintance .\\n',\n",
       " 'but as regards knowledge of truths , there is a dualism .\\n',\n",
       " 'we may believe what is false as well as what is true .\\n',\n",
       " 'we know that on very many subjects different people hold different and incompatible opinions : hence some beliefs must be erroneous .\\n',\n",
       " 'since erroneous beliefs are often held just as strongly as true beliefs , it becomes a difficult question how they are to be distinguished from true beliefs .\\n',\n",
       " 'how are we to know , in a given case , that our belief is not erroneous ?\\n',\n",
       " 'this is a question of the very greatest difficulty , to which no completely satisfactory answer is possible .\\n',\n",
       " 'it is this preliminary question which is to be considered in this chapter .\\n',\n",
       " 'in this chapter we are not asking how we can know whether a belief is true or false : we are asking what is meant by the question whether a belief is true or false .\\n',\n",
       " \"it is to be hoped that a clear answer to this question may help us to obtain an answer to the question what beliefs are true , but for the present we ask only 'what is truth ? '\\n\",\n",
       " 'it is very important to keep these different questions entirely separate , since any confusion between them is sure to produce an answer which is not really applicable to either .\\n',\n",
       " 'there are <num> points to observe in the attempt to discover the nature of truth , <num> requisites which any theory must fulfil .\\n',\n",
       " '( <num> ) our theory of truth must be such as to admit of its opposite , falsehood .\\n',\n",
       " 'a good many philosophers have failed adequately to satisfy this condition : they have constructed theories according to which all our thinking ought to have been true , and have then had the greatest difficulty in finding a place for falsehood .\\n',\n",
       " 'in this respect our theory of belief must differ from our theory of acquaintance , since in the case of acquaintance it was not necessary to take account of any opposite .\\n',\n",
       " '( <num> ) it seems fairly evident that if there were no beliefs there could be no falsehood , and no truth either , in the sense in which truth is correlative to falsehood .\\n',\n",
       " \"if we imagine a world of mere matter , there would be no room for falsehood in such a world , and although it would contain what may be called 'facts ' , it would not contain any truths , in the sense in which truths are things of the same kind as falsehoods .\\n\",\n",
       " 'in fact , truth and falsehood are properties of beliefs and statements : hence a world of mere matter , since it would contain no beliefs or statements , would also contain no truth or falsehood .\\n',\n",
       " '( <num> ) but , as against what we have just said , it is to be observed that the truth or falsehood of a belief always depends upon something which lies outside the belief itself .\\n',\n",
       " 'if i believe that <person> i died on the scaffold , i believe truly , not because of any intrinsic quality of my belief , which could be discovered by merely examining the belief , but because of an historical event which happened two and a half centuries ago .\\n',\n",
       " 'if i believe that <person> i died in his bed , i believe falsely : no degree of vividness in my belief , or of care in arriving at it , prevents it from being false , again because of what happened long ago , and not because of any intrinsic property of my belief .\\n',\n",
       " 'hence , although truth and falsehood are properties of beliefs , they are properties dependent upon the relations of the beliefs to other things , not upon any internal quality of the beliefs .\\n',\n",
       " 'the <num> of the above requisites leads us to adopt the view -- which has on the whole been commonest among philosophers -- that truth consists in some form of correspondence between belief and fact .\\n',\n",
       " 'it is , however , by no means an easy matter to discover a form of correspondence to which there are no irrefutable objections .\\n',\n",
       " 'by this partly -- and partly by the feeling that , if truth consists in a correspondence of thought with something outside thought , thought can never know when truth has been attained -- many philosophers have been led to try to find some definition of truth which shall not consist in relation to something wholly outside belief .\\n',\n",
       " 'it is said that the mark of falsehood is failure to cohere in the body of our beliefs , and that it is the essence of a truth to form part of the completely rounded system which is the truth .\\n',\n",
       " 'there is , however , a great difficulty in this view , or rather <num> great difficulties .\\n',\n",
       " 'it may be that , with sufficient imagination , a novelist might invent a past for the world that would perfectly fit on to what we know , and yet be quite different from the real past .\\n',\n",
       " 'in more scientific matters , it is certain that there are often <num> or more hypotheses which account for all the known facts on some subject , and although , in such cases , men of science endeavour to find facts which will rule out all the hypotheses except <num> , there is no reason why they should always succeed .\\n',\n",
       " 'in philosophy , again , it seems not uncommon for <num> rival hypotheses to be both able to account for all the facts .\\n',\n",
       " 'thus , for example , it is possible that life is <num> long dream , and that the outer world has only that degree of reality that the objects of dreams have ; but although such a view does not seem inconsistent with known facts , there is no reason to prefer it to the common-sense view , according to which other people and things do really exist .\\n',\n",
       " 'thus coherence as the definition of truth fails because there is no proof that there can be only one coherent system .\\n',\n",
       " \"the other objection to this definition of truth is that it assumes the meaning of 'coherence ' known , whereas , in fact , 'coherence ' presupposes the truth of the laws of logic .\\n\",\n",
       " '<num> propositions are coherent when both may be true , and are incoherent when <num> at least must be false .\\n',\n",
       " 'now in order to know whether <num> propositions can both be true , we must know such truths as the law of contradiction .\\n',\n",
       " \"for example , the <num> propositions , 'this tree is a beech ' and 'this tree is not a beech ' , are not coherent , because of the law of contradiction .\\n\",\n",
       " 'but if the law of contradiction itself were subjected to the test of coherence , we should find that , if we choose to suppose it false , nothing will any longer be incoherent with anything else .\\n',\n",
       " 'thus the laws of logic supply the skeleton or framework within which the test of coherence applies , and they themselves can not be established by this test .\\n',\n",
       " \"it remains to define precisely what we mean by 'fact ' , and what is the nature of the correspondence which must subsist between belief and fact , in order that belief may be true .\\n\",\n",
       " 'in accordance with our <num> requisites , we have to seek a theory of truth which ( <num> ) allows truth to have an opposite , namely falsehood , ( <num> ) makes truth a property of beliefs , but ( <num> ) makes it a property wholly dependent upon the relation of the beliefs to outside things .\\n',\n",
       " 'the necessity of allowing for falsehood makes it impossible to regard belief as a relation of the mind to a single object , which could be said to be what is believed .\\n',\n",
       " 'if belief were so regarded , we should find that , like acquaintance , it would not admit of the opposition of truth and falsehood , but would have to be always true .\\n',\n",
       " '<organization> believes falsely that desdemona loves cassio .\\n',\n",
       " \"we can not say that this belief consists in a relation to a single object , 'desdemona 's love for <organization> ' , for if there were such an object , the belief would be true .\\n\",\n",
       " 'there is in fact no such object , and therefore <organization> can not have any relation to such an object .\\n',\n",
       " 'hence his belief can not possibly consist in a relation to this object .\\n',\n",
       " \"it might be said that his belief is a relation to a different object , namely 'that <person> loves <organization> ' ; but it is almost as difficult to suppose that there is such an object as this , when <person> does not love <organization> , as it was to suppose that there is 'desdemona 's love for <organization> ' .\\n\",\n",
       " 'hence it will be better to seek for a theory of belief which does not make it consist in a relation of the mind to a single object .\\n',\n",
       " 'it is common to think of relations as though they always held between two terms , but in fact this is not always the case .\\n',\n",
       " 'some relations demand <num> terms , some four , and so on .\\n',\n",
       " \"take , for instance , the relation 'between ' .\\n\",\n",
       " \"so long as only two terms come in , the relation 'between ' is impossible : <num> terms are the smallest number that render it possible .\\n\",\n",
       " 'york is between <state> and <state> ; but if <state> and <state> were the only places in the world , there could be nothing which was between <num> place and another .\\n',\n",
       " \"such a proposition as 'a wishes b to promote c 's marriage with d ' involves a relation of <num> terms ; that is to say , a and b and c and d all come in , and the relation involved can not be expressed otherwise than in a form involving all <num> .\\n\",\n",
       " 'instances might be multiplied indefinitely , but enough has been said to show that there are relations which require more than two terms before they can occur .\\n',\n",
       " \"when <organization> believes that <person> loves <organization> , he must not have before his mind a single object , 'desdemona 's love for <organization> ' , or 'that <person> loves <organization> ' , for that would require that there should be objective falsehoods , which subsist independently of any minds ; and this , though not logically refutable , is a theory to be avoided if possible .\\n\",\n",
       " 'thus it is easier to account for falsehood if we take judgement to be a relation in which the mind and the various objects concerned all occur severally ; that is to say , <person> and loving and <organization> must all be terms in the relation which subsists when <organization> believes that <person> loves <organization> .\\n',\n",
       " 'this relation , therefore , is a relation of <num> terms , since <organization> also is <num> of the terms of the relation .\\n',\n",
       " 'when we say that it is a relation of <num> terms , we do not mean that <organization> has a certain relation to <state> , and has the same relation to loving and also to <organization> .\\n',\n",
       " \"thus the actual occurrence , at the moment when <organization> is entertaining his belief , is that the relation called 'believing ' is knitting together into <num> complex whole the <num> terms <organization> , <state> , loving , and <organization> .\\n\",\n",
       " 'what is called belief or judgement is nothing but this relation of believing or judging , which relates a mind to several things other than itself .\\n',\n",
       " 'we are now in a position to understand what it is that distinguishes a true judgement from a false one .\\n',\n",
       " 'for this purpose we will adopt certain definitions .\\n',\n",
       " 'in every act of judgement there is a mind which judges , and there are terms concerning which it judges .\\n',\n",
       " 'thus , when <organization> judges that <state> loves <organization> , <organization> is the subject , while the objects are <state> and loving and <organization> .\\n',\n",
       " \"it will be observed that the relation of judging has what is called a 'sense ' or 'direction ' .\\n\",\n",
       " '( in an inflected language , the same thing will be indicated by inflections , e.g .\\n',\n",
       " 'by the difference between nominative and accusative . )\\n',\n",
       " \"<organization> 's judgement that <organization> loves <person> differs from his judgement that <person> loves <organization> , in spite of the fact that it consists of the same constituents , because the relation of judging places the constituents in a different order in the <num> cases .\\n\",\n",
       " 'similarly , if <organization> judges that <person> loves <organization> , the constituents of the judgement are still the same , but their order is different .\\n',\n",
       " \"this property of having a 'sense ' or 'direction ' is one which the relation of judging shares with all other relations .\\n\",\n",
       " \"the 'sense ' of relations is the ultimate source of order and series and a host of mathematical concepts ; but we need not concern ourselves further with this aspect .\\n\",\n",
       " \"we spoke of the relation called 'judging ' or 'believing ' as knitting together into <num> complex whole the subject and the objects .\\n\",\n",
       " 'in this respect , judging is exactly like every other relation .\\n',\n",
       " 'whenever a relation holds between two or more terms , it unites the terms into a complex whole .\\n',\n",
       " \"if <organization> loves <person> , there is such a complex whole as 'othello 's love for <person> ' .\\n\",\n",
       " 'the terms united by the relation may be themselves complex , or may be simple , but the whole which results from their being united must be complex .\\n',\n",
       " 'wherever there is a relation which relates certain terms , there is a complex object formed of the union of those terms ; and conversely , wherever there is a complex object , there is a relation which relates its constituents .\\n',\n",
       " \"when an act of believing occurs , there is a complex , in which 'believing ' is the uniting relation , and subject and objects are arranged in a certain order by the 'sense ' of the relation of believing .\\n\",\n",
       " \"among the objects , as we saw in considering 'othello believes that desdemona loves cassio ' , one must be a relation -- in this instance , the relation 'loving ' .\\n\",\n",
       " 'but this relation , as it occurs in the act of believing , is not the relation which creates the unity of the complex whole consisting of the subject and the objects .\\n',\n",
       " \"the relation 'loving ' , as it occurs in the act of believing , is one of the objects -- it is a brick in the structure , not the cement .\\n\",\n",
       " \"assuming , for the sake of definiteness , that the objects of the belief are <num> terms and a relation , the terms being put in a certain order by the 'sense ' of the believing , then if the <num> terms in that order are united by the relation into a complex , the belief is true ; if not , it is false .\\n\",\n",
       " 'this constitutes the definition of truth and falsehood that we were in search of .\\n',\n",
       " 'judging or believing is a certain complex unity of which a mind is a constituent ; if the remaining constituents , taken in the order which they have in the belief , form a complex unity , then the belief is true ; if not , it is false .\\n',\n",
       " 'this correspondence ensures truth , and its absence entails falsehood .\\n',\n",
       " 'thus a belief is true when there is a corresponding fact , and is false when there is no corresponding fact .\\n',\n",
       " 'they create beliefs , but when once the beliefs are created , the mind can not make them true or false , except in the special case where they concern future things which are within the power of the person believing , such as catching trains .\\n',\n",
       " 'this consideration will occupy the next chapter .\\n',\n",
       " 'this question will occupy us in the present chapter .\\n',\n",
       " \"before we can attack this question , we must , however , <num> decide what we mean by 'knowing ' , and this question is not so easy as might be supposed .\\n\",\n",
       " \"at <num> sight we might imagine that knowledge could be defined as 'true belief ' .\\n\",\n",
       " 'when what we believe is true , it might be supposed that we had achieved a knowledge of what we believe .\\n',\n",
       " 'but this would not accord with the way in which the word is commonly used .\\n',\n",
       " \"to take a very trivial instance : if a man believes that the late prime minister 's last name began with a b , he believes what is true , since the late prime minister was sir henry campbell bannerman .\\n\",\n",
       " \"but if he believes that mr. <person> was the late prime minister , he will still believe that the late prime minister 's last name began with a b , yet this belief , though true , would not be thought to constitute knowledge .\\n\",\n",
       " 'if a newspaper , by an intelligent anticipation , announces the result of a battle before any telegram giving the result has been received , it may by good fortune announce what afterwards turns out to be the right result , and it may produce belief in some of its less experienced readers .\\n',\n",
       " 'but in spite of the truth of their belief , they can not be said to have knowledge .\\n',\n",
       " 'thus it is clear that a true belief is not knowledge when it is deduced from a false belief .\\n',\n",
       " 'in like manner , a true belief can not be called knowledge when it is deduced by a fallacious process of reasoning , even if the premisses from which it is deduced are true .\\n',\n",
       " 'but are we to say that nothing is knowledge except what is validly deduced from true premisses ?\\n',\n",
       " 'such a definition is at once too wide and too narrow .\\n',\n",
       " \"this , however , is a circular definition : it assumes that we already know what is meant by 'known premisses ' .\\n\",\n",
       " 'it can , therefore , at best define <num> sort of knowledge , the sort we call derivative , as opposed to intuitive knowledge .\\n',\n",
       " 'leaving on <num> side , for the moment , the question of intuitive knowledge , let us consider the above suggested definition of derivative knowledge .\\n',\n",
       " 'the chief objection to it is that it unduly limits knowledge .\\n',\n",
       " 'it constantly happens that people entertain a true belief , which has grown up in them because of some piece of intuitive knowledge from which it is capable of being validly inferred , but from which it has not , as a matter of fact , been inferred by any logical process .\\n',\n",
       " 'take , for example , the beliefs produced by reading .\\n',\n",
       " 'if the newspapers announce the death of the king , we are fairly well justified in believing that the king is dead , since this is the sort of announcement which would not be made if it were false .\\n',\n",
       " 'and we are quite amply justified in believing that the newspaper asserts that the king is dead .\\n',\n",
       " 'but here the intuitive knowledge upon which our belief is based is knowledge of the existence of sense-data derived from looking at the print which gives the news .\\n',\n",
       " 'this knowledge scarcely rises into consciousness , except in a person who can not read easily .\\n',\n",
       " 'a child may be aware of the shapes of the letters , and pass gradually and painfully to a realization of their meaning .\\n',\n",
       " 'but anybody accustomed to reading passes at once to what the letters mean , and is not aware , except on reflection , that he has derived this knowledge from the sense-data called seeing the printed letters .\\n',\n",
       " 'there are in fact many ways , besides logical inference , by which we pass from <num> belief to another : the passage from the print to its meaning illustrates these ways .\\n',\n",
       " \"these ways may be called 'psychological inference ' .\\n\",\n",
       " 'we shall , then , admit such psychological inference as a means of obtaining derivative knowledge , provided there is a discoverable logical inference which runs parallel to the psychological inference .\\n',\n",
       " \"this renders our definition of derivative knowledge less precise than we could wish , since the word 'discoverable ' is vague : it does not tell us how much reflection may be needed in order to make the discovery .\\n\",\n",
       " \"but in fact 'knowledge ' is not a precise conception : it merges into 'probable opinion ' , as we shall see more fully in the course of the present chapter .\\n\",\n",
       " 'a very precise definition , therefore , should not be sought , since any such definition must be more or less misleading .\\n',\n",
       " 'the chief difficulty in regard to knowledge , however , does not arise over derivative knowledge , but over intuitive knowledge .\\n',\n",
       " 'so long as we are dealing with derivative knowledge , we have the test of intuitive knowledge to fall back upon .\\n',\n",
       " 'but in regard to intuitive beliefs , it is by no means easy to discover any criterion by which to distinguish some as true and others as erroneous .\\n',\n",
       " 'in this question it is scarcely possible to reach any very precise result : all our knowledge of truths is infected with some degree of doubt , and a theory which ignored this fact would be plainly wrong .\\n',\n",
       " 'something may be done , however , to mitigate the difficulties of the question .\\n',\n",
       " 'when a belief is true , we said , there is a corresponding fact , in which the several objects of the belief form a single complex .\\n',\n",
       " 'now it will be observed that the <num> way of knowing a complex fact , the way of acquaintance , is only possible when there really is such a fact , while the <num> way , like all judgement , is liable to error .\\n',\n",
       " 'the <num> way gives us the complex whole , and is therefore only possible when its parts do actually have that relation which makes them combine to form such a complex .\\n',\n",
       " 'the <num> way , on the contrary , gives us the parts and the relation severally , and demands only the reality of the parts and the relation : the relation may not relate those parts in that way , and yet the judgement may occur .\\n',\n",
       " 'these <num> kinds can now be distinguished .\\n',\n",
       " 'we may say that a truth is self-evident , in the <num> and most absolute sense , when we have acquaintance with the fact which corresponds to the truth .\\n',\n",
       " \"when <organization> believes that <person> loves <organization> , the corresponding fact , if his belief were true , would be 'desdemona 's love for <organization> ' .\\n\",\n",
       " 'this would be a fact with which no one could have acquaintance except <state> ; hence in the sense of self-evidence that we are considering , the truth that <state> loves cassio ( if it were a truth ) could only be self-evident to <state> .\\n',\n",
       " 'all mental facts , and all facts concerning sense-data , have this same privacy : there is only one person to whom they can be self-evident in our present sense , since there is only one person who can be acquainted with the mental things or the sense-data concerned .\\n',\n",
       " 'thus no fact about any particular existing thing can be self-evident to more than one person .\\n',\n",
       " 'on the other hand , facts about universals do not have this privacy .\\n',\n",
       " 'many minds may be acquainted with the same universals ; hence a relation between universals may be known by acquaintance to many different people .\\n',\n",
       " 'thus this sort of self-evidence is an absolute guarantee of truth .\\n',\n",
       " \"suppose we <num> perceive the sun shining , which is a complex fact , and thence proceed to make the judgement 'the sun is shining ' .\\n\",\n",
       " \"in passing from the perception to the judgement , it is necessary to analyse the given complex fact : we have to separate out 'the sun ' and 'shining ' as constituents of the fact .\\n\",\n",
       " 'the <num> sort of self-evidence will be that which belongs to judgements in the <num> instance , and is not derived from direct perception of a fact as a single complex whole .\\n',\n",
       " 'this <num> kind of self-evidence will have degrees , from the very highest degree down to a bare inclination in favour of the belief .\\n',\n",
       " 'take , for example , the case of a horse trotting away from us along a hard road .\\n',\n",
       " 'in this process , there is a continual gradation of self-evidence , from the highest degree to the least , not in the sense-data themselves , but in the judgements based on them .\\n',\n",
       " 'or again : suppose we are comparing <num> shades of colour , <num> blue and <num> green .\\n',\n",
       " 'we can be quite sure they are different shades of colour ; but if the green colour is gradually altered to be more and more like the blue , becoming <num> a blue-green , then a greeny-blue , then blue , there will come a moment when we are doubtful whether we can see any difference , and then a moment when we know that we can not see any difference .\\n',\n",
       " 'the same thing happens in tuning a musical instrument , or in any other case where there is a continuous gradation .\\n',\n",
       " 'thus self-evidence of this sort is a matter of degree ; and it seems plain that the higher degrees are more to be trusted than the lower degrees .\\n',\n",
       " 'in derivative knowledge our ultimate premisses must have some degree of self-evidence , and so must their connexion with the conclusions deduced from them .\\n',\n",
       " 'take for example a piece of reasoning in geometry .\\n',\n",
       " 'it is not enough that the axioms from which we start should be self-evident : it is necessary also that , at each step in the reasoning , the connexion of premiss and conclusion should be self-evident .\\n',\n",
       " 'in difficult reasoning , this connexion has often only a very small degree of self-evidence ; hence errors of reasoning are not improbable where the difficulty is great .\\n',\n",
       " 'from what has been said it is evident that , both as regards intuitive knowledge and as regards derivative knowledge , if we assume that intuitive knowledge is trustworthy in proportion to the degree of its self-evidence , there will be a gradation in trustworthiness , from the existence of noteworthy sense-data and the simpler truths of logic and arithmetic , which may be taken as quite certain , down to judgements which seem only just more probable than their opposites .\\n',\n",
       " 'thus the greater part of what would commonly pass as knowledge is more or less probable opinion .\\n',\n",
       " 'a body of individually probable opinions , if they are mutually coherent , become more probable than any <num> of them would be individually .\\n',\n",
       " 'it is in this way that many scientific hypotheses acquire their probability .\\n',\n",
       " 'they fit into a coherent system of probable opinions , and thus become more probable than they would be in isolation .\\n',\n",
       " 'the same thing applies to general philosophical hypotheses .\\n',\n",
       " 'often in a single case such hypotheses may seem highly doubtful , while yet , when we consider the order and coherence which they introduce into a mass of probable opinion , they become pretty nearly certain .\\n',\n",
       " 'this applies , in particular , to such matters as the distinction between dreams and waking life .\\n',\n",
       " 'if our dreams , <time> after <time> , were as coherent one with another as our days , we should hardly know whether to believe the dreams or the waking life .\\n',\n",
       " 'as it is , the test of coherence condemns the dreams and confirms the waking life .\\n',\n",
       " 'but this test , though it increases probability where it is successful , never gives absolute certainty , unless there is certainty already at some point in the coherent system .\\n',\n",
       " 'thus the mere organization of probable opinion will never , by itself , transform it into indubitable knowledge .\\n',\n",
       " 'there can be no doubt that the hope of finding reason to believe such theses as these has been the chief inspiration of many life-long students of philosophy .\\n',\n",
       " 'in this chapter we shall briefly consider the kind of way in which such reasoning is attempted , with a view to discovering whether we can hope that it may be valid .\\n',\n",
       " 'the great representative , in modern times , of the kind of view which we wish to examine , was <organization> ( <date> ) .\\n',\n",
       " \"<organization> 's philosophy is very difficult , and commentators differ as to the true interpretation of it .\\n\",\n",
       " 'according to the interpretation i shall adopt , which is that of many , if not most , of the commentators and has the merit of giving an interesting and important type of philosophy , his main thesis is that everything short of the <organization> is obviously fragmentary , and obviously incapable of existing without the complement supplied by the rest of the world .\\n',\n",
       " 'just as a comparative anatomist , from a single bone , sees what kind of animal the whole must have been , so the metaphysician , according to <organization> , sees , from any <num> piece of reality , what the whole of reality must be -- at least in its large outlines .\\n',\n",
       " 'every apparently separate piece of reality has , as it were , hooks which grapple it to the next piece ; the next piece , in turn , has fresh hooks , and so on , until the whole universe is reconstructed .\\n',\n",
       " 'this essential incompleteness appears , according to <organization> , equally in the world of thought and in the world of things .\\n',\n",
       " 'in the world of thought , if we take any idea which is abstract or incomplete , we find , on examination , that if we forget its incompleteness , we become involved in contradictions ; these contradictions turn the idea in question into its opposite , or antithesis ; and in order to escape , we have to find a new , less incomplete idea , which is the synthesis of our original idea and its antithesis .\\n',\n",
       " 'this new idea , though less incomplete than the idea we started with , will be found , nevertheless , to be still not wholly complete , but to pass into its antithesis , with which it must be combined in a new synthesis .\\n',\n",
       " \"in this way <organization> advances until he reaches the 'absolute idea ' , which , according to him , has no incompleteness , no opposite , and no need of further development .\\n\",\n",
       " 'the absolute idea , therefore , is adequate to describe absolute reality ; but all lower ideas only describe reality as it appears to a partial view , not as it is to one who simultaneously surveys the <organization> .\\n',\n",
       " 'thus hegel reaches the conclusion that absolute reality forms <num> single harmonious system , not in space or time , not in any degree evil , wholly rational , and wholly spiritual .\\n',\n",
       " 'any appearance to the contrary , in the world we know , can be proved logically -- so he believes -- to be entirely due to our fragmentary piecemeal view of the universe .\\n',\n",
       " 'if we saw the universe whole , as we may suppose god sees it , space and time and matter and evil and all striving and struggling would disappear , and we should see instead an eternal perfect unchanging spiritual unity .\\n',\n",
       " 'in this conception , there is undeniably something sublime , something to which we could wish to yield assent .\\n',\n",
       " 'nevertheless , when the arguments in support of it are carefully examined , they appear to involve much confusion and many unwarrantable assumptions .\\n',\n",
       " 'the fundamental tenet upon which the system is built up is that what is incomplete must be not self-subsistent , but must need the support of other things before it can exist .\\n',\n",
       " 'it is held that whatever has relations to things outside itself must contain some reference to those outside things in its own nature , and could not , therefore , be what it is if those outside things did not exist .\\n',\n",
       " \"a man 's nature , for example , is constituted by his memories and the rest of his knowledge , by his loves and hatreds , and so on ; thus , but for the objects which he knows or loves or hates , he could not be what he is .\\n\",\n",
       " 'he is essentially and obviously a fragment : taken as the sum-total of reality he would be self-contradictory .\\n',\n",
       " \"this whole point of view , however , turns upon the notion of the 'nature ' of a thing , which seems to mean 'all the truths about the thing ' .\\n\",\n",
       " 'it is of course the case that a truth which connects <num> thing with another thing could not subsist if the other thing did not subsist .\\n',\n",
       " \"but a truth about a thing is not part of the thing itself , although it must , according to the above usage , be part of the 'nature ' of the thing .\\n\",\n",
       " \"if we mean by a thing 's 'nature ' all the truths about the thing , then plainly we can not know a thing 's 'nature ' unless we know all the thing 's relations to all the other things in the universe .\\n\",\n",
       " \"but if the word 'nature ' is used in this sense , we shall have to hold that the thing may be known when its 'nature ' is not known , or at any rate is not known completely .\\n\",\n",
       " \"there is a confusion , when this use of the word 'nature ' is employed , between knowledge of things and knowledge of truths .\\n\",\n",
       " 'we may have knowledge of a thing by acquaintance even if we know very few propositions about it -- theoretically we need not know any propositions about it .\\n',\n",
       " \"thus , acquaintance with a thing does not involve knowledge of its 'nature ' in the above sense .\\n\",\n",
       " \"and although acquaintance with a thing is involved in our knowing any <num> proposition about a thing , knowledge of its 'nature ' , in the above sense , is not involved .\\n\",\n",
       " \"hence , ( <num> ) acquaintance with a thing does not logically involve a knowledge of its relations , and ( <num> ) a knowledge of some of its relations does not involve a knowledge of all of its relations nor a knowledge of its 'nature ' in the above sense .\\n\",\n",
       " \"i may be acquainted , for example , with my toothache , and this knowledge may be as complete as knowledge by acquaintance ever can be , without knowing all that the dentist ( who is not acquainted with it ) can tell me about its cause , and without therefore knowing its 'nature ' in the above sense .\\n\",\n",
       " 'thus the fact that a thing has relations does not prove that its relations are logically necessary .\\n',\n",
       " 'that is to say , from the mere fact that it is the thing it is we can not deduce that it must have the various relations which in fact it has .\\n',\n",
       " 'it follows that we can not prove that the universe as a whole forms a single harmonious system such as <organization> believes that it forms .\\n',\n",
       " 'and if we can not prove this , we also can not prove the unreality of space and time and matter and evil , for this is deduced by <person> from the fragmentary and relational character of these things .\\n',\n",
       " 'thus we are left to the piecemeal investigation of the world , and are unable to know the characters of those parts of the universe that are remote from our experience .\\n',\n",
       " 'this result , disappointing as it is to those whose hopes have been raised by the systems of philosophers , is in harmony with the inductive and scientific temper of our age , and is borne out by the whole examination of human knowledge which has occupied our previous chapters .\\n',\n",
       " 'most of the great ambitious attempts of <caps> have proceeded by the attempt to prove that such and such apparent features of the actual world were self-contradictory , and therefore could not be real .\\n',\n",
       " 'a good illustration of this is afforded by space and time .\\n',\n",
       " ...]"
      ]
     },
     "execution_count": 141,
     "metadata": {},
     "output_type": "execute_result"
    }
   ],
   "source": [
    "tagged"
   ]
  },
  {
   "cell_type": "code",
   "execution_count": 142,
   "metadata": {},
   "outputs": [],
   "source": [
    "\n",
    "keepshort = []\n",
    "for sent in tagged:\n",
    "    words = len(sent.split(' '))\n",
    "    if words <= 30:\n",
    "        keepshort.append(sent)"
   ]
  },
  {
   "cell_type": "code",
   "execution_count": 143,
   "metadata": {},
   "outputs": [
    {
     "data": {
      "text/plain": [
       "32155"
      ]
     },
     "execution_count": 143,
     "metadata": {},
     "output_type": "execute_result"
    }
   ],
   "source": [
    "len(keepshort)"
   ]
  },
  {
   "cell_type": "code",
   "execution_count": 144,
   "metadata": {},
   "outputs": [],
   "source": [
    "keepnum = 32100"
   ]
  },
  {
   "cell_type": "code",
   "execution_count": 145,
   "metadata": {},
   "outputs": [],
   "source": []
  },
  {
   "cell_type": "code",
   "execution_count": 146,
   "metadata": {},
   "outputs": [
    {
     "name": "stdout",
     "output_type": "stream",
     "text": [
      "1674\n",
      "30426\n"
     ]
    }
   ],
   "source": [
    "import random\n",
    "from collections import defaultdict\n",
    "\n",
    "split1 = int(keepnum * 0.05)\n",
    "remain = split1 % 128\n",
    "split1 += remain\n",
    "\n",
    "random.seed(123)\n",
    "\n",
    "random.shuffle(keepshort)\n",
    "selectedSophs = keepshort[0:keepnum]\n",
    "sophstrain = selectedSophs[split1:]\n",
    "sophtest = selectedSophs[0:split1]\n",
    "print(len(sophtest))\n",
    "print(len(sophstrain))\n",
    "#/Users/spencerbraun/Documents/Stanford/CS 230 - Deep Learning/Project/\n",
    "with open(\"/home/ubuntu/CS_230_Project/data/processed/soph_test_tagged.txt\", 'w') as f:\n",
    "    f.writelines(sophtest)\n",
    "with open(\"/home/ubuntu/CS_230_Project/data/processed/soph_train_tagged.txt\", 'w') as f:\n",
    "    f.writelines(sophstrain)"
   ]
  },
  {
   "cell_type": "code",
   "execution_count": null,
   "metadata": {},
   "outputs": [],
   "source": []
  },
  {
   "cell_type": "code",
   "execution_count": 121,
   "metadata": {},
   "outputs": [],
   "source": [
    "allnaive = [x for x in split_aes if len(x) > 20]\n",
    "naiveshort = []\n",
    "for sent in allnaive:\n",
    "    words = len(sent.split(' '))\n",
    "    if words <= 30:\n",
    "        naiveshort.append(sent)"
   ]
  },
  {
   "cell_type": "code",
   "execution_count": 122,
   "metadata": {},
   "outputs": [
    {
     "data": {
      "text/plain": [
       "58784"
      ]
     },
     "execution_count": 122,
     "metadata": {},
     "output_type": "execute_result"
    }
   ],
   "source": [
    "len(naiveshort)"
   ]
  },
  {
   "cell_type": "code",
   "execution_count": 124,
   "metadata": {},
   "outputs": [
    {
     "name": "stdout",
     "output_type": "stream",
     "text": [
      "1674\n",
      "30426\n",
      "32100\n"
     ]
    }
   ],
   "source": [
    "random.seed(123)\n",
    "random.shuffle(allnaive)\n",
    "selectedNaive = allnaive[0:keepnum]\n",
    "naivetrain = selectedNaive[split1:]\n",
    "naivetest = selectedNaive[0:split1]\n",
    "print(len(naivetest))\n",
    "print(len(naivetrain))\n",
    "print(len(naivetrain) + len(naivetest))\n",
    "#/Users/spencerbraun/Documents/Stanford/CS 230 - Deep Learning/Project\n",
    "with open(\"/home/ubuntu/CS_230_Project/data/processed/naive_test_tagged.txt\", 'w') as f:\n",
    "    f.writelines(naivetest)\n",
    "with open(\"/home/ubuntu/CS_230_Project/data/processed/naive_train_tagged.txt\", 'w') as f:\n",
    "    f.writelines(naivetrain)"
   ]
  },
  {
   "cell_type": "code",
   "execution_count": 136,
   "metadata": {},
   "outputs": [],
   "source": [
    "def removePunc(sent):\n",
    "    punct = string.punctuation.replace('<', '').replace('>', '')\n",
    "    sent = re.sub('['+punct+']', '', sent)\n",
    "    sent = ' '.join(sent.split())\n",
    "    return(sent + '\\n')"
   ]
  },
  {
   "cell_type": "code",
   "execution_count": 147,
   "metadata": {},
   "outputs": [],
   "source": [
    "tagged_nopunct = list(map(removePunc, tagged))"
   ]
  },
  {
   "cell_type": "code",
   "execution_count": 149,
   "metadata": {},
   "outputs": [],
   "source": [
    "split_aes_nopunct = list(map(removePunc, split_aes))"
   ]
  },
  {
   "cell_type": "code",
   "execution_count": 151,
   "metadata": {},
   "outputs": [
    {
     "name": "stdout",
     "output_type": "stream",
     "text": [
      "1674\n",
      "30426\n"
     ]
    }
   ],
   "source": [
    "import random\n",
    "from collections import defaultdict\n",
    "\n",
    "\n",
    "keepshort = []\n",
    "for sent in tagged_nopunct:\n",
    "    words = len(sent.split(' '))\n",
    "    if words <= 30:\n",
    "        keepshort.append(sent)\n",
    "\n",
    "split1 = int(keepnum * 0.05)\n",
    "remain = split1 % 128\n",
    "split1 += remain\n",
    "\n",
    "random.seed(123)\n",
    "\n",
    "random.shuffle(keepshort)\n",
    "selectedSophs = keepshort[0:keepnum]\n",
    "sophstrain = selectedSophs[split1:]\n",
    "sophtest = selectedSophs[0:split1]\n",
    "print(len(sophtest))\n",
    "print(len(sophstrain))\n",
    "#/Users/spencerbraun/Documents/Stanford/CS 230 - Deep Learning/Project/\n",
    "with open(\"/home/ubuntu/CS_230_Project/data/processed/soph_test_tagged_nopunct.txt\", 'w') as f:\n",
    "    f.writelines(sophtest)\n",
    "with open(\"/home/ubuntu/CS_230_Project/data/processed/soph_train_tagged_nopunct.txt\", 'w') as f:\n",
    "    f.writelines(sophstrain)\n",
    "    \n",
    "    \n"
   ]
  },
  {
   "cell_type": "code",
   "execution_count": 152,
   "metadata": {},
   "outputs": [
    {
     "name": "stdout",
     "output_type": "stream",
     "text": [
      "1674\n",
      "30426\n",
      "32100\n"
     ]
    }
   ],
   "source": [
    "allnaive = [x for x in split_aes_nopunct if len(x) > 20]\n",
    "naiveshort = []\n",
    "for sent in allnaive:\n",
    "    words = len(sent.split(' '))\n",
    "    if words <= 30:\n",
    "        naiveshort.append(sent)\n",
    "        \n",
    "random.seed(123)\n",
    "random.shuffle(allnaive)\n",
    "selectedNaive = allnaive[0:keepnum]\n",
    "naivetrain = selectedNaive[split1:]\n",
    "naivetest = selectedNaive[0:split1]\n",
    "print(len(naivetest))\n",
    "print(len(naivetrain))\n",
    "print(len(naivetrain) + len(naivetest))\n",
    "#/Users/spencerbraun/Documents/Stanford/CS 230 - Deep Learning/Project\n",
    "with open(\"/home/ubuntu/CS_230_Project/data/processed/naive_test_tagged_nopunct.txt\", 'w') as f:\n",
    "    f.writelines(naivetest)\n",
    "with open(\"/home/ubuntu/CS_230_Project/data/processed/naive_train_tagged_nopunct.txt\", 'w') as f:\n",
    "    f.writelines(naivetrain)"
   ]
  },
  {
   "cell_type": "code",
   "execution_count": null,
   "metadata": {},
   "outputs": [],
   "source": []
  },
  {
   "cell_type": "code",
   "execution_count": null,
   "metadata": {},
   "outputs": [],
   "source": []
  },
  {
   "cell_type": "code",
   "execution_count": null,
   "metadata": {},
   "outputs": [],
   "source": []
  },
  {
   "cell_type": "markdown",
   "metadata": {},
   "source": [
    "### Sophisticated Writing - Project Gutenberg"
   ]
  },
  {
   "cell_type": "code",
   "execution_count": 302,
   "metadata": {
    "collapsed": true
   },
   "outputs": [],
   "source": []
  },
  {
   "cell_type": "code",
   "execution_count": 18,
   "metadata": {
    "collapsed": true
   },
   "outputs": [],
   "source": [
    "secondCorpus = [\n",
    "    \"https://ota.bodleian.ox.ac.uk/repository/xmlui/bitstream/handle/20.500.12024/1906/cardinal-1906.txt?sequence=3&isAllowed=y\",\n",
    "    \"https://ota.bodleian.ox.ac.uk/repository/xmlui/bitstream/handle/20.500.12024/1658/WoolfWaves-1658.txt?sequence=4&isAllowed=y\",\n",
    "    \"https://ota.bodleian.ox.ac.uk/repository/xmlui/bitstream/handle/20.500.12024/0172/moderns-0172.txt?sequence=4&isAllowed=y\",\n",
    "    \"https://ota.bodleian.ox.ac.uk/repository/xmlui/bitstream/handle/20.500.12024/3246/3246.txt?sequence=8&isAllowed=y\",\n",
    "    \"https://ota.bodleian.ox.ac.uk/repository/xmlui/bitstream/handle/20.500.12024/2042/joywoman-2042.txt?sequence=4&isAllowed=y\",\n",
    "    \"https://ota.bodleian.ox.ac.uk/repository/xmlui/bitstream/handle/20.500.12024/3135/3135.txt?sequence=8&isAllowed=y\",\n",
    "    \"https://ota.bodleian.ox.ac.uk/repository/xmlui/bitstream/handle/20.500.12024/1711/wiseman-1711.txt?sequence=4&isAllowed=y\",\n",
    "    \"https://ota.bodleian.ox.ac.uk/repository/xmlui/bitstream/handle/20.500.12024/3245/3245.txt?sequence=8&isAllowed=y\",\n",
    "    \"http://www.gutenberg.org/cache/epub/5827/pg5827.txt\", #Russell, The Problems of Philosophy\n",
    "    \"http://www.gutenberg.org/cache/epub/15718/pg15718.txt\", #Bleyer, How To Write Special Feature Articles\n",
    "    \"https://www.gutenberg.org/files/492/492-0.txt\", #Essays in the Art of Writing, by Robert Louis\n",
    "    \"https://www.gutenberg.org/files/37090/37090-0.txt\", #Our Knowledge of the External World as a Field for Scientific Method in Philosoph, by Bertrand Russell\n",
    "    \"https://www.gutenberg.org/files/42580/42580-8.txt\", #Expository Writing, by Mervin James Curl\n",
    "    \"http://www.gutenberg.org/cache/epub/2529/pg2529.txt\", #The Analysis of Mind, by Bertrand Russell\n",
    "    \"https://www.gutenberg.org/files/38280/38280-0.txt\",\n",
    "    \"https://www.gutenberg.org/files/215/215-0.txt\", # London, call of the wild.\n",
    "    \"http://www.gutenberg.org/cache/epub/910/pg910.txt\",\n",
    "    \"https://www.gutenberg.org/files/25110/25110-0.txt\",\n",
    "    \"http://www.gutenberg.org/cache/epub/32168/pg32168.txt\",\n",
    "    \"http://www.gutenberg.org/cache/epub/16712/pg16712.txt\",\n",
    "    \"http://www.gutenberg.org/cache/epub/7514/pg7514.txt\",\n",
    "    \"http://www.gutenberg.org/cache/epub/18477/pg18477.txt\",\n",
    "    \"http://www.gutenberg.org/cache/epub/5669/pg5669.txt\",\n",
    "    \"http://www.gutenberg.org/cache/epub/5123/pg5123.txt\",\n",
    "    \"http://www.gutenberg.org/cache/epub/10378/pg10378.txt\",\n",
    "    \"https://www.gutenberg.org/files/140/140-0.txt\",\n",
    "    \"http://www.gutenberg.org/cache/epub/44082/pg44082.txt\"\n",
    "]"
   ]
  },
  {
   "cell_type": "code",
   "execution_count": 19,
   "metadata": {},
   "outputs": [],
   "source": [
    "firstCorpus = [\n",
    "    \"http://www.gutenberg.org/cache/epub/5827/pg5827.txt\", #Russell, The Problems of Philosophy\n",
    "    \"http://www.gutenberg.org/cache/epub/15718/pg15718.txt\", #Bleyer, How To Write Special Feature Articles\n",
    "    \"https://www.gutenberg.org/files/492/492-0.txt\", #Essays in the Art of Writing, by Robert Louis\n",
    "    \"https://www.gutenberg.org/files/37090/37090-0.txt\", #Our Knowledge of the External World as a Field for Scientific Method in Philosoph, by Bertrand Russell\n",
    "    \"https://www.gutenberg.org/files/42580/42580-8.txt\", #Expository Writing, by Mervin James Curl\n",
    "    \"http://www.gutenberg.org/cache/epub/2529/pg2529.txt\", #The Analysis of Mind, by Bertrand Russell\n",
    "    \"https://www.gutenberg.org/files/38280/38280-0.txt\", #Modern Essays, by Various\n",
    "    \"https://www.gutenberg.org/files/205/205-0.txt\", #Walden, and On The Duty Of Civil Disobedience, by Henry David Thoreau\n",
    "    \"https://www.gutenberg.org/files/1022/1022-0.txt\", #Walking, by Henry David Thoreau\n",
    "    \"http://www.gutenberg.org/cache/epub/34901/pg34901.txt\",\n",
    "    \"https://www.gutenberg.org/files/98/98-0.txt\",\n",
    "    \"http://www.gutenberg.org/cache/epub/32168/pg32168.txt\",\n",
    "    \"https://www.gutenberg.org/files/766/766-0.txt\",\n",
    "    \"https://www.gutenberg.org/files/1250/1250-0.txt\",\n",
    "    \"https://www.gutenberg.org/files/140/140-0.txt\",\n",
    "    \"https://www.gutenberg.org/files/1400/1400-0.txt\",\n",
    "    \"https://www.gutenberg.org/files/215/215-0.txt\", # London, call of the wild.\n",
    "    \"http://www.gutenberg.org/cache/epub/910/pg910.txt\", #London White Fang\n",
    "    \"https://www.gutenberg.org/files/786/786-0.txt\",\n",
    "    \"http://www.gutenberg.org/cache/epub/815/pg815.txt\",\n",
    "    \"http://www.gutenberg.org/cache/epub/10378/pg10378.txt\",\n",
    "    \"http://www.gutenberg.org/cache/epub/5123/pg5123.txt\",\n",
    "    \"http://www.gutenberg.org/cache/epub/5669/pg5669.txt\"\n",
    "]\n"
   ]
  },
  {
   "cell_type": "code",
   "execution_count": 20,
   "metadata": {},
   "outputs": [],
   "source": [
    "def filterSentences(sentList):\n",
    "    filteredList = []\n",
    "    for sent in sentList:\n",
    "        sent = sent.replace(\"\\\\\",\"\")\n",
    "        sent = sent.replace(\"\\\\'\",\"\")\n",
    "\n",
    "\n",
    "        if len(sent) < 40:\n",
    "            continue\n",
    "        if '^' in sent:\n",
    "            continue\n",
    "        if bool(re.search(r'\\d', sent)):\n",
    "            continue\n",
    "        if bool(re.search(r\"\\b[A-Z][A-Z]+\\b\", sent)):\n",
    "            continue\n",
    "        if bool(re.search(r'\\\"', sent)):\n",
    "            continue\n",
    "        if bool(re.search(r'_', sent)):\n",
    "            continue\n",
    "\n",
    "        sent = sent.strip()\n",
    "        sent = sent.lower()\n",
    "        sent = ' '.join(sent.split())\n",
    "        filteredList.append(sent + '\\n')\n",
    "\n",
    "    return filteredList"
   ]
  },
  {
   "cell_type": "code",
   "execution_count": 21,
   "metadata": {
    "collapsed": true
   },
   "outputs": [],
   "source": [
    "def readCorpus(url):\n",
    "    content = requests.get(url).content.decode('ascii', 'ignore')\n",
    "    content_list = sent_tokenize(content.replace('\\r\\n', ' '))\n",
    "    \n",
    "    filtered_list = filterSentences(content_list)\n",
    "    \n",
    "    return filtered_list[100:]"
   ]
  },
  {
   "cell_type": "code",
   "execution_count": 66,
   "metadata": {},
   "outputs": [],
   "source": [
    "allGuten = []\n",
    "for url in firstCorpus:\n",
    "    allGuten.append(readCorpus(url))"
   ]
  },
  {
   "cell_type": "code",
   "execution_count": 67,
   "metadata": {},
   "outputs": [
    {
     "data": {
      "text/plain": [
       "23"
      ]
     },
     "execution_count": 67,
     "metadata": {},
     "output_type": "execute_result"
    }
   ],
   "source": [
    "len(allGuten)"
   ]
  },
  {
   "cell_type": "code",
   "execution_count": 68,
   "metadata": {},
   "outputs": [
    {
     "data": {
      "text/plain": [
       "69955"
      ]
     },
     "execution_count": 68,
     "metadata": {},
     "output_type": "execute_result"
    }
   ],
   "source": [
    "sum([len(x) for x in allGuten])"
   ]
  },
  {
   "cell_type": "code",
   "execution_count": 69,
   "metadata": {
    "collapsed": true
   },
   "outputs": [],
   "source": [
    "allSophs = [y for x in allGuten for y in x]"
   ]
  },
  {
   "cell_type": "code",
   "execution_count": 375,
   "metadata": {
    "collapsed": true
   },
   "outputs": [],
   "source": [
    "with open(\"/Users/spencerbraun/Documents/Stanford/CS 230 - Deep Learning/Project/CS_230_Project/data/processed/allsophs.txt\", 'w') as f:\n",
    "    f.writelines(allSophs)"
   ]
  },
  {
   "cell_type": "code",
   "execution_count": null,
   "metadata": {
    "collapsed": true
   },
   "outputs": [],
   "source": [
    "with open(\"/Users/spencerbraun/Documents/Stanford/CS 230 - Deep Learning/Project/CS_230_Project/data/processed/allsophs.txt\", 'r') as f:\n",
    "    allSophs = f.read_lines"
   ]
  },
  {
   "cell_type": "markdown",
   "metadata": {},
   "source": [
    "### Using Second Corpus"
   ]
  },
  {
   "cell_type": "code",
   "execution_count": 22,
   "metadata": {},
   "outputs": [],
   "source": [
    "allSecondCorpus = []\n",
    "for url in secondCorpus:\n",
    "    allSecondCorpus.append(readCorpus(url))"
   ]
  },
  {
   "cell_type": "code",
   "execution_count": 23,
   "metadata": {},
   "outputs": [
    {
     "data": {
      "text/plain": [
       "51291"
      ]
     },
     "execution_count": 23,
     "metadata": {},
     "output_type": "execute_result"
    }
   ],
   "source": [
    "sum([len(x) for x in allSecondCorpus])"
   ]
  },
  {
   "cell_type": "code",
   "execution_count": 118,
   "metadata": {
    "collapsed": true
   },
   "outputs": [],
   "source": [
    "allSophs = [y for x in allSecondCorpus for y in x]"
   ]
  },
  {
   "cell_type": "code",
   "execution_count": null,
   "metadata": {
    "collapsed": true
   },
   "outputs": [],
   "source": []
  },
  {
   "cell_type": "code",
   "execution_count": null,
   "metadata": {
    "collapsed": true
   },
   "outputs": [],
   "source": []
  },
  {
   "cell_type": "markdown",
   "metadata": {},
   "source": [
    "### Without Punctuation"
   ]
  },
  {
   "cell_type": "code",
   "execution_count": 24,
   "metadata": {
    "collapsed": true
   },
   "outputs": [],
   "source": [
    "punctSoph = [y for x in allSecondCorpus for y in x]"
   ]
  },
  {
   "cell_type": "code",
   "execution_count": 65,
   "metadata": {
    "collapsed": true
   },
   "outputs": [],
   "source": [
    "def removePunc(sent):\n",
    "    sent = re.sub('['+string.punctuation+']', '', sent)\n",
    "    sent = ' '.join(sent.split())\n",
    "    return(sent + '\\n')"
   ]
  },
  {
   "cell_type": "code",
   "execution_count": 66,
   "metadata": {},
   "outputs": [],
   "source": [
    "allSophs = list(map(removePunc, punctSoph))"
   ]
  },
  {
   "cell_type": "code",
   "execution_count": 68,
   "metadata": {},
   "outputs": [],
   "source": [
    "with open(\"/Users/spencerbraun/Documents/Stanford/CS 230 - Deep Learning/Project/CS_230_Project/data/processed/KMW_essays.txt\", 'r') as f:\n",
    "    kmw = f.readlines()\n",
    "with open(\"/Users/spencerbraun/Documents/Stanford/CS 230 - Deep Learning/Project/CS_230_Project/data/processed/aes.txt\", 'r') as f:\n",
    "    split_aes = f.readlines()"
   ]
  },
  {
   "cell_type": "code",
   "execution_count": 69,
   "metadata": {
    "collapsed": true
   },
   "outputs": [],
   "source": [
    "allnaive = kmw + split_aes[0:50000]"
   ]
  },
  {
   "cell_type": "code",
   "execution_count": 70,
   "metadata": {
    "collapsed": true
   },
   "outputs": [],
   "source": [
    "allnaive = list(map(removePunc, allnaive))"
   ]
  },
  {
   "cell_type": "code",
   "execution_count": 71,
   "metadata": {},
   "outputs": [
    {
     "data": {
      "text/plain": [
       "['but people can also contribute at individual level by planting trees and preventing denudation of vegetable cover\\n',\n",
       " 'unemployment is a great curse\\n',\n",
       " 'it brings to the surface the evil side of human nature\\n',\n",
       " 'government has to keep an eye on the unemployed and to keep their numbers down\\n',\n",
       " 'it has opened employment exchanges in all cities\\n',\n",
       " 'the unemployed are required to register with these\\n',\n",
       " 'whenever there is a vacancy suitable to their qualifications they are considered for it\\n',\n",
       " 'number of unemployed is rising fast\\n',\n",
       " 'there is always a great rush at the windows\\n',\n",
       " 'the clerks take their own time in verifying and registering\\n',\n",
       " 'restless people can be seen standing helplessly in queues for long hours\\n',\n",
       " 'they have to join the other queue and are again at the fag end\\n',\n",
       " 'quite often by the time their turn come it is time for closing\\n',\n",
       " 'they have to go jump to come another day\\n',\n",
       " 'though there are so many people yet no cheerful voices are heard\\n',\n",
       " 'one could hear people grumbling or cursing their fate\\n',\n",
       " 'despair is writ large on their faces\\n',\n",
       " 'have they not visited the place for months after months or even years\\n',\n",
       " 'the only people who make hay there are the hawkers\\n',\n",
       " 'for them the long queues the waiting people are a source of income\\n',\n",
       " 'they can be seen selling their eatables and tempting the hungry disgruntled people\\n',\n",
       " 'childhood is very impressionable age\\n',\n",
       " 'one incident of my childhood is indelibly printed in my mind\\n',\n",
       " 'i was eleven years old\\n',\n",
       " 'i had just joined middle school\\n',\n",
       " 'they treated me as an outsider\\n',\n",
       " 'to add insult to injury they often befooled me and made me a target of their jokes\\n',\n",
       " 'no wonder i got into the habit of visiting the nearby orchard for solitude and incidentally stealing fruit\\n',\n",
       " 'once i got into the orchard and climbed up a huge mango tree\\n',\n",
       " 'after eating to the fill and filling my pockets with mangoes\\n']"
      ]
     },
     "execution_count": 71,
     "metadata": {},
     "output_type": "execute_result"
    }
   ],
   "source": [
    "allnaive[100:130]"
   ]
  },
  {
   "cell_type": "markdown",
   "metadata": {},
   "source": [
    "### Select Data"
   ]
  },
  {
   "cell_type": "code",
   "execution_count": 76,
   "metadata": {
    "collapsed": true
   },
   "outputs": [],
   "source": [
    "\n",
    "keepshort = []\n",
    "for sent in allSophs:\n",
    "    words = len(word_tokenize(sent))\n",
    "    if words <= 30:\n",
    "        keepshort.append(sent)"
   ]
  },
  {
   "cell_type": "code",
   "execution_count": null,
   "metadata": {
    "collapsed": true
   },
   "outputs": [],
   "source": []
  },
  {
   "cell_type": "code",
   "execution_count": 77,
   "metadata": {},
   "outputs": [
    {
     "data": {
      "text/plain": [
       "37211"
      ]
     },
     "execution_count": 77,
     "metadata": {},
     "output_type": "execute_result"
    }
   ],
   "source": [
    "len(keepshort)"
   ]
  },
  {
   "cell_type": "code",
   "execution_count": 78,
   "metadata": {
    "collapsed": true
   },
   "outputs": [],
   "source": [
    "keepnum = 33408"
   ]
  },
  {
   "cell_type": "code",
   "execution_count": 79,
   "metadata": {},
   "outputs": [],
   "source": [
    "split1 = int(keepnum * 0.05)\n",
    "remain = split1 % 128\n",
    "split1 += remain"
   ]
  },
  {
   "cell_type": "code",
   "execution_count": 80,
   "metadata": {},
   "outputs": [
    {
     "name": "stdout",
     "output_type": "stream",
     "text": [
      "1676\n",
      "31732\n"
     ]
    }
   ],
   "source": [
    "import random\n",
    "from collections import defaultdict\n",
    "\n",
    "\n",
    "random.seed(123)\n",
    "\n",
    "random.shuffle(keepshort)\n",
    "selectedSophs = keepshort[0:keepnum]\n",
    "sophstrain = selectedSophs[split1:]\n",
    "sophtest = selectedSophs[0:split1]\n",
    "print(len(sophtest))\n",
    "print(len(sophstrain))\n",
    "with open(\"/Users/spencerbraun/Documents/Stanford/CS 230 - Deep Learning/Project/CS_230_Project/data/processed/soph_test_3.txt\", 'w') as f:\n",
    "    f.writelines(sophtest)\n",
    "with open(\"/Users/spencerbraun/Documents/Stanford/CS 230 - Deep Learning/Project/CS_230_Project/data/processed/soph_train_3.txt\", 'w') as f:\n",
    "    f.writelines(sophstrain)"
   ]
  },
  {
   "cell_type": "code",
   "execution_count": 126,
   "metadata": {},
   "outputs": [
    {
     "data": {
      "text/plain": [
       "33408"
      ]
     },
     "execution_count": 126,
     "metadata": {},
     "output_type": "execute_result"
    }
   ],
   "source": [
    "len(sophtest) + len(sophstrain)"
   ]
  },
  {
   "cell_type": "code",
   "execution_count": null,
   "metadata": {
    "collapsed": true
   },
   "outputs": [],
   "source": [
    "split_aes"
   ]
  },
  {
   "cell_type": "code",
   "execution_count": 46,
   "metadata": {
    "collapsed": true
   },
   "outputs": [],
   "source": [
    "with open(\"/Users/spencerbraun/Documents/Stanford/CS 230 - Deep Learning/Project/CS_230_Project/data/processed/KMW_essays.txt\", 'r') as f:\n",
    "    kmw = f.readlines()\n",
    "with open(\"/Users/spencerbraun/Documents/Stanford/CS 230 - Deep Learning/Project/CS_230_Project/data/processed/aes.txt\", 'r') as f:\n",
    "    split_aes = f.readlines()"
   ]
  },
  {
   "cell_type": "code",
   "execution_count": 47,
   "metadata": {},
   "outputs": [],
   "source": [
    "allnaive = kmw + split_aes[0:50000]"
   ]
  },
  {
   "cell_type": "code",
   "execution_count": 48,
   "metadata": {},
   "outputs": [
    {
     "data": {
      "text/plain": [
       "53759"
      ]
     },
     "execution_count": 48,
     "metadata": {},
     "output_type": "execute_result"
    }
   ],
   "source": [
    "len(allnaive)"
   ]
  },
  {
   "cell_type": "code",
   "execution_count": null,
   "metadata": {
    "collapsed": true
   },
   "outputs": [],
   "source": []
  },
  {
   "cell_type": "code",
   "execution_count": 72,
   "metadata": {
    "collapsed": true
   },
   "outputs": [],
   "source": [
    "allnaive = [x for x in allnaive if len(x) > 20]\n",
    "naiveshort = []\n",
    "for sent in allnaive:\n",
    "    words = len(word_tokenize(sent))\n",
    "    if words <= 25:\n",
    "        naiveshort.append(sent)"
   ]
  },
  {
   "cell_type": "code",
   "execution_count": 73,
   "metadata": {},
   "outputs": [
    {
     "data": {
      "text/plain": [
       "50895"
      ]
     },
     "execution_count": 73,
     "metadata": {},
     "output_type": "execute_result"
    }
   ],
   "source": [
    "len(naiveshort)"
   ]
  },
  {
   "cell_type": "code",
   "execution_count": 74,
   "metadata": {},
   "outputs": [
    {
     "data": {
      "text/plain": [
       "['since computers have become such a popular thing i think that in the future typing or using a computer will be in the\\n',\n",
       " 'do you have picture files laying your house\\n',\n",
       " 'with computers you store all and files neatly\\n',\n",
       " 'how your might you can bark those easy to find everything becomes all that are locate\\n',\n",
       " 'even doctors are computers your medical needs and give time\\n',\n",
       " 'computers can give organize\\n',\n",
       " 'furthermore computers continue to help instead with store say keep friends i can talk with friends or family far away\\n',\n",
       " 'you can learn about new things like people and places far away\\n',\n",
       " 'kids try to learn people talk like websites things that they are not able to and over they can see are on\\n',\n",
       " 'dear a world without computers\\n',\n",
       " 'i picture it as a better place\\n',\n",
       " 'computers be helpful for work and business but young children are losing time to exercise enjoy nature and interact with family and friends\\n',\n",
       " 'what do you prefer having computers or no\\n',\n",
       " 'in my opinion people would be better off without them\\n',\n",
       " 'lack of exercise is brought up countless times in society\\n',\n",
       " 'if the number of computers used in each household increase the amount of obese people in will as well\\n',\n",
       " 'if computers take away exercise than health issues will more often and at a younger age\\n',\n",
       " 'older citizens will be a big target for a heart attack\\n',\n",
       " 'no one should lose exercise over playing virtual games and instant messaging on the internet\\n',\n",
       " 'less people get a chance to enjoy nature when they are on the computer all day\\n']"
      ]
     },
     "execution_count": 74,
     "metadata": {},
     "output_type": "execute_result"
    }
   ],
   "source": [
    "naiveshort[15500:15520]"
   ]
  },
  {
   "cell_type": "code",
   "execution_count": 75,
   "metadata": {},
   "outputs": [
    {
     "name": "stdout",
     "output_type": "stream",
     "text": [
      "1676\n",
      "31732\n",
      "33408\n"
     ]
    }
   ],
   "source": [
    "random.seed(123)\n",
    "random.shuffle(allnaive)\n",
    "selectedNaive = allnaive[0:keepnum]\n",
    "naivetrain = selectedNaive[split1:]\n",
    "naivetest = selectedNaive[0:split1]\n",
    "print(len(naivetest))\n",
    "print(len(naivetrain))\n",
    "print(len(naivetrain) + len(naivetest))\n",
    "with open(\"/Users/spencerbraun/Documents/Stanford/CS 230 - Deep Learning/Project/CS_230_Project/data/processed/naive_test_3.txt\", 'w') as f:\n",
    "    f.writelines(naivetest)\n",
    "with open(\"/Users/spencerbraun/Documents/Stanford/CS 230 - Deep Learning/Project/CS_230_Project/data/processed/naive_train_3.txt\", 'w') as f:\n",
    "    f.writelines(naivetrain)"
   ]
  },
  {
   "cell_type": "code",
   "execution_count": 430,
   "metadata": {},
   "outputs": [],
   "source": []
  },
  {
   "cell_type": "code",
   "execution_count": 432,
   "metadata": {},
   "outputs": [
    {
     "data": {
      "text/plain": [
       "1181"
      ]
     },
     "execution_count": 432,
     "metadata": {},
     "output_type": "execute_result"
    }
   ],
   "source": [
    "len(counter)"
   ]
  },
  {
   "cell_type": "code",
   "execution_count": null,
   "metadata": {
    "collapsed": true
   },
   "outputs": [],
   "source": []
  }
 ],
 "metadata": {
  "kernelspec": {
   "display_name": "Python 3",
   "language": "python",
   "name": "python3"
  },
  "language_info": {
   "codemirror_mode": {
    "name": "ipython",
    "version": 3
   },
   "file_extension": ".py",
   "mimetype": "text/x-python",
   "name": "python",
   "nbconvert_exporter": "python",
   "pygments_lexer": "ipython3",
   "version": "3.6.5"
  }
 },
 "nbformat": 4,
 "nbformat_minor": 4
}
